{
 "cells": [
  {
   "cell_type": "code",
   "execution_count": 6,
   "metadata": {
    "collapsed": false
   },
   "outputs": [
    {
     "data": {
      "text/plain": [
       "['ConnectionError',\n",
       " 'HTTPError',\n",
       " 'NullHandler',\n",
       " 'PreparedRequest',\n",
       " 'Request',\n",
       " 'RequestException',\n",
       " 'Response',\n",
       " 'Session',\n",
       " 'Timeout',\n",
       " 'TooManyRedirects',\n",
       " 'URLRequired',\n",
       " '__author__',\n",
       " '__build__',\n",
       " '__builtins__',\n",
       " '__copyright__',\n",
       " '__doc__',\n",
       " '__file__',\n",
       " '__license__',\n",
       " '__name__',\n",
       " '__package__',\n",
       " '__path__',\n",
       " '__title__',\n",
       " '__version__',\n",
       " 'adapters',\n",
       " 'api',\n",
       " 'auth',\n",
       " 'certs',\n",
       " 'codes',\n",
       " 'compat',\n",
       " 'cookies',\n",
       " 'delete',\n",
       " 'exceptions',\n",
       " 'get',\n",
       " 'head',\n",
       " 'hooks',\n",
       " 'logging',\n",
       " 'models',\n",
       " 'options',\n",
       " 'packages',\n",
       " 'patch',\n",
       " 'post',\n",
       " 'put',\n",
       " 'request',\n",
       " 'session',\n",
       " 'sessions',\n",
       " 'status_codes',\n",
       " 'structures',\n",
       " 'utils']"
      ]
     },
     "execution_count": 6,
     "metadata": {},
     "output_type": "execute_result"
    }
   ],
   "source": [
    "import requests\n",
    "?requests\n",
    "dir(requests)"
   ]
  },
  {
   "cell_type": "markdown",
   "metadata": {},
   "source": [
    "### My First Tripadvisor Crawler"
   ]
  },
  {
   "cell_type": "code",
   "execution_count": 7,
   "metadata": {
    "collapsed": false
   },
   "outputs": [
    {
     "name": "stdout",
     "output_type": "stream",
     "text": [
      "<Response [200]>\n"
     ]
    }
   ],
   "source": [
    "import requests\n",
    "res = requests.get('https://www.tripadvisor.com.tw/Hotels-g293913-Taipei-Hotels.html')\n",
    "print res"
   ]
  },
  {
   "cell_type": "markdown",
   "metadata": {},
   "source": [
    "### HTTP Status Code\n",
    "- https://en.wikipedia.org/wiki/List_of_HTTP_status_codes"
   ]
  },
  {
   "cell_type": "code",
   "execution_count": 9,
   "metadata": {
    "collapsed": false
   },
   "outputs": [],
   "source": [
    "#print res.text"
   ]
  },
  {
   "cell_type": "markdown",
   "metadata": {},
   "source": [
    "### 字典範例"
   ]
  },
  {
   "cell_type": "code",
   "execution_count": 10,
   "metadata": {
    "collapsed": false
   },
   "outputs": [
    {
     "name": "stdout",
     "output_type": "stream",
     "text": [
      "1\n"
     ]
    }
   ],
   "source": [
    "dic = {'a':1,'b':2,'c':3}\n",
    "print dic['a']"
   ]
  },
  {
   "cell_type": "markdown",
   "metadata": {},
   "source": [
    "### 台灣高鐵時刻表抓取"
   ]
  },
  {
   "cell_type": "code",
   "execution_count": 12,
   "metadata": {
    "collapsed": false
   },
   "outputs": [],
   "source": [
    "import requests\n",
    "payload = {\n",
    "'StartStation':'977abb69-413a-4ccf-a109-0272c24fd490',\n",
    "'EndStation':'fbd828d8-b1da-4b06-a3bd-680cdca4d2cd',\n",
    "'SearchDate':'2016/04/10',\n",
    "'SearchTime':'11:30',\n",
    "'SearchWay':'DepartureInMandarin'        \n",
    "}\n",
    "\n",
    "res = requests.post('https://www.thsrc.com.tw/tw/TimeTable/SearchResult', data = payload)\n",
    "#print res.text"
   ]
  },
  {
   "cell_type": "markdown",
   "metadata": {},
   "source": [
    "### Trip Advisor 比價資訊"
   ]
  },
  {
   "cell_type": "code",
   "execution_count": 17,
   "metadata": {
    "collapsed": false
   },
   "outputs": [
    {
     "name": "stdout",
     "output_type": "stream",
     "text": [
      "<class 'requests.models.Response'>\n"
     ]
    }
   ],
   "source": [
    "import requests\n",
    "payload = {\n",
    "'seen':'0',\n",
    "'sequence':'1',\n",
    "'geo':'293913',\n",
    "'staydates':'2016_04_09_2016_04_23',\n",
    "'adults':'2',\n",
    "'rooms':'1',\n",
    "'searchAll':'false',\n",
    "'requestingServlet':'Hotels',\n",
    "'refineForm':'true',\n",
    "'isFirstPageLoad':'false',\n",
    "'rad':'0',\n",
    "'dateBumped':'NONE',\n",
    "'scid':'2354947,306447|2288011,7840139|2474845,1411424|2492762,1797213|1887821,1372927',\n",
    "'displayedSortOrder':'recommended'\n",
    "}\n",
    "res = requests.post('https://www.tripadvisor.com.tw/Hotels', data=payload)\n",
    "print type(res)\n",
    "#print res.text"
   ]
  },
  {
   "cell_type": "markdown",
   "metadata": {},
   "source": [
    "### 使用BeautifulSoup4"
   ]
  },
  {
   "cell_type": "code",
   "execution_count": 16,
   "metadata": {
    "collapsed": false
   },
   "outputs": [
    {
     "name": "stdout",
     "output_type": "stream",
     "text": [
      "<class 'bs4.BeautifulSoup'>\n",
      "\n",
      "\n",
      "\n",
      "Hello World\n",
      "This is link1\n",
      "This is link2\n",
      "\n",
      "\n"
     ]
    }
   ],
   "source": [
    "from bs4 import BeautifulSoup \n",
    "html_sample = ''' \n",
    "<html> \n",
    " <body> \n",
    " <h1 id=\"title\">Hello World</h1> \n",
    " <a href=\"#\" class=\"link\">This is link1</a> \n",
    " <a href=\"# link2\" class=\"link\">This is link2</a> \n",
    " </body> \n",
    " </html>'''\n",
    "\n",
    "soup = BeautifulSoup(html_sample, 'html.parser')\n",
    "print type(soup)\n",
    "print soup.text"
   ]
  },
  {
   "cell_type": "code",
   "execution_count": 19,
   "metadata": {
    "collapsed": false
   },
   "outputs": [
    {
     "name": "stdout",
     "output_type": "stream",
     "text": [
      "amy\n"
     ]
    }
   ],
   "source": [
    "name = 'john'\n",
    "height = 180\n",
    "name1 = 'amy'\n",
    "height1 = 162\n",
    "#{} dictionary, [] list\n",
    "names = ['john', 'amy']\n",
    "print names[1]"
   ]
  },
  {
   "cell_type": "code",
   "execution_count": 24,
   "metadata": {
    "collapsed": false
   },
   "outputs": [
    {
     "name": "stdout",
     "output_type": "stream",
     "text": [
      "<type 'list'>\n",
      "[<a class=\"link\" href=\"#\">This is link1</a>, <a class=\"link\" href=\"# link2\">This is link2</a>]\n",
      "<a class=\"link\" href=\"#\">This is link1</a>\n",
      "This is link1\n",
      "This is link2\n"
     ]
    }
   ],
   "source": [
    "print type(soup.select('a'))\n",
    "print soup.select('a')\n",
    "print soup.select('a')[0]\n",
    "print soup.select('a')[0].text\n",
    "print soup.select('a')[1].text\n"
   ]
  },
  {
   "cell_type": "code",
   "execution_count": 26,
   "metadata": {
    "collapsed": false
   },
   "outputs": [
    {
     "name": "stdout",
     "output_type": "stream",
     "text": [
      "[<h1 id=\"title\">Hello World</h1>]\n",
      "Hello World\n"
     ]
    }
   ],
   "source": [
    "print soup.select('h1')\n",
    "print soup.select('h1')[0].text"
   ]
  },
  {
   "cell_type": "markdown",
   "metadata": {},
   "source": [
    "### 取得ID為title 的資料"
   ]
  },
  {
   "cell_type": "code",
   "execution_count": 31,
   "metadata": {
    "collapsed": false
   },
   "outputs": [
    {
     "name": "stdout",
     "output_type": "stream",
     "text": [
      "[<h1 id=\"title\">Hello World</h1>]\n"
     ]
    }
   ],
   "source": [
    "print soup.select('#title') # id => #"
   ]
  },
  {
   "cell_type": "markdown",
   "metadata": {},
   "source": [
    "### 取得CLASS為link 的資料"
   ]
  },
  {
   "cell_type": "markdown",
   "metadata": {},
   "source": []
  },
  {
   "cell_type": "code",
   "execution_count": 34,
   "metadata": {
    "collapsed": false
   },
   "outputs": [
    {
     "name": "stdout",
     "output_type": "stream",
     "text": [
      "[<a class=\"link\" href=\"#\">This is link1</a>, <a class=\"link\" href=\"# link2\">This is link2</a>]\n"
     ]
    }
   ],
   "source": [
    "print soup.select('.link') # class => ."
   ]
  },
  {
   "cell_type": "code",
   "execution_count": 38,
   "metadata": {
    "collapsed": false
   },
   "outputs": [
    {
     "name": "stdout",
     "output_type": "stream",
     "text": [
      "#\n",
      "# link2\n"
     ]
    }
   ],
   "source": [
    "for link in soup.select('.link') :\n",
    "    #print link.text\n",
    "    print link['href']"
   ]
  },
  {
   "cell_type": "code",
   "execution_count": 43,
   "metadata": {
    "collapsed": false
   },
   "outputs": [
    {
     "name": "stdout",
     "output_type": "stream",
     "text": [
      "123\n",
      "456\n"
     ]
    }
   ],
   "source": [
    "html_sample2 = '''<a href=123 qoo=456></a>'''\n",
    "soup2 = BeautifulSoup(html_sample2, 'html.parser')\n",
    "print soup2.select('a')[0]['href']\n",
    "print soup2.select('a')[0]['qoo']"
   ]
  },
  {
   "cell_type": "markdown",
   "metadata": {},
   "source": [
    "### 抓取 TRIP ADVISOR 旅館資訊"
   ]
  },
  {
   "cell_type": "code",
   "execution_count": 44,
   "metadata": {
    "collapsed": true
   },
   "outputs": [],
   "source": [
    "import requests\n",
    "res = requests.get('https://www.tripadvisor.com.tw/Hotels-g293913-Taipei-Hotels.html')"
   ]
  },
  {
   "cell_type": "markdown",
   "metadata": {},
   "source": [
    "### 剖析 TRIP ADVISOR 旅館資訊"
   ]
  },
  {
   "cell_type": "code",
   "execution_count": 57,
   "metadata": {
    "collapsed": false
   },
   "outputs": [
    {
     "name": "stdout",
     "output_type": "stream",
     "text": [
      "新驛旅店- 台北車站一館 /Hotel_Review-g293913-d1144583-Reviews-CityInn_Hotel_Taipei_Station_Branch_I-Taipei.html 513則評論 第 14 名 (共 506 家) 台北市飯店 4.5分\n",
      "西悠飯店台北店 /Hotel_Review-g293913-d4314606-Reviews-C_U_Hotel-Taipei.html 181則評論 第 44 名 (共 506 家) 台北市飯店 4.5分\n",
      "喜瑞飯店 /Hotel_Review-g293913-d598759-Reviews-Ambience_Hotel-Taipei.html 907則評論 第 10 名 (共 506 家) 台北市飯店 4.5分\n",
      "北投麗禧溫泉酒店 /Hotel_Review-g293913-d2095241-Reviews-Grand_View_Resort_Beitou-Taipei.html 304則評論 第 32 名 (共 506 家) 台北市飯店 4.5分\n",
      "亞都麗緻大飯店 /Hotel_Review-g293913-d300627-Reviews-Landis_Taipei_Hotel-Taipei.html 676則評論 第 37 名 (共 506 家) 台北市飯店 4.5分\n",
      "力麗哲園商旅-台北 /Hotel_Review-g293913-d1191398-Reviews-Lealea_Garden_Hotels_Taipei-Taipei.html 110則評論 第 116 名 (共 506 家) 台北市飯店 4分\n",
      "北投荷豐溫泉會館 /Hotel_Review-g293913-d1164583-Reviews-Nine_Plus_Spa_Hot_Spring_Hotel-Taipei.html 45則評論 第 284 名 (共 506 家) 台北市飯店 3.5分\n",
      "君品酒店 /Hotel_Review-g293913-d1797213-Reviews-Palais_de_Chine_Hotel-Taipei.html 881則評論 第 30 名 (共 506 家) 台北市飯店 4.5分\n",
      "皇家季節酒店北投溫泉館 /Hotel_Review-g293913-d1448765-Reviews-Royal_Seasons_Hotel_Hot_Spring_Beitou-Taipei.html 102則評論 第 236 名 (共 506 家) 台北市飯店 4分\n",
      "圓山大飯店 /Hotel_Review-g293913-d306446-Reviews-Grand_Hotel_Taipei-Taipei.html 621則評論 第 60 名 (共 506 家) 台北市飯店 4分\n",
      "東門旅店 /Hotel_Review-g293913-d6161125-Reviews-Dongmen_Hotel-Taipei.html 34則評論 第 166 名 (共 506 家) 台北市飯店 4分\n",
      "水美溫泉會館 /Hotel_Review-g293913-d582175-Reviews-Sweetme_Hotspring_Resort-Taipei.html 167則評論 第 185 名 (共 506 家) 台北市飯店 3.5分\n",
      "日勝生加賀屋北投溫泉度假飯店 /Hotel_Review-g293913-d1905676-Reviews-Radium_Kagaya_International_Hotel-Taipei.html 306則評論 第 115 名 (共 506 家) 台北市飯店 4分\n",
      "台北福華大飯店 /Hotel_Review-g293913-d301558-Reviews-Howard_Plaza_Hotel_Taipei-Taipei.html 834則評論 第 59 名 (共 506 家) 台北市飯店 4分\n",
      "沐蘭台北時尚精品旅館 /Hotel_Review-g293913-d2296732-Reviews-Mulan_Motel_Taipei-Taipei.html 18則評論 第 193 名 (共 506 家) 台北市飯店 4.5分\n",
      "香格里拉台北遠東國際大飯店 /Hotel_Review-g293913-d302103-Reviews-Shangri_La_s_Far_Eastern_Plaza_Hotel_Taipei-Taipei.html 923則評論 第 22 名 (共 506 家) 台北市飯店 4.5分\n",
      "南京小公館 /Hotel_Review-g293913-d2153372-Reviews-NK_Hostel-Taipei.html 20則評論 第 161 名 (共 506 家) 台北市飯店 4.5分\n",
      "天玥泉會館 /Hotel_Review-g293913-d3935003-Reviews-Beitou_Hot_Spring_Resort_Tian_Yue_Quan-Taipei.html 134則評論 第 81 名 (共 506 家) 台北市飯店 4分\n",
      "台北W飯店 /Hotel_Review-g293913-d1879542-Reviews-W_Taipei-Taipei.html 1,459則評論 第 26 名 (共 506 家) 台北市飯店 4.5分\n",
      "大倉久和大飯店 /Hotel_Review-g293913-d3371409-Reviews-The_Okura_Prestige_Taipei-Taipei.html 692則評論 第 16 名 (共 506 家) 台北市飯店 4.5分\n",
      "城市商旅南西館 /Hotel_Review-g293913-d583571-Reviews-City_Suites_Taipei_Nanxi-Taipei.html 326則評論 第 102 名 (共 506 家) 台北市飯店 4分\n",
      "凱撒大飯店 /Hotel_Review-g293913-d306433-Reviews-Caesar_Park_Taipei-Taipei.html 1,152則評論 第 82 名 (共 506 家) 台北市飯店 4分\n",
      "梅樓商務驛站 /Hotel_Review-g293913-d5962333-Reviews-Main_Inn_Taipei-Taipei.html 65則評論 第 103 名 (共 506 家) 台北市飯店 4分\n",
      "台北花園大酒店 /Hotel_Review-g293913-d1224203-Reviews-Taipei_Garden_Hotel-Taipei.html 735則評論 第 28 名 (共 506 家) 台北市飯店 4.5分\n",
      "新驛旅店 - 台北車站三館 /Hotel_Review-g293913-d1950018-Reviews-CityInn_Hotel_Taipei_Station_Branch_III-Taipei.html 699則評論 第 7 名 (共 506 家) 台北市飯店 4.5分\n",
      "晶華酒店 /Hotel_Review-g293913-d301429-Reviews-Regent_Taipei-Taipei.html 1,219則評論 第 29 名 (共 506 家) 台北市飯店 4.5分\n",
      "蜂巢旅店 /Hotel_Review-g293913-d4134607-Reviews-Bee_House_Taipei_Station_Branch-Taipei.html 733則評論 第 19 名 (共 506 家) 台北市飯店 4.5分\n",
      "丹迪旅店 – 大安森林公園店  /Hotel_Review-g293913-d1411424-Reviews-Dandy_Hotel_Daan_Park_Branch-Taipei.html 722則評論 第 8 名 (共 506 家) 台北市飯店 4.5分\n",
      "台北文華東方酒店 /Hotel_Review-g293913-d1416364-Reviews-Mandarin_Oriental_Taipei-Taipei.html 489則評論 第 4 名 (共 506 家) 台北市飯店 4.5分\n",
      "漾館時尚溫泉旅館 /Hotel_Review-g293913-d1743349-Reviews-Aqua_Bella_Hotel-Taipei.html 87則評論 第 165 名 (共 506 家) 台北市飯店 4分\n",
      "新尚旅店 /Hotel_Review-g293913-d1191387-Reviews-Hotel_73-Taipei.html 543則評論 第 12 名 (共 506 家) 台北市飯店 4.5分\n"
     ]
    }
   ],
   "source": [
    "from bs4 import BeautifulSoup as bs\n",
    "soup= bs(res.text)\n",
    "for listing in soup.select('.listing'):\n",
    "    print listing.select('.property_title')[0].text, \\\n",
    "          listing.select('.property_title')[0]['href'], \\\n",
    "          listing.select('span.more a')[0].text, \\\n",
    "          listing.select('.slim_ranking')[0].text ,\\\n",
    "          listing.select('.sprite-ratings')[0]['alt']"
   ]
  },
  {
   "cell_type": "markdown",
   "metadata": {},
   "source": [
    "### InfoLite\n",
    "- https://chrome.google.com/webstore/detail/infolite/ipjbadabbpedegielkhgpiekdlmfpgal\n"
   ]
  },
  {
   "cell_type": "code",
   "execution_count": null,
   "metadata": {
    "collapsed": true
   },
   "outputs": [],
   "source": []
  }
 ],
 "metadata": {
  "kernelspec": {
   "display_name": "Python 2",
   "language": "python",
   "name": "python2"
  },
  "language_info": {
   "codemirror_mode": {
    "name": "ipython",
    "version": 2
   },
   "file_extension": ".py",
   "mimetype": "text/x-python",
   "name": "python",
   "nbconvert_exporter": "python",
   "pygments_lexer": "ipython2",
   "version": "2.7.11"
  }
 },
 "nbformat": 4,
 "nbformat_minor": 0
}
