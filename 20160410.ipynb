{
 "cells": [
  {
   "cell_type": "code",
   "execution_count": 6,
   "metadata": {
    "collapsed": false
   },
   "outputs": [
    {
     "data": {
      "text/plain": [
       "['ConnectionError',\n",
       " 'HTTPError',\n",
       " 'NullHandler',\n",
       " 'PreparedRequest',\n",
       " 'Request',\n",
       " 'RequestException',\n",
       " 'Response',\n",
       " 'Session',\n",
       " 'Timeout',\n",
       " 'TooManyRedirects',\n",
       " 'URLRequired',\n",
       " '__author__',\n",
       " '__build__',\n",
       " '__builtins__',\n",
       " '__copyright__',\n",
       " '__doc__',\n",
       " '__file__',\n",
       " '__license__',\n",
       " '__name__',\n",
       " '__package__',\n",
       " '__path__',\n",
       " '__title__',\n",
       " '__version__',\n",
       " 'adapters',\n",
       " 'api',\n",
       " 'auth',\n",
       " 'certs',\n",
       " 'codes',\n",
       " 'compat',\n",
       " 'cookies',\n",
       " 'delete',\n",
       " 'exceptions',\n",
       " 'get',\n",
       " 'head',\n",
       " 'hooks',\n",
       " 'logging',\n",
       " 'models',\n",
       " 'options',\n",
       " 'packages',\n",
       " 'patch',\n",
       " 'post',\n",
       " 'put',\n",
       " 'request',\n",
       " 'session',\n",
       " 'sessions',\n",
       " 'status_codes',\n",
       " 'structures',\n",
       " 'utils']"
      ]
     },
     "execution_count": 6,
     "metadata": {},
     "output_type": "execute_result"
    }
   ],
   "source": [
    "import requests\n",
    "?requests\n",
    "dir(requests)"
   ]
  },
  {
   "cell_type": "markdown",
   "metadata": {},
   "source": [
    "### My First Tripadvisor Crawler"
   ]
  },
  {
   "cell_type": "code",
   "execution_count": 7,
   "metadata": {
    "collapsed": false
   },
   "outputs": [
    {
     "name": "stdout",
     "output_type": "stream",
     "text": [
      "<Response [200]>\n"
     ]
    }
   ],
   "source": [
    "import requests\n",
    "res = requests.get('https://www.tripadvisor.com.tw/Hotels-g293913-Taipei-Hotels.html')\n",
    "print res"
   ]
  },
  {
   "cell_type": "markdown",
   "metadata": {},
   "source": [
    "### HTTP Status Code\n",
    "- https://en.wikipedia.org/wiki/List_of_HTTP_status_codes"
   ]
  },
  {
   "cell_type": "code",
   "execution_count": 9,
   "metadata": {
    "collapsed": false
   },
   "outputs": [],
   "source": [
    "#print res.text"
   ]
  },
  {
   "cell_type": "markdown",
   "metadata": {},
   "source": [
    "### 字典範例"
   ]
  },
  {
   "cell_type": "code",
   "execution_count": 10,
   "metadata": {
    "collapsed": false
   },
   "outputs": [
    {
     "name": "stdout",
     "output_type": "stream",
     "text": [
      "1\n"
     ]
    }
   ],
   "source": [
    "dic = {'a':1,'b':2,'c':3}\n",
    "print dic['a']"
   ]
  },
  {
   "cell_type": "markdown",
   "metadata": {},
   "source": [
    "### 台灣高鐵時刻表抓取"
   ]
  },
  {
   "cell_type": "code",
   "execution_count": 12,
   "metadata": {
    "collapsed": false
   },
   "outputs": [],
   "source": [
    "import requests\n",
    "payload = {\n",
    "'StartStation':'977abb69-413a-4ccf-a109-0272c24fd490',\n",
    "'EndStation':'fbd828d8-b1da-4b06-a3bd-680cdca4d2cd',\n",
    "'SearchDate':'2016/04/10',\n",
    "'SearchTime':'11:30',\n",
    "'SearchWay':'DepartureInMandarin'        \n",
    "}\n",
    "\n",
    "res = requests.post('https://www.thsrc.com.tw/tw/TimeTable/SearchResult', data = payload)\n",
    "#print res.text"
   ]
  },
  {
   "cell_type": "markdown",
   "metadata": {},
   "source": [
    "### Trip Advisor 比價資訊"
   ]
  },
  {
   "cell_type": "code",
   "execution_count": 17,
   "metadata": {
    "collapsed": false
   },
   "outputs": [
    {
     "name": "stdout",
     "output_type": "stream",
     "text": [
      "<class 'requests.models.Response'>\n"
     ]
    }
   ],
   "source": [
    "import requests\n",
    "payload = {\n",
    "'seen':'0',\n",
    "'sequence':'1',\n",
    "'geo':'293913',\n",
    "'staydates':'2016_04_09_2016_04_23',\n",
    "'adults':'2',\n",
    "'rooms':'1',\n",
    "'searchAll':'false',\n",
    "'requestingServlet':'Hotels',\n",
    "'refineForm':'true',\n",
    "'isFirstPageLoad':'false',\n",
    "'rad':'0',\n",
    "'dateBumped':'NONE',\n",
    "'scid':'2354947,306447|2288011,7840139|2474845,1411424|2492762,1797213|1887821,1372927',\n",
    "'displayedSortOrder':'recommended'\n",
    "}\n",
    "res = requests.post('https://www.tripadvisor.com.tw/Hotels', data=payload)\n",
    "print type(res)\n",
    "#print res.text"
   ]
  },
  {
   "cell_type": "markdown",
   "metadata": {},
   "source": [
    "### 使用BeautifulSoup4"
   ]
  },
  {
   "cell_type": "code",
   "execution_count": 16,
   "metadata": {
    "collapsed": false
   },
   "outputs": [
    {
     "name": "stdout",
     "output_type": "stream",
     "text": [
      "<class 'bs4.BeautifulSoup'>\n",
      "\n",
      "\n",
      "\n",
      "Hello World\n",
      "This is link1\n",
      "This is link2\n",
      "\n",
      "\n"
     ]
    }
   ],
   "source": [
    "from bs4 import BeautifulSoup \n",
    "html_sample = ''' \n",
    "<html> \n",
    " <body> \n",
    " <h1 id=\"title\">Hello World</h1> \n",
    " <a href=\"#\" class=\"link\">This is link1</a> \n",
    " <a href=\"# link2\" class=\"link\">This is link2</a> \n",
    " </body> \n",
    " </html>'''\n",
    "\n",
    "soup = BeautifulSoup(html_sample, 'html.parser')\n",
    "print type(soup)\n",
    "print soup.text"
   ]
  },
  {
   "cell_type": "code",
   "execution_count": 19,
   "metadata": {
    "collapsed": false
   },
   "outputs": [
    {
     "name": "stdout",
     "output_type": "stream",
     "text": [
      "amy\n"
     ]
    }
   ],
   "source": [
    "name = 'john'\n",
    "height = 180\n",
    "name1 = 'amy'\n",
    "height1 = 162\n",
    "#{} dictionary, [] list\n",
    "names = ['john', 'amy']\n",
    "print names[1]"
   ]
  },
  {
   "cell_type": "code",
   "execution_count": 24,
   "metadata": {
    "collapsed": false
   },
   "outputs": [
    {
     "name": "stdout",
     "output_type": "stream",
     "text": [
      "<type 'list'>\n",
      "[<a class=\"link\" href=\"#\">This is link1</a>, <a class=\"link\" href=\"# link2\">This is link2</a>]\n",
      "<a class=\"link\" href=\"#\">This is link1</a>\n",
      "This is link1\n",
      "This is link2\n"
     ]
    }
   ],
   "source": [
    "print type(soup.select('a'))\n",
    "print soup.select('a')\n",
    "print soup.select('a')[0]\n",
    "print soup.select('a')[0].text\n",
    "print soup.select('a')[1].text\n"
   ]
  },
  {
   "cell_type": "code",
   "execution_count": 26,
   "metadata": {
    "collapsed": false
   },
   "outputs": [
    {
     "name": "stdout",
     "output_type": "stream",
     "text": [
      "[<h1 id=\"title\">Hello World</h1>]\n",
      "Hello World\n"
     ]
    }
   ],
   "source": [
    "print soup.select('h1')\n",
    "print soup.select('h1')[0].text"
   ]
  },
  {
   "cell_type": "markdown",
   "metadata": {},
   "source": [
    "### 取得ID為title 的資料"
   ]
  },
  {
   "cell_type": "code",
   "execution_count": 31,
   "metadata": {
    "collapsed": false
   },
   "outputs": [
    {
     "name": "stdout",
     "output_type": "stream",
     "text": [
      "[<h1 id=\"title\">Hello World</h1>]\n"
     ]
    }
   ],
   "source": [
    "print soup.select('#title') # id => #"
   ]
  },
  {
   "cell_type": "markdown",
   "metadata": {},
   "source": [
    "### 取得CLASS為link 的資料"
   ]
  },
  {
   "cell_type": "markdown",
   "metadata": {},
   "source": []
  },
  {
   "cell_type": "code",
   "execution_count": 34,
   "metadata": {
    "collapsed": false
   },
   "outputs": [
    {
     "name": "stdout",
     "output_type": "stream",
     "text": [
      "[<a class=\"link\" href=\"#\">This is link1</a>, <a class=\"link\" href=\"# link2\">This is link2</a>]\n"
     ]
    }
   ],
   "source": [
    "print soup.select('.link') # class => ."
   ]
  },
  {
   "cell_type": "code",
   "execution_count": 38,
   "metadata": {
    "collapsed": false
   },
   "outputs": [
    {
     "name": "stdout",
     "output_type": "stream",
     "text": [
      "#\n",
      "# link2\n"
     ]
    }
   ],
   "source": [
    "for link in soup.select('.link') :\n",
    "    #print link.text\n",
    "    print link['href']"
   ]
  },
  {
   "cell_type": "code",
   "execution_count": 43,
   "metadata": {
    "collapsed": false
   },
   "outputs": [
    {
     "name": "stdout",
     "output_type": "stream",
     "text": [
      "123\n",
      "456\n"
     ]
    }
   ],
   "source": [
    "html_sample2 = '''<a href=123 qoo=456></a>'''\n",
    "soup2 = BeautifulSoup(html_sample2, 'html.parser')\n",
    "print soup2.select('a')[0]['href']\n",
    "print soup2.select('a')[0]['qoo']"
   ]
  },
  {
   "cell_type": "markdown",
   "metadata": {},
   "source": [
    "### 抓取 TRIP ADVISOR 旅館資訊"
   ]
  },
  {
   "cell_type": "code",
   "execution_count": 44,
   "metadata": {
    "collapsed": true
   },
   "outputs": [],
   "source": [
    "import requests\n",
    "res = requests.get('https://www.tripadvisor.com.tw/Hotels-g293913-Taipei-Hotels.html')"
   ]
  },
  {
   "cell_type": "markdown",
   "metadata": {},
   "source": [
    "### 剖析 TRIP ADVISOR 旅館資訊"
   ]
  },
  {
   "cell_type": "code",
   "execution_count": 57,
   "metadata": {
    "collapsed": false
   },
   "outputs": [
    {
     "name": "stdout",
     "output_type": "stream",
     "text": [
      "新驛旅店- 台北車站一館 /Hotel_Review-g293913-d1144583-Reviews-CityInn_Hotel_Taipei_Station_Branch_I-Taipei.html 513則評論 第 14 名 (共 506 家) 台北市飯店 4.5分\n",
      "西悠飯店台北店 /Hotel_Review-g293913-d4314606-Reviews-C_U_Hotel-Taipei.html 181則評論 第 44 名 (共 506 家) 台北市飯店 4.5分\n",
      "喜瑞飯店 /Hotel_Review-g293913-d598759-Reviews-Ambience_Hotel-Taipei.html 907則評論 第 10 名 (共 506 家) 台北市飯店 4.5分\n",
      "北投麗禧溫泉酒店 /Hotel_Review-g293913-d2095241-Reviews-Grand_View_Resort_Beitou-Taipei.html 304則評論 第 32 名 (共 506 家) 台北市飯店 4.5分\n",
      "亞都麗緻大飯店 /Hotel_Review-g293913-d300627-Reviews-Landis_Taipei_Hotel-Taipei.html 676則評論 第 37 名 (共 506 家) 台北市飯店 4.5分\n",
      "力麗哲園商旅-台北 /Hotel_Review-g293913-d1191398-Reviews-Lealea_Garden_Hotels_Taipei-Taipei.html 110則評論 第 116 名 (共 506 家) 台北市飯店 4分\n",
      "北投荷豐溫泉會館 /Hotel_Review-g293913-d1164583-Reviews-Nine_Plus_Spa_Hot_Spring_Hotel-Taipei.html 45則評論 第 284 名 (共 506 家) 台北市飯店 3.5分\n",
      "君品酒店 /Hotel_Review-g293913-d1797213-Reviews-Palais_de_Chine_Hotel-Taipei.html 881則評論 第 30 名 (共 506 家) 台北市飯店 4.5分\n",
      "皇家季節酒店北投溫泉館 /Hotel_Review-g293913-d1448765-Reviews-Royal_Seasons_Hotel_Hot_Spring_Beitou-Taipei.html 102則評論 第 236 名 (共 506 家) 台北市飯店 4分\n",
      "圓山大飯店 /Hotel_Review-g293913-d306446-Reviews-Grand_Hotel_Taipei-Taipei.html 621則評論 第 60 名 (共 506 家) 台北市飯店 4分\n",
      "東門旅店 /Hotel_Review-g293913-d6161125-Reviews-Dongmen_Hotel-Taipei.html 34則評論 第 166 名 (共 506 家) 台北市飯店 4分\n",
      "水美溫泉會館 /Hotel_Review-g293913-d582175-Reviews-Sweetme_Hotspring_Resort-Taipei.html 167則評論 第 185 名 (共 506 家) 台北市飯店 3.5分\n",
      "日勝生加賀屋北投溫泉度假飯店 /Hotel_Review-g293913-d1905676-Reviews-Radium_Kagaya_International_Hotel-Taipei.html 306則評論 第 115 名 (共 506 家) 台北市飯店 4分\n",
      "台北福華大飯店 /Hotel_Review-g293913-d301558-Reviews-Howard_Plaza_Hotel_Taipei-Taipei.html 834則評論 第 59 名 (共 506 家) 台北市飯店 4分\n",
      "沐蘭台北時尚精品旅館 /Hotel_Review-g293913-d2296732-Reviews-Mulan_Motel_Taipei-Taipei.html 18則評論 第 193 名 (共 506 家) 台北市飯店 4.5分\n",
      "香格里拉台北遠東國際大飯店 /Hotel_Review-g293913-d302103-Reviews-Shangri_La_s_Far_Eastern_Plaza_Hotel_Taipei-Taipei.html 923則評論 第 22 名 (共 506 家) 台北市飯店 4.5分\n",
      "南京小公館 /Hotel_Review-g293913-d2153372-Reviews-NK_Hostel-Taipei.html 20則評論 第 161 名 (共 506 家) 台北市飯店 4.5分\n",
      "天玥泉會館 /Hotel_Review-g293913-d3935003-Reviews-Beitou_Hot_Spring_Resort_Tian_Yue_Quan-Taipei.html 134則評論 第 81 名 (共 506 家) 台北市飯店 4分\n",
      "台北W飯店 /Hotel_Review-g293913-d1879542-Reviews-W_Taipei-Taipei.html 1,459則評論 第 26 名 (共 506 家) 台北市飯店 4.5分\n",
      "大倉久和大飯店 /Hotel_Review-g293913-d3371409-Reviews-The_Okura_Prestige_Taipei-Taipei.html 692則評論 第 16 名 (共 506 家) 台北市飯店 4.5分\n",
      "城市商旅南西館 /Hotel_Review-g293913-d583571-Reviews-City_Suites_Taipei_Nanxi-Taipei.html 326則評論 第 102 名 (共 506 家) 台北市飯店 4分\n",
      "凱撒大飯店 /Hotel_Review-g293913-d306433-Reviews-Caesar_Park_Taipei-Taipei.html 1,152則評論 第 82 名 (共 506 家) 台北市飯店 4分\n",
      "梅樓商務驛站 /Hotel_Review-g293913-d5962333-Reviews-Main_Inn_Taipei-Taipei.html 65則評論 第 103 名 (共 506 家) 台北市飯店 4分\n",
      "台北花園大酒店 /Hotel_Review-g293913-d1224203-Reviews-Taipei_Garden_Hotel-Taipei.html 735則評論 第 28 名 (共 506 家) 台北市飯店 4.5分\n",
      "新驛旅店 - 台北車站三館 /Hotel_Review-g293913-d1950018-Reviews-CityInn_Hotel_Taipei_Station_Branch_III-Taipei.html 699則評論 第 7 名 (共 506 家) 台北市飯店 4.5分\n",
      "晶華酒店 /Hotel_Review-g293913-d301429-Reviews-Regent_Taipei-Taipei.html 1,219則評論 第 29 名 (共 506 家) 台北市飯店 4.5分\n",
      "蜂巢旅店 /Hotel_Review-g293913-d4134607-Reviews-Bee_House_Taipei_Station_Branch-Taipei.html 733則評論 第 19 名 (共 506 家) 台北市飯店 4.5分\n",
      "丹迪旅店 – 大安森林公園店  /Hotel_Review-g293913-d1411424-Reviews-Dandy_Hotel_Daan_Park_Branch-Taipei.html 722則評論 第 8 名 (共 506 家) 台北市飯店 4.5分\n",
      "台北文華東方酒店 /Hotel_Review-g293913-d1416364-Reviews-Mandarin_Oriental_Taipei-Taipei.html 489則評論 第 4 名 (共 506 家) 台北市飯店 4.5分\n",
      "漾館時尚溫泉旅館 /Hotel_Review-g293913-d1743349-Reviews-Aqua_Bella_Hotel-Taipei.html 87則評論 第 165 名 (共 506 家) 台北市飯店 4分\n",
      "新尚旅店 /Hotel_Review-g293913-d1191387-Reviews-Hotel_73-Taipei.html 543則評論 第 12 名 (共 506 家) 台北市飯店 4.5分\n"
     ]
    }
   ],
   "source": [
    "from bs4 import BeautifulSoup as bs\n",
    "soup= bs(res.text)\n",
    "for listing in soup.select('.listing'):\n",
    "    print listing.select('.property_title')[0].text, \\\n",
    "          listing.select('.property_title')[0]['href'], \\\n",
    "          listing.select('span.more a')[0].text, \\\n",
    "          listing.select('.slim_ranking')[0].text ,\\\n",
    "          listing.select('.sprite-ratings')[0]['alt']"
   ]
  },
  {
   "cell_type": "markdown",
   "metadata": {},
   "source": [
    "### InfoLite\n",
    "- https://chrome.google.com/webstore/detail/infolite/ipjbadabbpedegielkhgpiekdlmfpgal\n"
   ]
  },
  {
   "cell_type": "markdown",
   "metadata": {},
   "source": [
    "### hotels.com"
   ]
  },
  {
   "cell_type": "code",
   "execution_count": null,
   "metadata": {
    "collapsed": true
   },
   "outputs": [],
   "source": [
    "'''\n",
    "https://tw.hotels.com/search.do?\n",
    "    resolved-location=CITY%3A1366745%3AUNKNOWN%3AUNKNOWN&\n",
    "    destination-id=1366745&q-destination=%E5%8F%B0%E5%8C%97,%20%E5%8F%B0%E7%81%A3&\n",
    "    q-localised-check-in=2016-04-16&q-localised-check-out=2016-04-17&\n",
    "    q-rooms=1&q-room-0-adults=2&q-room-0-children=0\n",
    "'''"
   ]
  },
  {
   "cell_type": "code",
   "execution_count": 72,
   "metadata": {
    "collapsed": true
   },
   "outputs": [],
   "source": [
    "import requests\n",
    "res = requests.get('https://tw.hotels.com/search.do?resolved-location=CITY%3A1366745%3AUNKNOWN%3AUNKNOWN&destination-id=1366745&q-destination=%E5%8F%B0%E5%8C%97,%20%E5%8F%B0%E7%81%A3&q-localised-check-in=2016-04-16&q-localised-check-out=2016-04-17&q-rooms=1&q-room-0-adults=2&q-room-0-children=0')"
   ]
  },
  {
   "cell_type": "code",
   "execution_count": 74,
   "metadata": {
    "collapsed": false
   },
   "outputs": [
    {
     "name": "stdout",
     "output_type": "stream",
     "text": [
      "華國大飯店 (Imperial Hotel Taipei) 600 Lin Shen North Road, Taipei, 104 台灣\n",
      "台北西華飯店 (The Sherwood Taipei) 111 Min Sheng East Road, Taipei, 104 台灣\n",
      "國聯大飯店 (United Hotel) 200 Kwang-fu South Road, Taipei, 10964 台灣\n",
      "富驛時尚酒店台北南京東路館 (FX Hotel Taipei Nanjing East Road Branch) No. 131, Sec. 3, Nanjing E. Rd., Taipei, 104 台灣\n",
      "藝宿商旅-台北館 (Yi Su Hotel Taipei) No.116, Sec. 1, Chongqing N. Rd., Datong Dist., Taipei, 10350 台灣\n",
      "美寓 (Mei Stay) 14F., No.2, Sec. 3, Bade Rd., Songshan Dist., Taipei,  台灣\n",
      "白金花園酒店 (Platinum Hotel) No.77, Anxing Rd., Xindian Dist., New Taipei City, 231 台灣\n",
      "寧夏旅店 (Ningxia Stay) No.163, Sec. 2, Chongqing N. Rd., Datong Dist., Taipei, Taiwan, 10357 台灣\n",
      "薇閣精品旅館 - 林森館 (Wego Boutique Hotel-Linsen) No.419, Linsen N. Road,, Zhongshan District, Taipei, 104 台灣\n",
      "台北美侖大飯店 (Park Taipei Hotel) No.317, Sec. 1, Fu-Xing S. Rd.,, Taipei, 10665 台灣\n",
      "台北大倉久和大飯店 (The Okura Prestige Taipei) 9 Nanjing E. Rd., Sec. 1, Taipei, 10450 台灣\n",
      "亞都麗緻大飯店 (The Landis Taipei) 41 Min Chuan East Road, Section 2, Taipei, 104 台灣\n",
      "燦路都飯店 (Hotel Sunroute Taipei) No.9, Min Chuan East Road, Sec 1, Zhongshan Area, Taipei, 104 台灣\n",
      "二十輪旅店大安館 (Swiio Hotel Daan) No 185, Sec.1, Daan Rd, Taipei,  台灣\n",
      "台北中山雅樂軒酒店 (Aloft Taipei Zhongshan) No 1 Shuangcheng Street, Zhongshan District, Taipei, 104 台灣\n",
      "君品酒店 (Palais de Chine Hotel) No 3 Sec 1 Chengde Road, Taipei, 103 台灣\n",
      "台北萬豪酒店 (Taipei Marriott Hotel) No. 199 Lequn 2nd Road, Zhongshan District, Taipei, 10462 台灣\n",
      "清翼居旅店 - 采風館 (Morwing Hotel - Culture Vogue) 5F, No.8, Nanyang St., Zhongzheng Dist., Taipei, 100 台灣\n",
      "台北晶華酒店 (Regent Taipei) No 3, Lane 39, Section 2, ZhongShan North, Road, Taipei, 104 台灣\n",
      "富信大飯店 (Fushin Hotel Taipei) No.128, Sec., 1, Datong Rd., Xizhi Dist., New Taipei City, 22145 台灣\n",
      "旅‧晨行旅 (Re-Change Hotel Taipei) 2F., No.1, Sec. 1, Chongqing S. Rd., Zhongzheng Dist., Taipei, 10046 台灣\n",
      "台北 W 飯店 (W Taipei) 10 Zhongxiao East Rd, sec 5, Xinyi Dist, Taipei, 110 台灣\n",
      "舞衣新宿南京店 (Mai Hotel Nanjing) 163 Sec. 2, Nanjing East Road, Taipei, 104 台灣\n",
      "台北福華大飯店 (The Howard Plaza Hotel Taipei) 160, Sec.3, Ren Ai Rd, Taipei, 10657 台灣\n",
      "台北宣美精品飯店 (Beauty Hotels - Hsuanmei Boutique) No.52 Jianguo North Rd, Sec. 1, Taipei,  台灣\n",
      "台北王朝大酒店 (Sunworld Dynasty Hotel Taipei) No 100 Dun Hua N Rd, Taipei, 10547 台灣\n",
      "台北寒舍艾美酒店 (Le Meridien Taipei) 38 SongRen Road, Xinyi District, Taipei,  台灣\n",
      "思泊客飯店 (Sparkle Hotel) B1, NO.16, Sec. 5, Xinyi Road, Taipei, 11049 台灣\n",
      "台北香格里拉遠東國際大飯店 (Shangri-La's Far Eastern Plaza Hotel Taipei) Taipei Metro 201 Tun Hwa South, Taipei, 106 台灣\n",
      "誠品行旅 (eslite hotel) No.98, Yanchang Rd., Xinyi Dist., Taipei,  台灣\n",
      "翰品酒店新莊 (Chateau de Chine Hotel Sinjhuang) No. 82, Jhongjheng Road, Xinzhuang, New Taipei City, 24243 台灣\n",
      "沐舍時尚酒店 (The Loft Hotel) No. 776, Zhongzheng Road, Zhonghe, New Taipei City, 235 台灣\n",
      "晶璽商旅 (AT Boutique Hotel) 3F, No 468, Sec4, Xinyi Rd., Xinyi Dist, Taipei, 110 台灣\n",
      "台北文華東方酒店 (Mandarin Oriental Taipei) 158 Dunhua North Road, Taipei, 000105 台灣\n",
      "洛碁大飯店 - 中華館 (Green World Hotel Zhonghua) 13F., No.41, Sec. 1, Zhonghua Rd., Zhongzheng Dist., Taipei, 10042 台灣\n",
      "麗都飯店 (Rido Hotel) No.11 Sec.3, Xinyi Rd., Da-an Dist., Taipei, 106 台灣\n",
      "台北威斯汀六福皇宮 (The Westin Taipei) No. 133, Nanjing East Road, Section 3, Taipei, 104 台灣\n",
      "闊飯店 - 台北 (HOTEL QUOTE Taipei) No. 333, Nan-Jing E. Road, Sec. 3,, Songshan District, Taipei, 105 台灣\n",
      "康華大飯店 (Golden China Hotel) 306, Sungchiang Road, Taipei,  台灣\n",
      "台北美麗信花園酒店 (Miramar Garden Taipei) No. 83, Civic Boulevard, Section 3, Zhongshan District, Taipei, 10491 台灣\n",
      "皇家季節酒店台北南西館 (Royal Seasons Hotel Taipei) 326 & 330 Nanjing West Road, Taipei, 103 台灣\n",
      "老爺會館台北林森 (Royal Inn Taipei Linsen) 4F, No. 83, LinSen North Road, ZhongShan District, Taipei, 104 台灣\n",
      "台北六福萬怡酒店 (Courtyard by Marriott Taipei) No 359 Section 7 Zhongxiao East Road, Nangang District, Taipei, 11561 台灣\n",
      "台北城大飯店 (Taipei City Hotel) No.172, Sec. 2, Chongqing N. Rd., Datong Dist., Taipei,  台灣\n",
      "品格子旅店 (西門館) (Inn Cube Ximen) 8F., No.45, Sec. 2, Hankou St., Wanhua, Taipei,  台灣\n",
      "漾館時尚溫泉飯店 (Aqua Bella Hot-Spring Hotel) 63 WenQuan Rd., Beitou, Taipei,  台灣\n",
      "台北國賓大飯店 (Ambassador Hotel Taipei) 63 Chungshan N Road Sec 2, Taipei, 104 台灣\n",
      "台北喜來登大飯店 (Sheraton Grand Taipei Hotel) 12 Zhong Xiao East Road Sec 1, Taipei, 100 台灣\n",
      "圓山大飯店 (The Grand Hotel) 1 Zhongshan N Road Sec 4, Taipei, 104 台灣\n",
      "雀客旅館 (CHECK inn) No.253, Songjiang Rd., Zhongshan Dist., Taipei, 104 台灣\n"
     ]
    }
   ],
   "source": [
    "from bs4 import BeautifulSoup as bs\n",
    "soup = bs(res.text)\n",
    "for hotel in soup.select('.hotel'):\n",
    "    print hotel.select('.p-name a')[0].text, hotel.select('.p-adr')[0].text"
   ]
  },
  {
   "cell_type": "markdown",
   "metadata": {},
   "source": [
    "### Google Crawler"
   ]
  },
  {
   "cell_type": "code",
   "execution_count": 76,
   "metadata": {
    "collapsed": false
   },
   "outputs": [],
   "source": [
    "import requests\n",
    "res = requests.get('https://www.google.com.tw/search?espv=2&biw=1920&bih=328&q=%E7%B6%B2%E8%B7%AF%E7%88%AC%E8%9F%B2&oq=%E7%B6%B2%E8%B7%AF%E7%88%AC%E8%9F%B2&gs_l=serp.12...0.0.2.1077685.0.0.0.0.0.0.0.0..0.0....0...1c..64.serp..0.0.0.RcjKo5KJzyo&bav=on.2,or.&fp=eb182a5be5f7cd71&ion=1&tch=1&ech=1&psi=buYJV-5WpLaZBbeWk3A.1460266500673.5')\n",
    "#print res.text"
   ]
  },
  {
   "cell_type": "markdown",
   "metadata": {},
   "source": [
    "### PCHome Crawler"
   ]
  },
  {
   "cell_type": "code",
   "execution_count": 84,
   "metadata": {
    "collapsed": false,
    "scrolled": true
   },
   "outputs": [
    {
     "name": "stdout",
     "output_type": "stream",
     "text": [
      "19900\n"
     ]
    }
   ],
   "source": [
    "import requests\n",
    "import re\n",
    "import json\n",
    "res = requests.get('http://ecapi.pchome.com.tw/ecshop/prodapi/v2/prod/DYAQ23-A9006URQB&fields=Seq,Id,Name,Nick,Store,PreOrdDate,SpeOrdDate,Price,Discount,Pic,Weight,ISBN,Qty,Bonus,isBig,isSpec,isCombine,isDiy,isRecyclable,isCarrier,isMedical,isBigCart,isSnapUp,isDescAndIntroSync,isFoodContents,isHuge,isEnergySubsidy&_callback=jsonpcb_prodecshop?_callback=jsonpcb_prodecshop')\n",
    "m = re.search('try{jsonpcb_prodecshop\\((.*?)\\);.*', res.text)\n",
    "jd = json.loads(m.group(1))\n",
    "print jd['DYAQ23-A9006URQB-000']['Price']['P']"
   ]
  },
  {
   "cell_type": "markdown",
   "metadata": {},
   "source": [
    "### Trip Advisor Hotel Comment"
   ]
  },
  {
   "cell_type": "code",
   "execution_count": 86,
   "metadata": {
    "collapsed": false
   },
   "outputs": [],
   "source": [
    "import requests\n",
    "res = requests.get('https://www.tripadvisor.com.tw/Hotel_Review-g293913-d1448765-Reviews-Royal_Seasons_Hotel_Hot_Spring_Beitou-Taipei.html')\n",
    "#print res.text"
   ]
  },
  {
   "cell_type": "code",
   "execution_count": 103,
   "metadata": {
    "collapsed": false
   },
   "outputs": [
    {
     "name": "stdout",
     "output_type": "stream",
     "text": [
      "100\n",
      "100\n",
      "default\n"
     ]
    }
   ],
   "source": [
    "dic = {'a':100, 'b':\"yes\", 'c':0.98} \n",
    "print dic['a'] \n",
    "#print dic['d'] \n",
    "print dic.get('a')\n",
    "print dic.get('d', 'default')"
   ]
  },
  {
   "cell_type": "code",
   "execution_count": 107,
   "metadata": {
    "collapsed": false
   },
   "outputs": [
    {
     "name": "stdout",
     "output_type": "stream",
     "text": [
      "服務人員態度不佳 2分 2016年3月16日 \n",
      "服務人員的態度不是很好，部分櫃檯人員臉很臭，詢問時態度不耐，讓人很不舒服，好像客人的詢問造成他多大的不方便一樣，早餐的選擇少得可憐，這是可惜之處。\n",
      "\n",
      "整體不錯 4分 2016年3月14日 \n",
      "1. 近地熱谷，新北投車站走上山坡要15分鐘，酒店有接駁車，但需預約\n",
      "2. 家庭房，很大，有4張床，頗舒適\n",
      "3. 浴室很大，雙面盆，溫泉池2人使用較合適，3人尚可，水溫熱度足\n",
      "4. 早餐款式不多，中式為主，水準尚可\n",
      "5. 沿途北投圖書館等參觀點\n",
      "\n",
      "價格合理 4分 2016年2月17日的評論\n",
      "\n",
      "位置較近新北投站，不坐接駁車也可步行，酒店内外裝修新，唯獨房間細小及沒有椅子。房間内温泉湯池尚可，泉水夠熱。窗簾用木百頁簾，感覺不太安全，員工有禮貌及親切。以價錢來算，整體很滿意。\n",
      "\n",
      "泡湯房的空間在大一些就更好了! 4分 2016年1月1日的評論\n",
      "\n",
      "北投皇家季節的溫泉區位於台北都會區，交通是比較方便的。酒店沒有停車場，若是開車就得自行在山路邊找車位。泡湯的房型比較小，浴池也不大，沒有床，沒有窗外景觀。適合天冷時想就近找得地方泡湯，對設施要求不高的好選擇。\n",
      "\n",
      "房间里有独立温泉 4分 2015年10月24日的評論\n",
      "\n",
      "这家酒店离北投区的温泉非常近，走路到站点只需要15分钟。房间非常别致，床很舒服，但是房间设备整体比较旧了。性价比还不错，也很干净。\n",
      "\n",
      "外表大器的酒店 3分 2015年6月23日的評論\n",
      "\n",
      "飯店的接待大廳是在三樓，所以是依山坡地而建，因為地點離新北投捷運站有點距離，所以有提供接送服務，平時8點至21點每半小時從飯店發車，如果要搭車上酒店則需要與飯店預約。\n",
      "這次入住的是波賽頓客房，也許是溫泉館的關係，浴池跟床同大小空間，進門以後右手邊是單人衣櫃及一個小櫃子(有冰箱)，然後左手邊就是廁所，床緊貼著廁所與浴室的牆壁，宛...\n",
      "\n",
      "\n",
      "更多  \n",
      "\n",
      "\n",
      "\n",
      "很棒的私人溫泉，相當好的酒店 4分 2015年6月20日的評論\n",
      "\n",
      "非常享受我在這裏度過的時光。真的特別喜歡這裏的私人溫泉。事實上，房間里的私人溫泉是唯一真正令人傾倒的。房間小但是舒服的床彌補了這個缺點。早餐還將就。\n",
      "\n",
      "泡溫泉的好選擇 3分 2015年4月26日的評論\n",
      "\n",
      "我們在官網訂購無窗型的房間，房型非常小，有一半是浴室，圓形浴缸很大，泡溫泉很舒服，但狹小的床，對於睡眠品質來說，住一晚的空間有壓迫感，電視的位置也讓人覺得不太方便。\n",
      "另外在等待check in的時間有點久，似乎是房間尚未整理好，我們在大廳等了一段時間才能進房。\n",
      "\n",
      "除房間附獨立温泉的好處外，其餘只屬一般 4分 2015年4月8日的評論\n",
      "\n",
      "位置\n",
      "1. 距離新北投站約15分鐘步程，但位處山腰，如拖着行李，並不方便\n",
      "2. 距離地熱谷約5分鐘步程\n",
      "裝修\n",
      "1. 裝修只屬一般\n",
      "服務\n",
      "1. 職員水平只屬一般，並不專業\n",
      "2. 寄存的行李，只隨意地放在大堂\n",
      "設施\n",
      "1. 設施一般，尚算新淨\n",
      "2. 房間設獨立温泉，非泉方便，但要注滿泉水，需時約20分鐘...\n",
      "\n",
      "\n",
      "更多  \n",
      "\n",
      "\n",
      "\n"
     ]
    }
   ],
   "source": [
    "from bs4 import BeautifulSoup as bs\n",
    "soup = bs(res.text)\n",
    "for review in soup.select('.reviewSelector'):\n",
    "    if len(review.select('.noQuotes')) > 0 :\n",
    "        print review.select('.noQuotes')[0].text, \\\n",
    "              review.select('.rate > img')[0]['alt'], \\\n",
    "              review.select('.ratingDate')[0].get('title', review.select('.ratingDate')[0].text), \\\n",
    "              review.select('.partial_entry')[0].text\n",
    "                \n",
    "    #print review.select('.noQuotes'), review.select('.noQuotes')[0]"
   ]
  },
  {
   "cell_type": "code",
   "execution_count": null,
   "metadata": {
    "collapsed": true
   },
   "outputs": [],
   "source": []
  }
 ],
 "metadata": {
  "kernelspec": {
   "display_name": "Python 2",
   "language": "python",
   "name": "python2"
  },
  "language_info": {
   "codemirror_mode": {
    "name": "ipython",
    "version": 2
   },
   "file_extension": ".py",
   "mimetype": "text/x-python",
   "name": "python",
   "nbconvert_exporter": "python",
   "pygments_lexer": "ipython2",
   "version": "2.7.11"
  }
 },
 "nbformat": 4,
 "nbformat_minor": 0
}
