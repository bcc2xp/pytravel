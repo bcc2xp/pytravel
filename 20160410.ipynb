{
 "cells": [
  {
   "cell_type": "code",
   "execution_count": 6,
   "metadata": {
    "collapsed": false
   },
   "outputs": [
    {
     "data": {
      "text/plain": [
       "['ConnectionError',\n",
       " 'HTTPError',\n",
       " 'NullHandler',\n",
       " 'PreparedRequest',\n",
       " 'Request',\n",
       " 'RequestException',\n",
       " 'Response',\n",
       " 'Session',\n",
       " 'Timeout',\n",
       " 'TooManyRedirects',\n",
       " 'URLRequired',\n",
       " '__author__',\n",
       " '__build__',\n",
       " '__builtins__',\n",
       " '__copyright__',\n",
       " '__doc__',\n",
       " '__file__',\n",
       " '__license__',\n",
       " '__name__',\n",
       " '__package__',\n",
       " '__path__',\n",
       " '__title__',\n",
       " '__version__',\n",
       " 'adapters',\n",
       " 'api',\n",
       " 'auth',\n",
       " 'certs',\n",
       " 'codes',\n",
       " 'compat',\n",
       " 'cookies',\n",
       " 'delete',\n",
       " 'exceptions',\n",
       " 'get',\n",
       " 'head',\n",
       " 'hooks',\n",
       " 'logging',\n",
       " 'models',\n",
       " 'options',\n",
       " 'packages',\n",
       " 'patch',\n",
       " 'post',\n",
       " 'put',\n",
       " 'request',\n",
       " 'session',\n",
       " 'sessions',\n",
       " 'status_codes',\n",
       " 'structures',\n",
       " 'utils']"
      ]
     },
     "execution_count": 6,
     "metadata": {},
     "output_type": "execute_result"
    }
   ],
   "source": [
    "import requests\n",
    "?requests\n",
    "dir(requests)"
   ]
  },
  {
   "cell_type": "markdown",
   "metadata": {},
   "source": [
    "### My First Tripadvisor Crawler"
   ]
  },
  {
   "cell_type": "code",
   "execution_count": 7,
   "metadata": {
    "collapsed": false
   },
   "outputs": [
    {
     "name": "stdout",
     "output_type": "stream",
     "text": [
      "<Response [200]>\n"
     ]
    }
   ],
   "source": [
    "import requests\n",
    "res = requests.get('https://www.tripadvisor.com.tw/Hotels-g293913-Taipei-Hotels.html')\n",
    "print res"
   ]
  },
  {
   "cell_type": "markdown",
   "metadata": {},
   "source": [
    "### HTTP Status Code\n",
    "- https://en.wikipedia.org/wiki/List_of_HTTP_status_codes"
   ]
  },
  {
   "cell_type": "code",
   "execution_count": 9,
   "metadata": {
    "collapsed": false
   },
   "outputs": [],
   "source": [
    "#print res.text"
   ]
  },
  {
   "cell_type": "markdown",
   "metadata": {},
   "source": [
    "### 字典範例"
   ]
  },
  {
   "cell_type": "code",
   "execution_count": 10,
   "metadata": {
    "collapsed": false
   },
   "outputs": [
    {
     "name": "stdout",
     "output_type": "stream",
     "text": [
      "1\n"
     ]
    }
   ],
   "source": [
    "dic = {'a':1,'b':2,'c':3}\n",
    "print dic['a']"
   ]
  },
  {
   "cell_type": "markdown",
   "metadata": {},
   "source": [
    "### 台灣高鐵時刻表抓取"
   ]
  },
  {
   "cell_type": "code",
   "execution_count": 12,
   "metadata": {
    "collapsed": false
   },
   "outputs": [],
   "source": [
    "import requests\n",
    "payload = {\n",
    "'StartStation':'977abb69-413a-4ccf-a109-0272c24fd490',\n",
    "'EndStation':'fbd828d8-b1da-4b06-a3bd-680cdca4d2cd',\n",
    "'SearchDate':'2016/04/10',\n",
    "'SearchTime':'11:30',\n",
    "'SearchWay':'DepartureInMandarin'        \n",
    "}\n",
    "\n",
    "res = requests.post('https://www.thsrc.com.tw/tw/TimeTable/SearchResult', data = payload)\n",
    "#print res.text"
   ]
  },
  {
   "cell_type": "markdown",
   "metadata": {},
   "source": [
    "### Trip Advisor 比價資訊"
   ]
  },
  {
   "cell_type": "code",
   "execution_count": 17,
   "metadata": {
    "collapsed": false
   },
   "outputs": [
    {
     "name": "stdout",
     "output_type": "stream",
     "text": [
      "<class 'requests.models.Response'>\n"
     ]
    }
   ],
   "source": [
    "import requests\n",
    "payload = {\n",
    "'seen':'0',\n",
    "'sequence':'1',\n",
    "'geo':'293913',\n",
    "'staydates':'2016_04_09_2016_04_23',\n",
    "'adults':'2',\n",
    "'rooms':'1',\n",
    "'searchAll':'false',\n",
    "'requestingServlet':'Hotels',\n",
    "'refineForm':'true',\n",
    "'isFirstPageLoad':'false',\n",
    "'rad':'0',\n",
    "'dateBumped':'NONE',\n",
    "'scid':'2354947,306447|2288011,7840139|2474845,1411424|2492762,1797213|1887821,1372927',\n",
    "'displayedSortOrder':'recommended'\n",
    "}\n",
    "res = requests.post('https://www.tripadvisor.com.tw/Hotels', data=payload)\n",
    "print type(res)\n",
    "#print res.text"
   ]
  },
  {
   "cell_type": "markdown",
   "metadata": {},
   "source": [
    "### 使用BeautifulSoup4"
   ]
  },
  {
   "cell_type": "code",
   "execution_count": 16,
   "metadata": {
    "collapsed": false
   },
   "outputs": [
    {
     "name": "stdout",
     "output_type": "stream",
     "text": [
      "<class 'bs4.BeautifulSoup'>\n",
      "\n",
      "\n",
      "\n",
      "Hello World\n",
      "This is link1\n",
      "This is link2\n",
      "\n",
      "\n"
     ]
    }
   ],
   "source": [
    "from bs4 import BeautifulSoup \n",
    "html_sample = ''' \n",
    "<html> \n",
    " <body> \n",
    " <h1 id=\"title\">Hello World</h1> \n",
    " <a href=\"#\" class=\"link\">This is link1</a> \n",
    " <a href=\"# link2\" class=\"link\">This is link2</a> \n",
    " </body> \n",
    " </html>'''\n",
    "\n",
    "soup = BeautifulSoup(html_sample, 'html.parser')\n",
    "print type(soup)\n",
    "print soup.text"
   ]
  },
  {
   "cell_type": "code",
   "execution_count": 19,
   "metadata": {
    "collapsed": false
   },
   "outputs": [
    {
     "name": "stdout",
     "output_type": "stream",
     "text": [
      "amy\n"
     ]
    }
   ],
   "source": [
    "name = 'john'\n",
    "height = 180\n",
    "name1 = 'amy'\n",
    "height1 = 162\n",
    "#{} dictionary, [] list\n",
    "names = ['john', 'amy']\n",
    "print names[1]"
   ]
  },
  {
   "cell_type": "code",
   "execution_count": 24,
   "metadata": {
    "collapsed": false
   },
   "outputs": [
    {
     "name": "stdout",
     "output_type": "stream",
     "text": [
      "<type 'list'>\n",
      "[<a class=\"link\" href=\"#\">This is link1</a>, <a class=\"link\" href=\"# link2\">This is link2</a>]\n",
      "<a class=\"link\" href=\"#\">This is link1</a>\n",
      "This is link1\n",
      "This is link2\n"
     ]
    }
   ],
   "source": [
    "print type(soup.select('a'))\n",
    "print soup.select('a')\n",
    "print soup.select('a')[0]\n",
    "print soup.select('a')[0].text\n",
    "print soup.select('a')[1].text\n"
   ]
  },
  {
   "cell_type": "code",
   "execution_count": 26,
   "metadata": {
    "collapsed": false
   },
   "outputs": [
    {
     "name": "stdout",
     "output_type": "stream",
     "text": [
      "[<h1 id=\"title\">Hello World</h1>]\n",
      "Hello World\n"
     ]
    }
   ],
   "source": [
    "print soup.select('h1')\n",
    "print soup.select('h1')[0].text"
   ]
  },
  {
   "cell_type": "markdown",
   "metadata": {},
   "source": [
    "### 取得ID為title 的資料"
   ]
  },
  {
   "cell_type": "code",
   "execution_count": 31,
   "metadata": {
    "collapsed": false
   },
   "outputs": [
    {
     "name": "stdout",
     "output_type": "stream",
     "text": [
      "[<h1 id=\"title\">Hello World</h1>]\n"
     ]
    }
   ],
   "source": [
    "print soup.select('#title') # id => #"
   ]
  },
  {
   "cell_type": "markdown",
   "metadata": {},
   "source": [
    "### 取得CLASS為link 的資料"
   ]
  },
  {
   "cell_type": "markdown",
   "metadata": {},
   "source": []
  },
  {
   "cell_type": "code",
   "execution_count": 34,
   "metadata": {
    "collapsed": false
   },
   "outputs": [
    {
     "name": "stdout",
     "output_type": "stream",
     "text": [
      "[<a class=\"link\" href=\"#\">This is link1</a>, <a class=\"link\" href=\"# link2\">This is link2</a>]\n"
     ]
    }
   ],
   "source": [
    "print soup.select('.link') # class => ."
   ]
  },
  {
   "cell_type": "code",
   "execution_count": 38,
   "metadata": {
    "collapsed": false
   },
   "outputs": [
    {
     "name": "stdout",
     "output_type": "stream",
     "text": [
      "#\n",
      "# link2\n"
     ]
    }
   ],
   "source": [
    "for link in soup.select('.link') :\n",
    "    #print link.text\n",
    "    print link['href']"
   ]
  },
  {
   "cell_type": "code",
   "execution_count": 43,
   "metadata": {
    "collapsed": false
   },
   "outputs": [
    {
     "name": "stdout",
     "output_type": "stream",
     "text": [
      "123\n",
      "456\n"
     ]
    }
   ],
   "source": [
    "html_sample2 = '''<a href=123 qoo=456></a>'''\n",
    "soup2 = BeautifulSoup(html_sample2, 'html.parser')\n",
    "print soup2.select('a')[0]['href']\n",
    "print soup2.select('a')[0]['qoo']"
   ]
  },
  {
   "cell_type": "markdown",
   "metadata": {},
   "source": [
    "### 抓取 TRIP ADVISOR 旅館資訊"
   ]
  },
  {
   "cell_type": "code",
   "execution_count": 44,
   "metadata": {
    "collapsed": true
   },
   "outputs": [],
   "source": [
    "import requests\n",
    "res = requests.get('https://www.tripadvisor.com.tw/Hotels-g293913-Taipei-Hotels.html')"
   ]
  },
  {
   "cell_type": "markdown",
   "metadata": {},
   "source": [
    "### 剖析 TRIP ADVISOR 旅館資訊"
   ]
  },
  {
   "cell_type": "code",
   "execution_count": 57,
   "metadata": {
    "collapsed": false
   },
   "outputs": [
    {
     "name": "stdout",
     "output_type": "stream",
     "text": [
      "新驛旅店- 台北車站一館 /Hotel_Review-g293913-d1144583-Reviews-CityInn_Hotel_Taipei_Station_Branch_I-Taipei.html 513則評論 第 14 名 (共 506 家) 台北市飯店 4.5分\n",
      "西悠飯店台北店 /Hotel_Review-g293913-d4314606-Reviews-C_U_Hotel-Taipei.html 181則評論 第 44 名 (共 506 家) 台北市飯店 4.5分\n",
      "喜瑞飯店 /Hotel_Review-g293913-d598759-Reviews-Ambience_Hotel-Taipei.html 907則評論 第 10 名 (共 506 家) 台北市飯店 4.5分\n",
      "北投麗禧溫泉酒店 /Hotel_Review-g293913-d2095241-Reviews-Grand_View_Resort_Beitou-Taipei.html 304則評論 第 32 名 (共 506 家) 台北市飯店 4.5分\n",
      "亞都麗緻大飯店 /Hotel_Review-g293913-d300627-Reviews-Landis_Taipei_Hotel-Taipei.html 676則評論 第 37 名 (共 506 家) 台北市飯店 4.5分\n",
      "力麗哲園商旅-台北 /Hotel_Review-g293913-d1191398-Reviews-Lealea_Garden_Hotels_Taipei-Taipei.html 110則評論 第 116 名 (共 506 家) 台北市飯店 4分\n",
      "北投荷豐溫泉會館 /Hotel_Review-g293913-d1164583-Reviews-Nine_Plus_Spa_Hot_Spring_Hotel-Taipei.html 45則評論 第 284 名 (共 506 家) 台北市飯店 3.5分\n",
      "君品酒店 /Hotel_Review-g293913-d1797213-Reviews-Palais_de_Chine_Hotel-Taipei.html 881則評論 第 30 名 (共 506 家) 台北市飯店 4.5分\n",
      "皇家季節酒店北投溫泉館 /Hotel_Review-g293913-d1448765-Reviews-Royal_Seasons_Hotel_Hot_Spring_Beitou-Taipei.html 102則評論 第 236 名 (共 506 家) 台北市飯店 4分\n",
      "圓山大飯店 /Hotel_Review-g293913-d306446-Reviews-Grand_Hotel_Taipei-Taipei.html 621則評論 第 60 名 (共 506 家) 台北市飯店 4分\n",
      "東門旅店 /Hotel_Review-g293913-d6161125-Reviews-Dongmen_Hotel-Taipei.html 34則評論 第 166 名 (共 506 家) 台北市飯店 4分\n",
      "水美溫泉會館 /Hotel_Review-g293913-d582175-Reviews-Sweetme_Hotspring_Resort-Taipei.html 167則評論 第 185 名 (共 506 家) 台北市飯店 3.5分\n",
      "日勝生加賀屋北投溫泉度假飯店 /Hotel_Review-g293913-d1905676-Reviews-Radium_Kagaya_International_Hotel-Taipei.html 306則評論 第 115 名 (共 506 家) 台北市飯店 4分\n",
      "台北福華大飯店 /Hotel_Review-g293913-d301558-Reviews-Howard_Plaza_Hotel_Taipei-Taipei.html 834則評論 第 59 名 (共 506 家) 台北市飯店 4分\n",
      "沐蘭台北時尚精品旅館 /Hotel_Review-g293913-d2296732-Reviews-Mulan_Motel_Taipei-Taipei.html 18則評論 第 193 名 (共 506 家) 台北市飯店 4.5分\n",
      "香格里拉台北遠東國際大飯店 /Hotel_Review-g293913-d302103-Reviews-Shangri_La_s_Far_Eastern_Plaza_Hotel_Taipei-Taipei.html 923則評論 第 22 名 (共 506 家) 台北市飯店 4.5分\n",
      "南京小公館 /Hotel_Review-g293913-d2153372-Reviews-NK_Hostel-Taipei.html 20則評論 第 161 名 (共 506 家) 台北市飯店 4.5分\n",
      "天玥泉會館 /Hotel_Review-g293913-d3935003-Reviews-Beitou_Hot_Spring_Resort_Tian_Yue_Quan-Taipei.html 134則評論 第 81 名 (共 506 家) 台北市飯店 4分\n",
      "台北W飯店 /Hotel_Review-g293913-d1879542-Reviews-W_Taipei-Taipei.html 1,459則評論 第 26 名 (共 506 家) 台北市飯店 4.5分\n",
      "大倉久和大飯店 /Hotel_Review-g293913-d3371409-Reviews-The_Okura_Prestige_Taipei-Taipei.html 692則評論 第 16 名 (共 506 家) 台北市飯店 4.5分\n",
      "城市商旅南西館 /Hotel_Review-g293913-d583571-Reviews-City_Suites_Taipei_Nanxi-Taipei.html 326則評論 第 102 名 (共 506 家) 台北市飯店 4分\n",
      "凱撒大飯店 /Hotel_Review-g293913-d306433-Reviews-Caesar_Park_Taipei-Taipei.html 1,152則評論 第 82 名 (共 506 家) 台北市飯店 4分\n",
      "梅樓商務驛站 /Hotel_Review-g293913-d5962333-Reviews-Main_Inn_Taipei-Taipei.html 65則評論 第 103 名 (共 506 家) 台北市飯店 4分\n",
      "台北花園大酒店 /Hotel_Review-g293913-d1224203-Reviews-Taipei_Garden_Hotel-Taipei.html 735則評論 第 28 名 (共 506 家) 台北市飯店 4.5分\n",
      "新驛旅店 - 台北車站三館 /Hotel_Review-g293913-d1950018-Reviews-CityInn_Hotel_Taipei_Station_Branch_III-Taipei.html 699則評論 第 7 名 (共 506 家) 台北市飯店 4.5分\n",
      "晶華酒店 /Hotel_Review-g293913-d301429-Reviews-Regent_Taipei-Taipei.html 1,219則評論 第 29 名 (共 506 家) 台北市飯店 4.5分\n",
      "蜂巢旅店 /Hotel_Review-g293913-d4134607-Reviews-Bee_House_Taipei_Station_Branch-Taipei.html 733則評論 第 19 名 (共 506 家) 台北市飯店 4.5分\n",
      "丹迪旅店 – 大安森林公園店  /Hotel_Review-g293913-d1411424-Reviews-Dandy_Hotel_Daan_Park_Branch-Taipei.html 722則評論 第 8 名 (共 506 家) 台北市飯店 4.5分\n",
      "台北文華東方酒店 /Hotel_Review-g293913-d1416364-Reviews-Mandarin_Oriental_Taipei-Taipei.html 489則評論 第 4 名 (共 506 家) 台北市飯店 4.5分\n",
      "漾館時尚溫泉旅館 /Hotel_Review-g293913-d1743349-Reviews-Aqua_Bella_Hotel-Taipei.html 87則評論 第 165 名 (共 506 家) 台北市飯店 4分\n",
      "新尚旅店 /Hotel_Review-g293913-d1191387-Reviews-Hotel_73-Taipei.html 543則評論 第 12 名 (共 506 家) 台北市飯店 4.5分\n"
     ]
    }
   ],
   "source": [
    "from bs4 import BeautifulSoup as bs\n",
    "soup= bs(res.text)\n",
    "for listing in soup.select('.listing'):\n",
    "    print listing.select('.property_title')[0].text, \\\n",
    "          listing.select('.property_title')[0]['href'], \\\n",
    "          listing.select('span.more a')[0].text, \\\n",
    "          listing.select('.slim_ranking')[0].text ,\\\n",
    "          listing.select('.sprite-ratings')[0]['alt']"
   ]
  },
  {
   "cell_type": "markdown",
   "metadata": {},
   "source": [
    "### InfoLite\n",
    "- https://chrome.google.com/webstore/detail/infolite/ipjbadabbpedegielkhgpiekdlmfpgal\n"
   ]
  },
  {
   "cell_type": "markdown",
   "metadata": {},
   "source": [
    "### hotels.com"
   ]
  },
  {
   "cell_type": "code",
   "execution_count": null,
   "metadata": {
    "collapsed": true
   },
   "outputs": [],
   "source": [
    "'''\n",
    "https://tw.hotels.com/search.do?\n",
    "    resolved-location=CITY%3A1366745%3AUNKNOWN%3AUNKNOWN&\n",
    "    destination-id=1366745&q-destination=%E5%8F%B0%E5%8C%97,%20%E5%8F%B0%E7%81%A3&\n",
    "    q-localised-check-in=2016-04-16&q-localised-check-out=2016-04-17&\n",
    "    q-rooms=1&q-room-0-adults=2&q-room-0-children=0\n",
    "'''"
   ]
  },
  {
   "cell_type": "code",
   "execution_count": 72,
   "metadata": {
    "collapsed": true
   },
   "outputs": [],
   "source": [
    "import requests\n",
    "res = requests.get('https://tw.hotels.com/search.do?resolved-location=CITY%3A1366745%3AUNKNOWN%3AUNKNOWN&destination-id=1366745&q-destination=%E5%8F%B0%E5%8C%97,%20%E5%8F%B0%E7%81%A3&q-localised-check-in=2016-04-16&q-localised-check-out=2016-04-17&q-rooms=1&q-room-0-adults=2&q-room-0-children=0')"
   ]
  },
  {
   "cell_type": "code",
   "execution_count": 74,
   "metadata": {
    "collapsed": false
   },
   "outputs": [
    {
     "name": "stdout",
     "output_type": "stream",
     "text": [
      "華國大飯店 (Imperial Hotel Taipei) 600 Lin Shen North Road, Taipei, 104 台灣\n",
      "台北西華飯店 (The Sherwood Taipei) 111 Min Sheng East Road, Taipei, 104 台灣\n",
      "國聯大飯店 (United Hotel) 200 Kwang-fu South Road, Taipei, 10964 台灣\n",
      "富驛時尚酒店台北南京東路館 (FX Hotel Taipei Nanjing East Road Branch) No. 131, Sec. 3, Nanjing E. Rd., Taipei, 104 台灣\n",
      "藝宿商旅-台北館 (Yi Su Hotel Taipei) No.116, Sec. 1, Chongqing N. Rd., Datong Dist., Taipei, 10350 台灣\n",
      "美寓 (Mei Stay) 14F., No.2, Sec. 3, Bade Rd., Songshan Dist., Taipei,  台灣\n",
      "白金花園酒店 (Platinum Hotel) No.77, Anxing Rd., Xindian Dist., New Taipei City, 231 台灣\n",
      "寧夏旅店 (Ningxia Stay) No.163, Sec. 2, Chongqing N. Rd., Datong Dist., Taipei, Taiwan, 10357 台灣\n",
      "薇閣精品旅館 - 林森館 (Wego Boutique Hotel-Linsen) No.419, Linsen N. Road,, Zhongshan District, Taipei, 104 台灣\n",
      "台北美侖大飯店 (Park Taipei Hotel) No.317, Sec. 1, Fu-Xing S. Rd.,, Taipei, 10665 台灣\n",
      "台北大倉久和大飯店 (The Okura Prestige Taipei) 9 Nanjing E. Rd., Sec. 1, Taipei, 10450 台灣\n",
      "亞都麗緻大飯店 (The Landis Taipei) 41 Min Chuan East Road, Section 2, Taipei, 104 台灣\n",
      "燦路都飯店 (Hotel Sunroute Taipei) No.9, Min Chuan East Road, Sec 1, Zhongshan Area, Taipei, 104 台灣\n",
      "二十輪旅店大安館 (Swiio Hotel Daan) No 185, Sec.1, Daan Rd, Taipei,  台灣\n",
      "台北中山雅樂軒酒店 (Aloft Taipei Zhongshan) No 1 Shuangcheng Street, Zhongshan District, Taipei, 104 台灣\n",
      "君品酒店 (Palais de Chine Hotel) No 3 Sec 1 Chengde Road, Taipei, 103 台灣\n",
      "台北萬豪酒店 (Taipei Marriott Hotel) No. 199 Lequn 2nd Road, Zhongshan District, Taipei, 10462 台灣\n",
      "清翼居旅店 - 采風館 (Morwing Hotel - Culture Vogue) 5F, No.8, Nanyang St., Zhongzheng Dist., Taipei, 100 台灣\n",
      "台北晶華酒店 (Regent Taipei) No 3, Lane 39, Section 2, ZhongShan North, Road, Taipei, 104 台灣\n",
      "富信大飯店 (Fushin Hotel Taipei) No.128, Sec., 1, Datong Rd., Xizhi Dist., New Taipei City, 22145 台灣\n",
      "旅‧晨行旅 (Re-Change Hotel Taipei) 2F., No.1, Sec. 1, Chongqing S. Rd., Zhongzheng Dist., Taipei, 10046 台灣\n",
      "台北 W 飯店 (W Taipei) 10 Zhongxiao East Rd, sec 5, Xinyi Dist, Taipei, 110 台灣\n",
      "舞衣新宿南京店 (Mai Hotel Nanjing) 163 Sec. 2, Nanjing East Road, Taipei, 104 台灣\n",
      "台北福華大飯店 (The Howard Plaza Hotel Taipei) 160, Sec.3, Ren Ai Rd, Taipei, 10657 台灣\n",
      "台北宣美精品飯店 (Beauty Hotels - Hsuanmei Boutique) No.52 Jianguo North Rd, Sec. 1, Taipei,  台灣\n",
      "台北王朝大酒店 (Sunworld Dynasty Hotel Taipei) No 100 Dun Hua N Rd, Taipei, 10547 台灣\n",
      "台北寒舍艾美酒店 (Le Meridien Taipei) 38 SongRen Road, Xinyi District, Taipei,  台灣\n",
      "思泊客飯店 (Sparkle Hotel) B1, NO.16, Sec. 5, Xinyi Road, Taipei, 11049 台灣\n",
      "台北香格里拉遠東國際大飯店 (Shangri-La's Far Eastern Plaza Hotel Taipei) Taipei Metro 201 Tun Hwa South, Taipei, 106 台灣\n",
      "誠品行旅 (eslite hotel) No.98, Yanchang Rd., Xinyi Dist., Taipei,  台灣\n",
      "翰品酒店新莊 (Chateau de Chine Hotel Sinjhuang) No. 82, Jhongjheng Road, Xinzhuang, New Taipei City, 24243 台灣\n",
      "沐舍時尚酒店 (The Loft Hotel) No. 776, Zhongzheng Road, Zhonghe, New Taipei City, 235 台灣\n",
      "晶璽商旅 (AT Boutique Hotel) 3F, No 468, Sec4, Xinyi Rd., Xinyi Dist, Taipei, 110 台灣\n",
      "台北文華東方酒店 (Mandarin Oriental Taipei) 158 Dunhua North Road, Taipei, 000105 台灣\n",
      "洛碁大飯店 - 中華館 (Green World Hotel Zhonghua) 13F., No.41, Sec. 1, Zhonghua Rd., Zhongzheng Dist., Taipei, 10042 台灣\n",
      "麗都飯店 (Rido Hotel) No.11 Sec.3, Xinyi Rd., Da-an Dist., Taipei, 106 台灣\n",
      "台北威斯汀六福皇宮 (The Westin Taipei) No. 133, Nanjing East Road, Section 3, Taipei, 104 台灣\n",
      "闊飯店 - 台北 (HOTEL QUOTE Taipei) No. 333, Nan-Jing E. Road, Sec. 3,, Songshan District, Taipei, 105 台灣\n",
      "康華大飯店 (Golden China Hotel) 306, Sungchiang Road, Taipei,  台灣\n",
      "台北美麗信花園酒店 (Miramar Garden Taipei) No. 83, Civic Boulevard, Section 3, Zhongshan District, Taipei, 10491 台灣\n",
      "皇家季節酒店台北南西館 (Royal Seasons Hotel Taipei) 326 & 330 Nanjing West Road, Taipei, 103 台灣\n",
      "老爺會館台北林森 (Royal Inn Taipei Linsen) 4F, No. 83, LinSen North Road, ZhongShan District, Taipei, 104 台灣\n",
      "台北六福萬怡酒店 (Courtyard by Marriott Taipei) No 359 Section 7 Zhongxiao East Road, Nangang District, Taipei, 11561 台灣\n",
      "台北城大飯店 (Taipei City Hotel) No.172, Sec. 2, Chongqing N. Rd., Datong Dist., Taipei,  台灣\n",
      "品格子旅店 (西門館) (Inn Cube Ximen) 8F., No.45, Sec. 2, Hankou St., Wanhua, Taipei,  台灣\n",
      "漾館時尚溫泉飯店 (Aqua Bella Hot-Spring Hotel) 63 WenQuan Rd., Beitou, Taipei,  台灣\n",
      "台北國賓大飯店 (Ambassador Hotel Taipei) 63 Chungshan N Road Sec 2, Taipei, 104 台灣\n",
      "台北喜來登大飯店 (Sheraton Grand Taipei Hotel) 12 Zhong Xiao East Road Sec 1, Taipei, 100 台灣\n",
      "圓山大飯店 (The Grand Hotel) 1 Zhongshan N Road Sec 4, Taipei, 104 台灣\n",
      "雀客旅館 (CHECK inn) No.253, Songjiang Rd., Zhongshan Dist., Taipei, 104 台灣\n"
     ]
    }
   ],
   "source": [
    "from bs4 import BeautifulSoup as bs\n",
    "soup = bs(res.text)\n",
    "for hotel in soup.select('.hotel'):\n",
    "    print hotel.select('.p-name a')[0].text, hotel.select('.p-adr')[0].text"
   ]
  },
  {
   "cell_type": "markdown",
   "metadata": {},
   "source": [
    "### Google Crawler"
   ]
  },
  {
   "cell_type": "code",
   "execution_count": 76,
   "metadata": {
    "collapsed": false
   },
   "outputs": [],
   "source": [
    "import requests\n",
    "res = requests.get('https://www.google.com.tw/search?espv=2&biw=1920&bih=328&q=%E7%B6%B2%E8%B7%AF%E7%88%AC%E8%9F%B2&oq=%E7%B6%B2%E8%B7%AF%E7%88%AC%E8%9F%B2&gs_l=serp.12...0.0.2.1077685.0.0.0.0.0.0.0.0..0.0....0...1c..64.serp..0.0.0.RcjKo5KJzyo&bav=on.2,or.&fp=eb182a5be5f7cd71&ion=1&tch=1&ech=1&psi=buYJV-5WpLaZBbeWk3A.1460266500673.5')\n",
    "#print res.text"
   ]
  },
  {
   "cell_type": "markdown",
   "metadata": {},
   "source": [
    "### PCHome Crawler"
   ]
  },
  {
   "cell_type": "code",
   "execution_count": 84,
   "metadata": {
    "collapsed": false,
    "scrolled": true
   },
   "outputs": [
    {
     "name": "stdout",
     "output_type": "stream",
     "text": [
      "19900\n"
     ]
    }
   ],
   "source": [
    "import requests\n",
    "import re\n",
    "import json\n",
    "res = requests.get('http://ecapi.pchome.com.tw/ecshop/prodapi/v2/prod/DYAQ23-A9006URQB&fields=Seq,Id,Name,Nick,Store,PreOrdDate,SpeOrdDate,Price,Discount,Pic,Weight,ISBN,Qty,Bonus,isBig,isSpec,isCombine,isDiy,isRecyclable,isCarrier,isMedical,isBigCart,isSnapUp,isDescAndIntroSync,isFoodContents,isHuge,isEnergySubsidy&_callback=jsonpcb_prodecshop?_callback=jsonpcb_prodecshop')\n",
    "m = re.search('try{jsonpcb_prodecshop\\((.*?)\\);.*', res.text)\n",
    "jd = json.loads(m.group(1))\n",
    "print jd['DYAQ23-A9006URQB-000']['Price']['P']"
   ]
  },
  {
   "cell_type": "markdown",
   "metadata": {},
   "source": [
    "### Trip Advisor Hotel Comment"
   ]
  },
  {
   "cell_type": "code",
   "execution_count": 86,
   "metadata": {
    "collapsed": false
   },
   "outputs": [],
   "source": [
    "import requests\n",
    "res = requests.get('https://www.tripadvisor.com.tw/Hotel_Review-g293913-d1448765-Reviews-Royal_Seasons_Hotel_Hot_Spring_Beitou-Taipei.html')\n",
    "#print res.text"
   ]
  },
  {
   "cell_type": "code",
   "execution_count": 103,
   "metadata": {
    "collapsed": false
   },
   "outputs": [
    {
     "name": "stdout",
     "output_type": "stream",
     "text": [
      "100\n",
      "100\n",
      "default\n"
     ]
    }
   ],
   "source": [
    "dic = {'a':100, 'b':\"yes\", 'c':0.98} \n",
    "print dic['a'] \n",
    "#print dic['d'] \n",
    "print dic.get('a')\n",
    "print dic.get('d', 'default')"
   ]
  },
  {
   "cell_type": "code",
   "execution_count": 107,
   "metadata": {
    "collapsed": false
   },
   "outputs": [
    {
     "name": "stdout",
     "output_type": "stream",
     "text": [
      "服務人員態度不佳 2分 2016年3月16日 \n",
      "服務人員的態度不是很好，部分櫃檯人員臉很臭，詢問時態度不耐，讓人很不舒服，好像客人的詢問造成他多大的不方便一樣，早餐的選擇少得可憐，這是可惜之處。\n",
      "\n",
      "整體不錯 4分 2016年3月14日 \n",
      "1. 近地熱谷，新北投車站走上山坡要15分鐘，酒店有接駁車，但需預約\n",
      "2. 家庭房，很大，有4張床，頗舒適\n",
      "3. 浴室很大，雙面盆，溫泉池2人使用較合適，3人尚可，水溫熱度足\n",
      "4. 早餐款式不多，中式為主，水準尚可\n",
      "5. 沿途北投圖書館等參觀點\n",
      "\n",
      "價格合理 4分 2016年2月17日的評論\n",
      "\n",
      "位置較近新北投站，不坐接駁車也可步行，酒店内外裝修新，唯獨房間細小及沒有椅子。房間内温泉湯池尚可，泉水夠熱。窗簾用木百頁簾，感覺不太安全，員工有禮貌及親切。以價錢來算，整體很滿意。\n",
      "\n",
      "泡湯房的空間在大一些就更好了! 4分 2016年1月1日的評論\n",
      "\n",
      "北投皇家季節的溫泉區位於台北都會區，交通是比較方便的。酒店沒有停車場，若是開車就得自行在山路邊找車位。泡湯的房型比較小，浴池也不大，沒有床，沒有窗外景觀。適合天冷時想就近找得地方泡湯，對設施要求不高的好選擇。\n",
      "\n",
      "房间里有独立温泉 4分 2015年10月24日的評論\n",
      "\n",
      "这家酒店离北投区的温泉非常近，走路到站点只需要15分钟。房间非常别致，床很舒服，但是房间设备整体比较旧了。性价比还不错，也很干净。\n",
      "\n",
      "外表大器的酒店 3分 2015年6月23日的評論\n",
      "\n",
      "飯店的接待大廳是在三樓，所以是依山坡地而建，因為地點離新北投捷運站有點距離，所以有提供接送服務，平時8點至21點每半小時從飯店發車，如果要搭車上酒店則需要與飯店預約。\n",
      "這次入住的是波賽頓客房，也許是溫泉館的關係，浴池跟床同大小空間，進門以後右手邊是單人衣櫃及一個小櫃子(有冰箱)，然後左手邊就是廁所，床緊貼著廁所與浴室的牆壁，宛...\n",
      "\n",
      "\n",
      "更多  \n",
      "\n",
      "\n",
      "\n",
      "很棒的私人溫泉，相當好的酒店 4分 2015年6月20日的評論\n",
      "\n",
      "非常享受我在這裏度過的時光。真的特別喜歡這裏的私人溫泉。事實上，房間里的私人溫泉是唯一真正令人傾倒的。房間小但是舒服的床彌補了這個缺點。早餐還將就。\n",
      "\n",
      "泡溫泉的好選擇 3分 2015年4月26日的評論\n",
      "\n",
      "我們在官網訂購無窗型的房間，房型非常小，有一半是浴室，圓形浴缸很大，泡溫泉很舒服，但狹小的床，對於睡眠品質來說，住一晚的空間有壓迫感，電視的位置也讓人覺得不太方便。\n",
      "另外在等待check in的時間有點久，似乎是房間尚未整理好，我們在大廳等了一段時間才能進房。\n",
      "\n",
      "除房間附獨立温泉的好處外，其餘只屬一般 4分 2015年4月8日的評論\n",
      "\n",
      "位置\n",
      "1. 距離新北投站約15分鐘步程，但位處山腰，如拖着行李，並不方便\n",
      "2. 距離地熱谷約5分鐘步程\n",
      "裝修\n",
      "1. 裝修只屬一般\n",
      "服務\n",
      "1. 職員水平只屬一般，並不專業\n",
      "2. 寄存的行李，只隨意地放在大堂\n",
      "設施\n",
      "1. 設施一般，尚算新淨\n",
      "2. 房間設獨立温泉，非泉方便，但要注滿泉水，需時約20分鐘...\n",
      "\n",
      "\n",
      "更多  \n",
      "\n",
      "\n",
      "\n"
     ]
    }
   ],
   "source": [
    "from bs4 import BeautifulSoup as bs\n",
    "soup = bs(res.text)\n",
    "for review in soup.select('.reviewSelector'):\n",
    "    if len(review.select('.noQuotes')) > 0 :\n",
    "        print review.select('.noQuotes')[0].text, \\\n",
    "              review.select('.rate > img')[0]['alt'], \\\n",
    "              review.select('.ratingDate')[0].get('title', review.select('.ratingDate')[0].text), \\\n",
    "              review.select('.partial_entry')[0].text\n",
    "                \n",
    "    #print review.select('.noQuotes'), review.select('.noQuotes')[0]"
   ]
  },
  {
   "cell_type": "markdown",
   "metadata": {},
   "source": [
    "### pandas demo"
   ]
  },
  {
   "cell_type": "code",
   "execution_count": 110,
   "metadata": {
    "collapsed": false
   },
   "outputs": [
    {
     "data": {
      "text/plain": [
       "0      2\n",
       "1    qoo\n",
       "Name: b, dtype: object"
      ]
     },
     "execution_count": 110,
     "metadata": {},
     "output_type": "execute_result"
    }
   ],
   "source": [
    "import pandas as pd\n",
    "ary = [{'a':1 , 'b':2}, {'a':2, 'b':'qoo'}]\n",
    "df = pd.DataFrame(ary)\n",
    "df.describe()\n",
    "df['b']"
   ]
  },
  {
   "cell_type": "code",
   "execution_count": 111,
   "metadata": {
    "collapsed": false
   },
   "outputs": [
    {
     "name": "stdout",
     "output_type": "stream",
     "text": [
      "[1, 2]\n"
     ]
    }
   ],
   "source": [
    "ary = []\n",
    "ary.append(1)\n",
    "ary.append(2)\n",
    "print ary"
   ]
  },
  {
   "cell_type": "code",
   "execution_count": 132,
   "metadata": {
    "collapsed": true
   },
   "outputs": [],
   "source": [
    "from bs4 import BeautifulSoup as bs\n",
    "soup = bs(res.text)\n",
    "reviews = []\n",
    "for review in soup.select('.reviewSelector'):\n",
    "    if len(review.select('.noQuotes')) > 0 :\n",
    "        quotes = review.select('.noQuotes')[0].text\n",
    "        rating =review.select('.rate > img')[0]['alt']\n",
    "        ratingDate = review.select('.ratingDate')[0].get('title', review.select('.ratingDate')[0].text)\n",
    "        comment = review.select('.partial_entry')[0].text\n",
    "        reviews.append({'quotes':quotes, 'rating':rating, 'ratingDate':ratingDate, 'comment':comment})\n"
   ]
  },
  {
   "cell_type": "code",
   "execution_count": 133,
   "metadata": {
    "collapsed": false
   },
   "outputs": [
    {
     "data": {
      "text/html": [
       "<div>\n",
       "<table border=\"1\" class=\"dataframe\">\n",
       "  <thead>\n",
       "    <tr style=\"text-align: right;\">\n",
       "      <th></th>\n",
       "      <th>comment</th>\n",
       "      <th>quotes</th>\n",
       "      <th>rating</th>\n",
       "      <th>ratingDate</th>\n",
       "    </tr>\n",
       "  </thead>\n",
       "  <tbody>\n",
       "    <tr>\n",
       "      <th>0</th>\n",
       "      <td>\\n服務人員的態度不是很好，部分櫃檯人員臉很臭，詢問時態度不耐，讓人很不舒服，好像客人的詢問...</td>\n",
       "      <td>服務人員態度不佳</td>\n",
       "      <td>2分</td>\n",
       "      <td>2016年3月16日</td>\n",
       "    </tr>\n",
       "    <tr>\n",
       "      <th>1</th>\n",
       "      <td>\\n1. 近地熱谷，新北投車站走上山坡要15分鐘，酒店有接駁車，但需預約\\n2. 家庭房，很...</td>\n",
       "      <td>整體不錯</td>\n",
       "      <td>4分</td>\n",
       "      <td>2016年3月14日</td>\n",
       "    </tr>\n",
       "    <tr>\n",
       "      <th>2</th>\n",
       "      <td>\\n位置較近新北投站，不坐接駁車也可步行，酒店内外裝修新，唯獨房間細小及沒有椅子。房間内温泉...</td>\n",
       "      <td>價格合理</td>\n",
       "      <td>4分</td>\n",
       "      <td>2016年2月17日的評論\\n</td>\n",
       "    </tr>\n",
       "    <tr>\n",
       "      <th>3</th>\n",
       "      <td>\\n北投皇家季節的溫泉區位於台北都會區，交通是比較方便的。酒店沒有停車場，若是開車就得自行在...</td>\n",
       "      <td>泡湯房的空間在大一些就更好了!</td>\n",
       "      <td>4分</td>\n",
       "      <td>2016年1月1日的評論\\n</td>\n",
       "    </tr>\n",
       "    <tr>\n",
       "      <th>4</th>\n",
       "      <td>\\n这家酒店离北投区的温泉非常近，走路到站点只需要15分钟。房间非常别致，床很舒服，但是房间...</td>\n",
       "      <td>房间里有独立温泉</td>\n",
       "      <td>4分</td>\n",
       "      <td>2015年10月24日的評論\\n</td>\n",
       "    </tr>\n",
       "  </tbody>\n",
       "</table>\n",
       "</div>"
      ],
      "text/plain": [
       "                                             comment           quotes rating  \\\n",
       "0  \\n服務人員的態度不是很好，部分櫃檯人員臉很臭，詢問時態度不耐，讓人很不舒服，好像客人的詢問...         服務人員態度不佳     2分   \n",
       "1  \\n1. 近地熱谷，新北投車站走上山坡要15分鐘，酒店有接駁車，但需預約\\n2. 家庭房，很...             整體不錯     4分   \n",
       "2  \\n位置較近新北投站，不坐接駁車也可步行，酒店内外裝修新，唯獨房間細小及沒有椅子。房間内温泉...             價格合理     4分   \n",
       "3  \\n北投皇家季節的溫泉區位於台北都會區，交通是比較方便的。酒店沒有停車場，若是開車就得自行在...  泡湯房的空間在大一些就更好了!     4分   \n",
       "4  \\n这家酒店离北投区的温泉非常近，走路到站点只需要15分钟。房间非常别致，床很舒服，但是房间...         房间里有独立温泉     4分   \n",
       "\n",
       "         ratingDate  \n",
       "0        2016年3月16日  \n",
       "1        2016年3月14日  \n",
       "2   2016年2月17日的評論\\n  \n",
       "3    2016年1月1日的評論\\n  \n",
       "4  2015年10月24日的評論\\n  "
      ]
     },
     "execution_count": 133,
     "metadata": {},
     "output_type": "execute_result"
    }
   ],
   "source": [
    "df = pd.DataFrame(reviews)\n",
    "df.head()"
   ]
  },
  {
   "cell_type": "code",
   "execution_count": 134,
   "metadata": {
    "collapsed": false
   },
   "outputs": [
    {
     "data": {
      "text/plain": [
       "0    2分\n",
       "1    4分\n",
       "2    4分\n",
       "3    4分\n",
       "4    4分\n",
       "5    3分\n",
       "6    4分\n",
       "7    3分\n",
       "8    4分\n",
       "Name: rating, dtype: object"
      ]
     },
     "execution_count": 134,
     "metadata": {},
     "output_type": "execute_result"
    }
   ],
   "source": [
    "df['rating']"
   ]
  },
  {
   "cell_type": "code",
   "execution_count": 135,
   "metadata": {
    "collapsed": false
   },
   "outputs": [
    {
     "name": "stdout",
     "output_type": "stream",
     "text": [
      "          adff                ss s s a        aaa     \n",
      "adff                ss s s a        aaa\n",
      "adff                ss s s a        aaa     \n",
      "          adff                ss s s a        \n"
     ]
    }
   ],
   "source": [
    "s = '          adff                ss s s a        aaa     '\n",
    "print s\n",
    "print s.strip()\n",
    "print s.lstrip()\n",
    "print s.rstrip().rstrip('aaa')"
   ]
  },
  {
   "cell_type": "markdown",
   "metadata": {},
   "source": [
    "### 清除 Rating 旁邊的\"分\""
   ]
  },
  {
   "cell_type": "code",
   "execution_count": 136,
   "metadata": {
    "collapsed": false
   },
   "outputs": [],
   "source": [
    "df['rating'] = df['rating'].map(lambda x: int(x.rstrip('分'.decode('utf-8'))))"
   ]
  },
  {
   "cell_type": "code",
   "execution_count": 137,
   "metadata": {
    "collapsed": false
   },
   "outputs": [
    {
     "data": {
      "text/plain": [
       "3.5555555555555554"
      ]
     },
     "execution_count": 137,
     "metadata": {},
     "output_type": "execute_result"
    }
   ],
   "source": [
    "df.describe()\n",
    "df['rating'].mean()"
   ]
  },
  {
   "cell_type": "code",
   "execution_count": 142,
   "metadata": {
    "collapsed": false
   },
   "outputs": [],
   "source": [
    "df['ratingDate'] = df['ratingDate'].map(lambda x: x.rstrip('\\n').rstrip('的評論'.decode('utf-8')))"
   ]
  },
  {
   "cell_type": "code",
   "execution_count": 143,
   "metadata": {
    "collapsed": false
   },
   "outputs": [
    {
     "data": {
      "text/html": [
       "<div>\n",
       "<table border=\"1\" class=\"dataframe\">\n",
       "  <thead>\n",
       "    <tr style=\"text-align: right;\">\n",
       "      <th></th>\n",
       "      <th>comment</th>\n",
       "      <th>quotes</th>\n",
       "      <th>rating</th>\n",
       "      <th>ratingDate</th>\n",
       "    </tr>\n",
       "  </thead>\n",
       "  <tbody>\n",
       "    <tr>\n",
       "      <th>0</th>\n",
       "      <td>\\n服務人員的態度不是很好，部分櫃檯人員臉很臭，詢問時態度不耐，讓人很不舒服，好像客人的詢問...</td>\n",
       "      <td>服務人員態度不佳</td>\n",
       "      <td>2</td>\n",
       "      <td>2016年3月16日</td>\n",
       "    </tr>\n",
       "    <tr>\n",
       "      <th>1</th>\n",
       "      <td>\\n1. 近地熱谷，新北投車站走上山坡要15分鐘，酒店有接駁車，但需預約\\n2. 家庭房，很...</td>\n",
       "      <td>整體不錯</td>\n",
       "      <td>4</td>\n",
       "      <td>2016年3月14日</td>\n",
       "    </tr>\n",
       "    <tr>\n",
       "      <th>2</th>\n",
       "      <td>\\n位置較近新北投站，不坐接駁車也可步行，酒店内外裝修新，唯獨房間細小及沒有椅子。房間内温泉...</td>\n",
       "      <td>價格合理</td>\n",
       "      <td>4</td>\n",
       "      <td>2016年2月17日</td>\n",
       "    </tr>\n",
       "    <tr>\n",
       "      <th>3</th>\n",
       "      <td>\\n北投皇家季節的溫泉區位於台北都會區，交通是比較方便的。酒店沒有停車場，若是開車就得自行在...</td>\n",
       "      <td>泡湯房的空間在大一些就更好了!</td>\n",
       "      <td>4</td>\n",
       "      <td>2016年1月1日</td>\n",
       "    </tr>\n",
       "    <tr>\n",
       "      <th>4</th>\n",
       "      <td>\\n这家酒店离北投区的温泉非常近，走路到站点只需要15分钟。房间非常别致，床很舒服，但是房间...</td>\n",
       "      <td>房间里有独立温泉</td>\n",
       "      <td>4</td>\n",
       "      <td>2015年10月24日</td>\n",
       "    </tr>\n",
       "  </tbody>\n",
       "</table>\n",
       "</div>"
      ],
      "text/plain": [
       "                                             comment           quotes  rating  \\\n",
       "0  \\n服務人員的態度不是很好，部分櫃檯人員臉很臭，詢問時態度不耐，讓人很不舒服，好像客人的詢問...         服務人員態度不佳       2   \n",
       "1  \\n1. 近地熱谷，新北投車站走上山坡要15分鐘，酒店有接駁車，但需預約\\n2. 家庭房，很...             整體不錯       4   \n",
       "2  \\n位置較近新北投站，不坐接駁車也可步行，酒店内外裝修新，唯獨房間細小及沒有椅子。房間内温泉...             價格合理       4   \n",
       "3  \\n北投皇家季節的溫泉區位於台北都會區，交通是比較方便的。酒店沒有停車場，若是開車就得自行在...  泡湯房的空間在大一些就更好了!       4   \n",
       "4  \\n这家酒店离北投区的温泉非常近，走路到站点只需要15分钟。房间非常别致，床很舒服，但是房间...         房间里有独立温泉       4   \n",
       "\n",
       "    ratingDate  \n",
       "0   2016年3月16日  \n",
       "1   2016年3月14日  \n",
       "2   2016年2月17日  \n",
       "3    2016年1月1日  \n",
       "4  2015年10月24日  "
      ]
     },
     "execution_count": 143,
     "metadata": {},
     "output_type": "execute_result"
    }
   ],
   "source": [
    "df.head()"
   ]
  },
  {
   "cell_type": "code",
   "execution_count": 144,
   "metadata": {
    "collapsed": false
   },
   "outputs": [
    {
     "data": {
      "text/html": [
       "<div>\n",
       "<table border=\"1\" class=\"dataframe\">\n",
       "  <thead>\n",
       "    <tr style=\"text-align: right;\">\n",
       "      <th></th>\n",
       "      <th>comment</th>\n",
       "      <th>quotes</th>\n",
       "      <th>rating</th>\n",
       "      <th>ratingDate</th>\n",
       "    </tr>\n",
       "  </thead>\n",
       "  <tbody>\n",
       "    <tr>\n",
       "      <th>0</th>\n",
       "      <td>服務人員的態度不是很好，部分櫃檯人員臉很臭，詢問時態度不耐，讓人很不舒服，好像客人的詢問造成...</td>\n",
       "      <td>服務人員態度不佳</td>\n",
       "      <td>2</td>\n",
       "      <td>2016年3月16日</td>\n",
       "    </tr>\n",
       "    <tr>\n",
       "      <th>1</th>\n",
       "      <td>1. 近地熱谷，新北投車站走上山坡要15分鐘，酒店有接駁車，但需預約\\n2. 家庭房，很大，...</td>\n",
       "      <td>整體不錯</td>\n",
       "      <td>4</td>\n",
       "      <td>2016年3月14日</td>\n",
       "    </tr>\n",
       "    <tr>\n",
       "      <th>2</th>\n",
       "      <td>位置較近新北投站，不坐接駁車也可步行，酒店内外裝修新，唯獨房間細小及沒有椅子。房間内温泉湯池...</td>\n",
       "      <td>價格合理</td>\n",
       "      <td>4</td>\n",
       "      <td>2016年2月17日</td>\n",
       "    </tr>\n",
       "    <tr>\n",
       "      <th>3</th>\n",
       "      <td>北投皇家季節的溫泉區位於台北都會區，交通是比較方便的。酒店沒有停車場，若是開車就得自行在山路...</td>\n",
       "      <td>泡湯房的空間在大一些就更好了!</td>\n",
       "      <td>4</td>\n",
       "      <td>2016年1月1日</td>\n",
       "    </tr>\n",
       "    <tr>\n",
       "      <th>4</th>\n",
       "      <td>这家酒店离北投区的温泉非常近，走路到站点只需要15分钟。房间非常别致，床很舒服，但是房间设备...</td>\n",
       "      <td>房间里有独立温泉</td>\n",
       "      <td>4</td>\n",
       "      <td>2015年10月24日</td>\n",
       "    </tr>\n",
       "  </tbody>\n",
       "</table>\n",
       "</div>"
      ],
      "text/plain": [
       "                                             comment           quotes  rating  \\\n",
       "0  服務人員的態度不是很好，部分櫃檯人員臉很臭，詢問時態度不耐，讓人很不舒服，好像客人的詢問造成...         服務人員態度不佳       2   \n",
       "1  1. 近地熱谷，新北投車站走上山坡要15分鐘，酒店有接駁車，但需預約\\n2. 家庭房，很大，...             整體不錯       4   \n",
       "2  位置較近新北投站，不坐接駁車也可步行，酒店内外裝修新，唯獨房間細小及沒有椅子。房間内温泉湯池...             價格合理       4   \n",
       "3  北投皇家季節的溫泉區位於台北都會區，交通是比較方便的。酒店沒有停車場，若是開車就得自行在山路...  泡湯房的空間在大一些就更好了!       4   \n",
       "4  这家酒店离北投区的温泉非常近，走路到站点只需要15分钟。房间非常别致，床很舒服，但是房间设备...         房间里有独立温泉       4   \n",
       "\n",
       "    ratingDate  \n",
       "0   2016年3月16日  \n",
       "1   2016年3月14日  \n",
       "2   2016年2月17日  \n",
       "3    2016年1月1日  \n",
       "4  2015年10月24日  "
      ]
     },
     "execution_count": 144,
     "metadata": {},
     "output_type": "execute_result"
    }
   ],
   "source": [
    "df['comment']= df['comment'].map(lambda x: x.strip())\n",
    "df.head()"
   ]
  },
  {
   "cell_type": "code",
   "execution_count": 156,
   "metadata": {
    "collapsed": false
   },
   "outputs": [
    {
     "name": "stdout",
     "output_type": "stream",
     "text": [
      "u'1. \\u8fd1\\u5730\\u71b1\\u8c37\\uff0c\\u65b0\\u5317\\u6295\\u8eca\\u7ad9\\u8d70\\u4e0a\\u5c71\\u5761\\u898115\\u5206\\u9418\\uff0c\\u9152\\u5e97\\u6709\\u63a5\\u99c1\\u8eca\\uff0c\\u4f46\\u9700\\u9810\\u7d04\\n2. \\u5bb6\\u5ead\\u623f\\uff0c\\u5f88\\u5927\\uff0c\\u67094\\u5f35\\u5e8a\\uff0c\\u9817\\u8212\\u9069\\n3. \\u6d74\\u5ba4\\u5f88\\u5927\\uff0c\\u96d9\\u9762\\u76c6\\uff0c\\u6eab\\u6cc9\\u6c602\\u4eba\\u4f7f\\u7528\\u8f03\\u5408\\u9069\\uff0c3\\u4eba\\u5c1a\\u53ef\\uff0c\\u6c34\\u6eab\\u71b1\\u5ea6\\u8db3\\n4. \\u65e9\\u9910\\u6b3e\\u5f0f\\u4e0d\\u591a\\uff0c\\u4e2d\\u5f0f\\u70ba\\u4e3b\\uff0c\\u6c34\\u6e96\\u5c1a\\u53ef\\n5. \\u6cbf\\u9014\\u5317\\u6295\\u5716\\u66f8\\u9928\\u7b49\\u53c3\\u89c0\\u9ede'\n"
     ]
    }
   ],
   "source": [
    "print repr(df['comment'][1])"
   ]
  },
  {
   "cell_type": "code",
   "execution_count": 162,
   "metadata": {
    "collapsed": false
   },
   "outputs": [
    {
     "name": "stdout",
     "output_type": "stream",
     "text": [
      "['1', '2', '3']\n",
      "['qoo', 'oop', 'cpp']\n",
      "['1', '2', '3']\n",
      "123\n",
      "1-2-3\n"
     ]
    }
   ],
   "source": [
    "a  = '         1\\n        2\\n       3\\n'\n",
    "print a.split()\n",
    "b = 'qoo@oop@cpp'\n",
    "print b.split('@')\n",
    "\n",
    "\n",
    "a = ['1', '2', '3']\n",
    "print a\n",
    "print ''.join(a)\n",
    "print '-'.join(a)"
   ]
  },
  {
   "cell_type": "code",
   "execution_count": 166,
   "metadata": {
    "collapsed": false
   },
   "outputs": [
    {
     "name": "stdout",
     "output_type": "stream",
     "text": [
      "1. 近地熱谷，新北投車站走上山坡要15分鐘，酒店有接駁車，但需預約 2. 家庭房，很大，有4張床，頗舒適 3. 浴室很大，雙面盆，溫泉池2人使用較合適，3人尚可，水溫熱度足 4. 早餐款式不多，中式為主，水準尚可 5. 沿途北投圖書館等參觀點\n"
     ]
    }
   ],
   "source": [
    "print ' '.join(df['comment'][1].split())"
   ]
  },
  {
   "cell_type": "code",
   "execution_count": 168,
   "metadata": {
    "collapsed": false
   },
   "outputs": [],
   "source": [
    "df['comment_clean'] = df['comment'].map(lambda x: ''.join(x.split()))"
   ]
  },
  {
   "cell_type": "code",
   "execution_count": 169,
   "metadata": {
    "collapsed": false
   },
   "outputs": [
    {
     "data": {
      "text/html": [
       "<div>\n",
       "<table border=\"1\" class=\"dataframe\">\n",
       "  <thead>\n",
       "    <tr style=\"text-align: right;\">\n",
       "      <th></th>\n",
       "      <th>comment</th>\n",
       "      <th>quotes</th>\n",
       "      <th>rating</th>\n",
       "      <th>ratingDate</th>\n",
       "      <th>comment_clean</th>\n",
       "    </tr>\n",
       "  </thead>\n",
       "  <tbody>\n",
       "    <tr>\n",
       "      <th>0</th>\n",
       "      <td>服務人員的態度不是很好，部分櫃檯人員臉很臭，詢問時態度不耐，讓人很不舒服，好像客人的詢問造成...</td>\n",
       "      <td>服務人員態度不佳</td>\n",
       "      <td>2</td>\n",
       "      <td>2016年3月16日</td>\n",
       "      <td>服務人員的態度不是很好，部分櫃檯人員臉很臭，詢問時態度不耐，讓人很不舒服，好像客人的詢問造成...</td>\n",
       "    </tr>\n",
       "    <tr>\n",
       "      <th>1</th>\n",
       "      <td>1. 近地熱谷，新北投車站走上山坡要15分鐘，酒店有接駁車，但需預約\\n2. 家庭房，很大，...</td>\n",
       "      <td>整體不錯</td>\n",
       "      <td>4</td>\n",
       "      <td>2016年3月14日</td>\n",
       "      <td>1.近地熱谷，新北投車站走上山坡要15分鐘，酒店有接駁車，但需預約2.家庭房，很大，有4張床...</td>\n",
       "    </tr>\n",
       "    <tr>\n",
       "      <th>2</th>\n",
       "      <td>位置較近新北投站，不坐接駁車也可步行，酒店内外裝修新，唯獨房間細小及沒有椅子。房間内温泉湯池...</td>\n",
       "      <td>價格合理</td>\n",
       "      <td>4</td>\n",
       "      <td>2016年2月17日</td>\n",
       "      <td>位置較近新北投站，不坐接駁車也可步行，酒店内外裝修新，唯獨房間細小及沒有椅子。房間内温泉湯池...</td>\n",
       "    </tr>\n",
       "    <tr>\n",
       "      <th>3</th>\n",
       "      <td>北投皇家季節的溫泉區位於台北都會區，交通是比較方便的。酒店沒有停車場，若是開車就得自行在山路...</td>\n",
       "      <td>泡湯房的空間在大一些就更好了!</td>\n",
       "      <td>4</td>\n",
       "      <td>2016年1月1日</td>\n",
       "      <td>北投皇家季節的溫泉區位於台北都會區，交通是比較方便的。酒店沒有停車場，若是開車就得自行在山路...</td>\n",
       "    </tr>\n",
       "    <tr>\n",
       "      <th>4</th>\n",
       "      <td>这家酒店离北投区的温泉非常近，走路到站点只需要15分钟。房间非常别致，床很舒服，但是房间设备...</td>\n",
       "      <td>房间里有独立温泉</td>\n",
       "      <td>4</td>\n",
       "      <td>2015年10月24日</td>\n",
       "      <td>这家酒店离北投区的温泉非常近，走路到站点只需要15分钟。房间非常别致，床很舒服，但是房间设备...</td>\n",
       "    </tr>\n",
       "  </tbody>\n",
       "</table>\n",
       "</div>"
      ],
      "text/plain": [
       "                                             comment           quotes  rating  \\\n",
       "0  服務人員的態度不是很好，部分櫃檯人員臉很臭，詢問時態度不耐，讓人很不舒服，好像客人的詢問造成...         服務人員態度不佳       2   \n",
       "1  1. 近地熱谷，新北投車站走上山坡要15分鐘，酒店有接駁車，但需預約\\n2. 家庭房，很大，...             整體不錯       4   \n",
       "2  位置較近新北投站，不坐接駁車也可步行，酒店内外裝修新，唯獨房間細小及沒有椅子。房間内温泉湯池...             價格合理       4   \n",
       "3  北投皇家季節的溫泉區位於台北都會區，交通是比較方便的。酒店沒有停車場，若是開車就得自行在山路...  泡湯房的空間在大一些就更好了!       4   \n",
       "4  这家酒店离北投区的温泉非常近，走路到站点只需要15分钟。房间非常别致，床很舒服，但是房间设备...         房间里有独立温泉       4   \n",
       "\n",
       "    ratingDate                                      comment_clean  \n",
       "0   2016年3月16日  服務人員的態度不是很好，部分櫃檯人員臉很臭，詢問時態度不耐，讓人很不舒服，好像客人的詢問造成...  \n",
       "1   2016年3月14日  1.近地熱谷，新北投車站走上山坡要15分鐘，酒店有接駁車，但需預約2.家庭房，很大，有4張床...  \n",
       "2   2016年2月17日  位置較近新北投站，不坐接駁車也可步行，酒店内外裝修新，唯獨房間細小及沒有椅子。房間内温泉湯池...  \n",
       "3    2016年1月1日  北投皇家季節的溫泉區位於台北都會區，交通是比較方便的。酒店沒有停車場，若是開車就得自行在山路...  \n",
       "4  2015年10月24日  这家酒店离北投区的温泉非常近，走路到站点只需要15分钟。房间非常别致，床很舒服，但是房间设备...  "
      ]
     },
     "execution_count": 169,
     "metadata": {},
     "output_type": "execute_result"
    }
   ],
   "source": [
    "df.head()"
   ]
  },
  {
   "cell_type": "markdown",
   "metadata": {},
   "source": [
    "### 雄獅旅遊"
   ]
  },
  {
   "cell_type": "code",
   "execution_count": 209,
   "metadata": {
    "collapsed": false
   },
   "outputs": [
    {
     "data": {
      "text/html": [
       "<div>\n",
       "<table border=\"1\" class=\"dataframe\">\n",
       "  <thead>\n",
       "    <tr style=\"text-align: right;\">\n",
       "      <th></th>\n",
       "      <th>EntPrice</th>\n",
       "      <th>PordTur2</th>\n",
       "      <th>Prod</th>\n",
       "      <th>ProdAmt</th>\n",
       "      <th>ProdCname</th>\n",
       "      <th>ProdD8</th>\n",
       "      <th>ProdDays</th>\n",
       "      <th>ProdGo</th>\n",
       "      <th>ProdMax</th>\n",
       "      <th>RegistTour</th>\n",
       "      <th>RowNo</th>\n",
       "      <th>VtotSale</th>\n",
       "      <th>WeekDay</th>\n",
       "    </tr>\n",
       "  </thead>\n",
       "  <tbody>\n",
       "    <tr>\n",
       "      <th>0</th>\n",
       "      <td></td>\n",
       "      <td>16FUJI0407</td>\n",
       "      <td>16JT425BR5</td>\n",
       "      <td></td>\n",
       "      <td>&lt;a href='WebPDsh00.aspx?sProd=16JT425BR5' targ...</td>\n",
       "      <td>2016/04/25</td>\n",
       "      <td>5</td>\n",
       "      <td>True</td>\n",
       "      <td>40</td>\n",
       "      <td>&lt;div class='choose'&gt;關團&lt;/div&gt;</td>\n",
       "      <td>1</td>\n",
       "      <td>0</td>\n",
       "      <td>一</td>\n",
       "    </tr>\n",
       "    <tr>\n",
       "      <th>1</th>\n",
       "      <td>None</td>\n",
       "      <td>SJP05TTNRT</td>\n",
       "      <td>16JT425BRI</td>\n",
       "      <td>&lt;a class='aTourSum' href='WebPdse01_price.aspx...</td>\n",
       "      <td>&lt;a href='WebPDsh00.aspx?sProd=16JT425BRI' targ...</td>\n",
       "      <td>2016/04/25</td>\n",
       "      <td>5</td>\n",
       "      <td>False</td>\n",
       "      <td>26</td>\n",
       "      <td>&lt;div class='choose'&gt;&lt;a class='PostOrder' data-...</td>\n",
       "      <td>2</td>\n",
       "      <td>0</td>\n",
       "      <td>一</td>\n",
       "    </tr>\n",
       "    <tr>\n",
       "      <th>2</th>\n",
       "      <td>None</td>\n",
       "      <td>SJP05NRT5C</td>\n",
       "      <td>16JT426CIA</td>\n",
       "      <td>&lt;a class='aTourSum' href='WebPdse01_price.aspx...</td>\n",
       "      <td>&lt;a href='WebPDsh00.aspx?sProd=16JT426CIA' targ...</td>\n",
       "      <td>2016/04/26</td>\n",
       "      <td>5</td>\n",
       "      <td>False</td>\n",
       "      <td>20</td>\n",
       "      <td>&lt;div class='choose'&gt;&lt;a class='PostOrder' data-...</td>\n",
       "      <td>3</td>\n",
       "      <td>0</td>\n",
       "      <td>二</td>\n",
       "    </tr>\n",
       "    <tr>\n",
       "      <th>3</th>\n",
       "      <td>None</td>\n",
       "      <td>SJP05FSZ02</td>\n",
       "      <td>16JT426CIM</td>\n",
       "      <td>&lt;a class='aTourSum' href='WebPdse01_price.aspx...</td>\n",
       "      <td>&lt;a href='WebPDsh00.aspx?sProd=16JT426CIM' targ...</td>\n",
       "      <td>2016/04/26</td>\n",
       "      <td>5</td>\n",
       "      <td>False</td>\n",
       "      <td>28</td>\n",
       "      <td>&lt;div class='choose'&gt;&lt;a class='PostOrder' data-...</td>\n",
       "      <td>4</td>\n",
       "      <td>21</td>\n",
       "      <td>二</td>\n",
       "    </tr>\n",
       "    <tr>\n",
       "      <th>4</th>\n",
       "      <td>None</td>\n",
       "      <td>SJP05NRTSJ</td>\n",
       "      <td>16JT426TZF</td>\n",
       "      <td>&lt;a class='aTourSum' href='WebPdse01_price.aspx...</td>\n",
       "      <td>&lt;a href='WebPDsh00.aspx?sProd=16JT426TZF' targ...</td>\n",
       "      <td>2016/04/26</td>\n",
       "      <td>5</td>\n",
       "      <td>False</td>\n",
       "      <td>25</td>\n",
       "      <td>&lt;div class='choose'&gt;&lt;a class='PostOrder' data-...</td>\n",
       "      <td>5</td>\n",
       "      <td>0</td>\n",
       "      <td>二</td>\n",
       "    </tr>\n",
       "  </tbody>\n",
       "</table>\n",
       "</div>"
      ],
      "text/plain": [
       "  EntPrice    PordTur2        Prod  \\\n",
       "0           16FUJI0407  16JT425BR5   \n",
       "1     None  SJP05TTNRT  16JT425BRI   \n",
       "2     None  SJP05NRT5C  16JT426CIA   \n",
       "3     None  SJP05FSZ02  16JT426CIM   \n",
       "4     None  SJP05NRTSJ  16JT426TZF   \n",
       "\n",
       "                                             ProdAmt  \\\n",
       "0                                                      \n",
       "1  <a class='aTourSum' href='WebPdse01_price.aspx...   \n",
       "2  <a class='aTourSum' href='WebPdse01_price.aspx...   \n",
       "3  <a class='aTourSum' href='WebPdse01_price.aspx...   \n",
       "4  <a class='aTourSum' href='WebPdse01_price.aspx...   \n",
       "\n",
       "                                           ProdCname      ProdD8 ProdDays  \\\n",
       "0  <a href='WebPDsh00.aspx?sProd=16JT425BR5' targ...  2016/04/25        5   \n",
       "1  <a href='WebPDsh00.aspx?sProd=16JT425BRI' targ...  2016/04/25        5   \n",
       "2  <a href='WebPDsh00.aspx?sProd=16JT426CIA' targ...  2016/04/26        5   \n",
       "3  <a href='WebPDsh00.aspx?sProd=16JT426CIM' targ...  2016/04/26        5   \n",
       "4  <a href='WebPDsh00.aspx?sProd=16JT426TZF' targ...  2016/04/26        5   \n",
       "\n",
       "  ProdGo ProdMax                                         RegistTour RowNo  \\\n",
       "0   True      40                       <div class='choose'>關團</div>     1   \n",
       "1  False      26  <div class='choose'><a class='PostOrder' data-...     2   \n",
       "2  False      20  <div class='choose'><a class='PostOrder' data-...     3   \n",
       "3  False      28  <div class='choose'><a class='PostOrder' data-...     4   \n",
       "4  False      25  <div class='choose'><a class='PostOrder' data-...     5   \n",
       "\n",
       "  VtotSale WeekDay  \n",
       "0        0       一  \n",
       "1        0       一  \n",
       "2        0       二  \n",
       "3       21       二  \n",
       "4        0       二  "
      ]
     },
     "execution_count": 209,
     "metadata": {},
     "output_type": "execute_result"
    }
   ],
   "source": [
    "import requests\n",
    "import json\n",
    "payload = {\"sCity\":\"TPE\",\"sLine\":\"6,A\",\"sLine1\":\"6\",\"sLine2\":\"A\",\"sTravel\":\"A\",\"sWebarea\":\"A1\",\"sKeyWord\":\"\",\"sFdate\":\"20160425\",\"sTdate\":\"20160510\",\"sDays\":\"0,99\",\"sAmt\":\"\",\"sPsubject\":\"\",\"sProd\":\"\",\"sProdcomp\":\"\",\"sOrder\":\"date\",\"sTravelArea\":\"\",\"exa\":\"\",\"sFromAction\":\"NEW\",\"sProdGo\":\"0\",\"sPageIndex\":1,\"sPageSize\":40,\"sWeekday\":[],\"sPriceRange\":[],\"sTravelKind\":[],\"sUnPrice\":\"\",\"sTemplate\":\"\",\"sAgentOnly\":\"\"}\n",
    "res = requests.post('http://www.liontravel.com/webpd/webpdse01.aspx/getdata', json = payload)\n",
    "jd = json.loads(res.text)\n",
    "jds = json.loads(jd.get('d'))\n",
    "#print type(jds['Grid'])\n",
    "df2 = pd.DataFrame(jds['Grid'])\n",
    "df2.head()"
   ]
  },
  {
   "cell_type": "code",
   "execution_count": 5,
   "metadata": {
    "collapsed": false
   },
   "outputs": [],
   "source": [
    "import requests\n",
    "import pandas as pd\n",
    "#pip install html5lib\n",
    "res = requests.get('http://www.twse.com.tw/ch/trading/fund/BFI82U/BFI82U.php')\n",
    "res.encoding = 'big5'\n",
    "dfs = pd.read_html(res.text)"
   ]
  },
  {
   "cell_type": "code",
   "execution_count": 20,
   "metadata": {
    "collapsed": false
   },
   "outputs": [
    {
     "data": {
      "text/html": [
       "<div>\n",
       "<table border=\"1\" class=\"dataframe\">\n",
       "  <thead>\n",
       "    <tr style=\"text-align: right;\">\n",
       "      <th></th>\n",
       "      <th>0</th>\n",
       "      <th>1</th>\n",
       "      <th>2</th>\n",
       "      <th>3</th>\n",
       "    </tr>\n",
       "  </thead>\n",
       "  <tbody>\n",
       "    <tr>\n",
       "      <th>0</th>\n",
       "      <td>105年04月08日  三大法人買賣金額統計表(元)</td>\n",
       "      <td>NaN</td>\n",
       "      <td>NaN</td>\n",
       "      <td>NaN</td>\n",
       "    </tr>\n",
       "    <tr>\n",
       "      <th>1</th>\n",
       "      <td>單位名稱</td>\n",
       "      <td>買進金額</td>\n",
       "      <td>賣出金額</td>\n",
       "      <td>買賣差額</td>\n",
       "    </tr>\n",
       "    <tr>\n",
       "      <th>2</th>\n",
       "      <td>自營商(自行買賣)</td>\n",
       "      <td>901876689</td>\n",
       "      <td>945515619</td>\n",
       "      <td>-43638930</td>\n",
       "    </tr>\n",
       "    <tr>\n",
       "      <th>3</th>\n",
       "      <td>自營商(避險)</td>\n",
       "      <td>3871719700</td>\n",
       "      <td>5130198333</td>\n",
       "      <td>-1258478633</td>\n",
       "    </tr>\n",
       "    <tr>\n",
       "      <th>4</th>\n",
       "      <td>投信</td>\n",
       "      <td>730412180</td>\n",
       "      <td>1579492532</td>\n",
       "      <td>-849080352</td>\n",
       "    </tr>\n",
       "    <tr>\n",
       "      <th>5</th>\n",
       "      <td>外資及陸資</td>\n",
       "      <td>26213991233</td>\n",
       "      <td>26889608584</td>\n",
       "      <td>-675617351</td>\n",
       "    </tr>\n",
       "    <tr>\n",
       "      <th>6</th>\n",
       "      <td>合計</td>\n",
       "      <td>31717999802</td>\n",
       "      <td>34544815068</td>\n",
       "      <td>-2826815266</td>\n",
       "    </tr>\n",
       "  </tbody>\n",
       "</table>\n",
       "</div>"
      ],
      "text/plain": [
       "                            0            1            2            3\n",
       "0  105年04月08日  三大法人買賣金額統計表(元)          NaN          NaN          NaN\n",
       "1                        單位名稱         買進金額         賣出金額         買賣差額\n",
       "2                   自營商(自行買賣)    901876689    945515619    -43638930\n",
       "3                     自營商(避險)   3871719700   5130198333  -1258478633\n",
       "4                          投信    730412180   1579492532   -849080352\n",
       "5                       外資及陸資  26213991233  26889608584   -675617351\n",
       "6                          合計  31717999802  34544815068  -2826815266"
      ]
     },
     "execution_count": 20,
     "metadata": {},
     "output_type": "execute_result"
    }
   ],
   "source": [
    "df = dfs[7]\n",
    "df.iloc(1)\n",
    "df"
   ]
  },
  {
   "cell_type": "code",
   "execution_count": 175,
   "metadata": {
    "collapsed": false
   },
   "outputs": [
    {
     "ename": "SyntaxError",
     "evalue": "invalid syntax (<ipython-input-175-5a36dca8bede>, line 2)",
     "output_type": "error",
     "traceback": [
      "\u001b[1;36m  File \u001b[1;32m\"<ipython-input-175-5a36dca8bede>\"\u001b[1;36m, line \u001b[1;32m2\u001b[0m\n\u001b[1;33m    <employee>\u001b[0m\n\u001b[1;37m    ^\u001b[0m\n\u001b[1;31mSyntaxError\u001b[0m\u001b[1;31m:\u001b[0m invalid syntax\n"
     ]
    }
   ],
   "source": [
    "#### XML\n",
    "<employee>\n",
    "    <name> mike </name>\n",
    "    <height> 177 </height>\n",
    "</employee>\n",
    "\n",
    "### JSON\n",
    "{employee:{name:mike, height:177}}"
   ]
  },
  {
   "cell_type": "code",
   "execution_count": 28,
   "metadata": {
    "collapsed": false
   },
   "outputs": [
    {
     "name": "stdout",
     "output_type": "stream",
     "text": [
      "c\n",
      "c\n",
      "A\n"
     ]
    }
   ],
   "source": [
    "a = 'c'\n",
    "a == 'c'\n",
    "\n",
    "import re\n",
    "m = re.match('[abcdefghijklmnopqrstuvwxyz]', a)\n",
    "print m.group(0)\n",
    "\n",
    "m = re.match('[a-z]', a)\n",
    "print m.group(0)\n",
    "\n",
    "b = 'A'\n",
    "m = re.match('[a-z]', b)\n",
    "#print m.group(0)\n",
    "\n",
    "b = 'A'\n",
    "m = re.match('[a-zA-Z]', b)\n",
    "print m.group(0)\n",
    "\n",
    "\n",
    "m = re.match('\\w', b) #[a-zA-Z0-9]\n",
    "print m.group(0)"
   ]
  },
  {
   "cell_type": "code",
   "execution_count": 32,
   "metadata": {
    "collapsed": false
   },
   "outputs": [
    {
     "name": "stdout",
     "output_type": "stream",
     "text": [
      "6\n",
      "6\n",
      "6\n"
     ]
    }
   ],
   "source": [
    "a = '6'\n",
    "import re\n",
    "m = re.match('[0123456789]', a)\n",
    "print m.group(0)\n",
    "\n",
    "m = re.match('[0-9]', a)\n",
    "print m.group(0)\n",
    "\n",
    "m = re.match('\\d', a)\n",
    "print m.group(0)"
   ]
  },
  {
   "cell_type": "code",
   "execution_count": 38,
   "metadata": {
    "collapsed": false
   },
   "outputs": [
    {
     "name": "stdout",
     "output_type": "stream",
     "text": [
      "0912345678\n",
      "0912345678\n",
      "1230\n",
      "0424\n",
      "0912345678\n",
      "1230\n",
      "0424\n",
      "0912345678\n",
      "1230\n",
      "0424\n",
      "0912345678\n",
      "1230\n",
      "0424\n"
     ]
    }
   ],
   "source": [
    "phones = ['0912345678', '1230', '0424']\n",
    "# match item with digit between 8 to 12\n",
    "for phone in phones:\n",
    "    m = re.match('[0-9]{8,12}', phone)\n",
    "    if m: \n",
    "        print m.group(0)\n",
    "\n",
    "# match more than one\n",
    "for phone in phones:\n",
    "    m = re.match('[0-9]{1,}', phone)\n",
    "    if m: \n",
    "        print m.group(0)\n",
    "        \n",
    "for phone in phones:\n",
    "    m = re.match('[0-9]+', phone)\n",
    "    if m: \n",
    "        print m.group(0)\n",
    "        \n",
    "# match >= zero        \n",
    "for phone in phones:\n",
    "    m = re.match('[0-9]{0,}', phone)\n",
    "    if m: \n",
    "        print m.group(0)\n",
    "        \n",
    "for phone in phones:\n",
    "    m = re.match('[0-9]*', phone)\n",
    "    if m: \n",
    "        print m.group(0)"
   ]
  },
  {
   "cell_type": "code",
   "execution_count": 43,
   "metadata": {
    "collapsed": false
   },
   "outputs": [
    {
     "name": "stdout",
     "output_type": "stream",
     "text": [
      "0912345678 0912 0912\n",
      "0912345678 0912-345-678 0912-345678\n"
     ]
    }
   ],
   "source": [
    "phones = ['0912345678', '0912-345-678', '0912-345678']\n",
    "\n",
    "for phone in phones:\n",
    "    m = re.match('[0-9]+', phone)\n",
    "    if m: \n",
    "        print m.group(0),\n",
    "print \n",
    "for phone in phones:\n",
    "    m = re.match('\\d{4}-{0,1}\\d{3}-{0,1}\\d{3}', phone)\n",
    "    if m: \n",
    "        print m.group(0),\n",
    "\n",
    "print \n",
    "for phone in phones:\n",
    "    m = re.match('\\d{4}-?\\d{3}-?\\d{3}', phone) # ? - > {0, 1}\n",
    "    if m: \n",
    "        print m.group(0),"
   ]
  },
  {
   "cell_type": "code",
   "execution_count": 45,
   "metadata": {
    "collapsed": false
   },
   "outputs": [
    {
     "name": "stdout",
     "output_type": "stream",
     "text": [
      "0912345678 0912-345-678 0912-345678\n"
     ]
    }
   ],
   "source": [
    "phones = ['0912345678', '0912-345-678', '0912-345678', '091231231238193810313123', '020911122222']\n",
    "for phone in phones:\n",
    "    m = re.match('^09\\d{2}-?\\d{3}-?\\d{3}$', phone) \n",
    "    if m: \n",
    "        print m.group(0),"
   ]
  },
  {
   "cell_type": "code",
   "execution_count": 47,
   "metadata": {
    "collapsed": false
   },
   "outputs": [
    {
     "name": "stdout",
     "output_type": "stream",
     "text": [
      "('david', 'numerinfo')\n",
      "('david', 'numerinfo.com')\n",
      "('1999', '5')\n",
      "David Chiu\n",
      "file.txt root 10.0.0.1 ./\n"
     ]
    }
   ],
   "source": [
    "#正規表達式\n",
    "import re \n",
    "m = re.match(r\"(\\w+)@(\\w+)\", \"david@numerinfo.com\") \n",
    "print m.groups()\n",
    " \n",
    "m = re.match(r\"(\\w+)@([a-z.]+)\", \"david@numerinfo.com\") \n",
    "print m.groups() \n",
    "\n",
    "m = re.match(r\"(\\d+)\\.(\\d+)\", \"1999.5\") \n",
    "print m.groups() \n",
    "\n",
    "m = re.match(r\"(?P<first_name>\\w+) (?P<last_name>\\w+)\", \"David Chiu\") \n",
    "print m.group('first_name'), m.group('last_name')\n",
    " \n",
    "str1 = 'scp file.txt root@10.0.0.1:./' \n",
    "m=re.search('^scp ([\\w\\.]+) (\\w+)@([\\w\\.]+):(.+)',str1) \n",
    "if m: \n",
    "    print m.group(1), m.group(2), m.group(3), m.group(4)"
   ]
  },
  {
   "cell_type": "code",
   "execution_count": 50,
   "metadata": {
    "collapsed": false
   },
   "outputs": [],
   "source": [
    "import requests\n",
    "import re\n",
    "res = requests.get('https://www.tripadvisor.com.tw/Hotel_Review-g293913-d1448765-Reviews-Royal_Seasons_Hotel_Hot_Spring_Beitou-Taipei.html')\n",
    "m = re.search('injShowReviewBlock\\(\\'(\\d+)\\', \\'rblock\\', 0, false\\);' , res.text)\n",
    "reviewid = m.group(1)"
   ]
  },
  {
   "cell_type": "code",
   "execution_count": 51,
   "metadata": {
    "collapsed": false
   },
   "outputs": [],
   "source": [
    "m = re.search('locId: (\\d+),' , res.text)\n",
    "locid =  m.group(1)"
   ]
  },
  {
   "cell_type": "code",
   "execution_count": 54,
   "metadata": {
    "collapsed": false
   },
   "outputs": [],
   "source": [
    "url = 'https://www.tripadvisor.com.tw/UserReviewController?a=rblock&r={}&type=0&tr=false&d={}'\n",
    "res = requests.get(url.format(reviewid,locid))\n",
    "#print res.text"
   ]
  },
  {
   "cell_type": "markdown",
   "metadata": {},
   "source": [
    "### 抽取展開評論"
   ]
  },
  {
   "cell_type": "code",
   "execution_count": 55,
   "metadata": {
    "collapsed": true
   },
   "outputs": [],
   "source": [
    "#https://www.tripadvisor.com.tw/ExpandedUserReviews-g293913-d1448765?\n",
    "#    target=282289363&context=1&\n",
    "#    reviews=282289363,305947335,267945322,267817921,264375419\n",
    "#    &servlet=Hotel_Review&expand=1"
   ]
  },
  {
   "cell_type": "code",
   "execution_count": 67,
   "metadata": {
    "collapsed": false
   },
   "outputs": [
    {
     "name": "stdout",
     "output_type": "stream",
     "text": [
      "123|555|111|99\n"
     ]
    }
   ],
   "source": [
    "a = '123,555,111,99' \n",
    "ary = a.split(',') \n",
    "print '|'.join(ary)\n"
   ]
  },
  {
   "cell_type": "code",
   "execution_count": 69,
   "metadata": {
    "collapsed": false
   },
   "outputs": [
    {
     "name": "stdout",
     "output_type": "stream",
     "text": [
      "['356053003', '355244357', '348335947', '336397414', '324677242', '282289363', '305947335', '267945322', '267817921', '264375419']\n"
     ]
    }
   ],
   "source": [
    "from bs4 import BeautifulSoup as bs\n",
    "url = 'https://www.tripadvisor.com.tw/Hotel_Review-g293913-d1448765-Reviews-Royal_Seasons_Hotel_Hot_Spring_Beitou-Taipei.html'\n",
    "res = requests.get(url)\n",
    "\n",
    "\n",
    "review_list = []\n",
    "soup = bs(res.text)\n",
    "for review in soup.select('.reviewSelector'):\n",
    "    review_list.append(review['id'].lstrip('review_'))\n",
    "print review_list\n",
    "review_str = ','.join(review_list)"
   ]
  },
  {
   "cell_type": "code",
   "execution_count": 75,
   "metadata": {
    "collapsed": false
   },
   "outputs": [
    {
     "name": "stdout",
     "output_type": "stream",
     "text": [
      "hi , my name is david, i am 32 years old\n",
      "hi , my name is david, i am 32 years old\n"
     ]
    }
   ],
   "source": [
    "name = 'david'\n",
    "age = \"32\"\n",
    "print \"hi , my name is \" + name + \", i am \" + age + \" years old\"\n",
    "print \"hi , my name is {}, i am {} years old\".format(name, age)"
   ]
  },
  {
   "cell_type": "code",
   "execution_count": 93,
   "metadata": {
    "collapsed": false
   },
   "outputs": [],
   "source": [
    "url = 'https://www.tripadvisor.com.tw/ExpandedUserReviews-g293913-d1448765?target={}&context=1&reviews={}&servlet=Hotel_Review&expand=1'\n",
    "review_url = url.format(review_str.split(',')[0], review_str)\n",
    "res = requests.get(review_url)\n",
    "\n",
    "\n",
    "review_entry = []\n",
    "soup = bs(res.text)\n",
    "for review in soup.select('.extended'):\n",
    "    quotes = review.select('.noQuotes')[0].text \n",
    "    rating = review.select('.rate > img')[0]['alt']\n",
    "    ratingdate =  review.select('.ratingDate')[0].get('title', review.select('.ratingDate')[0].text)\n",
    "    ratingdate = ratingdate.strip().rstrip('的評論'.decode('utf-8'))\n",
    "    ratingdate =  datetime.strptime(ratingdate.encode('utf-8'), '%Y年%m月%d日')\n",
    "    comment =review.select('.entry')[0].text\n",
    "    review_entry.append({'quotes': quotes, 'rating':rating, 'ratindate':ratingdate, 'comment':comment})\n"
   ]
  },
  {
   "cell_type": "code",
   "execution_count": 94,
   "metadata": {
    "collapsed": false
   },
   "outputs": [
    {
     "data": {
      "text/html": [
       "<div>\n",
       "<table border=\"1\" class=\"dataframe\">\n",
       "  <thead>\n",
       "    <tr style=\"text-align: right;\">\n",
       "      <th></th>\n",
       "      <th>comment</th>\n",
       "      <th>quotes</th>\n",
       "      <th>ratindate</th>\n",
       "      <th>rating</th>\n",
       "    </tr>\n",
       "  </thead>\n",
       "  <tbody>\n",
       "    <tr>\n",
       "      <th>0</th>\n",
       "      <td>\\n\\n服務人員的態度不是很好，部分櫃檯人員臉很臭，詢問時態度不耐，讓人很不舒服，好像客人的...</td>\n",
       "      <td>服務人員態度不佳</td>\n",
       "      <td>2016-03-16</td>\n",
       "      <td>2分</td>\n",
       "    </tr>\n",
       "    <tr>\n",
       "      <th>1</th>\n",
       "      <td>\\n\\n1. 近地熱谷，新北投車站走上山坡要15分鐘，酒店有接駁車，但需預約2. 家庭房，很...</td>\n",
       "      <td>整體不錯</td>\n",
       "      <td>2016-03-14</td>\n",
       "      <td>4分</td>\n",
       "    </tr>\n",
       "    <tr>\n",
       "      <th>2</th>\n",
       "      <td>\\n\\n位置較近新北投站，不坐接駁車也可步行，酒店内外裝修新，唯獨房間細小及沒有椅子。房間内...</td>\n",
       "      <td>價格合理</td>\n",
       "      <td>2016-02-17</td>\n",
       "      <td>4分</td>\n",
       "    </tr>\n",
       "    <tr>\n",
       "      <th>3</th>\n",
       "      <td>\\n\\n北投皇家季節的溫泉區位於台北都會區，交通是比較方便的。酒店沒有停車場，若是開車就得自...</td>\n",
       "      <td>泡湯房的空間在大一些就更好了!</td>\n",
       "      <td>2016-01-01</td>\n",
       "      <td>4分</td>\n",
       "    </tr>\n",
       "    <tr>\n",
       "      <th>4</th>\n",
       "      <td>\\n\\n这家酒店离北投区的温泉非常近，走路到站点只需要15分钟。房间非常别致，床很舒服，但是...</td>\n",
       "      <td>房间里有独立温泉</td>\n",
       "      <td>2015-10-24</td>\n",
       "      <td>4分</td>\n",
       "    </tr>\n",
       "  </tbody>\n",
       "</table>\n",
       "</div>"
      ],
      "text/plain": [
       "                                             comment           quotes  \\\n",
       "0  \\n\\n服務人員的態度不是很好，部分櫃檯人員臉很臭，詢問時態度不耐，讓人很不舒服，好像客人的...         服務人員態度不佳   \n",
       "1  \\n\\n1. 近地熱谷，新北投車站走上山坡要15分鐘，酒店有接駁車，但需預約2. 家庭房，很...             整體不錯   \n",
       "2  \\n\\n位置較近新北投站，不坐接駁車也可步行，酒店内外裝修新，唯獨房間細小及沒有椅子。房間内...             價格合理   \n",
       "3  \\n\\n北投皇家季節的溫泉區位於台北都會區，交通是比較方便的。酒店沒有停車場，若是開車就得自...  泡湯房的空間在大一些就更好了!   \n",
       "4  \\n\\n这家酒店离北投区的温泉非常近，走路到站点只需要15分钟。房间非常别致，床很舒服，但是...         房间里有独立温泉   \n",
       "\n",
       "   ratindate rating  \n",
       "0 2016-03-16     2分  \n",
       "1 2016-03-14     4分  \n",
       "2 2016-02-17     4分  \n",
       "3 2016-01-01     4分  \n",
       "4 2015-10-24     4分  "
      ]
     },
     "execution_count": 94,
     "metadata": {},
     "output_type": "execute_result"
    }
   ],
   "source": [
    "import pandas as pd\n",
    "df = pd.DataFrame(review_entry)\n",
    "df.head()"
   ]
  },
  {
   "cell_type": "code",
   "execution_count": 96,
   "metadata": {
    "collapsed": false,
    "scrolled": true
   },
   "outputs": [
    {
     "data": {
      "text/html": [
       "<div>\n",
       "<table border=\"1\" class=\"dataframe\">\n",
       "  <thead>\n",
       "    <tr style=\"text-align: right;\">\n",
       "      <th></th>\n",
       "      <th>comment</th>\n",
       "      <th>quotes</th>\n",
       "      <th>ratindate</th>\n",
       "      <th>rating</th>\n",
       "    </tr>\n",
       "  </thead>\n",
       "  <tbody>\n",
       "    <tr>\n",
       "      <th>0</th>\n",
       "      <td>\\n\\n服務人員的態度不是很好，部分櫃檯人員臉很臭，詢問時態度不耐，讓人很不舒服，好像客人的...</td>\n",
       "      <td>服務人員態度不佳</td>\n",
       "      <td>2016-03-16</td>\n",
       "      <td>2分</td>\n",
       "    </tr>\n",
       "    <tr>\n",
       "      <th>1</th>\n",
       "      <td>\\n\\n1. 近地熱谷，新北投車站走上山坡要15分鐘，酒店有接駁車，但需預約2. 家庭房，很...</td>\n",
       "      <td>整體不錯</td>\n",
       "      <td>2016-03-14</td>\n",
       "      <td>4分</td>\n",
       "    </tr>\n",
       "    <tr>\n",
       "      <th>2</th>\n",
       "      <td>\\n\\n位置較近新北投站，不坐接駁車也可步行，酒店内外裝修新，唯獨房間細小及沒有椅子。房間内...</td>\n",
       "      <td>價格合理</td>\n",
       "      <td>2016-02-17</td>\n",
       "      <td>4分</td>\n",
       "    </tr>\n",
       "    <tr>\n",
       "      <th>3</th>\n",
       "      <td>\\n\\n北投皇家季節的溫泉區位於台北都會區，交通是比較方便的。酒店沒有停車場，若是開車就得自...</td>\n",
       "      <td>泡湯房的空間在大一些就更好了!</td>\n",
       "      <td>2016-01-01</td>\n",
       "      <td>4分</td>\n",
       "    </tr>\n",
       "  </tbody>\n",
       "</table>\n",
       "</div>"
      ],
      "text/plain": [
       "                                             comment           quotes  \\\n",
       "0  \\n\\n服務人員的態度不是很好，部分櫃檯人員臉很臭，詢問時態度不耐，讓人很不舒服，好像客人的...         服務人員態度不佳   \n",
       "1  \\n\\n1. 近地熱谷，新北投車站走上山坡要15分鐘，酒店有接駁車，但需預約2. 家庭房，很...             整體不錯   \n",
       "2  \\n\\n位置較近新北投站，不坐接駁車也可步行，酒店内外裝修新，唯獨房間細小及沒有椅子。房間内...             價格合理   \n",
       "3  \\n\\n北投皇家季節的溫泉區位於台北都會區，交通是比較方便的。酒店沒有停車場，若是開車就得自...  泡湯房的空間在大一些就更好了!   \n",
       "\n",
       "   ratindate rating  \n",
       "0 2016-03-16     2分  \n",
       "1 2016-03-14     4分  \n",
       "2 2016-02-17     4分  \n",
       "3 2016-01-01     4分  "
      ]
     },
     "execution_count": 96,
     "metadata": {},
     "output_type": "execute_result"
    }
   ],
   "source": [
    "df[df['ratindate'] >= '2016-01-01']"
   ]
  },
  {
   "cell_type": "code",
   "execution_count": 87,
   "metadata": {
    "collapsed": false
   },
   "outputs": [
    {
     "data": {
      "text/plain": [
       "datetime.datetime(2016, 3, 16, 0, 0)"
      ]
     },
     "execution_count": 87,
     "metadata": {},
     "output_type": "execute_result"
    }
   ],
   "source": [
    "a  = '2016年3月16日'\n",
    "from datetime import datetime\n",
    "datetime.strptime('2016年3月16日', '%Y年%m月%d日')"
   ]
  },
  {
   "cell_type": "code",
   "execution_count": null,
   "metadata": {
    "collapsed": true
   },
   "outputs": [],
   "source": [
    "import requests\n",
    "import re\n",
    "res = requests.get('https://www.tripadvisor.com.tw/Hotel_Review-g293913-d1448765-Reviews-Royal_Seasons_Hotel_Hot_Spring_Beitou-Taipei.html')\n",
    "print res.text"
   ]
  }
 ],
 "metadata": {
  "kernelspec": {
   "display_name": "Python 2",
   "language": "python",
   "name": "python2"
  },
  "language_info": {
   "codemirror_mode": {
    "name": "ipython",
    "version": 2
   },
   "file_extension": ".py",
   "mimetype": "text/x-python",
   "name": "python",
   "nbconvert_exporter": "python",
   "pygments_lexer": "ipython2",
   "version": "2.7.11"
  }
 },
 "nbformat": 4,
 "nbformat_minor": 0
}
