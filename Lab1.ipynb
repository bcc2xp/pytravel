{
 "cells": [
  {
   "cell_type": "code",
   "execution_count": 2,
   "metadata": {
    "collapsed": false
   },
   "outputs": [],
   "source": [
    "import requests\n",
    "from bs4 import BeautifulSoup as bs\n",
    "res = requests.get('https://www.tripadvisor.com.tw/Hotels-g293913-Taipei-Hotels.html')\n",
    "soup = bs(res.text)\n"
   ]
  },
  {
   "cell_type": "code",
   "execution_count": 161,
   "metadata": {
    "collapsed": false,
    "scrolled": false
   },
   "outputs": [
    {
     "name": "stdout",
     "output_type": "stream",
     "text": [
      "\n"
     ]
    }
   ],
   "source": [
    "payload = {\n",
    "'seen':'0',\n",
    "'sequence':'1',\n",
    "'geo':'293913',\n",
    "'staydates':'2016_04_09_2016_04_23',\n",
    "'adults':'2',\n",
    "'rooms':'1',\n",
    "'searchAll':'false',\n",
    "'requestingServlet':'Hotels',\n",
    "'refineForm':'true',\n",
    "'isFirstPageLoad':'false',\n",
    "'rad':'0',\n",
    "'dateBumped':'NONE',\n",
    "'scid':'2354947,306447|2288011,7840139|2474845,1411424|2492762,1797213|1887821,1372927',\n",
    "'displayedSortOrder':'recommended'\n",
    "}\n",
    "res = requests.post('https://www.tripadvisor.com.tw/Hotels', data=payload)\n",
    "#print res.text\n"
   ]
  },
  {
   "cell_type": "code",
   "execution_count": 162,
   "metadata": {
    "collapsed": false
   },
   "outputs": [],
   "source": [
    "import requests\n",
    "res = requests.get('https://www.tripadvisor.com.tw/Hotel_Review-g293913-d1448765-Reviews-Royal_Seasons_Hotel_Hot_Spring_Beitou-Taipei.html')\n",
    "#print res.text"
   ]
  },
  {
   "cell_type": "code",
   "execution_count": 163,
   "metadata": {
    "collapsed": false,
    "scrolled": true
   },
   "outputs": [
    {
     "name": "stdout",
     "output_type": "stream",
     "text": [
      "服務人員態度不佳 2分 2016年3月16日 \n",
      "服務人員的態度不是很好，部分櫃檯人員臉很臭，詢問時態度不耐，讓人很不舒服，好像客人的詢問造成他多大的不方便一樣，早餐的選擇少得可憐，這是可惜之處。\n",
      "\n",
      "整體不錯 4分 2016年3月14日 \n",
      "1. 近地熱谷，新北投車站走上山坡要15分鐘，酒店有接駁車，但需預約\n",
      "2. 家庭房，很大，有4張床，頗舒適\n",
      "3. 浴室很大，雙面盆，溫泉池2人使用較合適，3人尚可，水溫熱度足\n",
      "4. 早餐款式不多，中式為主，水準尚可\n",
      "5. 沿途北投圖書館等參觀點\n",
      "\n",
      "價格合理 4分"
     ]
    },
    {
     "ename": "KeyError",
     "evalue": "'title'",
     "output_type": "error",
     "traceback": [
      "\u001b[1;31m---------------------------------------------------------------------------\u001b[0m",
      "\u001b[1;31mKeyError\u001b[0m                                  Traceback (most recent call last)",
      "\u001b[1;32m<ipython-input-163-da5752848486>\u001b[0m in \u001b[0;36m<module>\u001b[1;34m()\u001b[0m\n\u001b[0;32m      2\u001b[0m \u001b[0msoup\u001b[0m \u001b[1;33m=\u001b[0m \u001b[0mbs\u001b[0m\u001b[1;33m(\u001b[0m\u001b[0mres\u001b[0m\u001b[1;33m.\u001b[0m\u001b[0mtext\u001b[0m\u001b[1;33m)\u001b[0m\u001b[1;33m\u001b[0m\u001b[0m\n\u001b[0;32m      3\u001b[0m \u001b[1;32mfor\u001b[0m \u001b[0mreview\u001b[0m \u001b[1;32min\u001b[0m \u001b[0msoup\u001b[0m\u001b[1;33m.\u001b[0m\u001b[0mselect\u001b[0m\u001b[1;33m(\u001b[0m\u001b[1;34m'.reviewSelector'\u001b[0m\u001b[1;33m)\u001b[0m\u001b[1;33m:\u001b[0m\u001b[1;33m\u001b[0m\u001b[0m\n\u001b[1;32m----> 4\u001b[1;33m     \u001b[1;32mprint\u001b[0m \u001b[0mreview\u001b[0m\u001b[1;33m.\u001b[0m\u001b[0mselect\u001b[0m\u001b[1;33m(\u001b[0m\u001b[1;34m'.noQuotes'\u001b[0m\u001b[1;33m)\u001b[0m\u001b[1;33m[\u001b[0m\u001b[1;36m0\u001b[0m\u001b[1;33m]\u001b[0m\u001b[1;33m.\u001b[0m\u001b[0mtext\u001b[0m\u001b[1;33m,\u001b[0m           \u001b[0mreview\u001b[0m\u001b[1;33m.\u001b[0m\u001b[0mselect\u001b[0m\u001b[1;33m(\u001b[0m\u001b[1;34m'.rate > img'\u001b[0m\u001b[1;33m)\u001b[0m\u001b[1;33m[\u001b[0m\u001b[1;36m0\u001b[0m\u001b[1;33m]\u001b[0m\u001b[1;33m[\u001b[0m\u001b[1;34m'alt'\u001b[0m\u001b[1;33m]\u001b[0m\u001b[1;33m,\u001b[0m           \u001b[0mreview\u001b[0m\u001b[1;33m.\u001b[0m\u001b[0mselect\u001b[0m\u001b[1;33m(\u001b[0m\u001b[1;34m'.ratingDate'\u001b[0m\u001b[1;33m)\u001b[0m\u001b[1;33m[\u001b[0m\u001b[1;36m0\u001b[0m\u001b[1;33m]\u001b[0m\u001b[1;33m[\u001b[0m\u001b[1;34m'title'\u001b[0m\u001b[1;33m]\u001b[0m\u001b[1;33m,\u001b[0m           \u001b[0mreview\u001b[0m\u001b[1;33m.\u001b[0m\u001b[0mselect\u001b[0m\u001b[1;33m(\u001b[0m\u001b[1;34m'.partial_entry'\u001b[0m\u001b[1;33m)\u001b[0m\u001b[1;33m[\u001b[0m\u001b[1;36m0\u001b[0m\u001b[1;33m]\u001b[0m\u001b[1;33m.\u001b[0m\u001b[0mtext\u001b[0m\u001b[1;33m\u001b[0m\u001b[0m\n\u001b[0m",
      "\u001b[1;32mC:\\Anaconda2\\lib\\site-packages\\bs4\\element.pyc\u001b[0m in \u001b[0;36m__getitem__\u001b[1;34m(self, key)\u001b[0m\n\u001b[0;32m    956\u001b[0m         \"\"\"tag[key] returns the value of the 'key' attribute for the tag,\n\u001b[0;32m    957\u001b[0m         and throws an exception if it's not there.\"\"\"\n\u001b[1;32m--> 958\u001b[1;33m         \u001b[1;32mreturn\u001b[0m \u001b[0mself\u001b[0m\u001b[1;33m.\u001b[0m\u001b[0mattrs\u001b[0m\u001b[1;33m[\u001b[0m\u001b[0mkey\u001b[0m\u001b[1;33m]\u001b[0m\u001b[1;33m\u001b[0m\u001b[0m\n\u001b[0m\u001b[0;32m    959\u001b[0m \u001b[1;33m\u001b[0m\u001b[0m\n\u001b[0;32m    960\u001b[0m     \u001b[1;32mdef\u001b[0m \u001b[0m__iter__\u001b[0m\u001b[1;33m(\u001b[0m\u001b[0mself\u001b[0m\u001b[1;33m)\u001b[0m\u001b[1;33m:\u001b[0m\u001b[1;33m\u001b[0m\u001b[0m\n",
      "\u001b[1;31mKeyError\u001b[0m: 'title'"
     ]
    }
   ],
   "source": [
    "from bs4 import BeautifulSoup as bs\n",
    "soup = bs(res.text)\n",
    "for review in soup.select('.reviewSelector'):\n",
    "    print review.select('.noQuotes')[0].text, \\\n",
    "          review.select('.rate > img')[0]['alt'], \\\n",
    "          review.select('.ratingDate')[0]['title'], \\\n",
    "          review.select('.partial_entry')[0].text"
   ]
  },
  {
   "cell_type": "code",
   "execution_count": 164,
   "metadata": {
    "collapsed": false
   },
   "outputs": [
    {
     "name": "stdout",
     "output_type": "stream",
     "text": [
      "\n"
     ]
    }
   ],
   "source": [
    "from bs4 import BeautifulSoup as bs\n",
    "soup = bs(res.text)\n",
    "for review in soup.select('.reviewSelector'):\n",
    "    if len(review.select('.noQuotes')) >0:\n",
    "        quotes = review.select('.noQuotes')[0].text \n",
    "        rating = review.select('.rate > img')[0]['alt']\n",
    "        ratingdate =  review.select('.ratingDate')[0].get('title', ratingdate_tmp.text)\n",
    "        comment =review.select('.partial_entry')[0].text"
   ]
  },
  {
   "cell_type": "code",
   "execution_count": 165,
   "metadata": {
    "collapsed": true
   },
   "outputs": [],
   "source": [
    "review_list = []\n",
    "for review in soup.select('.reviewSelector'):\n",
    "    if len(review.select('.noQuotes')) >0:\n",
    "        quotes = review.select('.noQuotes')[0].text \n",
    "        rating = review.select('.rate > img')[0]['alt']\n",
    "        ratingdate =  review.select('.ratingDate')[0].get('title', ratingdate_tmp.text)\n",
    "        comment =review.select('.partial_entry')[0].text\n",
    "        review_list.append({'quotes': quotes, 'rating':rating, 'ratindate':ratingdate, 'comment':comment})"
   ]
  },
  {
   "cell_type": "code",
   "execution_count": 166,
   "metadata": {
    "collapsed": false
   },
   "outputs": [
    {
     "data": {
      "text/html": [
       "<div>\n",
       "<table border=\"1\" class=\"dataframe\">\n",
       "  <thead>\n",
       "    <tr style=\"text-align: right;\">\n",
       "      <th></th>\n",
       "      <th>comment</th>\n",
       "      <th>quotes</th>\n",
       "      <th>ratindate</th>\n",
       "      <th>rating</th>\n",
       "    </tr>\n",
       "  </thead>\n",
       "  <tbody>\n",
       "    <tr>\n",
       "      <th>0</th>\n",
       "      <td>\\n服務人員的態度不是很好，部分櫃檯人員臉很臭，詢問時態度不耐，讓人很不舒服，好像客人的詢問...</td>\n",
       "      <td>服務人員態度不佳</td>\n",
       "      <td>2016年3月16日</td>\n",
       "      <td>2分</td>\n",
       "    </tr>\n",
       "    <tr>\n",
       "      <th>1</th>\n",
       "      <td>\\n1. 近地熱谷，新北投車站走上山坡要15分鐘，酒店有接駁車，但需預約\\n2. 家庭房，很...</td>\n",
       "      <td>整體不錯</td>\n",
       "      <td>2016年3月14日</td>\n",
       "      <td>4分</td>\n",
       "    </tr>\n",
       "    <tr>\n",
       "      <th>2</th>\n",
       "      <td>\\n位置較近新北投站，不坐接駁車也可步行，酒店内外裝修新，唯獨房間細小及沒有椅子。房間内温泉...</td>\n",
       "      <td>價格合理</td>\n",
       "      <td>2015年4月8日的評論\\n</td>\n",
       "      <td>4分</td>\n",
       "    </tr>\n",
       "    <tr>\n",
       "      <th>3</th>\n",
       "      <td>\\n北投皇家季節的溫泉區位於台北都會區，交通是比較方便的。酒店沒有停車場，若是開車就得自行在...</td>\n",
       "      <td>泡湯房的空間在大一些就更好了!</td>\n",
       "      <td>2015年4月8日的評論\\n</td>\n",
       "      <td>4分</td>\n",
       "    </tr>\n",
       "    <tr>\n",
       "      <th>4</th>\n",
       "      <td>\\n这家酒店离北投区的温泉非常近，走路到站点只需要15分钟。房间非常别致，床很舒服，但是房间...</td>\n",
       "      <td>房间里有独立温泉</td>\n",
       "      <td>2015年4月8日的評論\\n</td>\n",
       "      <td>4分</td>\n",
       "    </tr>\n",
       "  </tbody>\n",
       "</table>\n",
       "</div>"
      ],
      "text/plain": [
       "                                             comment           quotes  \\\n",
       "0  \\n服務人員的態度不是很好，部分櫃檯人員臉很臭，詢問時態度不耐，讓人很不舒服，好像客人的詢問...         服務人員態度不佳   \n",
       "1  \\n1. 近地熱谷，新北投車站走上山坡要15分鐘，酒店有接駁車，但需預約\\n2. 家庭房，很...             整體不錯   \n",
       "2  \\n位置較近新北投站，不坐接駁車也可步行，酒店内外裝修新，唯獨房間細小及沒有椅子。房間内温泉...             價格合理   \n",
       "3  \\n北投皇家季節的溫泉區位於台北都會區，交通是比較方便的。酒店沒有停車場，若是開車就得自行在...  泡湯房的空間在大一些就更好了!   \n",
       "4  \\n这家酒店离北投区的温泉非常近，走路到站点只需要15分钟。房间非常别致，床很舒服，但是房间...         房间里有独立温泉   \n",
       "\n",
       "        ratindate rating  \n",
       "0      2016年3月16日     2分  \n",
       "1      2016年3月14日     4分  \n",
       "2  2015年4月8日的評論\\n     4分  \n",
       "3  2015年4月8日的評論\\n     4分  \n",
       "4  2015年4月8日的評論\\n     4分  "
      ]
     },
     "execution_count": 166,
     "metadata": {},
     "output_type": "execute_result"
    }
   ],
   "source": [
    "import pandas as pd\n",
    "df = pd.DataFrame(review_list)\n",
    "df.head()"
   ]
  },
  {
   "cell_type": "code",
   "execution_count": 181,
   "metadata": {
    "collapsed": false
   },
   "outputs": [],
   "source": [
    "df['rating'] =df['rating'].map(lambda x: x.rstrip('分'.decode('utf-8')))\n",
    "df['ratindate'] =df['ratindate'].map(lambda x: x.strip().rstrip('的評論'.decode('utf-8')).encode('utf-8') ) \n",
    "df['comment'] =df['comment'].map(lambda x: x.strip())"
   ]
  },
  {
   "cell_type": "code",
   "execution_count": 182,
   "metadata": {
    "collapsed": false
   },
   "outputs": [
    {
     "data": {
      "text/html": [
       "<div>\n",
       "<table border=\"1\" class=\"dataframe\">\n",
       "  <thead>\n",
       "    <tr style=\"text-align: right;\">\n",
       "      <th></th>\n",
       "      <th>comment</th>\n",
       "      <th>quotes</th>\n",
       "      <th>ratindate</th>\n",
       "      <th>rating</th>\n",
       "    </tr>\n",
       "  </thead>\n",
       "  <tbody>\n",
       "    <tr>\n",
       "      <th>0</th>\n",
       "      <td>服務人員的態度不是很好，部分櫃檯人員臉很臭，詢問時態度不耐，讓人很不舒服，好像客人的詢問造成...</td>\n",
       "      <td>服務人員態度不佳</td>\n",
       "      <td>2016年3月16日</td>\n",
       "      <td>2</td>\n",
       "    </tr>\n",
       "    <tr>\n",
       "      <th>1</th>\n",
       "      <td>1. 近地熱谷，新北投車站走上山坡要15分鐘，酒店有接駁車，但需預約\\n2. 家庭房，很大，...</td>\n",
       "      <td>整體不錯</td>\n",
       "      <td>2016年3月14日</td>\n",
       "      <td>4</td>\n",
       "    </tr>\n",
       "    <tr>\n",
       "      <th>2</th>\n",
       "      <td>位置較近新北投站，不坐接駁車也可步行，酒店内外裝修新，唯獨房間細小及沒有椅子。房間内温泉湯池...</td>\n",
       "      <td>價格合理</td>\n",
       "      <td>2015年4月8日</td>\n",
       "      <td>4</td>\n",
       "    </tr>\n",
       "    <tr>\n",
       "      <th>3</th>\n",
       "      <td>北投皇家季節的溫泉區位於台北都會區，交通是比較方便的。酒店沒有停車場，若是開車就得自行在山路...</td>\n",
       "      <td>泡湯房的空間在大一些就更好了!</td>\n",
       "      <td>2015年4月8日</td>\n",
       "      <td>4</td>\n",
       "    </tr>\n",
       "    <tr>\n",
       "      <th>4</th>\n",
       "      <td>这家酒店离北投区的温泉非常近，走路到站点只需要15分钟。房间非常别致，床很舒服，但是房间设备...</td>\n",
       "      <td>房间里有独立温泉</td>\n",
       "      <td>2015年4月8日</td>\n",
       "      <td>4</td>\n",
       "    </tr>\n",
       "  </tbody>\n",
       "</table>\n",
       "</div>"
      ],
      "text/plain": [
       "                                             comment           quotes  \\\n",
       "0  服務人員的態度不是很好，部分櫃檯人員臉很臭，詢問時態度不耐，讓人很不舒服，好像客人的詢問造成...         服務人員態度不佳   \n",
       "1  1. 近地熱谷，新北投車站走上山坡要15分鐘，酒店有接駁車，但需預約\\n2. 家庭房，很大，...             整體不錯   \n",
       "2  位置較近新北投站，不坐接駁車也可步行，酒店内外裝修新，唯獨房間細小及沒有椅子。房間内温泉湯池...             價格合理   \n",
       "3  北投皇家季節的溫泉區位於台北都會區，交通是比較方便的。酒店沒有停車場，若是開車就得自行在山路...  泡湯房的空間在大一些就更好了!   \n",
       "4  这家酒店离北投区的温泉非常近，走路到站点只需要15分钟。房间非常别致，床很舒服，但是房间设备...         房间里有独立温泉   \n",
       "\n",
       "    ratindate rating  \n",
       "0  2016年3月16日      2  \n",
       "1  2016年3月14日      4  \n",
       "2   2015年4月8日      4  \n",
       "3   2015年4月8日      4  \n",
       "4   2015年4月8日      4  "
      ]
     },
     "execution_count": 182,
     "metadata": {},
     "output_type": "execute_result"
    }
   ],
   "source": [
    "df.head()"
   ]
  },
  {
   "cell_type": "code",
   "execution_count": 183,
   "metadata": {
    "collapsed": false
   },
   "outputs": [
    {
     "data": {
      "text/plain": [
       "0    2016年3月16日\n",
       "1    2016年3月14日\n",
       "2     2015年4月8日\n",
       "3     2015年4月8日\n",
       "4     2015年4月8日\n",
       "5     2015年4月8日\n",
       "6     2015年4月8日\n",
       "7     2015年4月8日\n",
       "8     2015年4月8日\n",
       "Name: ratindate, dtype: object"
      ]
     },
     "execution_count": 183,
     "metadata": {},
     "output_type": "execute_result"
    }
   ],
   "source": [
    "df['ratindate']"
   ]
  },
  {
   "cell_type": "code",
   "execution_count": 73,
   "metadata": {
    "collapsed": false
   },
   "outputs": [
    {
     "name": "stdout",
     "output_type": "stream",
     "text": [
      "267817921 1448765\n"
     ]
    }
   ],
   "source": [
    "import requests\n",
    "import re\n",
    "res = requests.get('https://www.tripadvisor.com.tw/Hotel_Review-g293913-d1448765-Reviews-Royal_Seasons_Hotel_Hot_Spring_Beitou-Taipei.html')\n",
    "m = re.search('injShowReviewBlock\\(\\'(\\d+)\\', \\'rblock\\', 0, false\\);', res.text)\n",
    "reviewid =  m.group(1)\n",
    "m = re.search('locId: (\\d+),', res.text)\n",
    "locid = m.group(1)\n",
    "print reviewid, locid"
   ]
  },
  {
   "cell_type": "code",
   "execution_count": 77,
   "metadata": {
    "collapsed": false
   },
   "outputs": [
    {
     "name": "stdout",
     "output_type": "stream",
     "text": [
      "可以泡私湯，一定要選雅典娜房。 4分 2015年4月8日的評論\n",
      "\n",
      "                                                去之前就搜過，發覺評價很兩極。到了以後就明白了，不同房型差異還真的是很大，我們入住的是高級房，就是雅典娜房，是乾濕分離的，覺得還是很不錯的，床大也舒服，裝修是歐式古典的。浴室有個圓形池子可以泡私湯，池子很大容納3個人都沒問題啊。不過倒真的是沒什麼硫磺味。\n",
      "\n",
      "早餐不好。沒什麼可吃的。。\n",
      "\n",
      "酒店位置不錯，周圍景色很美，清晨起床散散步...\n",
      "                      \n",
      "                                                              \n",
      "\n",
      "      全文      \n",
      "\n",
      "\n",
      "\n"
     ]
    }
   ],
   "source": [
    "reviewurl = 'https://www.tripadvisor.com.tw/UserReviewController?a=rblock&r={}&type=0&tr=false&d={}'\n",
    "res = requests.get(reviewurl.format(reviewid, locid))\n",
    "soup = bs(res.text)\n",
    "for review in soup.select('.reviewSelector'):\n",
    "    quotes = review.select('.noQuotes')[0].text \n",
    "    rating = review.select('.rate > img')[0]['alt']\n",
    "    ratingdate =  review.select('.ratingDate')[0].get('title', ratingdate_tmp.text)\n",
    "    comment =review.select('.partial_entry')[0].text\n",
    "    print quotes, rating, ratingdate, comment"
   ]
  },
  {
   "cell_type": "code",
   "execution_count": 78,
   "metadata": {
    "collapsed": false
   },
   "outputs": [
    {
     "name": "stdout",
     "output_type": "stream",
     "text": [
      "review_356053003\n",
      "review_355244357\n",
      "review_348335947\n",
      "review_336397414\n",
      "review_324677242\n",
      "review_282289363\n",
      "review_305947335\n",
      "review_267945322\n",
      "review_267817921\n",
      "review_264375419\n"
     ]
    }
   ],
   "source": [
    "import requests\n",
    "import re\n",
    "res = requests.get('https://www.tripadvisor.com.tw/Hotel_Review-g293913-d1448765-Reviews-Royal_Seasons_Hotel_Hot_Spring_Beitou-Taipei.html')\n",
    "soup = bs(res.text)\n",
    "for review in soup.select('.reviewSelector'):\n",
    "    print review['id']"
   ]
  },
  {
   "cell_type": "code",
   "execution_count": 81,
   "metadata": {
    "collapsed": false
   },
   "outputs": [
    {
     "name": "stdout",
     "output_type": "stream",
     "text": [
      "356053003\n",
      "355244357\n",
      "348335947\n",
      "336397414\n",
      "324677242\n",
      "282289363\n",
      "305947335\n",
      "267945322\n",
      "267817921\n",
      "264375419\n"
     ]
    }
   ],
   "source": [
    "for review in soup.select('.reviewSelector'):\n",
    "    print review['id'].lstrip('review_')"
   ]
  },
  {
   "cell_type": "code",
   "execution_count": 82,
   "metadata": {
    "collapsed": false
   },
   "outputs": [
    {
     "data": {
      "text/plain": [
       "'356053003,355244357,348335947,336397414,324677242,282289363,305947335,267945322,267817921,264375419'"
      ]
     },
     "execution_count": 82,
     "metadata": {},
     "output_type": "execute_result"
    }
   ],
   "source": [
    "ary = []\n",
    "for review in soup.select('.reviewSelector'):\n",
    "    ary.append( review['id'].lstrip('review_'))\n",
    "','.join(ary)"
   ]
  },
  {
   "cell_type": "code",
   "execution_count": 84,
   "metadata": {
    "collapsed": false
   },
   "outputs": [],
   "source": [
    "#print soup.select('input')"
   ]
  },
  {
   "cell_type": "code",
   "execution_count": 90,
   "metadata": {
    "collapsed": false
   },
   "outputs": [],
   "source": [
    "url = 'https://www.tripadvisor.com.tw/ExpandedUserReviews-g293913-d1448765?target={}&context=1&reviews={}&servlet=Hotel_Review&expand=1'\n",
    "review_list = ','.join(ary)\n",
    "res = requests.get(url.format(review_list.split(',')[0], review_list))\n",
    "#print res.text"
   ]
  },
  {
   "cell_type": "code",
   "execution_count": 99,
   "metadata": {
    "collapsed": false
   },
   "outputs": [],
   "source": [
    "soup = bs(res.text)\n",
    "for review in soup.select('.extended'):\n",
    "    quotes = review.select('.noQuotes')[0].text \n",
    "    rating = review.select('.rate > img')[0]['alt']\n",
    "    ratingdate =  review.select('.ratingDate')[0].get('title', ratingdate_tmp.text)\n",
    "    comment =review.select('.entry')[0].text\n",
    "    #print quotes, rating, ratingdate, comment\n"
   ]
  },
  {
   "cell_type": "code",
   "execution_count": 100,
   "metadata": {
    "collapsed": true
   },
   "outputs": [],
   "source": [
    "soup = bs(res.text)\n",
    "review_list = []\n",
    "for review in soup.select('.extended'):\n",
    "    quotes = review.select('.noQuotes')[0].text \n",
    "    rating = review.select('.rate > img')[0]['alt']\n",
    "    ratingdate =  review.select('.ratingDate')[0].get('title', ratingdate_tmp.text)\n",
    "    comment =review.select('.entry')[0].text\n",
    "    review_list.append({'quotes': quotes, 'rating':rating, 'ratindate':ratingdate, 'comment':comment})\n"
   ]
  },
  {
   "cell_type": "code",
   "execution_count": 102,
   "metadata": {
    "collapsed": false
   },
   "outputs": [
    {
     "data": {
      "text/html": [
       "<div>\n",
       "<table border=\"1\" class=\"dataframe\">\n",
       "  <thead>\n",
       "    <tr style=\"text-align: right;\">\n",
       "      <th></th>\n",
       "      <th>comment</th>\n",
       "      <th>quotes</th>\n",
       "      <th>ratindate</th>\n",
       "      <th>rating</th>\n",
       "    </tr>\n",
       "  </thead>\n",
       "  <tbody>\n",
       "    <tr>\n",
       "      <th>0</th>\n",
       "      <td>\\n\\n服務人員的態度不是很好，部分櫃檯人員臉很臭，詢問時態度不耐，讓人很不舒服，好像客人的...</td>\n",
       "      <td>服務人員態度不佳</td>\n",
       "      <td>2016年3月16日</td>\n",
       "      <td>2分</td>\n",
       "    </tr>\n",
       "    <tr>\n",
       "      <th>1</th>\n",
       "      <td>\\n\\n1. 近地熱谷，新北投車站走上山坡要15分鐘，酒店有接駁車，但需預約2. 家庭房，很...</td>\n",
       "      <td>整體不錯</td>\n",
       "      <td>2016年3月14日</td>\n",
       "      <td>4分</td>\n",
       "    </tr>\n",
       "    <tr>\n",
       "      <th>2</th>\n",
       "      <td>\\n\\n位置較近新北投站，不坐接駁車也可步行，酒店内外裝修新，唯獨房間細小及沒有椅子。房間内...</td>\n",
       "      <td>價格合理</td>\n",
       "      <td>2015年4月8日的評論\\n</td>\n",
       "      <td>4分</td>\n",
       "    </tr>\n",
       "    <tr>\n",
       "      <th>3</th>\n",
       "      <td>\\n\\n北投皇家季節的溫泉區位於台北都會區，交通是比較方便的。酒店沒有停車場，若是開車就得自...</td>\n",
       "      <td>泡湯房的空間在大一些就更好了!</td>\n",
       "      <td>2015年4月8日的評論\\n</td>\n",
       "      <td>4分</td>\n",
       "    </tr>\n",
       "    <tr>\n",
       "      <th>4</th>\n",
       "      <td>\\n\\n这家酒店离北投区的温泉非常近，走路到站点只需要15分钟。房间非常别致，床很舒服，但是...</td>\n",
       "      <td>房间里有独立温泉</td>\n",
       "      <td>2015年4月8日的評論\\n</td>\n",
       "      <td>4分</td>\n",
       "    </tr>\n",
       "  </tbody>\n",
       "</table>\n",
       "</div>"
      ],
      "text/plain": [
       "                                             comment           quotes  \\\n",
       "0  \\n\\n服務人員的態度不是很好，部分櫃檯人員臉很臭，詢問時態度不耐，讓人很不舒服，好像客人的...         服務人員態度不佳   \n",
       "1  \\n\\n1. 近地熱谷，新北投車站走上山坡要15分鐘，酒店有接駁車，但需預約2. 家庭房，很...             整體不錯   \n",
       "2  \\n\\n位置較近新北投站，不坐接駁車也可步行，酒店内外裝修新，唯獨房間細小及沒有椅子。房間内...             價格合理   \n",
       "3  \\n\\n北投皇家季節的溫泉區位於台北都會區，交通是比較方便的。酒店沒有停車場，若是開車就得自...  泡湯房的空間在大一些就更好了!   \n",
       "4  \\n\\n这家酒店离北投区的温泉非常近，走路到站点只需要15分钟。房间非常别致，床很舒服，但是...         房间里有独立温泉   \n",
       "\n",
       "        ratindate rating  \n",
       "0      2016年3月16日     2分  \n",
       "1      2016年3月14日     4分  \n",
       "2  2015年4月8日的評論\\n     4分  \n",
       "3  2015年4月8日的評論\\n     4分  \n",
       "4  2015年4月8日的評論\\n     4分  "
      ]
     },
     "execution_count": 102,
     "metadata": {},
     "output_type": "execute_result"
    }
   ],
   "source": [
    "import pandas as pd\n",
    "df = pd.DataFrame(review_list)\n",
    "df.head()"
   ]
  },
  {
   "cell_type": "code",
   "execution_count": 106,
   "metadata": {
    "collapsed": false
   },
   "outputs": [
    {
     "name": "stdout",
     "output_type": "stream",
     "text": [
      "11\n"
     ]
    }
   ],
   "source": [
    "import requests\n",
    "import re\n",
    "res = requests.get('https://www.tripadvisor.com.tw/Hotel_Review-g293913-d1448765-Reviews-Royal_Seasons_Hotel_Hot_Spring_Beitou-Taipei.html')\n",
    "soup = bs(res.text)\n",
    "pagenum = int(soup.select('.pageNum')[-1].text)\n",
    "print pagenum"
   ]
  },
  {
   "cell_type": "code",
   "execution_count": 109,
   "metadata": {
    "collapsed": false
   },
   "outputs": [
    {
     "name": "stdout",
     "output_type": "stream",
     "text": [
      "https://www.tripadvisor.com.tw/Hotel_Review-g293913-d1448765-Reviews-or10-Royal_Seasons_Hotel_Hot_Spring_Beitou-Taipei.html#REVIEWS\n",
      "https://www.tripadvisor.com.tw/Hotel_Review-g293913-d1448765-Reviews-or20-Royal_Seasons_Hotel_Hot_Spring_Beitou-Taipei.html#REVIEWS\n",
      "https://www.tripadvisor.com.tw/Hotel_Review-g293913-d1448765-Reviews-or30-Royal_Seasons_Hotel_Hot_Spring_Beitou-Taipei.html#REVIEWS\n",
      "https://www.tripadvisor.com.tw/Hotel_Review-g293913-d1448765-Reviews-or40-Royal_Seasons_Hotel_Hot_Spring_Beitou-Taipei.html#REVIEWS\n",
      "https://www.tripadvisor.com.tw/Hotel_Review-g293913-d1448765-Reviews-or50-Royal_Seasons_Hotel_Hot_Spring_Beitou-Taipei.html#REVIEWS\n",
      "https://www.tripadvisor.com.tw/Hotel_Review-g293913-d1448765-Reviews-or60-Royal_Seasons_Hotel_Hot_Spring_Beitou-Taipei.html#REVIEWS\n",
      "https://www.tripadvisor.com.tw/Hotel_Review-g293913-d1448765-Reviews-or70-Royal_Seasons_Hotel_Hot_Spring_Beitou-Taipei.html#REVIEWS\n",
      "https://www.tripadvisor.com.tw/Hotel_Review-g293913-d1448765-Reviews-or80-Royal_Seasons_Hotel_Hot_Spring_Beitou-Taipei.html#REVIEWS\n",
      "https://www.tripadvisor.com.tw/Hotel_Review-g293913-d1448765-Reviews-or90-Royal_Seasons_Hotel_Hot_Spring_Beitou-Taipei.html#REVIEWS\n",
      "https://www.tripadvisor.com.tw/Hotel_Review-g293913-d1448765-Reviews-or100-Royal_Seasons_Hotel_Hot_Spring_Beitou-Taipei.html#REVIEWS\n"
     ]
    }
   ],
   "source": [
    "pageurl = 'https://www.tripadvisor.com.tw/Hotel_Review-g293913-d1448765-Reviews-or{}-Royal_Seasons_Hotel_Hot_Spring_Beitou-Taipei.html#REVIEWS'\n",
    "for i in range(1,pagenum):\n",
    "    print pageurl.format(str(i * 10 ))"
   ]
  },
  {
   "cell_type": "code",
   "execution_count": 126,
   "metadata": {
    "collapsed": false
   },
   "outputs": [],
   "source": [
    "import requests\n",
    "\n",
    "\n",
    "def getPageReview(url):\n",
    "    hotelinfo = []\n",
    "    ary = []\n",
    "    res = requests.get(url)\n",
    "    soup = bs(res.text)\n",
    "    for review in soup.select('.reviewSelector'):\n",
    "        ary.append( review['id'].lstrip('review_'))\n",
    "    expandurl = 'https://www.tripadvisor.com.tw/ExpandedUserReviews-g293913-d1448765?target={}&context=1&reviews={}&servlet=Hotel_Review&expand=1'\n",
    "    review_list = ','.join(ary)\n",
    "    res2 = requests.get(expandurl.format(review_list.split(',')[0], review_list))\n",
    "    soup2 = bs(res2.text)\n",
    "    for review in soup2.select('.extended'):\n",
    "        quotes = review.select('.noQuotes')[0].text \n",
    "        rating = review.select('.rate > img')[0]['alt']\n",
    "        ratingdate =  review.select('.ratingDate')[0].get('title', ratingdate_tmp.text)\n",
    "        comment =review.select('.entry')[0].text\n",
    "        hotelinfo.append({'quotes': quotes, 'rating':rating, 'ratindate':ratingdate, 'comment':comment})\n",
    "    return hotelinfo\n",
    "\n"
   ]
  },
  {
   "cell_type": "code",
   "execution_count": 128,
   "metadata": {
    "collapsed": false
   },
   "outputs": [
    {
     "data": {
      "text/html": [
       "<div>\n",
       "<table border=\"1\" class=\"dataframe\">\n",
       "  <thead>\n",
       "    <tr style=\"text-align: right;\">\n",
       "      <th></th>\n",
       "      <th>comment</th>\n",
       "      <th>quotes</th>\n",
       "      <th>ratindate</th>\n",
       "      <th>rating</th>\n",
       "    </tr>\n",
       "  </thead>\n",
       "  <tbody>\n",
       "    <tr>\n",
       "      <th>0</th>\n",
       "      <td>\\n\\n服務人員的態度不是很好，部分櫃檯人員臉很臭，詢問時態度不耐，讓人很不舒服，好像客人的...</td>\n",
       "      <td>服務人員態度不佳</td>\n",
       "      <td>2016年3月16日</td>\n",
       "      <td>2分</td>\n",
       "    </tr>\n",
       "    <tr>\n",
       "      <th>1</th>\n",
       "      <td>\\n\\n1. 近地熱谷，新北投車站走上山坡要15分鐘，酒店有接駁車，但需預約2. 家庭房，很...</td>\n",
       "      <td>整體不錯</td>\n",
       "      <td>2016年3月14日</td>\n",
       "      <td>4分</td>\n",
       "    </tr>\n",
       "    <tr>\n",
       "      <th>2</th>\n",
       "      <td>\\n\\n位置較近新北投站，不坐接駁車也可步行，酒店内外裝修新，唯獨房間細小及沒有椅子。房間内...</td>\n",
       "      <td>價格合理</td>\n",
       "      <td>2015年4月8日的評論\\n</td>\n",
       "      <td>4分</td>\n",
       "    </tr>\n",
       "    <tr>\n",
       "      <th>3</th>\n",
       "      <td>\\n\\n北投皇家季節的溫泉區位於台北都會區，交通是比較方便的。酒店沒有停車場，若是開車就得自...</td>\n",
       "      <td>泡湯房的空間在大一些就更好了!</td>\n",
       "      <td>2015年4月8日的評論\\n</td>\n",
       "      <td>4分</td>\n",
       "    </tr>\n",
       "    <tr>\n",
       "      <th>4</th>\n",
       "      <td>\\n\\n这家酒店离北投区的温泉非常近，走路到站点只需要15分钟。房间非常别致，床很舒服，但是...</td>\n",
       "      <td>房间里有独立温泉</td>\n",
       "      <td>2015年4月8日的評論\\n</td>\n",
       "      <td>4分</td>\n",
       "    </tr>\n",
       "  </tbody>\n",
       "</table>\n",
       "</div>"
      ],
      "text/plain": [
       "                                             comment           quotes  \\\n",
       "0  \\n\\n服務人員的態度不是很好，部分櫃檯人員臉很臭，詢問時態度不耐，讓人很不舒服，好像客人的...         服務人員態度不佳   \n",
       "1  \\n\\n1. 近地熱谷，新北投車站走上山坡要15分鐘，酒店有接駁車，但需預約2. 家庭房，很...             整體不錯   \n",
       "2  \\n\\n位置較近新北投站，不坐接駁車也可步行，酒店内外裝修新，唯獨房間細小及沒有椅子。房間内...             價格合理   \n",
       "3  \\n\\n北投皇家季節的溫泉區位於台北都會區，交通是比較方便的。酒店沒有停車場，若是開車就得自...  泡湯房的空間在大一些就更好了!   \n",
       "4  \\n\\n这家酒店离北投区的温泉非常近，走路到站点只需要15分钟。房间非常别致，床很舒服，但是...         房间里有独立温泉   \n",
       "\n",
       "        ratindate rating  \n",
       "0      2016年3月16日     2分  \n",
       "1      2016年3月14日     4分  \n",
       "2  2015年4月8日的評論\\n     4分  \n",
       "3  2015年4月8日的評論\\n     4分  \n",
       "4  2015年4月8日的評論\\n     4分  "
      ]
     },
     "execution_count": 128,
     "metadata": {},
     "output_type": "execute_result"
    }
   ],
   "source": [
    "url = 'https://www.tripadvisor.com.tw/Hotel_Review-g293913-d1448765-Reviews-Royal_Seasons_Hotel_Hot_Spring_Beitou-Taipei.html'\n",
    "rev1 = getPageReview(url)\n",
    "df = pd.DataFrame(rev1)\n",
    "df.head()"
   ]
  },
  {
   "cell_type": "code",
   "execution_count": 130,
   "metadata": {
    "collapsed": false
   },
   "outputs": [
    {
     "name": "stdout",
     "output_type": "stream",
     "text": [
      "['https://www.tripadvisor.com.tw/Hotel_Review-g293913-d1448765-Reviews-Royal_Seasons_Hotel_Hot_Spring_Beitou-Taipei.html', 'https://www.tripadvisor.com.tw/Hotel_Review-g293913-d1448765-Reviews-or10-Royal_Seasons_Hotel_Hot_Spring_Beitou-Taipei.html#REVIEWS', 'https://www.tripadvisor.com.tw/Hotel_Review-g293913-d1448765-Reviews-or20-Royal_Seasons_Hotel_Hot_Spring_Beitou-Taipei.html#REVIEWS', 'https://www.tripadvisor.com.tw/Hotel_Review-g293913-d1448765-Reviews-or30-Royal_Seasons_Hotel_Hot_Spring_Beitou-Taipei.html#REVIEWS', 'https://www.tripadvisor.com.tw/Hotel_Review-g293913-d1448765-Reviews-or40-Royal_Seasons_Hotel_Hot_Spring_Beitou-Taipei.html#REVIEWS', 'https://www.tripadvisor.com.tw/Hotel_Review-g293913-d1448765-Reviews-or50-Royal_Seasons_Hotel_Hot_Spring_Beitou-Taipei.html#REVIEWS', 'https://www.tripadvisor.com.tw/Hotel_Review-g293913-d1448765-Reviews-or60-Royal_Seasons_Hotel_Hot_Spring_Beitou-Taipei.html#REVIEWS', 'https://www.tripadvisor.com.tw/Hotel_Review-g293913-d1448765-Reviews-or70-Royal_Seasons_Hotel_Hot_Spring_Beitou-Taipei.html#REVIEWS', 'https://www.tripadvisor.com.tw/Hotel_Review-g293913-d1448765-Reviews-or80-Royal_Seasons_Hotel_Hot_Spring_Beitou-Taipei.html#REVIEWS', 'https://www.tripadvisor.com.tw/Hotel_Review-g293913-d1448765-Reviews-or90-Royal_Seasons_Hotel_Hot_Spring_Beitou-Taipei.html#REVIEWS', 'https://www.tripadvisor.com.tw/Hotel_Review-g293913-d1448765-Reviews-or100-Royal_Seasons_Hotel_Hot_Spring_Beitou-Taipei.html#REVIEWS']\n"
     ]
    }
   ],
   "source": [
    "url = 'https://www.tripadvisor.com.tw/Hotel_Review-g293913-d1448765-Reviews-Royal_Seasons_Hotel_Hot_Spring_Beitou-Taipei.html'\n",
    "pageurl = 'https://www.tripadvisor.com.tw/Hotel_Review-g293913-d1448765-Reviews-or{}-Royal_Seasons_Hotel_Hot_Spring_Beitou-Taipei.html#REVIEWS'\n",
    "soup = bs(res.text)\n",
    "pagenum = int(soup.select('.pageNum')[-1].text)\n",
    "\n",
    "url_list = [url]\n",
    "for i in range(1,pagenum):\n",
    "    url_list.append(pageurl.format(str(i * 10 )))\n",
    "print url_list"
   ]
  },
  {
   "cell_type": "code",
   "execution_count": 131,
   "metadata": {
    "collapsed": true
   },
   "outputs": [],
   "source": [
    "dfall = []\n",
    "for url in url_list:\n",
    "    df= pd.DataFrame(getPageReview(url))\n",
    "    dfall.append(df)"
   ]
  },
  {
   "cell_type": "code",
   "execution_count": 133,
   "metadata": {
    "collapsed": false
   },
   "outputs": [
    {
     "data": {
      "text/html": [
       "<div>\n",
       "<table border=\"1\" class=\"dataframe\">\n",
       "  <thead>\n",
       "    <tr style=\"text-align: right;\">\n",
       "      <th></th>\n",
       "      <th>comment</th>\n",
       "      <th>quotes</th>\n",
       "      <th>ratindate</th>\n",
       "      <th>rating</th>\n",
       "    </tr>\n",
       "  </thead>\n",
       "  <tbody>\n",
       "    <tr>\n",
       "      <th>0</th>\n",
       "      <td>\\n\\n服務人員的態度不是很好，部分櫃檯人員臉很臭，詢問時態度不耐，讓人很不舒服，好像客人的...</td>\n",
       "      <td>服務人員態度不佳</td>\n",
       "      <td>2016年3月16日</td>\n",
       "      <td>2分</td>\n",
       "    </tr>\n",
       "    <tr>\n",
       "      <th>1</th>\n",
       "      <td>\\n\\n1. 近地熱谷，新北投車站走上山坡要15分鐘，酒店有接駁車，但需預約2. 家庭房，很...</td>\n",
       "      <td>整體不錯</td>\n",
       "      <td>2016年3月14日</td>\n",
       "      <td>4分</td>\n",
       "    </tr>\n",
       "    <tr>\n",
       "      <th>2</th>\n",
       "      <td>\\n\\n位置較近新北投站，不坐接駁車也可步行，酒店内外裝修新，唯獨房間細小及沒有椅子。房間内...</td>\n",
       "      <td>價格合理</td>\n",
       "      <td>2015年4月8日的評論\\n</td>\n",
       "      <td>4分</td>\n",
       "    </tr>\n",
       "    <tr>\n",
       "      <th>3</th>\n",
       "      <td>\\n\\n北投皇家季節的溫泉區位於台北都會區，交通是比較方便的。酒店沒有停車場，若是開車就得自...</td>\n",
       "      <td>泡湯房的空間在大一些就更好了!</td>\n",
       "      <td>2015年4月8日的評論\\n</td>\n",
       "      <td>4分</td>\n",
       "    </tr>\n",
       "    <tr>\n",
       "      <th>4</th>\n",
       "      <td>\\n\\n这家酒店离北投区的温泉非常近，走路到站点只需要15分钟。房间非常别致，床很舒服，但是...</td>\n",
       "      <td>房间里有独立温泉</td>\n",
       "      <td>2015年4月8日的評論\\n</td>\n",
       "      <td>4分</td>\n",
       "    </tr>\n",
       "  </tbody>\n",
       "</table>\n",
       "</div>"
      ],
      "text/plain": [
       "                                             comment           quotes  \\\n",
       "0  \\n\\n服務人員的態度不是很好，部分櫃檯人員臉很臭，詢問時態度不耐，讓人很不舒服，好像客人的...         服務人員態度不佳   \n",
       "1  \\n\\n1. 近地熱谷，新北投車站走上山坡要15分鐘，酒店有接駁車，但需預約2. 家庭房，很...             整體不錯   \n",
       "2  \\n\\n位置較近新北投站，不坐接駁車也可步行，酒店内外裝修新，唯獨房間細小及沒有椅子。房間内...             價格合理   \n",
       "3  \\n\\n北投皇家季節的溫泉區位於台北都會區，交通是比較方便的。酒店沒有停車場，若是開車就得自...  泡湯房的空間在大一些就更好了!   \n",
       "4  \\n\\n这家酒店离北投区的温泉非常近，走路到站点只需要15分钟。房间非常别致，床很舒服，但是...         房间里有独立温泉   \n",
       "\n",
       "        ratindate rating  \n",
       "0      2016年3月16日     2分  \n",
       "1      2016年3月14日     4分  \n",
       "2  2015年4月8日的評論\\n     4分  \n",
       "3  2015年4月8日的評論\\n     4分  \n",
       "4  2015年4月8日的評論\\n     4分  "
      ]
     },
     "execution_count": 133,
     "metadata": {},
     "output_type": "execute_result"
    }
   ],
   "source": [
    "hoteldf = pd.concat(dfall)\n",
    "hoteldf.head()"
   ]
  },
  {
   "cell_type": "code",
   "execution_count": 134,
   "metadata": {
    "collapsed": false
   },
   "outputs": [
    {
     "data": {
      "text/plain": [
       "comment      101\n",
       "quotes       101\n",
       "ratindate    101\n",
       "rating       101\n",
       "dtype: int64"
      ]
     },
     "execution_count": 134,
     "metadata": {},
     "output_type": "execute_result"
    }
   ],
   "source": [
    "hoteldf.count()"
   ]
  },
  {
   "cell_type": "code",
   "execution_count": 136,
   "metadata": {
    "collapsed": false
   },
   "outputs": [],
   "source": [
    "import sqlite3 as lite\n",
    "with lite.connect('tripadvisor.sqlite') as db:\n",
    "    hoteldf.to_sql(name='comment', index=False, con=db, if_exists='replace')\n"
   ]
  },
  {
   "cell_type": "code",
   "execution_count": 137,
   "metadata": {
    "collapsed": false
   },
   "outputs": [
    {
     "data": {
      "text/html": [
       "<div>\n",
       "<table border=\"1\" class=\"dataframe\">\n",
       "  <thead>\n",
       "    <tr style=\"text-align: right;\">\n",
       "      <th></th>\n",
       "      <th>count(1)</th>\n",
       "    </tr>\n",
       "  </thead>\n",
       "  <tbody>\n",
       "    <tr>\n",
       "      <th>0</th>\n",
       "      <td>101</td>\n",
       "    </tr>\n",
       "  </tbody>\n",
       "</table>\n",
       "</div>"
      ],
      "text/plain": [
       "   count(1)\n",
       "0       101"
      ]
     },
     "execution_count": 137,
     "metadata": {},
     "output_type": "execute_result"
    }
   ],
   "source": [
    "import sqlite3 as lite\n",
    "with lite.connect('tripadvisor.sqlite') as db:\n",
    "    df = pd.read_sql_query('SELECT count(1) FROM comment;', db)\n",
    "df \n"
   ]
  },
  {
   "cell_type": "code",
   "execution_count": 142,
   "metadata": {
    "collapsed": true
   },
   "outputs": [],
   "source": [
    "import pandas as pd"
   ]
  },
  {
   "cell_type": "code",
   "execution_count": 143,
   "metadata": {
    "collapsed": true
   },
   "outputs": [],
   "source": [
    "import requests\n",
    "from bs4 import BeautifulSoup as bs\n",
    "res = requests.get('https://www.tripadvisor.com.tw/Hotels-g293913-Taipei-Hotels.html')\n",
    "soup = bs(res.text)\n"
   ]
  },
  {
   "cell_type": "code",
   "execution_count": 144,
   "metadata": {
    "collapsed": false
   },
   "outputs": [],
   "source": [
    "hotels = []\n",
    "for sector in soup.select('.listing.easyClear'):\n",
    "    hotels.append({'hotel':sector.select('.property_title')[0].text.strip(), \n",
    "          'rate':sector.select('.rate.rate_s')[0].select('img')[0]['alt'],\n",
    "          'comments':sector.select('.more a')[0].text,\n",
    "          'rank':sector.select('.popRanking')[0].text})"
   ]
  },
  {
   "cell_type": "code",
   "execution_count": 145,
   "metadata": {
    "collapsed": false
   },
   "outputs": [],
   "source": [
    "df = pd.DataFrame(hotels)"
   ]
  },
  {
   "cell_type": "code",
   "execution_count": 146,
   "metadata": {
    "collapsed": false
   },
   "outputs": [
    {
     "data": {
      "text/html": [
       "<div>\n",
       "<table border=\"1\" class=\"dataframe\">\n",
       "  <thead>\n",
       "    <tr style=\"text-align: right;\">\n",
       "      <th></th>\n",
       "      <th>comments</th>\n",
       "      <th>hotel</th>\n",
       "      <th>rank</th>\n",
       "      <th>rate</th>\n",
       "    </tr>\n",
       "  </thead>\n",
       "  <tbody>\n",
       "    <tr>\n",
       "      <th>0</th>\n",
       "      <td>181則評論</td>\n",
       "      <td>西悠飯店台北店</td>\n",
       "      <td>第 44 名 (共 506 家) 台北市飯店</td>\n",
       "      <td>4.5分</td>\n",
       "    </tr>\n",
       "    <tr>\n",
       "      <th>1</th>\n",
       "      <td>907則評論</td>\n",
       "      <td>喜瑞飯店</td>\n",
       "      <td>第 10 名 (共 506 家) 台北市飯店</td>\n",
       "      <td>4.5分</td>\n",
       "    </tr>\n",
       "    <tr>\n",
       "      <th>2</th>\n",
       "      <td>303則評論</td>\n",
       "      <td>北投麗禧溫泉酒店</td>\n",
       "      <td>第 32 名 (共 506 家) 台北市飯店</td>\n",
       "      <td>4.5分</td>\n",
       "    </tr>\n",
       "    <tr>\n",
       "      <th>3</th>\n",
       "      <td>676則評論</td>\n",
       "      <td>亞都麗緻大飯店</td>\n",
       "      <td>第 37 名 (共 506 家) 台北市飯店</td>\n",
       "      <td>4.5分</td>\n",
       "    </tr>\n",
       "    <tr>\n",
       "      <th>4</th>\n",
       "      <td>110則評論</td>\n",
       "      <td>力麗哲園商旅-台北</td>\n",
       "      <td>第 116 名 (共 506 家) 台北市飯店</td>\n",
       "      <td>4分</td>\n",
       "    </tr>\n",
       "    <tr>\n",
       "      <th>5</th>\n",
       "      <td>45則評論</td>\n",
       "      <td>北投荷豐溫泉會館</td>\n",
       "      <td>第 284 名 (共 506 家) 台北市飯店</td>\n",
       "      <td>3.5分</td>\n",
       "    </tr>\n",
       "    <tr>\n",
       "      <th>6</th>\n",
       "      <td>881則評論</td>\n",
       "      <td>君品酒店</td>\n",
       "      <td>第 30 名 (共 506 家) 台北市飯店</td>\n",
       "      <td>4.5分</td>\n",
       "    </tr>\n",
       "    <tr>\n",
       "      <th>7</th>\n",
       "      <td>101則評論</td>\n",
       "      <td>皇家季節酒店北投溫泉館</td>\n",
       "      <td>第 236 名 (共 506 家) 台北市飯店</td>\n",
       "      <td>4分</td>\n",
       "    </tr>\n",
       "    <tr>\n",
       "      <th>8</th>\n",
       "      <td>621則評論</td>\n",
       "      <td>圓山大飯店</td>\n",
       "      <td>第 60 名 (共 506 家) 台北市飯店</td>\n",
       "      <td>4分</td>\n",
       "    </tr>\n",
       "    <tr>\n",
       "      <th>9</th>\n",
       "      <td>34則評論</td>\n",
       "      <td>東門旅店</td>\n",
       "      <td>第 166 名 (共 506 家) 台北市飯店</td>\n",
       "      <td>4分</td>\n",
       "    </tr>\n",
       "    <tr>\n",
       "      <th>10</th>\n",
       "      <td>167則評論</td>\n",
       "      <td>水美溫泉會館</td>\n",
       "      <td>第 185 名 (共 506 家) 台北市飯店</td>\n",
       "      <td>3.5分</td>\n",
       "    </tr>\n",
       "    <tr>\n",
       "      <th>11</th>\n",
       "      <td>306則評論</td>\n",
       "      <td>日勝生加賀屋北投溫泉度假飯店</td>\n",
       "      <td>第 115 名 (共 506 家) 台北市飯店</td>\n",
       "      <td>4分</td>\n",
       "    </tr>\n",
       "    <tr>\n",
       "      <th>12</th>\n",
       "      <td>834則評論</td>\n",
       "      <td>台北福華大飯店</td>\n",
       "      <td>第 59 名 (共 506 家) 台北市飯店</td>\n",
       "      <td>4分</td>\n",
       "    </tr>\n",
       "    <tr>\n",
       "      <th>13</th>\n",
       "      <td>18則評論</td>\n",
       "      <td>沐蘭台北時尚精品旅館</td>\n",
       "      <td>第 193 名 (共 506 家) 台北市飯店</td>\n",
       "      <td>4.5分</td>\n",
       "    </tr>\n",
       "    <tr>\n",
       "      <th>14</th>\n",
       "      <td>923則評論</td>\n",
       "      <td>香格里拉台北遠東國際大飯店</td>\n",
       "      <td>第 22 名 (共 506 家) 台北市飯店</td>\n",
       "      <td>4.5分</td>\n",
       "    </tr>\n",
       "    <tr>\n",
       "      <th>15</th>\n",
       "      <td>20則評論</td>\n",
       "      <td>南京小公館</td>\n",
       "      <td>第 161 名 (共 506 家) 台北市飯店</td>\n",
       "      <td>4.5分</td>\n",
       "    </tr>\n",
       "    <tr>\n",
       "      <th>16</th>\n",
       "      <td>134則評論</td>\n",
       "      <td>天玥泉會館</td>\n",
       "      <td>第 81 名 (共 506 家) 台北市飯店</td>\n",
       "      <td>4分</td>\n",
       "    </tr>\n",
       "    <tr>\n",
       "      <th>17</th>\n",
       "      <td>1,458則評論</td>\n",
       "      <td>台北W飯店</td>\n",
       "      <td>第 26 名 (共 506 家) 台北市飯店</td>\n",
       "      <td>4.5分</td>\n",
       "    </tr>\n",
       "    <tr>\n",
       "      <th>18</th>\n",
       "      <td>692則評論</td>\n",
       "      <td>大倉久和大飯店</td>\n",
       "      <td>第 16 名 (共 506 家) 台北市飯店</td>\n",
       "      <td>4.5分</td>\n",
       "    </tr>\n",
       "    <tr>\n",
       "      <th>19</th>\n",
       "      <td>326則評論</td>\n",
       "      <td>城市商旅南西館</td>\n",
       "      <td>第 102 名 (共 506 家) 台北市飯店</td>\n",
       "      <td>4分</td>\n",
       "    </tr>\n",
       "    <tr>\n",
       "      <th>20</th>\n",
       "      <td>1,151則評論</td>\n",
       "      <td>凱撒大飯店</td>\n",
       "      <td>第 82 名 (共 506 家) 台北市飯店</td>\n",
       "      <td>4分</td>\n",
       "    </tr>\n",
       "    <tr>\n",
       "      <th>21</th>\n",
       "      <td>65則評論</td>\n",
       "      <td>梅樓商務驛站</td>\n",
       "      <td>第 103 名 (共 506 家) 台北市飯店</td>\n",
       "      <td>4分</td>\n",
       "    </tr>\n",
       "    <tr>\n",
       "      <th>22</th>\n",
       "      <td>734則評論</td>\n",
       "      <td>台北花園大酒店</td>\n",
       "      <td>第 28 名 (共 506 家) 台北市飯店</td>\n",
       "      <td>4.5分</td>\n",
       "    </tr>\n",
       "    <tr>\n",
       "      <th>23</th>\n",
       "      <td>699則評論</td>\n",
       "      <td>新驛旅店 - 台北車站三館</td>\n",
       "      <td>第 7 名 (共 506 家) 台北市飯店</td>\n",
       "      <td>4.5分</td>\n",
       "    </tr>\n",
       "    <tr>\n",
       "      <th>24</th>\n",
       "      <td>1,219則評論</td>\n",
       "      <td>晶華酒店</td>\n",
       "      <td>第 29 名 (共 506 家) 台北市飯店</td>\n",
       "      <td>4.5分</td>\n",
       "    </tr>\n",
       "    <tr>\n",
       "      <th>25</th>\n",
       "      <td>733則評論</td>\n",
       "      <td>蜂巢旅店</td>\n",
       "      <td>第 19 名 (共 506 家) 台北市飯店</td>\n",
       "      <td>4.5分</td>\n",
       "    </tr>\n",
       "    <tr>\n",
       "      <th>26</th>\n",
       "      <td>722則評論</td>\n",
       "      <td>丹迪旅店 – 大安森林公園店</td>\n",
       "      <td>第 8 名 (共 506 家) 台北市飯店</td>\n",
       "      <td>4.5分</td>\n",
       "    </tr>\n",
       "    <tr>\n",
       "      <th>27</th>\n",
       "      <td>488則評論</td>\n",
       "      <td>台北文華東方酒店</td>\n",
       "      <td>第 4 名 (共 506 家) 台北市飯店</td>\n",
       "      <td>4.5分</td>\n",
       "    </tr>\n",
       "    <tr>\n",
       "      <th>28</th>\n",
       "      <td>87則評論</td>\n",
       "      <td>漾館時尚溫泉旅館</td>\n",
       "      <td>第 165 名 (共 506 家) 台北市飯店</td>\n",
       "      <td>4分</td>\n",
       "    </tr>\n",
       "    <tr>\n",
       "      <th>29</th>\n",
       "      <td>543則評論</td>\n",
       "      <td>新尚旅店</td>\n",
       "      <td>第 12 名 (共 506 家) 台北市飯店</td>\n",
       "      <td>4.5分</td>\n",
       "    </tr>\n",
       "  </tbody>\n",
       "</table>\n",
       "</div>"
      ],
      "text/plain": [
       "    comments           hotel                     rank  rate\n",
       "0     181則評論         西悠飯店台北店   第 44 名 (共 506 家) 台北市飯店  4.5分\n",
       "1     907則評論            喜瑞飯店   第 10 名 (共 506 家) 台北市飯店  4.5分\n",
       "2     303則評論        北投麗禧溫泉酒店   第 32 名 (共 506 家) 台北市飯店  4.5分\n",
       "3     676則評論         亞都麗緻大飯店   第 37 名 (共 506 家) 台北市飯店  4.5分\n",
       "4     110則評論       力麗哲園商旅-台北  第 116 名 (共 506 家) 台北市飯店    4分\n",
       "5      45則評論        北投荷豐溫泉會館  第 284 名 (共 506 家) 台北市飯店  3.5分\n",
       "6     881則評論            君品酒店   第 30 名 (共 506 家) 台北市飯店  4.5分\n",
       "7     101則評論     皇家季節酒店北投溫泉館  第 236 名 (共 506 家) 台北市飯店    4分\n",
       "8     621則評論           圓山大飯店   第 60 名 (共 506 家) 台北市飯店    4分\n",
       "9      34則評論            東門旅店  第 166 名 (共 506 家) 台北市飯店    4分\n",
       "10    167則評論          水美溫泉會館  第 185 名 (共 506 家) 台北市飯店  3.5分\n",
       "11    306則評論  日勝生加賀屋北投溫泉度假飯店  第 115 名 (共 506 家) 台北市飯店    4分\n",
       "12    834則評論         台北福華大飯店   第 59 名 (共 506 家) 台北市飯店    4分\n",
       "13     18則評論      沐蘭台北時尚精品旅館  第 193 名 (共 506 家) 台北市飯店  4.5分\n",
       "14    923則評論   香格里拉台北遠東國際大飯店   第 22 名 (共 506 家) 台北市飯店  4.5分\n",
       "15     20則評論           南京小公館  第 161 名 (共 506 家) 台北市飯店  4.5分\n",
       "16    134則評論           天玥泉會館   第 81 名 (共 506 家) 台北市飯店    4分\n",
       "17  1,458則評論           台北W飯店   第 26 名 (共 506 家) 台北市飯店  4.5分\n",
       "18    692則評論         大倉久和大飯店   第 16 名 (共 506 家) 台北市飯店  4.5分\n",
       "19    326則評論         城市商旅南西館  第 102 名 (共 506 家) 台北市飯店    4分\n",
       "20  1,151則評論           凱撒大飯店   第 82 名 (共 506 家) 台北市飯店    4分\n",
       "21     65則評論          梅樓商務驛站  第 103 名 (共 506 家) 台北市飯店    4分\n",
       "22    734則評論         台北花園大酒店   第 28 名 (共 506 家) 台北市飯店  4.5分\n",
       "23    699則評論   新驛旅店 - 台北車站三館    第 7 名 (共 506 家) 台北市飯店  4.5分\n",
       "24  1,219則評論            晶華酒店   第 29 名 (共 506 家) 台北市飯店  4.5分\n",
       "25    733則評論            蜂巢旅店   第 19 名 (共 506 家) 台北市飯店  4.5分\n",
       "26    722則評論  丹迪旅店 – 大安森林公園店    第 8 名 (共 506 家) 台北市飯店  4.5分\n",
       "27    488則評論        台北文華東方酒店    第 4 名 (共 506 家) 台北市飯店  4.5分\n",
       "28     87則評論        漾館時尚溫泉旅館  第 165 名 (共 506 家) 台北市飯店    4分\n",
       "29    543則評論            新尚旅店   第 12 名 (共 506 家) 台北市飯店  4.5分"
      ]
     },
     "execution_count": 146,
     "metadata": {},
     "output_type": "execute_result"
    }
   ],
   "source": [
    "df"
   ]
  },
  {
   "cell_type": "code",
   "execution_count": 151,
   "metadata": {
    "collapsed": false
   },
   "outputs": [],
   "source": [
    "df['rate'] =df['rate'].map(lambda x: x.rstrip('分'.decode('utf-8')))"
   ]
  },
  {
   "cell_type": "code",
   "execution_count": 152,
   "metadata": {
    "collapsed": false
   },
   "outputs": [
    {
     "data": {
      "text/html": [
       "<div>\n",
       "<table border=\"1\" class=\"dataframe\">\n",
       "  <thead>\n",
       "    <tr style=\"text-align: right;\">\n",
       "      <th></th>\n",
       "      <th>comments</th>\n",
       "      <th>hotel</th>\n",
       "      <th>rank</th>\n",
       "      <th>rate</th>\n",
       "    </tr>\n",
       "  </thead>\n",
       "  <tbody>\n",
       "    <tr>\n",
       "      <th>0</th>\n",
       "      <td>181則評論</td>\n",
       "      <td>西悠飯店台北店</td>\n",
       "      <td>第 44 名 (共 506 家) 台北市飯店</td>\n",
       "      <td>4.5</td>\n",
       "    </tr>\n",
       "    <tr>\n",
       "      <th>1</th>\n",
       "      <td>907則評論</td>\n",
       "      <td>喜瑞飯店</td>\n",
       "      <td>第 10 名 (共 506 家) 台北市飯店</td>\n",
       "      <td>4.5</td>\n",
       "    </tr>\n",
       "    <tr>\n",
       "      <th>2</th>\n",
       "      <td>303則評論</td>\n",
       "      <td>北投麗禧溫泉酒店</td>\n",
       "      <td>第 32 名 (共 506 家) 台北市飯店</td>\n",
       "      <td>4.5</td>\n",
       "    </tr>\n",
       "    <tr>\n",
       "      <th>3</th>\n",
       "      <td>676則評論</td>\n",
       "      <td>亞都麗緻大飯店</td>\n",
       "      <td>第 37 名 (共 506 家) 台北市飯店</td>\n",
       "      <td>4.5</td>\n",
       "    </tr>\n",
       "    <tr>\n",
       "      <th>4</th>\n",
       "      <td>110則評論</td>\n",
       "      <td>力麗哲園商旅-台北</td>\n",
       "      <td>第 116 名 (共 506 家) 台北市飯店</td>\n",
       "      <td>4</td>\n",
       "    </tr>\n",
       "  </tbody>\n",
       "</table>\n",
       "</div>"
      ],
      "text/plain": [
       "  comments      hotel                     rank rate\n",
       "0   181則評論    西悠飯店台北店   第 44 名 (共 506 家) 台北市飯店  4.5\n",
       "1   907則評論       喜瑞飯店   第 10 名 (共 506 家) 台北市飯店  4.5\n",
       "2   303則評論   北投麗禧溫泉酒店   第 32 名 (共 506 家) 台北市飯店  4.5\n",
       "3   676則評論    亞都麗緻大飯店   第 37 名 (共 506 家) 台北市飯店  4.5\n",
       "4   110則評論  力麗哲園商旅-台北  第 116 名 (共 506 家) 台北市飯店    4"
      ]
     },
     "execution_count": 152,
     "metadata": {},
     "output_type": "execute_result"
    }
   ],
   "source": [
    "df.head()"
   ]
  },
  {
   "cell_type": "code",
   "execution_count": 156,
   "metadata": {
    "collapsed": false
   },
   "outputs": [],
   "source": [
    "df['rank2'] =df['rank'].str.extract(r'第 (\\d+) 名 \\(共 (\\d+) 家\\) 台北市飯店'.decode('utf-8'))[0]"
   ]
  },
  {
   "cell_type": "code",
   "execution_count": 157,
   "metadata": {
    "collapsed": false
   },
   "outputs": [
    {
     "data": {
      "text/html": [
       "<div>\n",
       "<table border=\"1\" class=\"dataframe\">\n",
       "  <thead>\n",
       "    <tr style=\"text-align: right;\">\n",
       "      <th></th>\n",
       "      <th>comments</th>\n",
       "      <th>hotel</th>\n",
       "      <th>rank</th>\n",
       "      <th>rate</th>\n",
       "      <th>rank2</th>\n",
       "    </tr>\n",
       "  </thead>\n",
       "  <tbody>\n",
       "    <tr>\n",
       "      <th>0</th>\n",
       "      <td>181則評論</td>\n",
       "      <td>西悠飯店台北店</td>\n",
       "      <td>第 44 名 (共 506 家) 台北市飯店</td>\n",
       "      <td>4.5</td>\n",
       "      <td>44</td>\n",
       "    </tr>\n",
       "    <tr>\n",
       "      <th>1</th>\n",
       "      <td>907則評論</td>\n",
       "      <td>喜瑞飯店</td>\n",
       "      <td>第 10 名 (共 506 家) 台北市飯店</td>\n",
       "      <td>4.5</td>\n",
       "      <td>10</td>\n",
       "    </tr>\n",
       "    <tr>\n",
       "      <th>2</th>\n",
       "      <td>303則評論</td>\n",
       "      <td>北投麗禧溫泉酒店</td>\n",
       "      <td>第 32 名 (共 506 家) 台北市飯店</td>\n",
       "      <td>4.5</td>\n",
       "      <td>32</td>\n",
       "    </tr>\n",
       "    <tr>\n",
       "      <th>3</th>\n",
       "      <td>676則評論</td>\n",
       "      <td>亞都麗緻大飯店</td>\n",
       "      <td>第 37 名 (共 506 家) 台北市飯店</td>\n",
       "      <td>4.5</td>\n",
       "      <td>37</td>\n",
       "    </tr>\n",
       "    <tr>\n",
       "      <th>4</th>\n",
       "      <td>110則評論</td>\n",
       "      <td>力麗哲園商旅-台北</td>\n",
       "      <td>第 116 名 (共 506 家) 台北市飯店</td>\n",
       "      <td>4</td>\n",
       "      <td>116</td>\n",
       "    </tr>\n",
       "    <tr>\n",
       "      <th>5</th>\n",
       "      <td>45則評論</td>\n",
       "      <td>北投荷豐溫泉會館</td>\n",
       "      <td>第 284 名 (共 506 家) 台北市飯店</td>\n",
       "      <td>3.5</td>\n",
       "      <td>284</td>\n",
       "    </tr>\n",
       "    <tr>\n",
       "      <th>6</th>\n",
       "      <td>881則評論</td>\n",
       "      <td>君品酒店</td>\n",
       "      <td>第 30 名 (共 506 家) 台北市飯店</td>\n",
       "      <td>4.5</td>\n",
       "      <td>30</td>\n",
       "    </tr>\n",
       "    <tr>\n",
       "      <th>7</th>\n",
       "      <td>101則評論</td>\n",
       "      <td>皇家季節酒店北投溫泉館</td>\n",
       "      <td>第 236 名 (共 506 家) 台北市飯店</td>\n",
       "      <td>4</td>\n",
       "      <td>236</td>\n",
       "    </tr>\n",
       "    <tr>\n",
       "      <th>8</th>\n",
       "      <td>621則評論</td>\n",
       "      <td>圓山大飯店</td>\n",
       "      <td>第 60 名 (共 506 家) 台北市飯店</td>\n",
       "      <td>4</td>\n",
       "      <td>60</td>\n",
       "    </tr>\n",
       "    <tr>\n",
       "      <th>9</th>\n",
       "      <td>34則評論</td>\n",
       "      <td>東門旅店</td>\n",
       "      <td>第 166 名 (共 506 家) 台北市飯店</td>\n",
       "      <td>4</td>\n",
       "      <td>166</td>\n",
       "    </tr>\n",
       "    <tr>\n",
       "      <th>10</th>\n",
       "      <td>167則評論</td>\n",
       "      <td>水美溫泉會館</td>\n",
       "      <td>第 185 名 (共 506 家) 台北市飯店</td>\n",
       "      <td>3.5</td>\n",
       "      <td>185</td>\n",
       "    </tr>\n",
       "    <tr>\n",
       "      <th>11</th>\n",
       "      <td>306則評論</td>\n",
       "      <td>日勝生加賀屋北投溫泉度假飯店</td>\n",
       "      <td>第 115 名 (共 506 家) 台北市飯店</td>\n",
       "      <td>4</td>\n",
       "      <td>115</td>\n",
       "    </tr>\n",
       "    <tr>\n",
       "      <th>12</th>\n",
       "      <td>834則評論</td>\n",
       "      <td>台北福華大飯店</td>\n",
       "      <td>第 59 名 (共 506 家) 台北市飯店</td>\n",
       "      <td>4</td>\n",
       "      <td>59</td>\n",
       "    </tr>\n",
       "    <tr>\n",
       "      <th>13</th>\n",
       "      <td>18則評論</td>\n",
       "      <td>沐蘭台北時尚精品旅館</td>\n",
       "      <td>第 193 名 (共 506 家) 台北市飯店</td>\n",
       "      <td>4.5</td>\n",
       "      <td>193</td>\n",
       "    </tr>\n",
       "    <tr>\n",
       "      <th>14</th>\n",
       "      <td>923則評論</td>\n",
       "      <td>香格里拉台北遠東國際大飯店</td>\n",
       "      <td>第 22 名 (共 506 家) 台北市飯店</td>\n",
       "      <td>4.5</td>\n",
       "      <td>22</td>\n",
       "    </tr>\n",
       "    <tr>\n",
       "      <th>15</th>\n",
       "      <td>20則評論</td>\n",
       "      <td>南京小公館</td>\n",
       "      <td>第 161 名 (共 506 家) 台北市飯店</td>\n",
       "      <td>4.5</td>\n",
       "      <td>161</td>\n",
       "    </tr>\n",
       "    <tr>\n",
       "      <th>16</th>\n",
       "      <td>134則評論</td>\n",
       "      <td>天玥泉會館</td>\n",
       "      <td>第 81 名 (共 506 家) 台北市飯店</td>\n",
       "      <td>4</td>\n",
       "      <td>81</td>\n",
       "    </tr>\n",
       "    <tr>\n",
       "      <th>17</th>\n",
       "      <td>1,458則評論</td>\n",
       "      <td>台北W飯店</td>\n",
       "      <td>第 26 名 (共 506 家) 台北市飯店</td>\n",
       "      <td>4.5</td>\n",
       "      <td>26</td>\n",
       "    </tr>\n",
       "    <tr>\n",
       "      <th>18</th>\n",
       "      <td>692則評論</td>\n",
       "      <td>大倉久和大飯店</td>\n",
       "      <td>第 16 名 (共 506 家) 台北市飯店</td>\n",
       "      <td>4.5</td>\n",
       "      <td>16</td>\n",
       "    </tr>\n",
       "    <tr>\n",
       "      <th>19</th>\n",
       "      <td>326則評論</td>\n",
       "      <td>城市商旅南西館</td>\n",
       "      <td>第 102 名 (共 506 家) 台北市飯店</td>\n",
       "      <td>4</td>\n",
       "      <td>102</td>\n",
       "    </tr>\n",
       "    <tr>\n",
       "      <th>20</th>\n",
       "      <td>1,151則評論</td>\n",
       "      <td>凱撒大飯店</td>\n",
       "      <td>第 82 名 (共 506 家) 台北市飯店</td>\n",
       "      <td>4</td>\n",
       "      <td>82</td>\n",
       "    </tr>\n",
       "    <tr>\n",
       "      <th>21</th>\n",
       "      <td>65則評論</td>\n",
       "      <td>梅樓商務驛站</td>\n",
       "      <td>第 103 名 (共 506 家) 台北市飯店</td>\n",
       "      <td>4</td>\n",
       "      <td>103</td>\n",
       "    </tr>\n",
       "    <tr>\n",
       "      <th>22</th>\n",
       "      <td>734則評論</td>\n",
       "      <td>台北花園大酒店</td>\n",
       "      <td>第 28 名 (共 506 家) 台北市飯店</td>\n",
       "      <td>4.5</td>\n",
       "      <td>28</td>\n",
       "    </tr>\n",
       "    <tr>\n",
       "      <th>23</th>\n",
       "      <td>699則評論</td>\n",
       "      <td>新驛旅店 - 台北車站三館</td>\n",
       "      <td>第 7 名 (共 506 家) 台北市飯店</td>\n",
       "      <td>4.5</td>\n",
       "      <td>7</td>\n",
       "    </tr>\n",
       "    <tr>\n",
       "      <th>24</th>\n",
       "      <td>1,219則評論</td>\n",
       "      <td>晶華酒店</td>\n",
       "      <td>第 29 名 (共 506 家) 台北市飯店</td>\n",
       "      <td>4.5</td>\n",
       "      <td>29</td>\n",
       "    </tr>\n",
       "    <tr>\n",
       "      <th>25</th>\n",
       "      <td>733則評論</td>\n",
       "      <td>蜂巢旅店</td>\n",
       "      <td>第 19 名 (共 506 家) 台北市飯店</td>\n",
       "      <td>4.5</td>\n",
       "      <td>19</td>\n",
       "    </tr>\n",
       "    <tr>\n",
       "      <th>26</th>\n",
       "      <td>722則評論</td>\n",
       "      <td>丹迪旅店 – 大安森林公園店</td>\n",
       "      <td>第 8 名 (共 506 家) 台北市飯店</td>\n",
       "      <td>4.5</td>\n",
       "      <td>8</td>\n",
       "    </tr>\n",
       "    <tr>\n",
       "      <th>27</th>\n",
       "      <td>488則評論</td>\n",
       "      <td>台北文華東方酒店</td>\n",
       "      <td>第 4 名 (共 506 家) 台北市飯店</td>\n",
       "      <td>4.5</td>\n",
       "      <td>4</td>\n",
       "    </tr>\n",
       "    <tr>\n",
       "      <th>28</th>\n",
       "      <td>87則評論</td>\n",
       "      <td>漾館時尚溫泉旅館</td>\n",
       "      <td>第 165 名 (共 506 家) 台北市飯店</td>\n",
       "      <td>4</td>\n",
       "      <td>165</td>\n",
       "    </tr>\n",
       "    <tr>\n",
       "      <th>29</th>\n",
       "      <td>543則評論</td>\n",
       "      <td>新尚旅店</td>\n",
       "      <td>第 12 名 (共 506 家) 台北市飯店</td>\n",
       "      <td>4.5</td>\n",
       "      <td>12</td>\n",
       "    </tr>\n",
       "  </tbody>\n",
       "</table>\n",
       "</div>"
      ],
      "text/plain": [
       "    comments           hotel                     rank rate rank2\n",
       "0     181則評論         西悠飯店台北店   第 44 名 (共 506 家) 台北市飯店  4.5    44\n",
       "1     907則評論            喜瑞飯店   第 10 名 (共 506 家) 台北市飯店  4.5    10\n",
       "2     303則評論        北投麗禧溫泉酒店   第 32 名 (共 506 家) 台北市飯店  4.5    32\n",
       "3     676則評論         亞都麗緻大飯店   第 37 名 (共 506 家) 台北市飯店  4.5    37\n",
       "4     110則評論       力麗哲園商旅-台北  第 116 名 (共 506 家) 台北市飯店    4   116\n",
       "5      45則評論        北投荷豐溫泉會館  第 284 名 (共 506 家) 台北市飯店  3.5   284\n",
       "6     881則評論            君品酒店   第 30 名 (共 506 家) 台北市飯店  4.5    30\n",
       "7     101則評論     皇家季節酒店北投溫泉館  第 236 名 (共 506 家) 台北市飯店    4   236\n",
       "8     621則評論           圓山大飯店   第 60 名 (共 506 家) 台北市飯店    4    60\n",
       "9      34則評論            東門旅店  第 166 名 (共 506 家) 台北市飯店    4   166\n",
       "10    167則評論          水美溫泉會館  第 185 名 (共 506 家) 台北市飯店  3.5   185\n",
       "11    306則評論  日勝生加賀屋北投溫泉度假飯店  第 115 名 (共 506 家) 台北市飯店    4   115\n",
       "12    834則評論         台北福華大飯店   第 59 名 (共 506 家) 台北市飯店    4    59\n",
       "13     18則評論      沐蘭台北時尚精品旅館  第 193 名 (共 506 家) 台北市飯店  4.5   193\n",
       "14    923則評論   香格里拉台北遠東國際大飯店   第 22 名 (共 506 家) 台北市飯店  4.5    22\n",
       "15     20則評論           南京小公館  第 161 名 (共 506 家) 台北市飯店  4.5   161\n",
       "16    134則評論           天玥泉會館   第 81 名 (共 506 家) 台北市飯店    4    81\n",
       "17  1,458則評論           台北W飯店   第 26 名 (共 506 家) 台北市飯店  4.5    26\n",
       "18    692則評論         大倉久和大飯店   第 16 名 (共 506 家) 台北市飯店  4.5    16\n",
       "19    326則評論         城市商旅南西館  第 102 名 (共 506 家) 台北市飯店    4   102\n",
       "20  1,151則評論           凱撒大飯店   第 82 名 (共 506 家) 台北市飯店    4    82\n",
       "21     65則評論          梅樓商務驛站  第 103 名 (共 506 家) 台北市飯店    4   103\n",
       "22    734則評論         台北花園大酒店   第 28 名 (共 506 家) 台北市飯店  4.5    28\n",
       "23    699則評論   新驛旅店 - 台北車站三館    第 7 名 (共 506 家) 台北市飯店  4.5     7\n",
       "24  1,219則評論            晶華酒店   第 29 名 (共 506 家) 台北市飯店  4.5    29\n",
       "25    733則評論            蜂巢旅店   第 19 名 (共 506 家) 台北市飯店  4.5    19\n",
       "26    722則評論  丹迪旅店 – 大安森林公園店    第 8 名 (共 506 家) 台北市飯店  4.5     8\n",
       "27    488則評論        台北文華東方酒店    第 4 名 (共 506 家) 台北市飯店  4.5     4\n",
       "28     87則評論        漾館時尚溫泉旅館  第 165 名 (共 506 家) 台北市飯店    4   165\n",
       "29    543則評論            新尚旅店   第 12 名 (共 506 家) 台北市飯店  4.5    12"
      ]
     },
     "execution_count": 157,
     "metadata": {},
     "output_type": "execute_result"
    }
   ],
   "source": [
    "df"
   ]
  }
 ],
 "metadata": {
  "kernelspec": {
   "display_name": "Python 2",
   "language": "python",
   "name": "python2"
  },
  "language_info": {
   "codemirror_mode": {
    "name": "ipython",
    "version": 2
   },
   "file_extension": ".py",
   "mimetype": "text/x-python",
   "name": "python",
   "nbconvert_exporter": "python",
   "pygments_lexer": "ipython2",
   "version": "2.7.11"
  }
 },
 "nbformat": 4,
 "nbformat_minor": 0
}
