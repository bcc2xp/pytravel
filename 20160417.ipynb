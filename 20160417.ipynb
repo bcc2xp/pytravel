{
 "cells": [
  {
   "cell_type": "markdown",
   "metadata": {},
   "source": [
    "## Bookings.com"
   ]
  },
  {
   "cell_type": "code",
   "execution_count": 4,
   "metadata": {
    "collapsed": false
   },
   "outputs": [
    {
     "name": "stdout",
     "output_type": "stream",
     "text": [
      "<Response [200]>\n"
     ]
    }
   ],
   "source": [
    "import requests\n",
    "#res = requests.get('http://www.booking.com/reviews/tw/hotel/the-okura-prestige-taipei.zh-tw.html?label=gen173nr-1FCAEoggJCAlhYSDNiBW5vcmVmaOcBiAEBmAEwuAEGyAEM2AEB6AEB-AELqAID;sid=58f6ae6eb06cf46e60ae2fd1e3be9364;dcid=12')\n",
    "res = requests.get('http://www.booking.com/reviews/tw/hotel/the-okura-prestige-taipei.zh-tw.html')\n",
    "print res"
   ]
  },
  {
   "cell_type": "code",
   "execution_count": 13,
   "metadata": {
    "collapsed": false
   },
   "outputs": [
    {
     "name": "stdout",
     "output_type": "stream",
     "text": [
      "         df             \n",
      " \n",
      "   23432        \n",
      "df             \n",
      " \n",
      "   23432\n"
     ]
    }
   ],
   "source": [
    "a = '         df             \\n \\n   23432        '\n",
    "print a\n",
    "print a.strip()"
   ]
  },
  {
   "cell_type": "code",
   "execution_count": 17,
   "metadata": {
    "collapsed": false
   },
   "outputs": [],
   "source": [
    "from bs4 import BeautifulSoup as bs\n",
    "\n",
    "ary = []\n",
    "soup = bs(res.text)\n",
    "for review in soup.select('.review_item'):\n",
    "   ary.append({ 'header':review.select('.review_item_header_content')[0].text.strip() , \n",
    "        'country':review.select('.reviewer_country')[0].text.strip(),\n",
    "        'content':review.select('.review_item_review_content')[0].text})"
   ]
  },
  {
   "cell_type": "code",
   "execution_count": 19,
   "metadata": {
    "collapsed": false
   },
   "outputs": [],
   "source": [
    "import pandas as pd\n",
    "df = pd.DataFrame(ary)"
   ]
  },
  {
   "cell_type": "code",
   "execution_count": 21,
   "metadata": {
    "collapsed": false
   },
   "outputs": [
    {
     "data": {
      "text/html": [
       "<div>\n",
       "<table border=\"1\" class=\"dataframe\">\n",
       "  <thead>\n",
       "    <tr style=\"text-align: right;\">\n",
       "      <th></th>\n",
       "      <th>content</th>\n",
       "      <th>country</th>\n",
       "      <th>header</th>\n",
       "    </tr>\n",
       "  </thead>\n",
       "  <tbody>\n",
       "    <tr>\n",
       "      <th>0</th>\n",
       "      <td>\\n눇員工很有禮貌，房間亦很寬敞舒適。我們很滿意你們的服務，下次再來台灣也會入住你們的酒店！\\n</td>\n",
       "      <td>香港</td>\n",
       "      <td>「員工很有禮貌，房間亦很寬敞舒適。」</td>\n",
       "    </tr>\n",
       "    <tr>\n",
       "      <th>1</th>\n",
       "      <td>\\n눉无눇房间宽敞干净，服务人员也很热情，酒店距离宁夏夜市走路大概需要十五分钟\\n</td>\n",
       "      <td>中國</td>\n",
       "      <td>「宾至如归的体验」</td>\n",
       "    </tr>\n",
       "    <tr>\n",
       "      <th>2</th>\n",
       "      <td>\\n눉第五次入住，禮賓員換了一大批女生，沒有笑容、不殷期。房內裝修開始殘舊了。基本上仍達水平...</td>\n",
       "      <td>澳門</td>\n",
       "      <td>「基本上仍達水平，但性價比不高」</td>\n",
       "    </tr>\n",
       "    <tr>\n",
       "      <th>3</th>\n",
       "      <td>\\n눉Check In時需要提供每一位住客的身分證，過於嚴苛。令人感受到很大的不愉快。\\n</td>\n",
       "      <td>臺灣</td>\n",
       "      <td>「一個不值得住宿的飯店」</td>\n",
       "    </tr>\n",
       "    <tr>\n",
       "      <th>4</th>\n",
       "      <td>\\n눇1、頂樓泳池及三溫暖非常棒，溫度調節好，服務人員態度好，很有禮貌\\r2、餐飲服務佳，桃...</td>\n",
       "      <td>臺灣</td>\n",
       "      <td>「溫馨禮貌，從顧客需求設計硬體建築設備，及很好的軟體服務流程，非常舒適。台北市首屈一指的選擇」</td>\n",
       "    </tr>\n",
       "  </tbody>\n",
       "</table>\n",
       "</div>"
      ],
      "text/plain": [
       "                                             content country  \\\n",
       "0   \\n눇員工很有禮貌，房間亦很寬敞舒適。我們很滿意你們的服務，下次再來台灣也會入住你們的酒店！\\n      香港   \n",
       "1          \\n눉无눇房间宽敞干净，服务人员也很热情，酒店距离宁夏夜市走路大概需要十五分钟\\n      中國   \n",
       "2  \\n눉第五次入住，禮賓員換了一大批女生，沒有笑容、不殷期。房內裝修開始殘舊了。基本上仍達水平...      澳門   \n",
       "3      \\n눉Check In時需要提供每一位住客的身分證，過於嚴苛。令人感受到很大的不愉快。\\n      臺灣   \n",
       "4  \\n눇1、頂樓泳池及三溫暖非常棒，溫度調節好，服務人員態度好，很有禮貌\\r2、餐飲服務佳，桃...      臺灣   \n",
       "\n",
       "                                            header  \n",
       "0                               「員工很有禮貌，房間亦很寬敞舒適。」  \n",
       "1                                        「宾至如归的体验」  \n",
       "2                                 「基本上仍達水平，但性價比不高」  \n",
       "3                                     「一個不值得住宿的飯店」  \n",
       "4  「溫馨禮貌，從顧客需求設計硬體建築設備，及很好的軟體服務流程，非常舒適。台北市首屈一指的選擇」  "
      ]
     },
     "execution_count": 21,
     "metadata": {},
     "output_type": "execute_result"
    }
   ],
   "source": [
    "df.head()"
   ]
  },
  {
   "cell_type": "code",
   "execution_count": 25,
   "metadata": {
    "collapsed": false
   },
   "outputs": [
    {
     "data": {
      "text/html": [
       "<div>\n",
       "<table border=\"1\" class=\"dataframe\">\n",
       "  <thead>\n",
       "    <tr style=\"text-align: right;\">\n",
       "      <th></th>\n",
       "      <th>content</th>\n",
       "      <th>country</th>\n",
       "      <th>header</th>\n",
       "    </tr>\n",
       "  </thead>\n",
       "  <tbody>\n",
       "    <tr>\n",
       "      <th>0</th>\n",
       "      <td>\\n눇員工很有禮貌，房間亦很寬敞舒適。我們很滿意你們的服務，下次再來台灣也會入住你們的酒店！\\n</td>\n",
       "      <td>香港</td>\n",
       "      <td>「員工很有禮貌，房間亦很寬敞舒適。」</td>\n",
       "    </tr>\n",
       "    <tr>\n",
       "      <th>4</th>\n",
       "      <td>\\n눇1、頂樓泳池及三溫暖非常棒，溫度調節好，服務人員態度好，很有禮貌\\r2、餐飲服務佳，桃...</td>\n",
       "      <td>臺灣</td>\n",
       "      <td>「溫馨禮貌，從顧客需求設計硬體建築設備，及很好的軟體服務流程，非常舒適。台北市首屈一指的選擇」</td>\n",
       "    </tr>\n",
       "  </tbody>\n",
       "</table>\n",
       "</div>"
      ],
      "text/plain": [
       "                                             content country  \\\n",
       "0   \\n눇員工很有禮貌，房間亦很寬敞舒適。我們很滿意你們的服務，下次再來台灣也會入住你們的酒店！\\n      香港   \n",
       "4  \\n눇1、頂樓泳池及三溫暖非常棒，溫度調節好，服務人員態度好，很有禮貌\\r2、餐飲服務佳，桃...      臺灣   \n",
       "\n",
       "                                            header  \n",
       "0                               「員工很有禮貌，房間亦很寬敞舒適。」  \n",
       "4  「溫馨禮貌，從顧客需求設計硬體建築設備，及很好的軟體服務流程，非常舒適。台北市首屈一指的選擇」  "
      ]
     },
     "execution_count": 25,
     "metadata": {},
     "output_type": "execute_result"
    }
   ],
   "source": [
    "df[df['header'].str.contains('禮貌'.decode('utf-8'))]"
   ]
  },
  {
   "cell_type": "code",
   "execution_count": 29,
   "metadata": {
    "collapsed": false
   },
   "outputs": [
    {
     "data": {
      "text/html": [
       "<div>\n",
       "<table border=\"1\" class=\"dataframe\">\n",
       "  <thead>\n",
       "    <tr style=\"text-align: right;\">\n",
       "      <th></th>\n",
       "      <th>content</th>\n",
       "      <th>header</th>\n",
       "    </tr>\n",
       "    <tr>\n",
       "      <th>country</th>\n",
       "      <th></th>\n",
       "      <th></th>\n",
       "    </tr>\n",
       "  </thead>\n",
       "  <tbody>\n",
       "    <tr>\n",
       "      <th>中國</th>\n",
       "      <td>6</td>\n",
       "      <td>6</td>\n",
       "    </tr>\n",
       "    <tr>\n",
       "      <th>日本</th>\n",
       "      <td>1</td>\n",
       "      <td>1</td>\n",
       "    </tr>\n",
       "    <tr>\n",
       "      <th>比利時</th>\n",
       "      <td>1</td>\n",
       "      <td>1</td>\n",
       "    </tr>\n",
       "    <tr>\n",
       "      <th>澳洲</th>\n",
       "      <td>1</td>\n",
       "      <td>1</td>\n",
       "    </tr>\n",
       "    <tr>\n",
       "      <th>澳門</th>\n",
       "      <td>9</td>\n",
       "      <td>9</td>\n",
       "    </tr>\n",
       "    <tr>\n",
       "      <th>美國</th>\n",
       "      <td>1</td>\n",
       "      <td>1</td>\n",
       "    </tr>\n",
       "    <tr>\n",
       "      <th>臺灣</th>\n",
       "      <td>40</td>\n",
       "      <td>40</td>\n",
       "    </tr>\n",
       "    <tr>\n",
       "      <th>香港</th>\n",
       "      <td>16</td>\n",
       "      <td>16</td>\n",
       "    </tr>\n",
       "  </tbody>\n",
       "</table>\n",
       "</div>"
      ],
      "text/plain": [
       "         content  header\n",
       "country                 \n",
       "中國             6       6\n",
       "日本             1       1\n",
       "比利時            1       1\n",
       "澳洲             1       1\n",
       "澳門             9       9\n",
       "美國             1       1\n",
       "臺灣            40      40\n",
       "香港            16      16"
      ]
     },
     "execution_count": 29,
     "metadata": {},
     "output_type": "execute_result"
    }
   ],
   "source": [
    "df.groupby('country').count()"
   ]
  },
  {
   "cell_type": "markdown",
   "metadata": {},
   "source": [
    "### TripAdvisor Crawler"
   ]
  },
  {
   "cell_type": "code",
   "execution_count": null,
   "metadata": {
    "collapsed": true
   },
   "outputs": [],
   "source": [
    "#https://www.tripadvisor.com.tw/ExpandedUserReviews-g293913-d1448765?\n",
    "#    target=282289363&context=1&\n",
    "#    reviews=282289363,305947335,267945322,267817921,264375419\n",
    "#    &servlet=Hotel_Review&expand=1"
   ]
  },
  {
   "cell_type": "code",
   "execution_count": 37,
   "metadata": {
    "collapsed": false
   },
   "outputs": [
    {
     "name": "stdout",
     "output_type": "stream",
     "text": [
      "234\n"
     ]
    }
   ],
   "source": [
    "from bs4 import BeautifulSoup as bs\n",
    "soup = bs('<a href=123 qoo=234></a>')\n",
    "print soup.select('a')[0]['qoo']"
   ]
  },
  {
   "cell_type": "code",
   "execution_count": 43,
   "metadata": {
    "collapsed": false
   },
   "outputs": [
    {
     "name": "stdout",
     "output_type": "stream",
     "text": [
      "['a']\n",
      "['a', 'b']\n",
      "['a', 'b', 'c']\n",
      "a,b,c\n",
      "a@b@c\n"
     ]
    }
   ],
   "source": [
    "a = []\n",
    "a.append('a')\n",
    "print a\n",
    "a.append('b')\n",
    "print a\n",
    "a.append('c')\n",
    "print a\n",
    "\n",
    "print ','.join(a)\n",
    "print '@'.join(a)"
   ]
  },
  {
   "cell_type": "code",
   "execution_count": 44,
   "metadata": {
    "collapsed": false
   },
   "outputs": [],
   "source": [
    "import requests\n",
    "import re\n",
    "from bs4 import BeautifulSoup as bs\n",
    "res = requests.get('https://www.tripadvisor.com.tw/Hotel_Review-g293913-d1448765-Reviews-Royal_Seasons_Hotel_Hot_Spring_Beitou-Taipei.html')\n",
    "soup = bs(res.text)\n",
    "review_list = []\n",
    "for review in soup.select('.reviewSelector'):\n",
    "    review_list.append(review['id'].strip('review_'))\n",
    "review_str = ','.join(review_list)\n"
   ]
  },
  {
   "cell_type": "code",
   "execution_count": 45,
   "metadata": {
    "collapsed": false
   },
   "outputs": [
    {
     "name": "stdout",
     "output_type": "stream",
     "text": [
      "356053003,355244357,348335947,336397414,324677242,282289363,305947335,267945322,267817921,264375419\n"
     ]
    }
   ],
   "source": [
    "print review_str"
   ]
  },
  {
   "cell_type": "code",
   "execution_count": 51,
   "metadata": {
    "collapsed": false
   },
   "outputs": [
    {
     "name": "stdout",
     "output_type": "stream",
     "text": [
      "Hi, my name is david and I am 32 years old\n",
      "Hi, my name is david and I am 32 years old\n",
      "Hi, my name is david and I am 32 years old\n",
      "Hi, my name is david and I am david years old\n"
     ]
    }
   ],
   "source": [
    "name ='david'\n",
    "age = '32'\n",
    "print 'Hi, my name is ' + name + ' and I am ' + age + ' years old'\n",
    "print 'Hi, my name is {} and I am {} years old'.format(name, age)\n",
    "print 'Hi, my name is {0} and I am {1} years old'.format(name, age)\n",
    "print 'Hi, my name is {0} and I am {0} years old'.format(name, age)"
   ]
  },
  {
   "cell_type": "code",
   "execution_count": 55,
   "metadata": {
    "collapsed": false
   },
   "outputs": [
    {
     "name": "stdout",
     "output_type": "stream",
     "text": [
      "356053003\n"
     ]
    }
   ],
   "source": [
    "url = 'https://www.tripadvisor.com.tw/ExpandedUserReviews-g293913-d1448765?target={}&context=1&reviews={}&servlet=Hotel_Review&expand=1'\n",
    "single_review =  review_str.split(',')[0]\n",
    "print single_review\n",
    "review_url =  url.format(single_review, review_str)"
   ]
  },
  {
   "cell_type": "code",
   "execution_count": 59,
   "metadata": {
    "collapsed": false
   },
   "outputs": [
    {
     "name": "stdout",
     "output_type": "stream",
     "text": [
      "服務人員態度不佳 2分 2016年3月16日 \n",
      "\n",
      "服務人員的態度不是很好，部分櫃檯人員臉很臭，詢問時態度不耐，讓人很不舒服，好像客人的詢問造成他多大的不方便一樣，早餐的選擇少得可憐，這是可惜之處。\n",
      "\n",
      "\n",
      "整體不錯 4分 2016年3月14日 \n",
      "\n",
      "1. 近地熱谷，新北投車站走上山坡要15分鐘，酒店有接駁車，但需預約2. 家庭房，很大，有4張床，頗舒適3. 浴室很大，雙面盆，溫泉池2人使用較合適，3人尚可，水溫熱度足4. 早餐款式不多，中式為主，水準尚可5. 沿途北投圖書館等參觀點\n",
      "\n",
      "\n",
      "價格合理 4分 2016年2月17日的評論\n",
      "\n",
      "\n",
      "位置較近新北投站，不坐接駁車也可步行，酒店内外裝修新，唯獨房間細小及沒有椅子。房間内温泉湯池尚可，泉水夠熱。窗簾用木百頁簾，感覺不太安全，員工有禮貌及親切。以價錢來算，整體很滿意。\n",
      "\n",
      "\n",
      "泡湯房的空間在大一些就更好了! 4分 2016年1月1日的評論\n",
      "\n",
      "\n",
      "北投皇家季節的溫泉區位於台北都會區，交通是比較方便的。酒店沒有停車場，若是開車就得自行在山路邊找車位。泡湯的房型比較小，浴池也不大，沒有床，沒有窗外景觀。適合天冷時想就近找得地方泡湯，對設施要求不高的好選擇。\n",
      "\n",
      "\n",
      "房间里有独立温泉 4分 2015年10月24日的評論\n",
      "\n",
      "\n",
      "这家酒店离北投区的温泉非常近，走路到站点只需要15分钟。房间非常别致，床很舒服，但是房间设备整体比较旧了。性价比还不错，也很干净。\n",
      "\n",
      "\n",
      "外表大器的酒店 3分 2015年6月23日的評論\n",
      "\n",
      "\n",
      "飯店的接待大廳是在三樓，所以是依山坡地而建，因為地點離新北投捷運站有點距離，所以有提供接送服務，平時8點至21點每半小時從飯店發車，如果要搭車上酒店則需要與飯店預約。這次入住的是波賽頓客房，也許是溫泉館的關係，浴池跟床同大小空間，進門以後右手邊是單人衣櫃及一個小櫃子(有冰箱)，然後左手邊就是廁所，床緊貼著廁所與浴室的牆壁，宛若夾心餅乾，床的對面也就是進房後的右側是個大鏡子跟洗手台，電視也許是方便入浴觀看，所以是掛在床的左側(廁所那面牆)。電視的部分訊號沒有很好，有些雜訊出現。浴池很不錯，很大，池內還有兩塊石頭製的小椅子，不過因為房型的關係，池子的窗戶面對的是管線設施，有些可惜。早餐頗豐盛，一樣是中西式合併，還有多種蔬菜可食，配上大氣的裝潢，整體來說早餐是可以吃得很幸福的。\n",
      "\n",
      "\n",
      "很棒的私人溫泉，相當好的酒店 4分 2015年6月20日的評論\n",
      "\n",
      "\n",
      "非常享受我在這裏度過的時光。真的特別喜歡這裏的私人溫泉。事實上，房間里的私人溫泉是唯一真正令人傾倒的。房間小但是舒服的床彌補了這個缺點。早餐還將就。\n",
      "\n",
      "\n",
      "泡溫泉的好選擇 3分 2015年4月26日的評論\n",
      "\n",
      "\n",
      "我們在官網訂購無窗型的房間，房型非常小，有一半是浴室，圓形浴缸很大，泡溫泉很舒服，但狹小的床，對於睡眠品質來說，住一晚的空間有壓迫感，電視的位置也讓人覺得不太方便。另外在等待check in的時間有點久，似乎是房間尚未整理好，我們在大廳等了一段時間才能進房。\n",
      "\n",
      "\n",
      "可以泡私湯，一定要選雅典娜房。 4分 2015年4月13日的評論\n",
      "\n",
      "\n",
      "去之前就搜過，發覺評價很兩極。到了以後就明白了，不同房型差異還真的是很大，我們入住的是高級房，就是雅典娜房，是乾濕分離的，覺得還是很不錯的，床大也舒服，裝修是歐式古典的。浴室有個圓形池子可以泡私湯，池子很大容納3個人都沒問題啊。不過倒真的是沒什麼硫磺味。早餐不好。沒什麼可吃的。。酒店位置不錯，周圍景色很美，清晨起床散散步很舒服。步行五六分鐘下山就有便利店和商圈。每半小時有接駁車送到捷運站。\n",
      "\n",
      "\n",
      "除房間附獨立温泉的好處外，其餘只屬一般 4分 2015年4月8日的評論\n",
      "\n",
      "\n",
      "位置1. 距離新北投站約15分鐘步程，但位處山腰，如拖着行李，並不方便2. 距離地熱谷約5分鐘步程裝修1. 裝修只屬一般服務1. 職員水平只屬一般，並不專業2. 寄存的行李，只隨意地放在大堂設施1. 設施一般，尚算新淨2. 房間設獨立温泉，非泉方便，但要注滿泉水，需時約20分鐘早餐1. 選擇太少，是住过的酒店最差的2. 食物質素偏低總結如希望以合理價錢享用附設獨立温泉的房間，可以考慮，其餘則不要有太大期望\n",
      "\n",
      "\n"
     ]
    }
   ],
   "source": [
    "res = requests.get(review_url)\n",
    "soup = bs(res.text)\n",
    "for review in soup.select('.extended'):\n",
    "    quotes = review.select('.noQuotes')[0].text \n",
    "    rating = review.select('.rate > img')[0]['alt']\n",
    "    ratingdate =  review.select('.ratingDate')[0].get('title', review.select('.ratingDate')[0].text)\n",
    "    comment =review.select('.entry')[0].text\n",
    "    print quotes, rating, ratingdate, comment"
   ]
  },
  {
   "cell_type": "code",
   "execution_count": 60,
   "metadata": {
    "collapsed": true
   },
   "outputs": [],
   "source": [
    "res = requests.get(review_url)\n",
    "soup = bs(res.text)\n",
    "review_list = []\n",
    "for review in soup.select('.extended'):    \n",
    "    quotes = review.select('.noQuotes')[0].text \n",
    "    rating = review.select('.rate > img')[0]['alt']\n",
    "    ratingdate =  review.select('.ratingDate')[0].get('title', review.select('.ratingDate')[0].text)\n",
    "    comment =review.select('.entry')[0].text\n",
    "    review_list.append({'quotes':quotes, 'rating':rating, 'ratingdate':ratingdate, 'comment':comment})"
   ]
  },
  {
   "cell_type": "code",
   "execution_count": 61,
   "metadata": {
    "collapsed": true
   },
   "outputs": [],
   "source": [
    "import pandas as pd\n",
    "df = pd.DataFrame(review_list)"
   ]
  },
  {
   "cell_type": "code",
   "execution_count": 62,
   "metadata": {
    "collapsed": false
   },
   "outputs": [
    {
     "data": {
      "text/html": [
       "<div>\n",
       "<table border=\"1\" class=\"dataframe\">\n",
       "  <thead>\n",
       "    <tr style=\"text-align: right;\">\n",
       "      <th></th>\n",
       "      <th>comment</th>\n",
       "      <th>quotes</th>\n",
       "      <th>rating</th>\n",
       "      <th>ratingdate</th>\n",
       "    </tr>\n",
       "  </thead>\n",
       "  <tbody>\n",
       "    <tr>\n",
       "      <th>0</th>\n",
       "      <td>\\n\\n服務人員的態度不是很好，部分櫃檯人員臉很臭，詢問時態度不耐，讓人很不舒服，好像客人的...</td>\n",
       "      <td>服務人員態度不佳</td>\n",
       "      <td>2分</td>\n",
       "      <td>2016年3月16日</td>\n",
       "    </tr>\n",
       "    <tr>\n",
       "      <th>1</th>\n",
       "      <td>\\n\\n1. 近地熱谷，新北投車站走上山坡要15分鐘，酒店有接駁車，但需預約2. 家庭房，很...</td>\n",
       "      <td>整體不錯</td>\n",
       "      <td>4分</td>\n",
       "      <td>2016年3月14日</td>\n",
       "    </tr>\n",
       "    <tr>\n",
       "      <th>2</th>\n",
       "      <td>\\n\\n位置較近新北投站，不坐接駁車也可步行，酒店内外裝修新，唯獨房間細小及沒有椅子。房間内...</td>\n",
       "      <td>價格合理</td>\n",
       "      <td>4分</td>\n",
       "      <td>2016年2月17日的評論\\n</td>\n",
       "    </tr>\n",
       "    <tr>\n",
       "      <th>3</th>\n",
       "      <td>\\n\\n北投皇家季節的溫泉區位於台北都會區，交通是比較方便的。酒店沒有停車場，若是開車就得自...</td>\n",
       "      <td>泡湯房的空間在大一些就更好了!</td>\n",
       "      <td>4分</td>\n",
       "      <td>2016年1月1日的評論\\n</td>\n",
       "    </tr>\n",
       "    <tr>\n",
       "      <th>4</th>\n",
       "      <td>\\n\\n这家酒店离北投区的温泉非常近，走路到站点只需要15分钟。房间非常别致，床很舒服，但是...</td>\n",
       "      <td>房间里有独立温泉</td>\n",
       "      <td>4分</td>\n",
       "      <td>2015年10月24日的評論\\n</td>\n",
       "    </tr>\n",
       "  </tbody>\n",
       "</table>\n",
       "</div>"
      ],
      "text/plain": [
       "                                             comment           quotes rating  \\\n",
       "0  \\n\\n服務人員的態度不是很好，部分櫃檯人員臉很臭，詢問時態度不耐，讓人很不舒服，好像客人的...         服務人員態度不佳     2分   \n",
       "1  \\n\\n1. 近地熱谷，新北投車站走上山坡要15分鐘，酒店有接駁車，但需預約2. 家庭房，很...             整體不錯     4分   \n",
       "2  \\n\\n位置較近新北投站，不坐接駁車也可步行，酒店内外裝修新，唯獨房間細小及沒有椅子。房間内...             價格合理     4分   \n",
       "3  \\n\\n北投皇家季節的溫泉區位於台北都會區，交通是比較方便的。酒店沒有停車場，若是開車就得自...  泡湯房的空間在大一些就更好了!     4分   \n",
       "4  \\n\\n这家酒店离北投区的温泉非常近，走路到站点只需要15分钟。房间非常别致，床很舒服，但是...         房间里有独立温泉     4分   \n",
       "\n",
       "         ratingdate  \n",
       "0        2016年3月16日  \n",
       "1        2016年3月14日  \n",
       "2   2016年2月17日的評論\\n  \n",
       "3    2016年1月1日的評論\\n  \n",
       "4  2015年10月24日的評論\\n  "
      ]
     },
     "execution_count": 62,
     "metadata": {},
     "output_type": "execute_result"
    }
   ],
   "source": [
    "df.head()"
   ]
  },
  {
   "cell_type": "markdown",
   "metadata": {},
   "source": [
    "### 取得多頁評論"
   ]
  },
  {
   "cell_type": "code",
   "execution_count": null,
   "metadata": {
    "collapsed": true
   },
   "outputs": [],
   "source": [
    "https://www.tripadvisor.com.tw/Hotel_Review-g293913-d1448765-Reviews-\n",
    "    Royal_Seasons_Hotel_Hot_Spring_Beitou-Taipei.html#REVIEWS\n",
    "https://www.tripadvisor.com.tw/Hotel_Review-g293913-d1448765-Reviews-\n",
    "    or10-Royal_Seasons_Hotel_Hot_Spring_Beitou-Taipei.html#REVIEWS\n",
    "https://www.tripadvisor.com.tw/Hotel_Review-g293913-d1448765-Reviews-\n",
    "    or20-Royal_Seasons_Hotel_Hot_Spring_Beitou-Taipei.html#REVIEWS\n",
    "https://www.tripadvisor.com.tw/Hotel_Review-g293913-d1448765-Reviews-\n",
    "    or30-Royal_Seasons_Hotel_Hot_Spring_Beitou-Taipei.html#REVIEWS"
   ]
  },
  {
   "cell_type": "code",
   "execution_count": 72,
   "metadata": {
    "collapsed": false
   },
   "outputs": [
    {
     "name": "stdout",
     "output_type": "stream",
     "text": [
      "<type 'unicode'>\n",
      "<type 'int'>\n"
     ]
    }
   ],
   "source": [
    "import requests\n",
    "from bs4 import BeautifulSoup as bs\n",
    "res = requests.get('https://www.tripadvisor.com.tw/Hotel_Review-g293913-d1448765-Reviews-Royal_Seasons_Hotel_Hot_Spring_Beitou-Taipei.html#review_267817921')\n",
    "soup = bs(res.text)\n",
    "#print len(soup.select('.pageNum'))\n",
    "print type(soup.select('.pageNum')[-1].text)\n",
    "print type(int(soup.select('.pageNum')[-1].text))\n",
    "pagenum = int(soup.select('.pageNum')[-1].text)"
   ]
  },
  {
   "cell_type": "code",
   "execution_count": 66,
   "metadata": {
    "collapsed": false
   },
   "outputs": [
    {
     "name": "stdout",
     "output_type": "stream",
     "text": [
      "5\n",
      "4\n"
     ]
    }
   ],
   "source": [
    "a = [1,2,3,4,5]\n",
    "print a[-1]\n",
    "print a[-2]"
   ]
  },
  {
   "cell_type": "code",
   "execution_count": 75,
   "metadata": {
    "collapsed": false
   },
   "outputs": [
    {
     "name": "stdout",
     "output_type": "stream",
     "text": [
      "https://www.tripadvisor.com.tw/Hotel_Review-g293913-d1448765-Reviews-or10-Royal_Seasons_Hotel_Hot_Spring_Beitou-Taipei.html#REVIEWS\n",
      "https://www.tripadvisor.com.tw/Hotel_Review-g293913-d1448765-Reviews-or20-Royal_Seasons_Hotel_Hot_Spring_Beitou-Taipei.html#REVIEWS\n",
      "https://www.tripadvisor.com.tw/Hotel_Review-g293913-d1448765-Reviews-or30-Royal_Seasons_Hotel_Hot_Spring_Beitou-Taipei.html#REVIEWS\n",
      "https://www.tripadvisor.com.tw/Hotel_Review-g293913-d1448765-Reviews-or40-Royal_Seasons_Hotel_Hot_Spring_Beitou-Taipei.html#REVIEWS\n",
      "https://www.tripadvisor.com.tw/Hotel_Review-g293913-d1448765-Reviews-or50-Royal_Seasons_Hotel_Hot_Spring_Beitou-Taipei.html#REVIEWS\n",
      "https://www.tripadvisor.com.tw/Hotel_Review-g293913-d1448765-Reviews-or60-Royal_Seasons_Hotel_Hot_Spring_Beitou-Taipei.html#REVIEWS\n",
      "https://www.tripadvisor.com.tw/Hotel_Review-g293913-d1448765-Reviews-or70-Royal_Seasons_Hotel_Hot_Spring_Beitou-Taipei.html#REVIEWS\n",
      "https://www.tripadvisor.com.tw/Hotel_Review-g293913-d1448765-Reviews-or80-Royal_Seasons_Hotel_Hot_Spring_Beitou-Taipei.html#REVIEWS\n",
      "https://www.tripadvisor.com.tw/Hotel_Review-g293913-d1448765-Reviews-or90-Royal_Seasons_Hotel_Hot_Spring_Beitou-Taipei.html#REVIEWS\n",
      "https://www.tripadvisor.com.tw/Hotel_Review-g293913-d1448765-Reviews-or100-Royal_Seasons_Hotel_Hot_Spring_Beitou-Taipei.html#REVIEWS\n"
     ]
    }
   ],
   "source": [
    "pageurl = 'https://www.tripadvisor.com.tw/Hotel_Review-g293913-d1448765-Reviews-or{}-Royal_Seasons_Hotel_Hot_Spring_Beitou-Taipei.html#REVIEWS'\n",
    "for i in range(1, pagenum):\n",
    "    print pageurl.format(i *10)"
   ]
  },
  {
   "cell_type": "markdown",
   "metadata": {},
   "source": [
    "### 整理抽取函式"
   ]
  },
  {
   "cell_type": "code",
   "execution_count": 83,
   "metadata": {
    "collapsed": true
   },
   "outputs": [],
   "source": [
    "ExpandedURL = 'https://www.tripadvisor.com.tw/ExpandedUserReviews-g293913-d1448765?target={}&context=1&reviews={}&servlet=Hotel_Review&expand=1'\n",
    "def getPageReview(url):\n",
    "    # 取得頁面資訊\n",
    "    res = requests.get(url)\n",
    "    soup = bs(res.text)\n",
    "    \n",
    "    # 取得評論ID串\n",
    "    ary = []\n",
    "    for review in soup.select('.reviewSelector'):\n",
    "        ary.append(review['id'].strip('review_'))\n",
    "        \n",
    "    # 取得評論查詢URL\n",
    "    review_str = ','.join(ary)\n",
    "    single_review =  review_str.split(',')[0]\n",
    "    \n",
    "    review_url    =  ExpandedURL.format(single_review, review_str)\n",
    "    \n",
    "    # 取得評論\n",
    "    res2 = requests.get(review_url)\n",
    "    soup2 = bs(res2.text)\n",
    "    review_list = []\n",
    "    for review in soup2.select('.extended'):    \n",
    "        quotes = review.select('.noQuotes')[0].text \n",
    "        rating = review.select('.rate > img')[0]['alt']\n",
    "        ratingdate =  review.select('.ratingDate')[0].get('title', review.select('.ratingDate')[0].text)\n",
    "        comment =review.select('.entry')[0].text\n",
    "        review_list.append({'quotes':quotes, 'rating':rating, 'ratingdate':ratingdate, 'comment':comment})\n",
    "        \n",
    "    return review_list"
   ]
  },
  {
   "cell_type": "code",
   "execution_count": 85,
   "metadata": {
    "collapsed": false
   },
   "outputs": [
    {
     "data": {
      "text/html": [
       "<div>\n",
       "<table border=\"1\" class=\"dataframe\">\n",
       "  <thead>\n",
       "    <tr style=\"text-align: right;\">\n",
       "      <th></th>\n",
       "      <th>comment</th>\n",
       "      <th>quotes</th>\n",
       "      <th>rating</th>\n",
       "      <th>ratingdate</th>\n",
       "    </tr>\n",
       "  </thead>\n",
       "  <tbody>\n",
       "    <tr>\n",
       "      <th>0</th>\n",
       "      <td>\\n\\n服務人員的態度不是很好，部分櫃檯人員臉很臭，詢問時態度不耐，讓人很不舒服，好像客人的...</td>\n",
       "      <td>服務人員態度不佳</td>\n",
       "      <td>2分</td>\n",
       "      <td>2016年3月16日</td>\n",
       "    </tr>\n",
       "    <tr>\n",
       "      <th>1</th>\n",
       "      <td>\\n\\n1. 近地熱谷，新北投車站走上山坡要15分鐘，酒店有接駁車，但需預約2. 家庭房，很...</td>\n",
       "      <td>整體不錯</td>\n",
       "      <td>4分</td>\n",
       "      <td>2016年3月14日</td>\n",
       "    </tr>\n",
       "    <tr>\n",
       "      <th>2</th>\n",
       "      <td>\\n\\n位置較近新北投站，不坐接駁車也可步行，酒店内外裝修新，唯獨房間細小及沒有椅子。房間内...</td>\n",
       "      <td>價格合理</td>\n",
       "      <td>4分</td>\n",
       "      <td>2016年2月17日的評論\\n</td>\n",
       "    </tr>\n",
       "    <tr>\n",
       "      <th>3</th>\n",
       "      <td>\\n\\n北投皇家季節的溫泉區位於台北都會區，交通是比較方便的。酒店沒有停車場，若是開車就得自...</td>\n",
       "      <td>泡湯房的空間在大一些就更好了!</td>\n",
       "      <td>4分</td>\n",
       "      <td>2016年1月1日的評論\\n</td>\n",
       "    </tr>\n",
       "    <tr>\n",
       "      <th>4</th>\n",
       "      <td>\\n\\n这家酒店离北投区的温泉非常近，走路到站点只需要15分钟。房间非常别致，床很舒服，但是...</td>\n",
       "      <td>房间里有独立温泉</td>\n",
       "      <td>4分</td>\n",
       "      <td>2015年10月24日的評論\\n</td>\n",
       "    </tr>\n",
       "  </tbody>\n",
       "</table>\n",
       "</div>"
      ],
      "text/plain": [
       "                                             comment           quotes rating  \\\n",
       "0  \\n\\n服務人員的態度不是很好，部分櫃檯人員臉很臭，詢問時態度不耐，讓人很不舒服，好像客人的...         服務人員態度不佳     2分   \n",
       "1  \\n\\n1. 近地熱谷，新北投車站走上山坡要15分鐘，酒店有接駁車，但需預約2. 家庭房，很...             整體不錯     4分   \n",
       "2  \\n\\n位置較近新北投站，不坐接駁車也可步行，酒店内外裝修新，唯獨房間細小及沒有椅子。房間内...             價格合理     4分   \n",
       "3  \\n\\n北投皇家季節的溫泉區位於台北都會區，交通是比較方便的。酒店沒有停車場，若是開車就得自...  泡湯房的空間在大一些就更好了!     4分   \n",
       "4  \\n\\n这家酒店离北投区的温泉非常近，走路到站点只需要15分钟。房间非常别致，床很舒服，但是...         房间里有独立温泉     4分   \n",
       "\n",
       "         ratingdate  \n",
       "0        2016年3月16日  \n",
       "1        2016年3月14日  \n",
       "2   2016年2月17日的評論\\n  \n",
       "3    2016年1月1日的評論\\n  \n",
       "4  2015年10月24日的評論\\n  "
      ]
     },
     "execution_count": 85,
     "metadata": {},
     "output_type": "execute_result"
    }
   ],
   "source": [
    "firstpage = getPageReview('https://www.tripadvisor.com.tw/Hotel_Review-g293913-d1448765-Reviews-Royal_Seasons_Hotel_Hot_Spring_Beitou-Taipei.html#review_267817921')\n",
    "df = pd.DataFrame(firstpage)\n",
    "df.head()"
   ]
  },
  {
   "cell_type": "code",
   "execution_count": 88,
   "metadata": {
    "collapsed": true
   },
   "outputs": [],
   "source": [
    "ExpandedURL = 'https://www.tripadvisor.com.tw/ExpandedUserReviews-g293913-d1448765?target={}&context=1&reviews={}&servlet=Hotel_Review&expand=1'\n",
    "def getReview(review_url):\n",
    "    review_list = []\n",
    "    res = requests.get(review_url)\n",
    "    soup = bs(res.text)    \n",
    "    for review in soup.select('.extended'):    \n",
    "        quotes = review.select('.noQuotes')[0].text \n",
    "        rating = review.select('.rate > img')[0]['alt']\n",
    "        ratingdate =  review.select('.ratingDate')[0].get('title', review.select('.ratingDate')[0].text)\n",
    "        comment =review.select('.entry')[0].text\n",
    "        review_list.append({'quotes':quotes, 'rating':rating, 'ratingdate':ratingdate, 'comment':comment})\n",
    "    return review_list\n",
    "        \n",
    "\n",
    "def getPageReview(url):\n",
    "    # 取得頁面資訊\n",
    "    res = requests.get(url)\n",
    "    soup = bs(res.text)\n",
    "    \n",
    "    # 取得評論ID串\n",
    "    ary = []\n",
    "    for review in soup.select('.reviewSelector'):\n",
    "        ary.append(review['id'].strip('review_'))\n",
    "        \n",
    "    # 取得評論查詢URL\n",
    "    review_str = ','.join(ary)\n",
    "    single_review =  review_str.split(',')[0]    \n",
    "    review_url    =  ExpandedURL.format(single_review, review_str)\n",
    "    \n",
    "    # 取得評論    \n",
    "    return getReview(review_url)"
   ]
  },
  {
   "cell_type": "code",
   "execution_count": 89,
   "metadata": {
    "collapsed": false
   },
   "outputs": [
    {
     "data": {
      "text/html": [
       "<div>\n",
       "<table border=\"1\" class=\"dataframe\">\n",
       "  <thead>\n",
       "    <tr style=\"text-align: right;\">\n",
       "      <th></th>\n",
       "      <th>comment</th>\n",
       "      <th>quotes</th>\n",
       "      <th>rating</th>\n",
       "      <th>ratingdate</th>\n",
       "    </tr>\n",
       "  </thead>\n",
       "  <tbody>\n",
       "    <tr>\n",
       "      <th>0</th>\n",
       "      <td>\\n\\n服務人員的態度不是很好，部分櫃檯人員臉很臭，詢問時態度不耐，讓人很不舒服，好像客人的...</td>\n",
       "      <td>服務人員態度不佳</td>\n",
       "      <td>2分</td>\n",
       "      <td>2016年3月16日</td>\n",
       "    </tr>\n",
       "    <tr>\n",
       "      <th>1</th>\n",
       "      <td>\\n\\n1. 近地熱谷，新北投車站走上山坡要15分鐘，酒店有接駁車，但需預約2. 家庭房，很...</td>\n",
       "      <td>整體不錯</td>\n",
       "      <td>4分</td>\n",
       "      <td>2016年3月14日</td>\n",
       "    </tr>\n",
       "    <tr>\n",
       "      <th>2</th>\n",
       "      <td>\\n\\n位置較近新北投站，不坐接駁車也可步行，酒店内外裝修新，唯獨房間細小及沒有椅子。房間内...</td>\n",
       "      <td>價格合理</td>\n",
       "      <td>4分</td>\n",
       "      <td>2016年2月17日的評論\\n</td>\n",
       "    </tr>\n",
       "    <tr>\n",
       "      <th>3</th>\n",
       "      <td>\\n\\n北投皇家季節的溫泉區位於台北都會區，交通是比較方便的。酒店沒有停車場，若是開車就得自...</td>\n",
       "      <td>泡湯房的空間在大一些就更好了!</td>\n",
       "      <td>4分</td>\n",
       "      <td>2016年1月1日的評論\\n</td>\n",
       "    </tr>\n",
       "    <tr>\n",
       "      <th>4</th>\n",
       "      <td>\\n\\n这家酒店离北投区的温泉非常近，走路到站点只需要15分钟。房间非常别致，床很舒服，但是...</td>\n",
       "      <td>房间里有独立温泉</td>\n",
       "      <td>4分</td>\n",
       "      <td>2015年10月24日的評論\\n</td>\n",
       "    </tr>\n",
       "  </tbody>\n",
       "</table>\n",
       "</div>"
      ],
      "text/plain": [
       "                                             comment           quotes rating  \\\n",
       "0  \\n\\n服務人員的態度不是很好，部分櫃檯人員臉很臭，詢問時態度不耐，讓人很不舒服，好像客人的...         服務人員態度不佳     2分   \n",
       "1  \\n\\n1. 近地熱谷，新北投車站走上山坡要15分鐘，酒店有接駁車，但需預約2. 家庭房，很...             整體不錯     4分   \n",
       "2  \\n\\n位置較近新北投站，不坐接駁車也可步行，酒店内外裝修新，唯獨房間細小及沒有椅子。房間内...             價格合理     4分   \n",
       "3  \\n\\n北投皇家季節的溫泉區位於台北都會區，交通是比較方便的。酒店沒有停車場，若是開車就得自...  泡湯房的空間在大一些就更好了!     4分   \n",
       "4  \\n\\n这家酒店离北投区的温泉非常近，走路到站点只需要15分钟。房间非常别致，床很舒服，但是...         房间里有独立温泉     4分   \n",
       "\n",
       "         ratingdate  \n",
       "0        2016年3月16日  \n",
       "1        2016年3月14日  \n",
       "2   2016年2月17日的評論\\n  \n",
       "3    2016年1月1日的評論\\n  \n",
       "4  2015年10月24日的評論\\n  "
      ]
     },
     "execution_count": 89,
     "metadata": {},
     "output_type": "execute_result"
    }
   ],
   "source": [
    "firstpage = getPageReview('https://www.tripadvisor.com.tw/Hotel_Review-g293913-d1448765-Reviews-Royal_Seasons_Hotel_Hot_Spring_Beitou-Taipei.html#review_267817921')\n",
    "df = pd.DataFrame(firstpage)\n",
    "df.head()"
   ]
  },
  {
   "cell_type": "markdown",
   "metadata": {},
   "source": [
    "### 取得所有評論"
   ]
  },
  {
   "cell_type": "code",
   "execution_count": 90,
   "metadata": {
    "collapsed": true
   },
   "outputs": [],
   "source": [
    "import requests\n",
    "from bs4 import BeautifulSoup as bs\n",
    "firstpage = 'https://www.tripadvisor.com.tw/Hotel_Review-g293913-d1448765-Reviews-Royal_Seasons_Hotel_Hot_Spring_Beitou-Taipei.html#review_267817921'\n",
    "res = requests.get(firstpage)\n",
    "soup = bs(res.text)\n",
    "pagenum = int(soup.select('.pageNum')[-1].text)"
   ]
  },
  {
   "cell_type": "code",
   "execution_count": 91,
   "metadata": {
    "collapsed": true
   },
   "outputs": [],
   "source": [
    "pageurl = 'https://www.tripadvisor.com.tw/Hotel_Review-g293913-d1448765-Reviews-or{}-Royal_Seasons_Hotel_Hot_Spring_Beitou-Taipei.html#REVIEWS'\n",
    "url_list = [firstpage] \n",
    "for i in range(1, pagenum):\n",
    "    url_list.append(pageurl.format(i *10))"
   ]
  },
  {
   "cell_type": "code",
   "execution_count": 93,
   "metadata": {
    "collapsed": false
   },
   "outputs": [
    {
     "name": "stdout",
     "output_type": "stream",
     "text": [
      "11\n"
     ]
    }
   ],
   "source": [
    "print len(url_list)"
   ]
  },
  {
   "cell_type": "code",
   "execution_count": 95,
   "metadata": {
    "collapsed": false
   },
   "outputs": [],
   "source": [
    "dfs = []\n",
    "for url in url_list:\n",
    "    review_list = getPageReview(url)\n",
    "    df = pd.DataFrame(review_list)\n",
    "    dfs.append(df)"
   ]
  },
  {
   "cell_type": "code",
   "execution_count": 98,
   "metadata": {
    "collapsed": false
   },
   "outputs": [
    {
     "name": "stdout",
     "output_type": "stream",
     "text": [
      "11\n"
     ]
    }
   ],
   "source": [
    "print len(dfs)"
   ]
  },
  {
   "cell_type": "code",
   "execution_count": 99,
   "metadata": {
    "collapsed": true
   },
   "outputs": [],
   "source": [
    "import pandas as pd\n",
    "hoteldf = pd.concat(dfs)"
   ]
  },
  {
   "cell_type": "code",
   "execution_count": 100,
   "metadata": {
    "collapsed": false
   },
   "outputs": [
    {
     "data": {
      "text/html": [
       "<div>\n",
       "<table border=\"1\" class=\"dataframe\">\n",
       "  <thead>\n",
       "    <tr style=\"text-align: right;\">\n",
       "      <th></th>\n",
       "      <th>comment</th>\n",
       "      <th>quotes</th>\n",
       "      <th>rating</th>\n",
       "      <th>ratingdate</th>\n",
       "    </tr>\n",
       "  </thead>\n",
       "  <tbody>\n",
       "    <tr>\n",
       "      <th>0</th>\n",
       "      <td>\\n\\n服務人員的態度不是很好，部分櫃檯人員臉很臭，詢問時態度不耐，讓人很不舒服，好像客人的...</td>\n",
       "      <td>服務人員態度不佳</td>\n",
       "      <td>2分</td>\n",
       "      <td>2016年3月16日</td>\n",
       "    </tr>\n",
       "    <tr>\n",
       "      <th>1</th>\n",
       "      <td>\\n\\n1. 近地熱谷，新北投車站走上山坡要15分鐘，酒店有接駁車，但需預約2. 家庭房，很...</td>\n",
       "      <td>整體不錯</td>\n",
       "      <td>4分</td>\n",
       "      <td>2016年3月14日</td>\n",
       "    </tr>\n",
       "    <tr>\n",
       "      <th>2</th>\n",
       "      <td>\\n\\n位置較近新北投站，不坐接駁車也可步行，酒店内外裝修新，唯獨房間細小及沒有椅子。房間内...</td>\n",
       "      <td>價格合理</td>\n",
       "      <td>4分</td>\n",
       "      <td>2016年2月17日的評論\\n</td>\n",
       "    </tr>\n",
       "    <tr>\n",
       "      <th>3</th>\n",
       "      <td>\\n\\n北投皇家季節的溫泉區位於台北都會區，交通是比較方便的。酒店沒有停車場，若是開車就得自...</td>\n",
       "      <td>泡湯房的空間在大一些就更好了!</td>\n",
       "      <td>4分</td>\n",
       "      <td>2016年1月1日的評論\\n</td>\n",
       "    </tr>\n",
       "    <tr>\n",
       "      <th>4</th>\n",
       "      <td>\\n\\n这家酒店离北投区的温泉非常近，走路到站点只需要15分钟。房间非常别致，床很舒服，但是...</td>\n",
       "      <td>房间里有独立温泉</td>\n",
       "      <td>4分</td>\n",
       "      <td>2015年10月24日的評論\\n</td>\n",
       "    </tr>\n",
       "  </tbody>\n",
       "</table>\n",
       "</div>"
      ],
      "text/plain": [
       "                                             comment           quotes rating  \\\n",
       "0  \\n\\n服務人員的態度不是很好，部分櫃檯人員臉很臭，詢問時態度不耐，讓人很不舒服，好像客人的...         服務人員態度不佳     2分   \n",
       "1  \\n\\n1. 近地熱谷，新北投車站走上山坡要15分鐘，酒店有接駁車，但需預約2. 家庭房，很...             整體不錯     4分   \n",
       "2  \\n\\n位置較近新北投站，不坐接駁車也可步行，酒店内外裝修新，唯獨房間細小及沒有椅子。房間内...             價格合理     4分   \n",
       "3  \\n\\n北投皇家季節的溫泉區位於台北都會區，交通是比較方便的。酒店沒有停車場，若是開車就得自...  泡湯房的空間在大一些就更好了!     4分   \n",
       "4  \\n\\n这家酒店离北投区的温泉非常近，走路到站点只需要15分钟。房间非常别致，床很舒服，但是...         房间里有独立温泉     4分   \n",
       "\n",
       "         ratingdate  \n",
       "0        2016年3月16日  \n",
       "1        2016年3月14日  \n",
       "2   2016年2月17日的評論\\n  \n",
       "3    2016年1月1日的評論\\n  \n",
       "4  2015年10月24日的評論\\n  "
      ]
     },
     "execution_count": 100,
     "metadata": {},
     "output_type": "execute_result"
    }
   ],
   "source": [
    "hoteldf.head()"
   ]
  },
  {
   "cell_type": "code",
   "execution_count": 101,
   "metadata": {
    "collapsed": false
   },
   "outputs": [
    {
     "data": {
      "text/plain": [
       "comment       103\n",
       "quotes        103\n",
       "rating        103\n",
       "ratingdate    103\n",
       "dtype: int64"
      ]
     },
     "execution_count": 101,
     "metadata": {},
     "output_type": "execute_result"
    }
   ],
   "source": [
    "hoteldf.count()"
   ]
  },
  {
   "cell_type": "code",
   "execution_count": 109,
   "metadata": {
    "collapsed": false
   },
   "outputs": [
    {
     "name": "stdout",
     "output_type": "stream",
     "text": [
      "   a  b\n",
      "0  1  2\n",
      "0  3  4\n"
     ]
    },
    {
     "data": {
      "text/html": [
       "<div>\n",
       "<table border=\"1\" class=\"dataframe\">\n",
       "  <thead>\n",
       "    <tr style=\"text-align: right;\">\n",
       "      <th></th>\n",
       "      <th>a</th>\n",
       "      <th>b</th>\n",
       "    </tr>\n",
       "  </thead>\n",
       "  <tbody>\n",
       "    <tr>\n",
       "      <th>0</th>\n",
       "      <td>1</td>\n",
       "      <td>2</td>\n",
       "    </tr>\n",
       "    <tr>\n",
       "      <th>0</th>\n",
       "      <td>3</td>\n",
       "      <td>4</td>\n",
       "    </tr>\n",
       "  </tbody>\n",
       "</table>\n",
       "</div>"
      ],
      "text/plain": [
       "   a  b\n",
       "0  1  2\n",
       "0  3  4"
      ]
     },
     "execution_count": 109,
     "metadata": {},
     "output_type": "execute_result"
    }
   ],
   "source": [
    "df1 = pd.DataFrame([{'a':1, 'b':2}])\n",
    "df2 = pd.DataFrame([{'a':3, 'b':4}])\n",
    "\n",
    "dfs = []\n",
    "dfs.append(df1)\n",
    "dfs.append(df2)\n",
    "print dfall\n",
    "dfall= pd.concat(dfs)\n",
    "dfall"
   ]
  },
  {
   "cell_type": "code",
   "execution_count": null,
   "metadata": {
    "collapsed": true
   },
   "outputs": [],
   "source": []
  }
 ],
 "metadata": {
  "kernelspec": {
   "display_name": "Python 2",
   "language": "python",
   "name": "python2"
  },
  "language_info": {
   "codemirror_mode": {
    "name": "ipython",
    "version": 2
   },
   "file_extension": ".py",
   "mimetype": "text/x-python",
   "name": "python",
   "nbconvert_exporter": "python",
   "pygments_lexer": "ipython2",
   "version": "2.7.11"
  }
 },
 "nbformat": 4,
 "nbformat_minor": 0
}
