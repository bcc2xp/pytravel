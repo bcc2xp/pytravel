{
 "cells": [
  {
   "cell_type": "markdown",
   "metadata": {},
   "source": [
    "## Bookings.com"
   ]
  },
  {
   "cell_type": "code",
   "execution_count": 4,
   "metadata": {
    "collapsed": false
   },
   "outputs": [
    {
     "name": "stdout",
     "output_type": "stream",
     "text": [
      "<Response [200]>\n"
     ]
    }
   ],
   "source": [
    "import requests\n",
    "#res = requests.get('http://www.booking.com/reviews/tw/hotel/the-okura-prestige-taipei.zh-tw.html?label=gen173nr-1FCAEoggJCAlhYSDNiBW5vcmVmaOcBiAEBmAEwuAEGyAEM2AEB6AEB-AELqAID;sid=58f6ae6eb06cf46e60ae2fd1e3be9364;dcid=12')\n",
    "res = requests.get('http://www.booking.com/reviews/tw/hotel/the-okura-prestige-taipei.zh-tw.html')\n",
    "print res"
   ]
  },
  {
   "cell_type": "code",
   "execution_count": 13,
   "metadata": {
    "collapsed": false
   },
   "outputs": [
    {
     "name": "stdout",
     "output_type": "stream",
     "text": [
      "         df             \n",
      " \n",
      "   23432        \n",
      "df             \n",
      " \n",
      "   23432\n"
     ]
    }
   ],
   "source": [
    "a = '         df             \\n \\n   23432        '\n",
    "print a\n",
    "print a.strip()"
   ]
  },
  {
   "cell_type": "code",
   "execution_count": 17,
   "metadata": {
    "collapsed": false
   },
   "outputs": [],
   "source": [
    "from bs4 import BeautifulSoup as bs\n",
    "\n",
    "ary = []\n",
    "soup = bs(res.text)\n",
    "for review in soup.select('.review_item'):\n",
    "   ary.append({ 'header':review.select('.review_item_header_content')[0].text.strip() , \n",
    "        'country':review.select('.reviewer_country')[0].text.strip(),\n",
    "        'content':review.select('.review_item_review_content')[0].text})"
   ]
  },
  {
   "cell_type": "code",
   "execution_count": 19,
   "metadata": {
    "collapsed": false
   },
   "outputs": [],
   "source": [
    "import pandas as pd\n",
    "df = pd.DataFrame(ary)"
   ]
  },
  {
   "cell_type": "code",
   "execution_count": 21,
   "metadata": {
    "collapsed": false
   },
   "outputs": [
    {
     "data": {
      "text/html": [
       "<div>\n",
       "<table border=\"1\" class=\"dataframe\">\n",
       "  <thead>\n",
       "    <tr style=\"text-align: right;\">\n",
       "      <th></th>\n",
       "      <th>content</th>\n",
       "      <th>country</th>\n",
       "      <th>header</th>\n",
       "    </tr>\n",
       "  </thead>\n",
       "  <tbody>\n",
       "    <tr>\n",
       "      <th>0</th>\n",
       "      <td>\\n눇員工很有禮貌，房間亦很寬敞舒適。我們很滿意你們的服務，下次再來台灣也會入住你們的酒店！\\n</td>\n",
       "      <td>香港</td>\n",
       "      <td>「員工很有禮貌，房間亦很寬敞舒適。」</td>\n",
       "    </tr>\n",
       "    <tr>\n",
       "      <th>1</th>\n",
       "      <td>\\n눉无눇房间宽敞干净，服务人员也很热情，酒店距离宁夏夜市走路大概需要十五分钟\\n</td>\n",
       "      <td>中國</td>\n",
       "      <td>「宾至如归的体验」</td>\n",
       "    </tr>\n",
       "    <tr>\n",
       "      <th>2</th>\n",
       "      <td>\\n눉第五次入住，禮賓員換了一大批女生，沒有笑容、不殷期。房內裝修開始殘舊了。基本上仍達水平...</td>\n",
       "      <td>澳門</td>\n",
       "      <td>「基本上仍達水平，但性價比不高」</td>\n",
       "    </tr>\n",
       "    <tr>\n",
       "      <th>3</th>\n",
       "      <td>\\n눉Check In時需要提供每一位住客的身分證，過於嚴苛。令人感受到很大的不愉快。\\n</td>\n",
       "      <td>臺灣</td>\n",
       "      <td>「一個不值得住宿的飯店」</td>\n",
       "    </tr>\n",
       "    <tr>\n",
       "      <th>4</th>\n",
       "      <td>\\n눇1、頂樓泳池及三溫暖非常棒，溫度調節好，服務人員態度好，很有禮貌\\r2、餐飲服務佳，桃...</td>\n",
       "      <td>臺灣</td>\n",
       "      <td>「溫馨禮貌，從顧客需求設計硬體建築設備，及很好的軟體服務流程，非常舒適。台北市首屈一指的選擇」</td>\n",
       "    </tr>\n",
       "  </tbody>\n",
       "</table>\n",
       "</div>"
      ],
      "text/plain": [
       "                                             content country  \\\n",
       "0   \\n눇員工很有禮貌，房間亦很寬敞舒適。我們很滿意你們的服務，下次再來台灣也會入住你們的酒店！\\n      香港   \n",
       "1          \\n눉无눇房间宽敞干净，服务人员也很热情，酒店距离宁夏夜市走路大概需要十五分钟\\n      中國   \n",
       "2  \\n눉第五次入住，禮賓員換了一大批女生，沒有笑容、不殷期。房內裝修開始殘舊了。基本上仍達水平...      澳門   \n",
       "3      \\n눉Check In時需要提供每一位住客的身分證，過於嚴苛。令人感受到很大的不愉快。\\n      臺灣   \n",
       "4  \\n눇1、頂樓泳池及三溫暖非常棒，溫度調節好，服務人員態度好，很有禮貌\\r2、餐飲服務佳，桃...      臺灣   \n",
       "\n",
       "                                            header  \n",
       "0                               「員工很有禮貌，房間亦很寬敞舒適。」  \n",
       "1                                        「宾至如归的体验」  \n",
       "2                                 「基本上仍達水平，但性價比不高」  \n",
       "3                                     「一個不值得住宿的飯店」  \n",
       "4  「溫馨禮貌，從顧客需求設計硬體建築設備，及很好的軟體服務流程，非常舒適。台北市首屈一指的選擇」  "
      ]
     },
     "execution_count": 21,
     "metadata": {},
     "output_type": "execute_result"
    }
   ],
   "source": [
    "df.head()"
   ]
  },
  {
   "cell_type": "code",
   "execution_count": 25,
   "metadata": {
    "collapsed": false
   },
   "outputs": [
    {
     "data": {
      "text/html": [
       "<div>\n",
       "<table border=\"1\" class=\"dataframe\">\n",
       "  <thead>\n",
       "    <tr style=\"text-align: right;\">\n",
       "      <th></th>\n",
       "      <th>content</th>\n",
       "      <th>country</th>\n",
       "      <th>header</th>\n",
       "    </tr>\n",
       "  </thead>\n",
       "  <tbody>\n",
       "    <tr>\n",
       "      <th>0</th>\n",
       "      <td>\\n눇員工很有禮貌，房間亦很寬敞舒適。我們很滿意你們的服務，下次再來台灣也會入住你們的酒店！\\n</td>\n",
       "      <td>香港</td>\n",
       "      <td>「員工很有禮貌，房間亦很寬敞舒適。」</td>\n",
       "    </tr>\n",
       "    <tr>\n",
       "      <th>4</th>\n",
       "      <td>\\n눇1、頂樓泳池及三溫暖非常棒，溫度調節好，服務人員態度好，很有禮貌\\r2、餐飲服務佳，桃...</td>\n",
       "      <td>臺灣</td>\n",
       "      <td>「溫馨禮貌，從顧客需求設計硬體建築設備，及很好的軟體服務流程，非常舒適。台北市首屈一指的選擇」</td>\n",
       "    </tr>\n",
       "  </tbody>\n",
       "</table>\n",
       "</div>"
      ],
      "text/plain": [
       "                                             content country  \\\n",
       "0   \\n눇員工很有禮貌，房間亦很寬敞舒適。我們很滿意你們的服務，下次再來台灣也會入住你們的酒店！\\n      香港   \n",
       "4  \\n눇1、頂樓泳池及三溫暖非常棒，溫度調節好，服務人員態度好，很有禮貌\\r2、餐飲服務佳，桃...      臺灣   \n",
       "\n",
       "                                            header  \n",
       "0                               「員工很有禮貌，房間亦很寬敞舒適。」  \n",
       "4  「溫馨禮貌，從顧客需求設計硬體建築設備，及很好的軟體服務流程，非常舒適。台北市首屈一指的選擇」  "
      ]
     },
     "execution_count": 25,
     "metadata": {},
     "output_type": "execute_result"
    }
   ],
   "source": [
    "df[df['header'].str.contains('禮貌'.decode('utf-8'))]"
   ]
  },
  {
   "cell_type": "code",
   "execution_count": 29,
   "metadata": {
    "collapsed": false
   },
   "outputs": [
    {
     "data": {
      "text/html": [
       "<div>\n",
       "<table border=\"1\" class=\"dataframe\">\n",
       "  <thead>\n",
       "    <tr style=\"text-align: right;\">\n",
       "      <th></th>\n",
       "      <th>content</th>\n",
       "      <th>header</th>\n",
       "    </tr>\n",
       "    <tr>\n",
       "      <th>country</th>\n",
       "      <th></th>\n",
       "      <th></th>\n",
       "    </tr>\n",
       "  </thead>\n",
       "  <tbody>\n",
       "    <tr>\n",
       "      <th>中國</th>\n",
       "      <td>6</td>\n",
       "      <td>6</td>\n",
       "    </tr>\n",
       "    <tr>\n",
       "      <th>日本</th>\n",
       "      <td>1</td>\n",
       "      <td>1</td>\n",
       "    </tr>\n",
       "    <tr>\n",
       "      <th>比利時</th>\n",
       "      <td>1</td>\n",
       "      <td>1</td>\n",
       "    </tr>\n",
       "    <tr>\n",
       "      <th>澳洲</th>\n",
       "      <td>1</td>\n",
       "      <td>1</td>\n",
       "    </tr>\n",
       "    <tr>\n",
       "      <th>澳門</th>\n",
       "      <td>9</td>\n",
       "      <td>9</td>\n",
       "    </tr>\n",
       "    <tr>\n",
       "      <th>美國</th>\n",
       "      <td>1</td>\n",
       "      <td>1</td>\n",
       "    </tr>\n",
       "    <tr>\n",
       "      <th>臺灣</th>\n",
       "      <td>40</td>\n",
       "      <td>40</td>\n",
       "    </tr>\n",
       "    <tr>\n",
       "      <th>香港</th>\n",
       "      <td>16</td>\n",
       "      <td>16</td>\n",
       "    </tr>\n",
       "  </tbody>\n",
       "</table>\n",
       "</div>"
      ],
      "text/plain": [
       "         content  header\n",
       "country                 \n",
       "中國             6       6\n",
       "日本             1       1\n",
       "比利時            1       1\n",
       "澳洲             1       1\n",
       "澳門             9       9\n",
       "美國             1       1\n",
       "臺灣            40      40\n",
       "香港            16      16"
      ]
     },
     "execution_count": 29,
     "metadata": {},
     "output_type": "execute_result"
    }
   ],
   "source": [
    "df.groupby('country').count()"
   ]
  },
  {
   "cell_type": "markdown",
   "metadata": {},
   "source": [
    "### TripAdvisor Crawler"
   ]
  },
  {
   "cell_type": "code",
   "execution_count": null,
   "metadata": {
    "collapsed": true
   },
   "outputs": [],
   "source": [
    "#https://www.tripadvisor.com.tw/ExpandedUserReviews-g293913-d1448765?\n",
    "#    target=282289363&context=1&\n",
    "#    reviews=282289363,305947335,267945322,267817921,264375419\n",
    "#    &servlet=Hotel_Review&expand=1"
   ]
  },
  {
   "cell_type": "code",
   "execution_count": 37,
   "metadata": {
    "collapsed": false
   },
   "outputs": [
    {
     "name": "stdout",
     "output_type": "stream",
     "text": [
      "234\n"
     ]
    }
   ],
   "source": [
    "from bs4 import BeautifulSoup as bs\n",
    "soup = bs('<a href=123 qoo=234></a>')\n",
    "print soup.select('a')[0]['qoo']"
   ]
  },
  {
   "cell_type": "code",
   "execution_count": 43,
   "metadata": {
    "collapsed": false
   },
   "outputs": [
    {
     "name": "stdout",
     "output_type": "stream",
     "text": [
      "['a']\n",
      "['a', 'b']\n",
      "['a', 'b', 'c']\n",
      "a,b,c\n",
      "a@b@c\n"
     ]
    }
   ],
   "source": [
    "a = []\n",
    "a.append('a')\n",
    "print a\n",
    "a.append('b')\n",
    "print a\n",
    "a.append('c')\n",
    "print a\n",
    "\n",
    "print ','.join(a)\n",
    "print '@'.join(a)"
   ]
  },
  {
   "cell_type": "code",
   "execution_count": 44,
   "metadata": {
    "collapsed": false
   },
   "outputs": [],
   "source": [
    "import requests\n",
    "import re\n",
    "from bs4 import BeautifulSoup as bs\n",
    "res = requests.get('https://www.tripadvisor.com.tw/Hotel_Review-g293913-d1448765-Reviews-Royal_Seasons_Hotel_Hot_Spring_Beitou-Taipei.html')\n",
    "soup = bs(res.text)\n",
    "review_list = []\n",
    "for review in soup.select('.reviewSelector'):\n",
    "    review_list.append(review['id'].strip('review_'))\n",
    "review_str = ','.join(review_list)\n"
   ]
  },
  {
   "cell_type": "code",
   "execution_count": 45,
   "metadata": {
    "collapsed": false
   },
   "outputs": [
    {
     "name": "stdout",
     "output_type": "stream",
     "text": [
      "356053003,355244357,348335947,336397414,324677242,282289363,305947335,267945322,267817921,264375419\n"
     ]
    }
   ],
   "source": [
    "print review_str"
   ]
  },
  {
   "cell_type": "code",
   "execution_count": 51,
   "metadata": {
    "collapsed": false
   },
   "outputs": [
    {
     "name": "stdout",
     "output_type": "stream",
     "text": [
      "Hi, my name is david and I am 32 years old\n",
      "Hi, my name is david and I am 32 years old\n",
      "Hi, my name is david and I am 32 years old\n",
      "Hi, my name is david and I am david years old\n"
     ]
    }
   ],
   "source": [
    "name ='david'\n",
    "age = '32'\n",
    "print 'Hi, my name is ' + name + ' and I am ' + age + ' years old'\n",
    "print 'Hi, my name is {} and I am {} years old'.format(name, age)\n",
    "print 'Hi, my name is {0} and I am {1} years old'.format(name, age)\n",
    "print 'Hi, my name is {0} and I am {0} years old'.format(name, age)"
   ]
  },
  {
   "cell_type": "code",
   "execution_count": 55,
   "metadata": {
    "collapsed": false
   },
   "outputs": [
    {
     "name": "stdout",
     "output_type": "stream",
     "text": [
      "356053003\n"
     ]
    }
   ],
   "source": [
    "url = 'https://www.tripadvisor.com.tw/ExpandedUserReviews-g293913-d1448765?target={}&context=1&reviews={}&servlet=Hotel_Review&expand=1'\n",
    "single_review =  review_str.split(',')[0]\n",
    "print single_review\n",
    "review_url =  url.format(single_review, review_str)"
   ]
  },
  {
   "cell_type": "code",
   "execution_count": 59,
   "metadata": {
    "collapsed": false
   },
   "outputs": [
    {
     "name": "stdout",
     "output_type": "stream",
     "text": [
      "服務人員態度不佳 2分 2016年3月16日 \n",
      "\n",
      "服務人員的態度不是很好，部分櫃檯人員臉很臭，詢問時態度不耐，讓人很不舒服，好像客人的詢問造成他多大的不方便一樣，早餐的選擇少得可憐，這是可惜之處。\n",
      "\n",
      "\n",
      "整體不錯 4分 2016年3月14日 \n",
      "\n",
      "1. 近地熱谷，新北投車站走上山坡要15分鐘，酒店有接駁車，但需預約2. 家庭房，很大，有4張床，頗舒適3. 浴室很大，雙面盆，溫泉池2人使用較合適，3人尚可，水溫熱度足4. 早餐款式不多，中式為主，水準尚可5. 沿途北投圖書館等參觀點\n",
      "\n",
      "\n",
      "價格合理 4分 2016年2月17日的評論\n",
      "\n",
      "\n",
      "位置較近新北投站，不坐接駁車也可步行，酒店内外裝修新，唯獨房間細小及沒有椅子。房間内温泉湯池尚可，泉水夠熱。窗簾用木百頁簾，感覺不太安全，員工有禮貌及親切。以價錢來算，整體很滿意。\n",
      "\n",
      "\n",
      "泡湯房的空間在大一些就更好了! 4分 2016年1月1日的評論\n",
      "\n",
      "\n",
      "北投皇家季節的溫泉區位於台北都會區，交通是比較方便的。酒店沒有停車場，若是開車就得自行在山路邊找車位。泡湯的房型比較小，浴池也不大，沒有床，沒有窗外景觀。適合天冷時想就近找得地方泡湯，對設施要求不高的好選擇。\n",
      "\n",
      "\n",
      "房间里有独立温泉 4分 2015年10月24日的評論\n",
      "\n",
      "\n",
      "这家酒店离北投区的温泉非常近，走路到站点只需要15分钟。房间非常别致，床很舒服，但是房间设备整体比较旧了。性价比还不错，也很干净。\n",
      "\n",
      "\n",
      "外表大器的酒店 3分 2015年6月23日的評論\n",
      "\n",
      "\n",
      "飯店的接待大廳是在三樓，所以是依山坡地而建，因為地點離新北投捷運站有點距離，所以有提供接送服務，平時8點至21點每半小時從飯店發車，如果要搭車上酒店則需要與飯店預約。這次入住的是波賽頓客房，也許是溫泉館的關係，浴池跟床同大小空間，進門以後右手邊是單人衣櫃及一個小櫃子(有冰箱)，然後左手邊就是廁所，床緊貼著廁所與浴室的牆壁，宛若夾心餅乾，床的對面也就是進房後的右側是個大鏡子跟洗手台，電視也許是方便入浴觀看，所以是掛在床的左側(廁所那面牆)。電視的部分訊號沒有很好，有些雜訊出現。浴池很不錯，很大，池內還有兩塊石頭製的小椅子，不過因為房型的關係，池子的窗戶面對的是管線設施，有些可惜。早餐頗豐盛，一樣是中西式合併，還有多種蔬菜可食，配上大氣的裝潢，整體來說早餐是可以吃得很幸福的。\n",
      "\n",
      "\n",
      "很棒的私人溫泉，相當好的酒店 4分 2015年6月20日的評論\n",
      "\n",
      "\n",
      "非常享受我在這裏度過的時光。真的特別喜歡這裏的私人溫泉。事實上，房間里的私人溫泉是唯一真正令人傾倒的。房間小但是舒服的床彌補了這個缺點。早餐還將就。\n",
      "\n",
      "\n",
      "泡溫泉的好選擇 3分 2015年4月26日的評論\n",
      "\n",
      "\n",
      "我們在官網訂購無窗型的房間，房型非常小，有一半是浴室，圓形浴缸很大，泡溫泉很舒服，但狹小的床，對於睡眠品質來說，住一晚的空間有壓迫感，電視的位置也讓人覺得不太方便。另外在等待check in的時間有點久，似乎是房間尚未整理好，我們在大廳等了一段時間才能進房。\n",
      "\n",
      "\n",
      "可以泡私湯，一定要選雅典娜房。 4分 2015年4月13日的評論\n",
      "\n",
      "\n",
      "去之前就搜過，發覺評價很兩極。到了以後就明白了，不同房型差異還真的是很大，我們入住的是高級房，就是雅典娜房，是乾濕分離的，覺得還是很不錯的，床大也舒服，裝修是歐式古典的。浴室有個圓形池子可以泡私湯，池子很大容納3個人都沒問題啊。不過倒真的是沒什麼硫磺味。早餐不好。沒什麼可吃的。。酒店位置不錯，周圍景色很美，清晨起床散散步很舒服。步行五六分鐘下山就有便利店和商圈。每半小時有接駁車送到捷運站。\n",
      "\n",
      "\n",
      "除房間附獨立温泉的好處外，其餘只屬一般 4分 2015年4月8日的評論\n",
      "\n",
      "\n",
      "位置1. 距離新北投站約15分鐘步程，但位處山腰，如拖着行李，並不方便2. 距離地熱谷約5分鐘步程裝修1. 裝修只屬一般服務1. 職員水平只屬一般，並不專業2. 寄存的行李，只隨意地放在大堂設施1. 設施一般，尚算新淨2. 房間設獨立温泉，非泉方便，但要注滿泉水，需時約20分鐘早餐1. 選擇太少，是住过的酒店最差的2. 食物質素偏低總結如希望以合理價錢享用附設獨立温泉的房間，可以考慮，其餘則不要有太大期望\n",
      "\n",
      "\n"
     ]
    }
   ],
   "source": [
    "res = requests.get(review_url)\n",
    "soup = bs(res.text)\n",
    "for review in soup.select('.extended'):\n",
    "    quotes = review.select('.noQuotes')[0].text \n",
    "    rating = review.select('.rate > img')[0]['alt']\n",
    "    ratingdate =  review.select('.ratingDate')[0].get('title', review.select('.ratingDate')[0].text)\n",
    "    comment =review.select('.entry')[0].text\n",
    "    print quotes, rating, ratingdate, comment"
   ]
  },
  {
   "cell_type": "code",
   "execution_count": 60,
   "metadata": {
    "collapsed": true
   },
   "outputs": [],
   "source": [
    "res = requests.get(review_url)\n",
    "soup = bs(res.text)\n",
    "review_list = []\n",
    "for review in soup.select('.extended'):    \n",
    "    quotes = review.select('.noQuotes')[0].text \n",
    "    rating = review.select('.rate > img')[0]['alt']\n",
    "    ratingdate =  review.select('.ratingDate')[0].get('title', review.select('.ratingDate')[0].text)\n",
    "    comment =review.select('.entry')[0].text\n",
    "    review_list.append({'quotes':quotes, 'rating':rating, 'ratingdate':ratingdate, 'comment':comment})"
   ]
  },
  {
   "cell_type": "code",
   "execution_count": 61,
   "metadata": {
    "collapsed": true
   },
   "outputs": [],
   "source": [
    "import pandas as pd\n",
    "df = pd.DataFrame(review_list)"
   ]
  },
  {
   "cell_type": "code",
   "execution_count": 62,
   "metadata": {
    "collapsed": false
   },
   "outputs": [
    {
     "data": {
      "text/html": [
       "<div>\n",
       "<table border=\"1\" class=\"dataframe\">\n",
       "  <thead>\n",
       "    <tr style=\"text-align: right;\">\n",
       "      <th></th>\n",
       "      <th>comment</th>\n",
       "      <th>quotes</th>\n",
       "      <th>rating</th>\n",
       "      <th>ratingdate</th>\n",
       "    </tr>\n",
       "  </thead>\n",
       "  <tbody>\n",
       "    <tr>\n",
       "      <th>0</th>\n",
       "      <td>\\n\\n服務人員的態度不是很好，部分櫃檯人員臉很臭，詢問時態度不耐，讓人很不舒服，好像客人的...</td>\n",
       "      <td>服務人員態度不佳</td>\n",
       "      <td>2分</td>\n",
       "      <td>2016年3月16日</td>\n",
       "    </tr>\n",
       "    <tr>\n",
       "      <th>1</th>\n",
       "      <td>\\n\\n1. 近地熱谷，新北投車站走上山坡要15分鐘，酒店有接駁車，但需預約2. 家庭房，很...</td>\n",
       "      <td>整體不錯</td>\n",
       "      <td>4分</td>\n",
       "      <td>2016年3月14日</td>\n",
       "    </tr>\n",
       "    <tr>\n",
       "      <th>2</th>\n",
       "      <td>\\n\\n位置較近新北投站，不坐接駁車也可步行，酒店内外裝修新，唯獨房間細小及沒有椅子。房間内...</td>\n",
       "      <td>價格合理</td>\n",
       "      <td>4分</td>\n",
       "      <td>2016年2月17日的評論\\n</td>\n",
       "    </tr>\n",
       "    <tr>\n",
       "      <th>3</th>\n",
       "      <td>\\n\\n北投皇家季節的溫泉區位於台北都會區，交通是比較方便的。酒店沒有停車場，若是開車就得自...</td>\n",
       "      <td>泡湯房的空間在大一些就更好了!</td>\n",
       "      <td>4分</td>\n",
       "      <td>2016年1月1日的評論\\n</td>\n",
       "    </tr>\n",
       "    <tr>\n",
       "      <th>4</th>\n",
       "      <td>\\n\\n这家酒店离北投区的温泉非常近，走路到站点只需要15分钟。房间非常别致，床很舒服，但是...</td>\n",
       "      <td>房间里有独立温泉</td>\n",
       "      <td>4分</td>\n",
       "      <td>2015年10月24日的評論\\n</td>\n",
       "    </tr>\n",
       "  </tbody>\n",
       "</table>\n",
       "</div>"
      ],
      "text/plain": [
       "                                             comment           quotes rating  \\\n",
       "0  \\n\\n服務人員的態度不是很好，部分櫃檯人員臉很臭，詢問時態度不耐，讓人很不舒服，好像客人的...         服務人員態度不佳     2分   \n",
       "1  \\n\\n1. 近地熱谷，新北投車站走上山坡要15分鐘，酒店有接駁車，但需預約2. 家庭房，很...             整體不錯     4分   \n",
       "2  \\n\\n位置較近新北投站，不坐接駁車也可步行，酒店内外裝修新，唯獨房間細小及沒有椅子。房間内...             價格合理     4分   \n",
       "3  \\n\\n北投皇家季節的溫泉區位於台北都會區，交通是比較方便的。酒店沒有停車場，若是開車就得自...  泡湯房的空間在大一些就更好了!     4分   \n",
       "4  \\n\\n这家酒店离北投区的温泉非常近，走路到站点只需要15分钟。房间非常别致，床很舒服，但是...         房间里有独立温泉     4分   \n",
       "\n",
       "         ratingdate  \n",
       "0        2016年3月16日  \n",
       "1        2016年3月14日  \n",
       "2   2016年2月17日的評論\\n  \n",
       "3    2016年1月1日的評論\\n  \n",
       "4  2015年10月24日的評論\\n  "
      ]
     },
     "execution_count": 62,
     "metadata": {},
     "output_type": "execute_result"
    }
   ],
   "source": [
    "df.head()"
   ]
  },
  {
   "cell_type": "markdown",
   "metadata": {},
   "source": [
    "### 取得多頁評論"
   ]
  },
  {
   "cell_type": "code",
   "execution_count": null,
   "metadata": {
    "collapsed": true
   },
   "outputs": [],
   "source": [
    "https://www.tripadvisor.com.tw/Hotel_Review-g293913-d1448765-Reviews-\n",
    "    Royal_Seasons_Hotel_Hot_Spring_Beitou-Taipei.html#REVIEWS\n",
    "https://www.tripadvisor.com.tw/Hotel_Review-g293913-d1448765-Reviews-\n",
    "    or10-Royal_Seasons_Hotel_Hot_Spring_Beitou-Taipei.html#REVIEWS\n",
    "https://www.tripadvisor.com.tw/Hotel_Review-g293913-d1448765-Reviews-\n",
    "    or20-Royal_Seasons_Hotel_Hot_Spring_Beitou-Taipei.html#REVIEWS\n",
    "https://www.tripadvisor.com.tw/Hotel_Review-g293913-d1448765-Reviews-\n",
    "    or30-Royal_Seasons_Hotel_Hot_Spring_Beitou-Taipei.html#REVIEWS"
   ]
  },
  {
   "cell_type": "code",
   "execution_count": 72,
   "metadata": {
    "collapsed": false
   },
   "outputs": [
    {
     "name": "stdout",
     "output_type": "stream",
     "text": [
      "<type 'unicode'>\n",
      "<type 'int'>\n"
     ]
    }
   ],
   "source": [
    "import requests\n",
    "from bs4 import BeautifulSoup as bs\n",
    "res = requests.get('https://www.tripadvisor.com.tw/Hotel_Review-g293913-d1448765-Reviews-Royal_Seasons_Hotel_Hot_Spring_Beitou-Taipei.html#review_267817921')\n",
    "soup = bs(res.text)\n",
    "#print len(soup.select('.pageNum'))\n",
    "print type(soup.select('.pageNum')[-1].text)\n",
    "print type(int(soup.select('.pageNum')[-1].text))\n",
    "pagenum = int(soup.select('.pageNum')[-1].text)"
   ]
  },
  {
   "cell_type": "code",
   "execution_count": 66,
   "metadata": {
    "collapsed": false
   },
   "outputs": [
    {
     "name": "stdout",
     "output_type": "stream",
     "text": [
      "5\n",
      "4\n"
     ]
    }
   ],
   "source": [
    "a = [1,2,3,4,5]\n",
    "print a[-1]\n",
    "print a[-2]"
   ]
  },
  {
   "cell_type": "code",
   "execution_count": 75,
   "metadata": {
    "collapsed": false
   },
   "outputs": [
    {
     "name": "stdout",
     "output_type": "stream",
     "text": [
      "https://www.tripadvisor.com.tw/Hotel_Review-g293913-d1448765-Reviews-or10-Royal_Seasons_Hotel_Hot_Spring_Beitou-Taipei.html#REVIEWS\n",
      "https://www.tripadvisor.com.tw/Hotel_Review-g293913-d1448765-Reviews-or20-Royal_Seasons_Hotel_Hot_Spring_Beitou-Taipei.html#REVIEWS\n",
      "https://www.tripadvisor.com.tw/Hotel_Review-g293913-d1448765-Reviews-or30-Royal_Seasons_Hotel_Hot_Spring_Beitou-Taipei.html#REVIEWS\n",
      "https://www.tripadvisor.com.tw/Hotel_Review-g293913-d1448765-Reviews-or40-Royal_Seasons_Hotel_Hot_Spring_Beitou-Taipei.html#REVIEWS\n",
      "https://www.tripadvisor.com.tw/Hotel_Review-g293913-d1448765-Reviews-or50-Royal_Seasons_Hotel_Hot_Spring_Beitou-Taipei.html#REVIEWS\n",
      "https://www.tripadvisor.com.tw/Hotel_Review-g293913-d1448765-Reviews-or60-Royal_Seasons_Hotel_Hot_Spring_Beitou-Taipei.html#REVIEWS\n",
      "https://www.tripadvisor.com.tw/Hotel_Review-g293913-d1448765-Reviews-or70-Royal_Seasons_Hotel_Hot_Spring_Beitou-Taipei.html#REVIEWS\n",
      "https://www.tripadvisor.com.tw/Hotel_Review-g293913-d1448765-Reviews-or80-Royal_Seasons_Hotel_Hot_Spring_Beitou-Taipei.html#REVIEWS\n",
      "https://www.tripadvisor.com.tw/Hotel_Review-g293913-d1448765-Reviews-or90-Royal_Seasons_Hotel_Hot_Spring_Beitou-Taipei.html#REVIEWS\n",
      "https://www.tripadvisor.com.tw/Hotel_Review-g293913-d1448765-Reviews-or100-Royal_Seasons_Hotel_Hot_Spring_Beitou-Taipei.html#REVIEWS\n"
     ]
    }
   ],
   "source": [
    "pageurl = 'https://www.tripadvisor.com.tw/Hotel_Review-g293913-d1448765-Reviews-or{}-Royal_Seasons_Hotel_Hot_Spring_Beitou-Taipei.html#REVIEWS'\n",
    "for i in range(1, pagenum):\n",
    "    print pageurl.format(i *10)"
   ]
  },
  {
   "cell_type": "markdown",
   "metadata": {},
   "source": [
    "### 整理抽取函式"
   ]
  },
  {
   "cell_type": "code",
   "execution_count": 83,
   "metadata": {
    "collapsed": true
   },
   "outputs": [],
   "source": [
    "ExpandedURL = 'https://www.tripadvisor.com.tw/ExpandedUserReviews-g293913-d1448765?target={}&context=1&reviews={}&servlet=Hotel_Review&expand=1'\n",
    "def getPageReview(url):\n",
    "    # 取得頁面資訊\n",
    "    res = requests.get(url)\n",
    "    soup = bs(res.text)\n",
    "    \n",
    "    # 取得評論ID串\n",
    "    ary = []\n",
    "    for review in soup.select('.reviewSelector'):\n",
    "        ary.append(review['id'].strip('review_'))\n",
    "        \n",
    "    # 取得評論查詢URL\n",
    "    review_str = ','.join(ary)\n",
    "    single_review =  review_str.split(',')[0]\n",
    "    \n",
    "    review_url    =  ExpandedURL.format(single_review, review_str)\n",
    "    \n",
    "    # 取得評論\n",
    "    res2 = requests.get(review_url)\n",
    "    soup2 = bs(res2.text)\n",
    "    review_list = []\n",
    "    for review in soup2.select('.extended'):    \n",
    "        quotes = review.select('.noQuotes')[0].text \n",
    "        rating = review.select('.rate > img')[0]['alt']\n",
    "        ratingdate =  review.select('.ratingDate')[0].get('title', review.select('.ratingDate')[0].text)\n",
    "        comment =review.select('.entry')[0].text\n",
    "        review_list.append({'quotes':quotes, 'rating':rating, 'ratingdate':ratingdate, 'comment':comment})\n",
    "        \n",
    "    return review_list"
   ]
  },
  {
   "cell_type": "code",
   "execution_count": 85,
   "metadata": {
    "collapsed": false
   },
   "outputs": [
    {
     "data": {
      "text/html": [
       "<div>\n",
       "<table border=\"1\" class=\"dataframe\">\n",
       "  <thead>\n",
       "    <tr style=\"text-align: right;\">\n",
       "      <th></th>\n",
       "      <th>comment</th>\n",
       "      <th>quotes</th>\n",
       "      <th>rating</th>\n",
       "      <th>ratingdate</th>\n",
       "    </tr>\n",
       "  </thead>\n",
       "  <tbody>\n",
       "    <tr>\n",
       "      <th>0</th>\n",
       "      <td>\\n\\n服務人員的態度不是很好，部分櫃檯人員臉很臭，詢問時態度不耐，讓人很不舒服，好像客人的...</td>\n",
       "      <td>服務人員態度不佳</td>\n",
       "      <td>2分</td>\n",
       "      <td>2016年3月16日</td>\n",
       "    </tr>\n",
       "    <tr>\n",
       "      <th>1</th>\n",
       "      <td>\\n\\n1. 近地熱谷，新北投車站走上山坡要15分鐘，酒店有接駁車，但需預約2. 家庭房，很...</td>\n",
       "      <td>整體不錯</td>\n",
       "      <td>4分</td>\n",
       "      <td>2016年3月14日</td>\n",
       "    </tr>\n",
       "    <tr>\n",
       "      <th>2</th>\n",
       "      <td>\\n\\n位置較近新北投站，不坐接駁車也可步行，酒店内外裝修新，唯獨房間細小及沒有椅子。房間内...</td>\n",
       "      <td>價格合理</td>\n",
       "      <td>4分</td>\n",
       "      <td>2016年2月17日的評論\\n</td>\n",
       "    </tr>\n",
       "    <tr>\n",
       "      <th>3</th>\n",
       "      <td>\\n\\n北投皇家季節的溫泉區位於台北都會區，交通是比較方便的。酒店沒有停車場，若是開車就得自...</td>\n",
       "      <td>泡湯房的空間在大一些就更好了!</td>\n",
       "      <td>4分</td>\n",
       "      <td>2016年1月1日的評論\\n</td>\n",
       "    </tr>\n",
       "    <tr>\n",
       "      <th>4</th>\n",
       "      <td>\\n\\n这家酒店离北投区的温泉非常近，走路到站点只需要15分钟。房间非常别致，床很舒服，但是...</td>\n",
       "      <td>房间里有独立温泉</td>\n",
       "      <td>4分</td>\n",
       "      <td>2015年10月24日的評論\\n</td>\n",
       "    </tr>\n",
       "  </tbody>\n",
       "</table>\n",
       "</div>"
      ],
      "text/plain": [
       "                                             comment           quotes rating  \\\n",
       "0  \\n\\n服務人員的態度不是很好，部分櫃檯人員臉很臭，詢問時態度不耐，讓人很不舒服，好像客人的...         服務人員態度不佳     2分   \n",
       "1  \\n\\n1. 近地熱谷，新北投車站走上山坡要15分鐘，酒店有接駁車，但需預約2. 家庭房，很...             整體不錯     4分   \n",
       "2  \\n\\n位置較近新北投站，不坐接駁車也可步行，酒店内外裝修新，唯獨房間細小及沒有椅子。房間内...             價格合理     4分   \n",
       "3  \\n\\n北投皇家季節的溫泉區位於台北都會區，交通是比較方便的。酒店沒有停車場，若是開車就得自...  泡湯房的空間在大一些就更好了!     4分   \n",
       "4  \\n\\n这家酒店离北投区的温泉非常近，走路到站点只需要15分钟。房间非常别致，床很舒服，但是...         房间里有独立温泉     4分   \n",
       "\n",
       "         ratingdate  \n",
       "0        2016年3月16日  \n",
       "1        2016年3月14日  \n",
       "2   2016年2月17日的評論\\n  \n",
       "3    2016年1月1日的評論\\n  \n",
       "4  2015年10月24日的評論\\n  "
      ]
     },
     "execution_count": 85,
     "metadata": {},
     "output_type": "execute_result"
    }
   ],
   "source": [
    "firstpage = getPageReview('https://www.tripadvisor.com.tw/Hotel_Review-g293913-d1448765-Reviews-Royal_Seasons_Hotel_Hot_Spring_Beitou-Taipei.html#review_267817921')\n",
    "df = pd.DataFrame(firstpage)\n",
    "df.head()"
   ]
  },
  {
   "cell_type": "code",
   "execution_count": 142,
   "metadata": {
    "collapsed": true
   },
   "outputs": [],
   "source": [
    "from datetime import datetime\n",
    "ExpandedURL = 'https://www.tripadvisor.com.tw/ExpandedUserReviews-g293913-d1448765?target={}&context=1&reviews={}&servlet=Hotel_Review&expand=1'\n",
    "def getReview(review_url):\n",
    "    review_list = []\n",
    "    res = requests.get(review_url)\n",
    "    soup = bs(res.text)    \n",
    "    for review in soup.select('.extended'):    \n",
    "        quotes = review.select('.noQuotes')[0].text \n",
    "        rating = review.select('.rate > img')[0]['alt']\n",
    "        ratingdate =  review.select('.ratingDate')[0].get('title', review.select('.ratingDate')[0].text)    \n",
    "        ratingdate = ratingdate.strip().strip('的評論'.decode('utf-8'))\n",
    "        ratingdate = datetime.strptime(ratingdate.encode('utf-8'), '%Y年%m月%d日')\n",
    "        comment =review.select('.entry')[0].text\n",
    "        review_list.append({'quotes':quotes, 'rating':rating, 'ratingdate':ratingdate, 'comment':comment})\n",
    "    return review_list\n",
    "        \n",
    "\n",
    "def getPageReview(url):\n",
    "    # 取得頁面資訊\n",
    "    res = requests.get(url)\n",
    "    soup = bs(res.text)\n",
    "    \n",
    "    # 取得評論ID串\n",
    "    ary = []\n",
    "    for review in soup.select('.reviewSelector'):\n",
    "        ary.append(review['id'].strip('review_'))\n",
    "        \n",
    "    # 取得評論查詢URL\n",
    "    review_str = ','.join(ary)\n",
    "    single_review =  review_str.split(',')[0]    \n",
    "    review_url    =  ExpandedURL.format(single_review, review_str)\n",
    "    \n",
    "    # 取得評論    \n",
    "    return getReview(review_url)"
   ]
  },
  {
   "cell_type": "code",
   "execution_count": 143,
   "metadata": {
    "collapsed": false
   },
   "outputs": [
    {
     "data": {
      "text/html": [
       "<div>\n",
       "<table border=\"1\" class=\"dataframe\">\n",
       "  <thead>\n",
       "    <tr style=\"text-align: right;\">\n",
       "      <th></th>\n",
       "      <th>comment</th>\n",
       "      <th>quotes</th>\n",
       "      <th>rating</th>\n",
       "      <th>ratingdate</th>\n",
       "    </tr>\n",
       "  </thead>\n",
       "  <tbody>\n",
       "    <tr>\n",
       "      <th>0</th>\n",
       "      <td>\\n\\n服務人員的態度不是很好，部分櫃檯人員臉很臭，詢問時態度不耐，讓人很不舒服，好像客人的...</td>\n",
       "      <td>服務人員態度不佳</td>\n",
       "      <td>2分</td>\n",
       "      <td>2016-03-16</td>\n",
       "    </tr>\n",
       "    <tr>\n",
       "      <th>1</th>\n",
       "      <td>\\n\\n1. 近地熱谷，新北投車站走上山坡要15分鐘，酒店有接駁車，但需預約2. 家庭房，很...</td>\n",
       "      <td>整體不錯</td>\n",
       "      <td>4分</td>\n",
       "      <td>2016-03-14</td>\n",
       "    </tr>\n",
       "    <tr>\n",
       "      <th>2</th>\n",
       "      <td>\\n\\n位置較近新北投站，不坐接駁車也可步行，酒店内外裝修新，唯獨房間細小及沒有椅子。房間内...</td>\n",
       "      <td>價格合理</td>\n",
       "      <td>4分</td>\n",
       "      <td>2016-02-17</td>\n",
       "    </tr>\n",
       "    <tr>\n",
       "      <th>3</th>\n",
       "      <td>\\n\\n北投皇家季節的溫泉區位於台北都會區，交通是比較方便的。酒店沒有停車場，若是開車就得自...</td>\n",
       "      <td>泡湯房的空間在大一些就更好了!</td>\n",
       "      <td>4分</td>\n",
       "      <td>2016-01-01</td>\n",
       "    </tr>\n",
       "    <tr>\n",
       "      <th>4</th>\n",
       "      <td>\\n\\n这家酒店离北投区的温泉非常近，走路到站点只需要15分钟。房间非常别致，床很舒服，但是...</td>\n",
       "      <td>房间里有独立温泉</td>\n",
       "      <td>4分</td>\n",
       "      <td>2015-10-24</td>\n",
       "    </tr>\n",
       "  </tbody>\n",
       "</table>\n",
       "</div>"
      ],
      "text/plain": [
       "                                             comment           quotes rating  \\\n",
       "0  \\n\\n服務人員的態度不是很好，部分櫃檯人員臉很臭，詢問時態度不耐，讓人很不舒服，好像客人的...         服務人員態度不佳     2分   \n",
       "1  \\n\\n1. 近地熱谷，新北投車站走上山坡要15分鐘，酒店有接駁車，但需預約2. 家庭房，很...             整體不錯     4分   \n",
       "2  \\n\\n位置較近新北投站，不坐接駁車也可步行，酒店内外裝修新，唯獨房間細小及沒有椅子。房間内...             價格合理     4分   \n",
       "3  \\n\\n北投皇家季節的溫泉區位於台北都會區，交通是比較方便的。酒店沒有停車場，若是開車就得自...  泡湯房的空間在大一些就更好了!     4分   \n",
       "4  \\n\\n这家酒店离北投区的温泉非常近，走路到站点只需要15分钟。房间非常别致，床很舒服，但是...         房间里有独立温泉     4分   \n",
       "\n",
       "  ratingdate  \n",
       "0 2016-03-16  \n",
       "1 2016-03-14  \n",
       "2 2016-02-17  \n",
       "3 2016-01-01  \n",
       "4 2015-10-24  "
      ]
     },
     "execution_count": 143,
     "metadata": {},
     "output_type": "execute_result"
    }
   ],
   "source": [
    "firstpage = getPageReview('https://www.tripadvisor.com.tw/Hotel_Review-g293913-d1448765-Reviews-Royal_Seasons_Hotel_Hot_Spring_Beitou-Taipei.html#review_267817921')\n",
    "df = pd.DataFrame(firstpage)\n",
    "df.head()"
   ]
  },
  {
   "cell_type": "markdown",
   "metadata": {},
   "source": [
    "### 取得所有評論"
   ]
  },
  {
   "cell_type": "code",
   "execution_count": 144,
   "metadata": {
    "collapsed": true
   },
   "outputs": [],
   "source": [
    "import requests\n",
    "from bs4 import BeautifulSoup as bs\n",
    "firstpage = 'https://www.tripadvisor.com.tw/Hotel_Review-g293913-d1448765-Reviews-Royal_Seasons_Hotel_Hot_Spring_Beitou-Taipei.html#review_267817921'\n",
    "res = requests.get(firstpage)\n",
    "soup = bs(res.text)\n",
    "pagenum = int(soup.select('.pageNum')[-1].text)"
   ]
  },
  {
   "cell_type": "code",
   "execution_count": 145,
   "metadata": {
    "collapsed": true
   },
   "outputs": [],
   "source": [
    "pageurl = 'https://www.tripadvisor.com.tw/Hotel_Review-g293913-d1448765-Reviews-or{}-Royal_Seasons_Hotel_Hot_Spring_Beitou-Taipei.html#REVIEWS'\n",
    "url_list = [firstpage] \n",
    "for i in range(1, pagenum):\n",
    "    url_list.append(pageurl.format(i *10))"
   ]
  },
  {
   "cell_type": "code",
   "execution_count": 146,
   "metadata": {
    "collapsed": false
   },
   "outputs": [
    {
     "name": "stdout",
     "output_type": "stream",
     "text": [
      "11\n"
     ]
    }
   ],
   "source": [
    "print len(url_list)"
   ]
  },
  {
   "cell_type": "code",
   "execution_count": 150,
   "metadata": {
    "collapsed": false
   },
   "outputs": [],
   "source": [
    "dfs = []\n",
    "for url in url_list:\n",
    "    review_list = getPageReview(url)\n",
    "    df = pd.DataFrame(review_list)\n",
    "    dfs.append(df)"
   ]
  },
  {
   "cell_type": "code",
   "execution_count": 151,
   "metadata": {
    "collapsed": false
   },
   "outputs": [
    {
     "name": "stdout",
     "output_type": "stream",
     "text": [
      "11\n"
     ]
    }
   ],
   "source": [
    "print len(dfs)"
   ]
  },
  {
   "cell_type": "code",
   "execution_count": 152,
   "metadata": {
    "collapsed": true
   },
   "outputs": [],
   "source": [
    "import pandas as pd\n",
    "hoteldf = pd.concat(dfs)"
   ]
  },
  {
   "cell_type": "code",
   "execution_count": 153,
   "metadata": {
    "collapsed": false
   },
   "outputs": [
    {
     "data": {
      "text/html": [
       "<div>\n",
       "<table border=\"1\" class=\"dataframe\">\n",
       "  <thead>\n",
       "    <tr style=\"text-align: right;\">\n",
       "      <th></th>\n",
       "      <th>comment</th>\n",
       "      <th>quotes</th>\n",
       "      <th>rating</th>\n",
       "      <th>ratingdate</th>\n",
       "    </tr>\n",
       "  </thead>\n",
       "  <tbody>\n",
       "    <tr>\n",
       "      <th>0</th>\n",
       "      <td>\\n\\n服務人員的態度不是很好，部分櫃檯人員臉很臭，詢問時態度不耐，讓人很不舒服，好像客人的...</td>\n",
       "      <td>服務人員態度不佳</td>\n",
       "      <td>2分</td>\n",
       "      <td>2016-03-16</td>\n",
       "    </tr>\n",
       "    <tr>\n",
       "      <th>1</th>\n",
       "      <td>\\n\\n1. 近地熱谷，新北投車站走上山坡要15分鐘，酒店有接駁車，但需預約2. 家庭房，很...</td>\n",
       "      <td>整體不錯</td>\n",
       "      <td>4分</td>\n",
       "      <td>2016-03-14</td>\n",
       "    </tr>\n",
       "    <tr>\n",
       "      <th>2</th>\n",
       "      <td>\\n\\n位置較近新北投站，不坐接駁車也可步行，酒店内外裝修新，唯獨房間細小及沒有椅子。房間内...</td>\n",
       "      <td>價格合理</td>\n",
       "      <td>4分</td>\n",
       "      <td>2016-02-17</td>\n",
       "    </tr>\n",
       "    <tr>\n",
       "      <th>3</th>\n",
       "      <td>\\n\\n北投皇家季節的溫泉區位於台北都會區，交通是比較方便的。酒店沒有停車場，若是開車就得自...</td>\n",
       "      <td>泡湯房的空間在大一些就更好了!</td>\n",
       "      <td>4分</td>\n",
       "      <td>2016-01-01</td>\n",
       "    </tr>\n",
       "    <tr>\n",
       "      <th>4</th>\n",
       "      <td>\\n\\n这家酒店离北投区的温泉非常近，走路到站点只需要15分钟。房间非常别致，床很舒服，但是...</td>\n",
       "      <td>房间里有独立温泉</td>\n",
       "      <td>4分</td>\n",
       "      <td>2015-10-24</td>\n",
       "    </tr>\n",
       "  </tbody>\n",
       "</table>\n",
       "</div>"
      ],
      "text/plain": [
       "                                             comment           quotes rating  \\\n",
       "0  \\n\\n服務人員的態度不是很好，部分櫃檯人員臉很臭，詢問時態度不耐，讓人很不舒服，好像客人的...         服務人員態度不佳     2分   \n",
       "1  \\n\\n1. 近地熱谷，新北投車站走上山坡要15分鐘，酒店有接駁車，但需預約2. 家庭房，很...             整體不錯     4分   \n",
       "2  \\n\\n位置較近新北投站，不坐接駁車也可步行，酒店内外裝修新，唯獨房間細小及沒有椅子。房間内...             價格合理     4分   \n",
       "3  \\n\\n北投皇家季節的溫泉區位於台北都會區，交通是比較方便的。酒店沒有停車場，若是開車就得自...  泡湯房的空間在大一些就更好了!     4分   \n",
       "4  \\n\\n这家酒店离北投区的温泉非常近，走路到站点只需要15分钟。房间非常别致，床很舒服，但是...         房间里有独立温泉     4分   \n",
       "\n",
       "  ratingdate  \n",
       "0 2016-03-16  \n",
       "1 2016-03-14  \n",
       "2 2016-02-17  \n",
       "3 2016-01-01  \n",
       "4 2015-10-24  "
      ]
     },
     "execution_count": 153,
     "metadata": {},
     "output_type": "execute_result"
    }
   ],
   "source": [
    "hoteldf.head()"
   ]
  },
  {
   "cell_type": "code",
   "execution_count": 101,
   "metadata": {
    "collapsed": false
   },
   "outputs": [
    {
     "data": {
      "text/plain": [
       "comment       103\n",
       "quotes        103\n",
       "rating        103\n",
       "ratingdate    103\n",
       "dtype: int64"
      ]
     },
     "execution_count": 101,
     "metadata": {},
     "output_type": "execute_result"
    }
   ],
   "source": [
    "hoteldf.count()"
   ]
  },
  {
   "cell_type": "code",
   "execution_count": 109,
   "metadata": {
    "collapsed": false
   },
   "outputs": [
    {
     "name": "stdout",
     "output_type": "stream",
     "text": [
      "   a  b\n",
      "0  1  2\n",
      "0  3  4\n"
     ]
    },
    {
     "data": {
      "text/html": [
       "<div>\n",
       "<table border=\"1\" class=\"dataframe\">\n",
       "  <thead>\n",
       "    <tr style=\"text-align: right;\">\n",
       "      <th></th>\n",
       "      <th>a</th>\n",
       "      <th>b</th>\n",
       "    </tr>\n",
       "  </thead>\n",
       "  <tbody>\n",
       "    <tr>\n",
       "      <th>0</th>\n",
       "      <td>1</td>\n",
       "      <td>2</td>\n",
       "    </tr>\n",
       "    <tr>\n",
       "      <th>0</th>\n",
       "      <td>3</td>\n",
       "      <td>4</td>\n",
       "    </tr>\n",
       "  </tbody>\n",
       "</table>\n",
       "</div>"
      ],
      "text/plain": [
       "   a  b\n",
       "0  1  2\n",
       "0  3  4"
      ]
     },
     "execution_count": 109,
     "metadata": {},
     "output_type": "execute_result"
    }
   ],
   "source": [
    "df1 = pd.DataFrame([{'a':1, 'b':2}])\n",
    "df2 = pd.DataFrame([{'a':3, 'b':4}])\n",
    "\n",
    "dfs = []\n",
    "dfs.append(df1)\n",
    "dfs.append(df2)\n",
    "print dfall\n",
    "dfall= pd.concat(dfs)\n",
    "dfall"
   ]
  },
  {
   "cell_type": "markdown",
   "metadata": {},
   "source": [
    "### strptime"
   ]
  },
  {
   "cell_type": "code",
   "execution_count": 121,
   "metadata": {
    "collapsed": false
   },
   "outputs": [
    {
     "name": "stdout",
     "output_type": "stream",
     "text": [
      "2016-03-16 00:00:00\n",
      "2016-03-16 00:00:00\n",
      "03 16, 2016\n",
      "2016-04-17 11:19:23.376000\n",
      "32 days, 11:19:23.376000\n",
      "2016-04-16 11:19:23.376000\n",
      "2016年04月16日\n",
      "2016年04月15日\n",
      "2016年04月14日\n",
      "2016年04月13日\n",
      "2016年04月12日\n",
      "2016年04月11日\n",
      "2016年04月10日\n",
      "2016年04月09日\n",
      "2016年04月08日\n"
     ]
    }
   ],
   "source": [
    "from datetime import datetime, timedelta\n",
    "# 字串變成時間\n",
    "print datetime.strptime('2016年3月16日', '%Y年%m月%d日')\n",
    "print datetime.strptime('2016/3-16', '%Y/%m-%d')\n",
    "dt = datetime.strptime('2016年3月16日', '%Y年%m月%d日')\n",
    "# 時間變成字串\n",
    "print dt.strftime('%m %d, %Y')\n",
    "\n",
    "# 時間加減\n",
    "print datetime.today()\n",
    "print datetime.today() - dt\n",
    "\n",
    "print datetime.today() - timedelta(days = 1)\n",
    "\n",
    "for i in range(1,10):\n",
    "    print (datetime.today() - timedelta(days = i)).strftime('%Y年%m月%d日')"
   ]
  },
  {
   "cell_type": "markdown",
   "metadata": {},
   "source": [
    "### Data Clean"
   ]
  },
  {
   "cell_type": "code",
   "execution_count": 157,
   "metadata": {
    "collapsed": false
   },
   "outputs": [
    {
     "data": {
      "text/html": [
       "<div>\n",
       "<table border=\"1\" class=\"dataframe\">\n",
       "  <thead>\n",
       "    <tr style=\"text-align: right;\">\n",
       "      <th></th>\n",
       "      <th>comment</th>\n",
       "      <th>quotes</th>\n",
       "      <th>rating</th>\n",
       "      <th>ratingdate</th>\n",
       "    </tr>\n",
       "  </thead>\n",
       "  <tbody>\n",
       "    <tr>\n",
       "      <th>0</th>\n",
       "      <td>\\n\\n服務人員的態度不是很好，部分櫃檯人員臉很臭，詢問時態度不耐，讓人很不舒服，好像客人的...</td>\n",
       "      <td>服務人員態度不佳</td>\n",
       "      <td>2</td>\n",
       "      <td>2016-03-16</td>\n",
       "    </tr>\n",
       "    <tr>\n",
       "      <th>1</th>\n",
       "      <td>\\n\\n1. 近地熱谷，新北投車站走上山坡要15分鐘，酒店有接駁車，但需預約2. 家庭房，很...</td>\n",
       "      <td>整體不錯</td>\n",
       "      <td>4</td>\n",
       "      <td>2016-03-14</td>\n",
       "    </tr>\n",
       "    <tr>\n",
       "      <th>2</th>\n",
       "      <td>\\n\\n位置較近新北投站，不坐接駁車也可步行，酒店内外裝修新，唯獨房間細小及沒有椅子。房間内...</td>\n",
       "      <td>價格合理</td>\n",
       "      <td>4</td>\n",
       "      <td>2016-02-17</td>\n",
       "    </tr>\n",
       "    <tr>\n",
       "      <th>3</th>\n",
       "      <td>\\n\\n北投皇家季節的溫泉區位於台北都會區，交通是比較方便的。酒店沒有停車場，若是開車就得自...</td>\n",
       "      <td>泡湯房的空間在大一些就更好了!</td>\n",
       "      <td>4</td>\n",
       "      <td>2016-01-01</td>\n",
       "    </tr>\n",
       "    <tr>\n",
       "      <th>4</th>\n",
       "      <td>\\n\\n这家酒店离北投区的温泉非常近，走路到站点只需要15分钟。房间非常别致，床很舒服，但是...</td>\n",
       "      <td>房间里有独立温泉</td>\n",
       "      <td>4</td>\n",
       "      <td>2015-10-24</td>\n",
       "    </tr>\n",
       "  </tbody>\n",
       "</table>\n",
       "</div>"
      ],
      "text/plain": [
       "                                             comment           quotes  rating  \\\n",
       "0  \\n\\n服務人員的態度不是很好，部分櫃檯人員臉很臭，詢問時態度不耐，讓人很不舒服，好像客人的...         服務人員態度不佳       2   \n",
       "1  \\n\\n1. 近地熱谷，新北投車站走上山坡要15分鐘，酒店有接駁車，但需預約2. 家庭房，很...             整體不錯       4   \n",
       "2  \\n\\n位置較近新北投站，不坐接駁車也可步行，酒店内外裝修新，唯獨房間細小及沒有椅子。房間内...             價格合理       4   \n",
       "3  \\n\\n北投皇家季節的溫泉區位於台北都會區，交通是比較方便的。酒店沒有停車場，若是開車就得自...  泡湯房的空間在大一些就更好了!       4   \n",
       "4  \\n\\n这家酒店离北投区的温泉非常近，走路到站点只需要15分钟。房间非常别致，床很舒服，但是...         房间里有独立温泉       4   \n",
       "\n",
       "  ratingdate  \n",
       "0 2016-03-16  \n",
       "1 2016-03-14  \n",
       "2 2016-02-17  \n",
       "3 2016-01-01  \n",
       "4 2015-10-24  "
      ]
     },
     "execution_count": 157,
     "metadata": {},
     "output_type": "execute_result"
    }
   ],
   "source": [
    "hoteldf['rating'] = hoteldf['rating'].map(lambda x: int(x.strip('分'.decode('utf-8'))))\n",
    "hoteldf.head()"
   ]
  },
  {
   "cell_type": "code",
   "execution_count": 160,
   "metadata": {
    "collapsed": false
   },
   "outputs": [
    {
     "data": {
      "text/html": [
       "<div>\n",
       "<table border=\"1\" class=\"dataframe\">\n",
       "  <thead>\n",
       "    <tr style=\"text-align: right;\">\n",
       "      <th></th>\n",
       "      <th>comment</th>\n",
       "      <th>quotes</th>\n",
       "      <th>rating</th>\n",
       "      <th>ratingdate</th>\n",
       "    </tr>\n",
       "  </thead>\n",
       "  <tbody>\n",
       "    <tr>\n",
       "      <th>0</th>\n",
       "      <td>服務人員的態度不是很好，部分櫃檯人員臉很臭，詢問時態度不耐，讓人很不舒服，好像客人的詢問造成...</td>\n",
       "      <td>服務人員態度不佳</td>\n",
       "      <td>2</td>\n",
       "      <td>2016-03-16</td>\n",
       "    </tr>\n",
       "    <tr>\n",
       "      <th>1</th>\n",
       "      <td>1. 近地熱谷，新北投車站走上山坡要15分鐘，酒店有接駁車，但需預約2. 家庭房，很大，有4...</td>\n",
       "      <td>整體不錯</td>\n",
       "      <td>4</td>\n",
       "      <td>2016-03-14</td>\n",
       "    </tr>\n",
       "    <tr>\n",
       "      <th>2</th>\n",
       "      <td>位置較近新北投站，不坐接駁車也可步行，酒店内外裝修新，唯獨房間細小及沒有椅子。房間内温泉湯池...</td>\n",
       "      <td>價格合理</td>\n",
       "      <td>4</td>\n",
       "      <td>2016-02-17</td>\n",
       "    </tr>\n",
       "    <tr>\n",
       "      <th>3</th>\n",
       "      <td>北投皇家季節的溫泉區位於台北都會區，交通是比較方便的。酒店沒有停車場，若是開車就得自行在山路...</td>\n",
       "      <td>泡湯房的空間在大一些就更好了!</td>\n",
       "      <td>4</td>\n",
       "      <td>2016-01-01</td>\n",
       "    </tr>\n",
       "    <tr>\n",
       "      <th>4</th>\n",
       "      <td>这家酒店离北投区的温泉非常近，走路到站点只需要15分钟。房间非常别致，床很舒服，但是房间设备...</td>\n",
       "      <td>房间里有独立温泉</td>\n",
       "      <td>4</td>\n",
       "      <td>2015-10-24</td>\n",
       "    </tr>\n",
       "  </tbody>\n",
       "</table>\n",
       "</div>"
      ],
      "text/plain": [
       "                                             comment           quotes  rating  \\\n",
       "0  服務人員的態度不是很好，部分櫃檯人員臉很臭，詢問時態度不耐，讓人很不舒服，好像客人的詢問造成...         服務人員態度不佳       2   \n",
       "1  1. 近地熱谷，新北投車站走上山坡要15分鐘，酒店有接駁車，但需預約2. 家庭房，很大，有4...             整體不錯       4   \n",
       "2  位置較近新北投站，不坐接駁車也可步行，酒店内外裝修新，唯獨房間細小及沒有椅子。房間内温泉湯池...             價格合理       4   \n",
       "3  北投皇家季節的溫泉區位於台北都會區，交通是比較方便的。酒店沒有停車場，若是開車就得自行在山路...  泡湯房的空間在大一些就更好了!       4   \n",
       "4  这家酒店离北投区的温泉非常近，走路到站点只需要15分钟。房间非常别致，床很舒服，但是房间设备...         房间里有独立温泉       4   \n",
       "\n",
       "  ratingdate  \n",
       "0 2016-03-16  \n",
       "1 2016-03-14  \n",
       "2 2016-02-17  \n",
       "3 2016-01-01  \n",
       "4 2015-10-24  "
      ]
     },
     "execution_count": 160,
     "metadata": {},
     "output_type": "execute_result"
    }
   ],
   "source": [
    "hoteldf['comment'] = hoteldf['comment'].map(lambda x: x.strip())\n",
    "hoteldf.head()"
   ]
  },
  {
   "cell_type": "code",
   "execution_count": 165,
   "metadata": {
    "collapsed": false
   },
   "outputs": [
    {
     "data": {
      "text/plain": [
       "count    103.000000\n",
       "mean       3.747573\n",
       "std        1.007019\n",
       "min        1.000000\n",
       "25%        3.000000\n",
       "50%        4.000000\n",
       "75%        4.000000\n",
       "max        5.000000\n",
       "Name: rating, dtype: float64"
      ]
     },
     "execution_count": 165,
     "metadata": {},
     "output_type": "execute_result"
    }
   ],
   "source": [
    "hoteldf['rating'].mean()\n",
    "hoteldf['rating'].describe()"
   ]
  },
  {
   "cell_type": "code",
   "execution_count": 168,
   "metadata": {
    "collapsed": false
   },
   "outputs": [
    {
     "data": {
      "text/html": [
       "<div>\n",
       "<table border=\"1\" class=\"dataframe\">\n",
       "  <thead>\n",
       "    <tr style=\"text-align: right;\">\n",
       "      <th></th>\n",
       "      <th>comment</th>\n",
       "      <th>quotes</th>\n",
       "      <th>rating</th>\n",
       "      <th>ratingdate</th>\n",
       "    </tr>\n",
       "  </thead>\n",
       "  <tbody>\n",
       "    <tr>\n",
       "      <th>2</th>\n",
       "      <td>這是我在台北住過的最好的酒店,服務好,服務員有禮貌,我愛這裏的房間和設計,按摩浴缸,很棒,很...</td>\n",
       "      <td>台北最好的酒店</td>\n",
       "      <td>5</td>\n",
       "      <td>2014-07-11</td>\n",
       "    </tr>\n",
       "    <tr>\n",
       "      <th>4</th>\n",
       "      <td>我和我朋友都會想要再回飯店住宿. 因為服務態度良好, 溫泉很純, 房間大小剛好, 用具品牌也...</td>\n",
       "      <td>服務人員態度良好</td>\n",
       "      <td>5</td>\n",
       "      <td>2010-01-05</td>\n",
       "    </tr>\n",
       "    <tr>\n",
       "      <th>0</th>\n",
       "      <td>這家酒店有點過時,但它是一個很優惠的價格。 它可能被視爲中檔北投的溫泉相比其他的酒店在價格方...</td>\n",
       "      <td>物超所值,還會再來的</td>\n",
       "      <td>5</td>\n",
       "      <td>2016-01-03</td>\n",
       "    </tr>\n",
       "    <tr>\n",
       "      <th>1</th>\n",
       "      <td>訂了兩間豪華客房。 房間很大而且浴室還有一個內置的溫泉。 房間裏提供的設施是一流的。 海鹽甚...</td>\n",
       "      <td>因爲一直都很喜歡旅行和第3赫德斯特羅姆</td>\n",
       "      <td>5</td>\n",
       "      <td>2015-10-14</td>\n",
       "    </tr>\n",
       "    <tr>\n",
       "      <th>2</th>\n",
       "      <td>我們在這裏住了一晚1在北投和發現這是一個很棒的酒店。它只是一個幾分鐘的步行路程溫泉本身還有其...</td>\n",
       "      <td>私人溫泉的房間</td>\n",
       "      <td>5</td>\n",
       "      <td>2015-09-14</td>\n",
       "    </tr>\n",
       "  </tbody>\n",
       "</table>\n",
       "</div>"
      ],
      "text/plain": [
       "                                             comment               quotes  \\\n",
       "2  這是我在台北住過的最好的酒店,服務好,服務員有禮貌,我愛這裏的房間和設計,按摩浴缸,很棒,很...              台北最好的酒店   \n",
       "4  我和我朋友都會想要再回飯店住宿. 因為服務態度良好, 溫泉很純, 房間大小剛好, 用具品牌也...             服務人員態度良好   \n",
       "0  這家酒店有點過時,但它是一個很優惠的價格。 它可能被視爲中檔北投的溫泉相比其他的酒店在價格方...           物超所值,還會再來的   \n",
       "1  訂了兩間豪華客房。 房間很大而且浴室還有一個內置的溫泉。 房間裏提供的設施是一流的。 海鹽甚...  因爲一直都很喜歡旅行和第3赫德斯特羅姆   \n",
       "2  我們在這裏住了一晚1在北投和發現這是一個很棒的酒店。它只是一個幾分鐘的步行路程溫泉本身還有其...              私人溫泉的房間   \n",
       "\n",
       "   rating ratingdate  \n",
       "2       5 2014-07-11  \n",
       "4       5 2010-01-05  \n",
       "0       5 2016-01-03  \n",
       "1       5 2015-10-14  \n",
       "2       5 2015-09-14  "
      ]
     },
     "execution_count": 168,
     "metadata": {},
     "output_type": "execute_result"
    }
   ],
   "source": [
    "hoteldf[hoteldf['rating'] ==5].head()"
   ]
  },
  {
   "cell_type": "code",
   "execution_count": 169,
   "metadata": {
    "collapsed": false
   },
   "outputs": [
    {
     "data": {
      "text/html": [
       "<div>\n",
       "<table border=\"1\" class=\"dataframe\">\n",
       "  <thead>\n",
       "    <tr style=\"text-align: right;\">\n",
       "      <th></th>\n",
       "      <th>comment</th>\n",
       "      <th>quotes</th>\n",
       "      <th>rating</th>\n",
       "      <th>ratingdate</th>\n",
       "    </tr>\n",
       "  </thead>\n",
       "  <tbody>\n",
       "    <tr>\n",
       "      <th>9</th>\n",
       "      <td>地理位置還不錯。除此以外無任何可取之處。走廊很壓抑。房間窗戶封閉式，窗外一米外就是居民樓的窗...</td>\n",
       "      <td>完全不是四星級的酒店</td>\n",
       "      <td>1</td>\n",
       "      <td>2013-02-21</td>\n",
       "    </tr>\n",
       "    <tr>\n",
       "      <th>3</th>\n",
       "      <td>Me and my friend checked in here for one day t...</td>\n",
       "      <td>Moldy rooms and bad breakfast</td>\n",
       "      <td>1</td>\n",
       "      <td>2014-01-15</td>\n",
       "    </tr>\n",
       "    <tr>\n",
       "      <th>8</th>\n",
       "      <td>In consequence of stay at this time, I was so ...</td>\n",
       "      <td>Below avarage hotel</td>\n",
       "      <td>1</td>\n",
       "      <td>2012-11-26</td>\n",
       "    </tr>\n",
       "    <tr>\n",
       "      <th>0</th>\n",
       "      <td>硫黄の温泉がお部屋でいつでも入れるせいか、換気がすごい‼︎その為夜中もうるさく、寒く、寝れな...</td>\n",
       "      <td>2度と泊まらないでしょう。</td>\n",
       "      <td>1</td>\n",
       "      <td>2016-01-07</td>\n",
       "    </tr>\n",
       "    <tr>\n",
       "      <th>3</th>\n",
       "      <td>L Hotel pourrait être bien...Style suranné et ...</td>\n",
       "      <td>Réserver ailleurs....</td>\n",
       "      <td>1</td>\n",
       "      <td>2015-12-10</td>\n",
       "    </tr>\n",
       "  </tbody>\n",
       "</table>\n",
       "</div>"
      ],
      "text/plain": [
       "                                             comment  \\\n",
       "9  地理位置還不錯。除此以外無任何可取之處。走廊很壓抑。房間窗戶封閉式，窗外一米外就是居民樓的窗...   \n",
       "3  Me and my friend checked in here for one day t...   \n",
       "8  In consequence of stay at this time, I was so ...   \n",
       "0  硫黄の温泉がお部屋でいつでも入れるせいか、換気がすごい‼︎その為夜中もうるさく、寒く、寝れな...   \n",
       "3  L Hotel pourrait être bien...Style suranné et ...   \n",
       "\n",
       "                          quotes  rating ratingdate  \n",
       "9                     完全不是四星級的酒店       1 2013-02-21  \n",
       "3  Moldy rooms and bad breakfast       1 2014-01-15  \n",
       "8            Below avarage hotel       1 2012-11-26  \n",
       "0                  2度と泊まらないでしょう。       1 2016-01-07  \n",
       "3          Réserver ailleurs....       1 2015-12-10  "
      ]
     },
     "execution_count": 169,
     "metadata": {},
     "output_type": "execute_result"
    }
   ],
   "source": [
    "hoteldf[hoteldf['rating'] ==1]"
   ]
  },
  {
   "cell_type": "code",
   "execution_count": 170,
   "metadata": {
    "collapsed": false
   },
   "outputs": [
    {
     "data": {
      "text/html": [
       "<div>\n",
       "<table border=\"1\" class=\"dataframe\">\n",
       "  <thead>\n",
       "    <tr style=\"text-align: right;\">\n",
       "      <th></th>\n",
       "      <th>comment</th>\n",
       "      <th>quotes</th>\n",
       "      <th>rating</th>\n",
       "      <th>ratingdate</th>\n",
       "    </tr>\n",
       "  </thead>\n",
       "  <tbody>\n",
       "    <tr>\n",
       "      <th>0</th>\n",
       "      <td>服務人員的態度不是很好，部分櫃檯人員臉很臭，詢問時態度不耐，讓人很不舒服，好像客人的詢問造成...</td>\n",
       "      <td>服務人員態度不佳</td>\n",
       "      <td>2</td>\n",
       "      <td>2016-03-16</td>\n",
       "    </tr>\n",
       "    <tr>\n",
       "      <th>1</th>\n",
       "      <td>1. 近地熱谷，新北投車站走上山坡要15分鐘，酒店有接駁車，但需預約2. 家庭房，很大，有4...</td>\n",
       "      <td>整體不錯</td>\n",
       "      <td>4</td>\n",
       "      <td>2016-03-14</td>\n",
       "    </tr>\n",
       "    <tr>\n",
       "      <th>2</th>\n",
       "      <td>位置較近新北投站，不坐接駁車也可步行，酒店内外裝修新，唯獨房間細小及沒有椅子。房間内温泉湯池...</td>\n",
       "      <td>價格合理</td>\n",
       "      <td>4</td>\n",
       "      <td>2016-02-17</td>\n",
       "    </tr>\n",
       "    <tr>\n",
       "      <th>3</th>\n",
       "      <td>北投皇家季節的溫泉區位於台北都會區，交通是比較方便的。酒店沒有停車場，若是開車就得自行在山路...</td>\n",
       "      <td>泡湯房的空間在大一些就更好了!</td>\n",
       "      <td>4</td>\n",
       "      <td>2016-01-01</td>\n",
       "    </tr>\n",
       "    <tr>\n",
       "      <th>8</th>\n",
       "      <td>我喜歡這家酒店的早餐都是一樣的就是當我住在那裏的一個多星期了,希望他們能做一些其他食物。但是...</td>\n",
       "      <td>很棒的溫泉</td>\n",
       "      <td>4</td>\n",
       "      <td>2016-04-09</td>\n",
       "    </tr>\n",
       "    <tr>\n",
       "      <th>9</th>\n",
       "      <td>我們在這裏住3D2N（登記入住退房3Dec/5Dec）在臺北的溫泉和旅行一共3個房間慶祝我的...</td>\n",
       "      <td>私人溫泉的地方只</td>\n",
       "      <td>2</td>\n",
       "      <td>2016-02-25</td>\n",
       "    </tr>\n",
       "    <tr>\n",
       "      <th>0</th>\n",
       "      <td>這家酒店有點過時,但它是一個很優惠的價格。 它可能被視爲中檔北投的溫泉相比其他的酒店在價格方...</td>\n",
       "      <td>物超所值,還會再來的</td>\n",
       "      <td>5</td>\n",
       "      <td>2016-01-03</td>\n",
       "    </tr>\n",
       "    <tr>\n",
       "      <th>8</th>\n",
       "      <td>Room size ok with hot spring in room. Look cle...</td>\n",
       "      <td>Old but ok</td>\n",
       "      <td>4</td>\n",
       "      <td>2016-01-11</td>\n",
       "    </tr>\n",
       "    <tr>\n",
       "      <th>6</th>\n",
       "      <td>予算も限られているので、こちらのホテルに宿泊しました。賛否両論で怖かったのですが、ひと晩なの...</td>\n",
       "      <td>温泉と朝食だけは良い！</td>\n",
       "      <td>3</td>\n",
       "      <td>2016-04-10</td>\n",
       "    </tr>\n",
       "    <tr>\n",
       "      <th>7</th>\n",
       "      <td>温泉目的で宿泊しました、デラックスダブルでした。目的の温泉は前回の水都温泉と比べると、成分が...</td>\n",
       "      <td>北投温泉では２件目の宿泊です</td>\n",
       "      <td>4</td>\n",
       "      <td>2016-02-26</td>\n",
       "    </tr>\n",
       "    <tr>\n",
       "      <th>8</th>\n",
       "      <td>３F角部屋デラックスツイン？に３泊しました。場所はMRT新北投駅から徒歩で15分ほど坂道を登...</td>\n",
       "      <td>スタッフが親切</td>\n",
       "      <td>5</td>\n",
       "      <td>2016-01-09</td>\n",
       "    </tr>\n",
       "    <tr>\n",
       "      <th>9</th>\n",
       "      <td>デラックスルームに泊まりましたが部屋の3分の1くらいがバスルームとトイレな感じでした。大きな...</td>\n",
       "      <td>風呂場が広い</td>\n",
       "      <td>4</td>\n",
       "      <td>2016-01-08</td>\n",
       "    </tr>\n",
       "    <tr>\n",
       "      <th>0</th>\n",
       "      <td>硫黄の温泉がお部屋でいつでも入れるせいか、換気がすごい‼︎その為夜中もうるさく、寒く、寝れな...</td>\n",
       "      <td>2度と泊まらないでしょう。</td>\n",
       "      <td>1</td>\n",
       "      <td>2016-01-07</td>\n",
       "    </tr>\n",
       "  </tbody>\n",
       "</table>\n",
       "</div>"
      ],
      "text/plain": [
       "                                             comment           quotes  rating  \\\n",
       "0  服務人員的態度不是很好，部分櫃檯人員臉很臭，詢問時態度不耐，讓人很不舒服，好像客人的詢問造成...         服務人員態度不佳       2   \n",
       "1  1. 近地熱谷，新北投車站走上山坡要15分鐘，酒店有接駁車，但需預約2. 家庭房，很大，有4...             整體不錯       4   \n",
       "2  位置較近新北投站，不坐接駁車也可步行，酒店内外裝修新，唯獨房間細小及沒有椅子。房間内温泉湯池...             價格合理       4   \n",
       "3  北投皇家季節的溫泉區位於台北都會區，交通是比較方便的。酒店沒有停車場，若是開車就得自行在山路...  泡湯房的空間在大一些就更好了!       4   \n",
       "8  我喜歡這家酒店的早餐都是一樣的就是當我住在那裏的一個多星期了,希望他們能做一些其他食物。但是...            很棒的溫泉       4   \n",
       "9  我們在這裏住3D2N（登記入住退房3Dec/5Dec）在臺北的溫泉和旅行一共3個房間慶祝我的...         私人溫泉的地方只       2   \n",
       "0  這家酒店有點過時,但它是一個很優惠的價格。 它可能被視爲中檔北投的溫泉相比其他的酒店在價格方...       物超所值,還會再來的       5   \n",
       "8  Room size ok with hot spring in room. Look cle...       Old but ok       4   \n",
       "6  予算も限られているので、こちらのホテルに宿泊しました。賛否両論で怖かったのですが、ひと晩なの...      温泉と朝食だけは良い！       3   \n",
       "7  温泉目的で宿泊しました、デラックスダブルでした。目的の温泉は前回の水都温泉と比べると、成分が...   北投温泉では２件目の宿泊です       4   \n",
       "8  ３F角部屋デラックスツイン？に３泊しました。場所はMRT新北投駅から徒歩で15分ほど坂道を登...          スタッフが親切       5   \n",
       "9  デラックスルームに泊まりましたが部屋の3分の1くらいがバスルームとトイレな感じでした。大きな...           風呂場が広い       4   \n",
       "0  硫黄の温泉がお部屋でいつでも入れるせいか、換気がすごい‼︎その為夜中もうるさく、寒く、寝れな...    2度と泊まらないでしょう。       1   \n",
       "\n",
       "  ratingdate  \n",
       "0 2016-03-16  \n",
       "1 2016-03-14  \n",
       "2 2016-02-17  \n",
       "3 2016-01-01  \n",
       "8 2016-04-09  \n",
       "9 2016-02-25  \n",
       "0 2016-01-03  \n",
       "8 2016-01-11  \n",
       "6 2016-04-10  \n",
       "7 2016-02-26  \n",
       "8 2016-01-09  \n",
       "9 2016-01-08  \n",
       "0 2016-01-07  "
      ]
     },
     "execution_count": 170,
     "metadata": {},
     "output_type": "execute_result"
    }
   ],
   "source": [
    "hoteldf[hoteldf['ratingdate'] >= '2016-01-01']"
   ]
  },
  {
   "cell_type": "markdown",
   "metadata": {},
   "source": [
    "### SQLite 操作"
   ]
  },
  {
   "cell_type": "code",
   "execution_count": 171,
   "metadata": {
    "collapsed": true
   },
   "outputs": [],
   "source": [
    "import sqlite3 as lite \n",
    "dbname = 'test.sqlite'\n",
    "con = lite.connect(dbname) # connect to database \n",
    "con.close()"
   ]
  },
  {
   "cell_type": "code",
   "execution_count": 172,
   "metadata": {
    "collapsed": false
   },
   "outputs": [
    {
     "name": "stdout",
     "output_type": "stream",
     "text": [
      "SQLite version: 3.6.21\n"
     ]
    }
   ],
   "source": [
    "import sqlite3 as lite \n",
    "dbname = 'test.sqlite'\n",
    "con = lite.connect(dbname) # connect to database \n",
    "cur = con.cursor()\n",
    "cur.execute('SELECT SQLITE_VERSION()') # selece database version  \n",
    "data = cur.fetchone() # fetch one data at a time \n",
    "print \"SQLite version: %s\" % data \n",
    "con.close()"
   ]
  },
  {
   "cell_type": "code",
   "execution_count": 173,
   "metadata": {
    "collapsed": false
   },
   "outputs": [
    {
     "name": "stdout",
     "output_type": "stream",
     "text": [
      "0912173381 United State\n",
      "0928375018 Tokyo Japan\n",
      "0957209108 Taipei\n"
     ]
    }
   ],
   "source": [
    "import sqlite3 as lite \n",
    "con = lite.connect(\"test.sqlite\") \n",
    "with con: \n",
    "    cur = con.cursor() # Drop Table If Exisits \n",
    "    cur.execute(\"DROP TABLE IF EXISTS PhoneAddress\") \n",
    "    cur.execute(\"CREATE TABLE PhoneAddress(phone CHAR(10) PRIMARY KEY, address TEXT, name TEXT unique, age INT NOT NULL)\") \n",
    "    cur.execute(\"INSERT INTO PhoneAddress VALUES('0912173381','United State','Jhon Doe',53)\") \n",
    "    cur.execute(\"INSERT INTO PhoneAddress VALUES('0928375018','Tokyo Japan','MuMu Cat',6)\") \n",
    "    cur.execute(\"INSERT INTO PhoneAddress VALUES('0957209108','Taipei','Richard',29)\") \n",
    "    cur.execute(\"SELECT phone,address FROM PhoneAddress\") \n",
    "    data = cur.fetchall() \n",
    "    for rec in data: \n",
    "        print rec[0], rec[1] \n",
    "con.close() \n",
    "\n"
   ]
  },
  {
   "cell_type": "code",
   "execution_count": 179,
   "metadata": {
    "collapsed": false
   },
   "outputs": [
    {
     "name": "stdout",
     "output_type": "stream",
     "text": [
      "(53, u'0912173381', u'United State')\n",
      "[(6, u'0928375018', u'Tokyo Japan'), (29, u'0957209108', u'Taipei')]\n"
     ]
    }
   ],
   "source": [
    "import sqlite3 as lite \n",
    "con = lite.connect(\"test.sqlite\") \n",
    "with con: \n",
    "    cur = con.cursor() # Drop Table If Exisits \n",
    "    cur.execute(\"SELECT age, phone,address FROM PhoneAddress\") \n",
    "    data = cur.fetchone()\n",
    "    print data\n",
    "    \n",
    "    data = cur.fetchall() \n",
    "    print data\n",
    "con.close() \n",
    "\n"
   ]
  },
  {
   "cell_type": "code",
   "execution_count": 180,
   "metadata": {
    "collapsed": false
   },
   "outputs": [
    {
     "data": {
      "text/html": [
       "<div>\n",
       "<table border=\"1\" class=\"dataframe\">\n",
       "  <thead>\n",
       "    <tr style=\"text-align: right;\">\n",
       "      <th></th>\n",
       "      <th>comment</th>\n",
       "      <th>quotes</th>\n",
       "      <th>rating</th>\n",
       "      <th>ratingdate</th>\n",
       "    </tr>\n",
       "  </thead>\n",
       "  <tbody>\n",
       "    <tr>\n",
       "      <th>0</th>\n",
       "      <td>服務人員的態度不是很好，部分櫃檯人員臉很臭，詢問時態度不耐，讓人很不舒服，好像客人的詢問造成...</td>\n",
       "      <td>服務人員態度不佳</td>\n",
       "      <td>2</td>\n",
       "      <td>2016-03-16</td>\n",
       "    </tr>\n",
       "    <tr>\n",
       "      <th>1</th>\n",
       "      <td>1. 近地熱谷，新北投車站走上山坡要15分鐘，酒店有接駁車，但需預約2. 家庭房，很大，有4...</td>\n",
       "      <td>整體不錯</td>\n",
       "      <td>4</td>\n",
       "      <td>2016-03-14</td>\n",
       "    </tr>\n",
       "    <tr>\n",
       "      <th>2</th>\n",
       "      <td>位置較近新北投站，不坐接駁車也可步行，酒店内外裝修新，唯獨房間細小及沒有椅子。房間内温泉湯池...</td>\n",
       "      <td>價格合理</td>\n",
       "      <td>4</td>\n",
       "      <td>2016-02-17</td>\n",
       "    </tr>\n",
       "    <tr>\n",
       "      <th>3</th>\n",
       "      <td>北投皇家季節的溫泉區位於台北都會區，交通是比較方便的。酒店沒有停車場，若是開車就得自行在山路...</td>\n",
       "      <td>泡湯房的空間在大一些就更好了!</td>\n",
       "      <td>4</td>\n",
       "      <td>2016-01-01</td>\n",
       "    </tr>\n",
       "    <tr>\n",
       "      <th>4</th>\n",
       "      <td>这家酒店离北投区的温泉非常近，走路到站点只需要15分钟。房间非常别致，床很舒服，但是房间设备...</td>\n",
       "      <td>房间里有独立温泉</td>\n",
       "      <td>4</td>\n",
       "      <td>2015-10-24</td>\n",
       "    </tr>\n",
       "  </tbody>\n",
       "</table>\n",
       "</div>"
      ],
      "text/plain": [
       "                                             comment           quotes  rating  \\\n",
       "0  服務人員的態度不是很好，部分櫃檯人員臉很臭，詢問時態度不耐，讓人很不舒服，好像客人的詢問造成...         服務人員態度不佳       2   \n",
       "1  1. 近地熱谷，新北投車站走上山坡要15分鐘，酒店有接駁車，但需預約2. 家庭房，很大，有4...             整體不錯       4   \n",
       "2  位置較近新北投站，不坐接駁車也可步行，酒店内外裝修新，唯獨房間細小及沒有椅子。房間内温泉湯池...             價格合理       4   \n",
       "3  北投皇家季節的溫泉區位於台北都會區，交通是比較方便的。酒店沒有停車場，若是開車就得自行在山路...  泡湯房的空間在大一些就更好了!       4   \n",
       "4  这家酒店离北投区的温泉非常近，走路到站点只需要15分钟。房间非常别致，床很舒服，但是房间设备...         房间里有独立温泉       4   \n",
       "\n",
       "  ratingdate  \n",
       "0 2016-03-16  \n",
       "1 2016-03-14  \n",
       "2 2016-02-17  \n",
       "3 2016-01-01  \n",
       "4 2015-10-24  "
      ]
     },
     "execution_count": 180,
     "metadata": {},
     "output_type": "execute_result"
    }
   ],
   "source": [
    "hoteldf.head()"
   ]
  },
  {
   "cell_type": "code",
   "execution_count": 188,
   "metadata": {
    "collapsed": false
   },
   "outputs": [],
   "source": [
    "hoteldf['hotel'] = '皇家季節酒店北投溫泉館'.decode('utf-8')"
   ]
  },
  {
   "cell_type": "code",
   "execution_count": 192,
   "metadata": {
    "collapsed": false
   },
   "outputs": [
    {
     "data": {
      "text/html": [
       "<div>\n",
       "<table border=\"1\" class=\"dataframe\">\n",
       "  <thead>\n",
       "    <tr style=\"text-align: right;\">\n",
       "      <th></th>\n",
       "      <th>comment</th>\n",
       "      <th>quotes</th>\n",
       "      <th>rating</th>\n",
       "      <th>ratingdate</th>\n",
       "      <th>hotel</th>\n",
       "    </tr>\n",
       "  </thead>\n",
       "  <tbody>\n",
       "    <tr>\n",
       "      <th>0</th>\n",
       "      <td>服務人員的態度不是很好，部分櫃檯人員臉很臭，詢問時態度不耐，讓人很不舒服，好像客人的詢問造成...</td>\n",
       "      <td>服務人員態度不佳</td>\n",
       "      <td>2</td>\n",
       "      <td>2016-03-16</td>\n",
       "      <td>皇家季節酒店北投溫泉館</td>\n",
       "    </tr>\n",
       "    <tr>\n",
       "      <th>1</th>\n",
       "      <td>1. 近地熱谷，新北投車站走上山坡要15分鐘，酒店有接駁車，但需預約2. 家庭房，很大，有4...</td>\n",
       "      <td>整體不錯</td>\n",
       "      <td>4</td>\n",
       "      <td>2016-03-14</td>\n",
       "      <td>皇家季節酒店北投溫泉館</td>\n",
       "    </tr>\n",
       "    <tr>\n",
       "      <th>2</th>\n",
       "      <td>位置較近新北投站，不坐接駁車也可步行，酒店内外裝修新，唯獨房間細小及沒有椅子。房間内温泉湯池...</td>\n",
       "      <td>價格合理</td>\n",
       "      <td>4</td>\n",
       "      <td>2016-02-17</td>\n",
       "      <td>皇家季節酒店北投溫泉館</td>\n",
       "    </tr>\n",
       "    <tr>\n",
       "      <th>3</th>\n",
       "      <td>北投皇家季節的溫泉區位於台北都會區，交通是比較方便的。酒店沒有停車場，若是開車就得自行在山路...</td>\n",
       "      <td>泡湯房的空間在大一些就更好了!</td>\n",
       "      <td>4</td>\n",
       "      <td>2016-01-01</td>\n",
       "      <td>皇家季節酒店北投溫泉館</td>\n",
       "    </tr>\n",
       "    <tr>\n",
       "      <th>4</th>\n",
       "      <td>这家酒店离北投区的温泉非常近，走路到站点只需要15分钟。房间非常别致，床很舒服，但是房间设备...</td>\n",
       "      <td>房间里有独立温泉</td>\n",
       "      <td>4</td>\n",
       "      <td>2015-10-24</td>\n",
       "      <td>皇家季節酒店北投溫泉館</td>\n",
       "    </tr>\n",
       "  </tbody>\n",
       "</table>\n",
       "</div>"
      ],
      "text/plain": [
       "                                             comment           quotes  rating  \\\n",
       "0  服務人員的態度不是很好，部分櫃檯人員臉很臭，詢問時態度不耐，讓人很不舒服，好像客人的詢問造成...         服務人員態度不佳       2   \n",
       "1  1. 近地熱谷，新北投車站走上山坡要15分鐘，酒店有接駁車，但需預約2. 家庭房，很大，有4...             整體不錯       4   \n",
       "2  位置較近新北投站，不坐接駁車也可步行，酒店内外裝修新，唯獨房間細小及沒有椅子。房間内温泉湯池...             價格合理       4   \n",
       "3  北投皇家季節的溫泉區位於台北都會區，交通是比較方便的。酒店沒有停車場，若是開車就得自行在山路...  泡湯房的空間在大一些就更好了!       4   \n",
       "4  这家酒店离北投区的温泉非常近，走路到站点只需要15分钟。房间非常别致，床很舒服，但是房间设备...         房间里有独立温泉       4   \n",
       "\n",
       "  ratingdate        hotel  \n",
       "0 2016-03-16  皇家季節酒店北投溫泉館  \n",
       "1 2016-03-14  皇家季節酒店北投溫泉館  \n",
       "2 2016-02-17  皇家季節酒店北投溫泉館  \n",
       "3 2016-01-01  皇家季節酒店北投溫泉館  \n",
       "4 2015-10-24  皇家季節酒店北投溫泉館  "
      ]
     },
     "execution_count": 192,
     "metadata": {},
     "output_type": "execute_result"
    }
   ],
   "source": [
    "hoteldf.head()"
   ]
  },
  {
   "cell_type": "code",
   "execution_count": 193,
   "metadata": {
    "collapsed": false
   },
   "outputs": [],
   "source": [
    "import sqlite3 as lite\n",
    "with lite.connect('tripadvisor2.sqlite') as db:\n",
    "    hoteldf.to_sql(name='comments2', index=False, con=db, if_exists='replace')\n"
   ]
  },
  {
   "cell_type": "code",
   "execution_count": null,
   "metadata": {
    "collapsed": true
   },
   "outputs": [],
   "source": [
    "a = ['a', 'b', 'c']\n",
    "b = ['a', 'b']\n",
    "print set(a) & set(b) \n"
   ]
  },
  {
   "cell_type": "markdown",
   "metadata": {},
   "source": [
    "### 抓取表格資料"
   ]
  },
  {
   "cell_type": "code",
   "execution_count": 67,
   "metadata": {
    "collapsed": false
   },
   "outputs": [],
   "source": [
    "import pandas as pd\n",
    "import requests\n",
    "from bs4 import BeautifulSoup as bs\n",
    "# pip install html5lib\n",
    "payload = {\n",
    "'year1':'2016',\n",
    "'year2':'2016',\n",
    "'month1':'1',\n",
    "'month2':'1',\n",
    "'RorE':'R'  \n",
    "}\n",
    "res = requests.post('http://taiwanstay.net.tw/TouristStatistics2/R088?rid=report088', data = payload)\n",
    "soup = bs(res.text, 'html5lib')\n",
    "#print soup.select('table')[0]\n",
    "dfs = pd.read_html(soup.select('table')[0].prettify('utf-8'), encoding='utf-8')"
   ]
  },
  {
   "cell_type": "code",
   "execution_count": 68,
   "metadata": {
    "collapsed": false
   },
   "outputs": [
    {
     "data": {
      "text/html": [
       "<div>\n",
       "<table border=\"1\" class=\"dataframe\">\n",
       "  <thead>\n",
       "    <tr style=\"text-align: right;\">\n",
       "      <th></th>\n",
       "      <th>0</th>\n",
       "      <th>1</th>\n",
       "      <th>2</th>\n",
       "      <th>3</th>\n",
       "      <th>4</th>\n",
       "      <th>5</th>\n",
       "      <th>6</th>\n",
       "      <th>7</th>\n",
       "      <th>8</th>\n",
       "      <th>9</th>\n",
       "      <th>10</th>\n",
       "      <th>11</th>\n",
       "      <th>12</th>\n",
       "      <th>13</th>\n",
       "    </tr>\n",
       "  </thead>\n",
       "  <tbody>\n",
       "    <tr>\n",
       "      <th>0</th>\n",
       "      <td>營運統計月報表-明細表(住用率/平均房價/總營收/職工合計)(A3)</td>\n",
       "      <td>NaN</td>\n",
       "      <td>NaN</td>\n",
       "      <td>NaN</td>\n",
       "      <td>NaN</td>\n",
       "      <td>NaN</td>\n",
       "      <td>NaN</td>\n",
       "      <td>NaN</td>\n",
       "      <td>NaN</td>\n",
       "      <td>NaN</td>\n",
       "      <td>NaN</td>\n",
       "      <td>NaN</td>\n",
       "      <td>NaN</td>\n",
       "      <td>NaN</td>\n",
       "    </tr>\n",
       "    <tr>\n",
       "      <th>1</th>\n",
       "      <td>全部地區 All (Monthly Report on International &amp; St...</td>\n",
       "      <td>NaN</td>\n",
       "      <td>NaN</td>\n",
       "      <td>NaN</td>\n",
       "      <td>NaN</td>\n",
       "      <td>NaN</td>\n",
       "      <td>NaN</td>\n",
       "      <td>NaN</td>\n",
       "      <td>NaN</td>\n",
       "      <td>NaN</td>\n",
       "      <td>NaN</td>\n",
       "      <td>NaN</td>\n",
       "      <td>NaN</td>\n",
       "      <td>NaN</td>\n",
       "    </tr>\n",
       "    <tr>\n",
       "      <th>2</th>\n",
       "      <td>資料期間： 2016年1月至2016年1月(Data for 2016/1～2016/1)</td>\n",
       "      <td>NaN</td>\n",
       "      <td>NaN</td>\n",
       "      <td>NaN</td>\n",
       "      <td>NaN</td>\n",
       "      <td>NaN</td>\n",
       "      <td>NaN</td>\n",
       "      <td>NaN</td>\n",
       "      <td>NaN</td>\n",
       "      <td>NaN</td>\n",
       "      <td>NaN</td>\n",
       "      <td>NaN</td>\n",
       "      <td>NaN</td>\n",
       "      <td>NaN</td>\n",
       "    </tr>\n",
       "    <tr>\n",
       "      <th>3</th>\n",
       "      <td>住用及營收概況</td>\n",
       "      <td>各部門職工概況(No. of Employees)</td>\n",
       "      <td>NaN</td>\n",
       "      <td>NaN</td>\n",
       "      <td>NaN</td>\n",
       "      <td>NaN</td>\n",
       "      <td>NaN</td>\n",
       "      <td>NaN</td>\n",
       "      <td>NaN</td>\n",
       "      <td>NaN</td>\n",
       "      <td>NaN</td>\n",
       "      <td>NaN</td>\n",
       "      <td>NaN</td>\n",
       "      <td>NaN</td>\n",
       "    </tr>\n",
       "    <tr>\n",
       "      <th>4</th>\n",
       "      <td>旅館名稱  Hotel Name</td>\n",
       "      <td>本月客房數  No. of Rooms</td>\n",
       "      <td>累計客房數  No. of Rooms</td>\n",
       "      <td>客房住用數  Rooms Occupied</td>\n",
       "      <td>住用率  Occupancy Rate</td>\n",
       "      <td>平均房價  Average Room Rate</td>\n",
       "      <td>房租收入  Room Revenue</td>\n",
       "      <td>餐飲收入  F &amp; B Revenue</td>\n",
       "      <td>總營業收入  Total Revenue</td>\n",
       "      <td>客房部  Room Dep.</td>\n",
       "      <td>餐飲部  F&amp;B Dep.</td>\n",
       "      <td>管理部  Adm. Dep.</td>\n",
       "      <td>其他部門  Other Dep.</td>\n",
       "      <td>員工合計  Total</td>\n",
       "    </tr>\n",
       "  </tbody>\n",
       "</table>\n",
       "</div>"
      ],
      "text/plain": [
       "                                                  0   \\\n",
       "0                 營運統計月報表-明細表(住用率/平均房價/總營收/職工合計)(A3)   \n",
       "1  全部地區 All (Monthly Report on International & St...   \n",
       "2      資料期間： 2016年1月至2016年1月(Data for 2016/1～2016/1)   \n",
       "3                                            住用及營收概況   \n",
       "4                                   旅館名稱  Hotel Name   \n",
       "\n",
       "                          1                    2                      3   \\\n",
       "0                        NaN                  NaN                    NaN   \n",
       "1                        NaN                  NaN                    NaN   \n",
       "2                        NaN                  NaN                    NaN   \n",
       "3  各部門職工概況(No. of Employees)                  NaN                    NaN   \n",
       "4        本月客房數  No. of Rooms  累計客房數  No. of Rooms  客房住用數  Rooms Occupied   \n",
       "\n",
       "                    4                        5                   6   \\\n",
       "0                  NaN                      NaN                 NaN   \n",
       "1                  NaN                      NaN                 NaN   \n",
       "2                  NaN                      NaN                 NaN   \n",
       "3                  NaN                      NaN                 NaN   \n",
       "4  住用率  Occupancy Rate  平均房價  Average Room Rate  房租收入  Room Revenue   \n",
       "\n",
       "                    7                     8               9              10  \\\n",
       "0                  NaN                   NaN             NaN            NaN   \n",
       "1                  NaN                   NaN             NaN            NaN   \n",
       "2                  NaN                   NaN             NaN            NaN   \n",
       "3                  NaN                   NaN             NaN            NaN   \n",
       "4  餐飲收入  F & B Revenue  總營業收入  Total Revenue  客房部  Room Dep.  餐飲部  F&B Dep.   \n",
       "\n",
       "               11                12           13  \n",
       "0             NaN               NaN          NaN  \n",
       "1             NaN               NaN          NaN  \n",
       "2             NaN               NaN          NaN  \n",
       "3             NaN               NaN          NaN  \n",
       "4  管理部  Adm. Dep.  其他部門  Other Dep.  員工合計  Total  "
      ]
     },
     "execution_count": 68,
     "metadata": {},
     "output_type": "execute_result"
    }
   ],
   "source": [
    "df = dfs[0]\n",
    "df.head()"
   ]
  },
  {
   "cell_type": "code",
   "execution_count": 69,
   "metadata": {
    "collapsed": false
   },
   "outputs": [],
   "source": [
    "df.columns = df.iloc[4]\n",
    "df.head()\n",
    "df = df.reindex(df.index.drop([0,1,2,3,4]))"
   ]
  },
  {
   "cell_type": "code",
   "execution_count": 70,
   "metadata": {
    "collapsed": false
   },
   "outputs": [],
   "source": [
    "df.columns = df.columns.map(lambda x: '_'.join(x.split()[1:] ))"
   ]
  },
  {
   "cell_type": "code",
   "execution_count": 71,
   "metadata": {
    "collapsed": false
   },
   "outputs": [
    {
     "name": "stderr",
     "output_type": "stream",
     "text": [
      "C:\\Anaconda2\\lib\\site-packages\\ipykernel\\__main__.py:1: FutureWarning: convert_objects is deprecated.  Use the data-type specific converters pd.to_datetime, pd.to_timedelta and pd.to_numeric.\n",
      "  if __name__ == '__main__':\n"
     ]
    }
   ],
   "source": [
    "df = df.convert_objects(convert_numeric=True)"
   ]
  },
  {
   "cell_type": "code",
   "execution_count": 72,
   "metadata": {
    "collapsed": false
   },
   "outputs": [],
   "source": [
    "df = df.reindex(df.index.drop([121]))"
   ]
  },
  {
   "cell_type": "code",
   "execution_count": 73,
   "metadata": {
    "collapsed": false
   },
   "outputs": [
    {
     "data": {
      "text/html": [
       "<div>\n",
       "<table border=\"1\" class=\"dataframe\">\n",
       "  <thead>\n",
       "    <tr style=\"text-align: right;\">\n",
       "      <th></th>\n",
       "      <th>No._of_Rooms</th>\n",
       "      <th>No._of_Rooms</th>\n",
       "      <th>Rooms_Occupied</th>\n",
       "      <th>Average_Room_Rate</th>\n",
       "      <th>Room_Revenue</th>\n",
       "      <th>F_&amp;_B_Revenue</th>\n",
       "      <th>Total_Revenue</th>\n",
       "      <th>Room_Dep.</th>\n",
       "      <th>F&amp;B_Dep.</th>\n",
       "      <th>Adm._Dep.</th>\n",
       "      <th>Other_Dep.</th>\n",
       "      <th>Total</th>\n",
       "    </tr>\n",
       "  </thead>\n",
       "  <tbody>\n",
       "    <tr>\n",
       "      <th>count</th>\n",
       "      <td>116.000000</td>\n",
       "      <td>116.000000</td>\n",
       "      <td>116.000000</td>\n",
       "      <td>116.000000</td>\n",
       "      <td>1.160000e+02</td>\n",
       "      <td>1.160000e+02</td>\n",
       "      <td>1.160000e+02</td>\n",
       "      <td>116.000000</td>\n",
       "      <td>116.000000</td>\n",
       "      <td>116.000000</td>\n",
       "      <td>116.000000</td>\n",
       "      <td>116.000000</td>\n",
       "    </tr>\n",
       "    <tr>\n",
       "      <th>mean</th>\n",
       "      <td>237.379310</td>\n",
       "      <td>237.379310</td>\n",
       "      <td>4774.732759</td>\n",
       "      <td>3813.482759</td>\n",
       "      <td>1.795382e+07</td>\n",
       "      <td>2.487631e+07</td>\n",
       "      <td>4.805433e+07</td>\n",
       "      <td>70.905172</td>\n",
       "      <td>111.172414</td>\n",
       "      <td>37.318966</td>\n",
       "      <td>26.784483</td>\n",
       "      <td>246.181034</td>\n",
       "    </tr>\n",
       "    <tr>\n",
       "      <th>std</th>\n",
       "      <td>148.010261</td>\n",
       "      <td>148.010261</td>\n",
       "      <td>3512.907190</td>\n",
       "      <td>2455.291519</td>\n",
       "      <td>1.810880e+07</td>\n",
       "      <td>3.018943e+07</td>\n",
       "      <td>5.311653e+07</td>\n",
       "      <td>51.649821</td>\n",
       "      <td>106.388155</td>\n",
       "      <td>40.480290</td>\n",
       "      <td>31.938747</td>\n",
       "      <td>199.117427</td>\n",
       "    </tr>\n",
       "    <tr>\n",
       "      <th>min</th>\n",
       "      <td>34.000000</td>\n",
       "      <td>34.000000</td>\n",
       "      <td>13.000000</td>\n",
       "      <td>1009.000000</td>\n",
       "      <td>6.760000e+04</td>\n",
       "      <td>0.000000e+00</td>\n",
       "      <td>6.760000e+04</td>\n",
       "      <td>3.000000</td>\n",
       "      <td>0.000000</td>\n",
       "      <td>2.000000</td>\n",
       "      <td>0.000000</td>\n",
       "      <td>9.000000</td>\n",
       "    </tr>\n",
       "    <tr>\n",
       "      <th>25%</th>\n",
       "      <td>137.250000</td>\n",
       "      <td>137.250000</td>\n",
       "      <td>2040.750000</td>\n",
       "      <td>2238.250000</td>\n",
       "      <td>6.460105e+06</td>\n",
       "      <td>5.481892e+06</td>\n",
       "      <td>1.533436e+07</td>\n",
       "      <td>33.000000</td>\n",
       "      <td>41.750000</td>\n",
       "      <td>10.000000</td>\n",
       "      <td>2.750000</td>\n",
       "      <td>110.750000</td>\n",
       "    </tr>\n",
       "    <tr>\n",
       "      <th>50%</th>\n",
       "      <td>210.000000</td>\n",
       "      <td>210.000000</td>\n",
       "      <td>4206.000000</td>\n",
       "      <td>3067.500000</td>\n",
       "      <td>1.264275e+07</td>\n",
       "      <td>1.522920e+07</td>\n",
       "      <td>3.122341e+07</td>\n",
       "      <td>60.000000</td>\n",
       "      <td>86.000000</td>\n",
       "      <td>24.000000</td>\n",
       "      <td>16.000000</td>\n",
       "      <td>201.000000</td>\n",
       "    </tr>\n",
       "    <tr>\n",
       "      <th>75%</th>\n",
       "      <td>291.750000</td>\n",
       "      <td>291.750000</td>\n",
       "      <td>6713.000000</td>\n",
       "      <td>4682.500000</td>\n",
       "      <td>2.396591e+07</td>\n",
       "      <td>3.288218e+07</td>\n",
       "      <td>6.152821e+07</td>\n",
       "      <td>93.500000</td>\n",
       "      <td>139.750000</td>\n",
       "      <td>48.500000</td>\n",
       "      <td>39.000000</td>\n",
       "      <td>322.000000</td>\n",
       "    </tr>\n",
       "    <tr>\n",
       "      <th>max</th>\n",
       "      <td>853.000000</td>\n",
       "      <td>853.000000</td>\n",
       "      <td>17313.000000</td>\n",
       "      <td>14137.000000</td>\n",
       "      <td>1.021003e+08</td>\n",
       "      <td>1.863249e+08</td>\n",
       "      <td>3.251332e+08</td>\n",
       "      <td>285.000000</td>\n",
       "      <td>634.000000</td>\n",
       "      <td>219.000000</td>\n",
       "      <td>191.000000</td>\n",
       "      <td>1112.000000</td>\n",
       "    </tr>\n",
       "  </tbody>\n",
       "</table>\n",
       "</div>"
      ],
      "text/plain": [
       "       No._of_Rooms  No._of_Rooms  Rooms_Occupied  Average_Room_Rate  \\\n",
       "count    116.000000    116.000000      116.000000         116.000000   \n",
       "mean     237.379310    237.379310     4774.732759        3813.482759   \n",
       "std      148.010261    148.010261     3512.907190        2455.291519   \n",
       "min       34.000000     34.000000       13.000000        1009.000000   \n",
       "25%      137.250000    137.250000     2040.750000        2238.250000   \n",
       "50%      210.000000    210.000000     4206.000000        3067.500000   \n",
       "75%      291.750000    291.750000     6713.000000        4682.500000   \n",
       "max      853.000000    853.000000    17313.000000       14137.000000   \n",
       "\n",
       "       Room_Revenue  F_&_B_Revenue  Total_Revenue   Room_Dep.    F&B_Dep.  \\\n",
       "count  1.160000e+02   1.160000e+02   1.160000e+02  116.000000  116.000000   \n",
       "mean   1.795382e+07   2.487631e+07   4.805433e+07   70.905172  111.172414   \n",
       "std    1.810880e+07   3.018943e+07   5.311653e+07   51.649821  106.388155   \n",
       "min    6.760000e+04   0.000000e+00   6.760000e+04    3.000000    0.000000   \n",
       "25%    6.460105e+06   5.481892e+06   1.533436e+07   33.000000   41.750000   \n",
       "50%    1.264275e+07   1.522920e+07   3.122341e+07   60.000000   86.000000   \n",
       "75%    2.396591e+07   3.288218e+07   6.152821e+07   93.500000  139.750000   \n",
       "max    1.021003e+08   1.863249e+08   3.251332e+08  285.000000  634.000000   \n",
       "\n",
       "        Adm._Dep.  Other_Dep.        Total  \n",
       "count  116.000000  116.000000   116.000000  \n",
       "mean    37.318966   26.784483   246.181034  \n",
       "std     40.480290   31.938747   199.117427  \n",
       "min      2.000000    0.000000     9.000000  \n",
       "25%     10.000000    2.750000   110.750000  \n",
       "50%     24.000000   16.000000   201.000000  \n",
       "75%     48.500000   39.000000   322.000000  \n",
       "max    219.000000  191.000000  1112.000000  "
      ]
     },
     "execution_count": 73,
     "metadata": {},
     "output_type": "execute_result"
    }
   ],
   "source": [
    "df.describe()"
   ]
  },
  {
   "cell_type": "code",
   "execution_count": 76,
   "metadata": {
    "collapsed": false
   },
   "outputs": [
    {
     "data": {
      "text/html": [
       "<div>\n",
       "<table border=\"1\" class=\"dataframe\">\n",
       "  <thead>\n",
       "    <tr style=\"text-align: right;\">\n",
       "      <th></th>\n",
       "      <th>Hotel_Name</th>\n",
       "      <th>Rooms_Occupied</th>\n",
       "      <th>Occupancy_Rate</th>\n",
       "      <th>Average_Room_Rate</th>\n",
       "      <th>Room_Revenue</th>\n",
       "      <th>F_&amp;_B_Revenue</th>\n",
       "      <th>Total_Revenue</th>\n",
       "      <th>Room_Dep.</th>\n",
       "      <th>F&amp;B_Dep.</th>\n",
       "      <th>Adm._Dep.</th>\n",
       "      <th>Other_Dep.</th>\n",
       "      <th>Total</th>\n",
       "    </tr>\n",
       "  </thead>\n",
       "  <tbody>\n",
       "    <tr>\n",
       "      <th>5</th>\n",
       "      <td>福容大飯店 淡水漁人碼頭  Fullon Hotel Danshuei Fiahermen’...</td>\n",
       "      <td>1734</td>\n",
       "      <td>28.25%</td>\n",
       "      <td>4884</td>\n",
       "      <td>8468717</td>\n",
       "      <td>20083898</td>\n",
       "      <td>31073020</td>\n",
       "      <td>44</td>\n",
       "      <td>103</td>\n",
       "      <td>25</td>\n",
       "      <td>19</td>\n",
       "      <td>191</td>\n",
       "    </tr>\n",
       "    <tr>\n",
       "      <th>6</th>\n",
       "      <td>大板根渡假酒店  The Great Roots Resort Hotel</td>\n",
       "      <td>2474</td>\n",
       "      <td>84.01%</td>\n",
       "      <td>4718</td>\n",
       "      <td>11672640</td>\n",
       "      <td>19562120</td>\n",
       "      <td>45028929</td>\n",
       "      <td>26</td>\n",
       "      <td>64</td>\n",
       "      <td>8</td>\n",
       "      <td>104</td>\n",
       "      <td>202</td>\n",
       "    </tr>\n",
       "    <tr>\n",
       "      <th>7</th>\n",
       "      <td>圓山大飯店  The Grand Hotel</td>\n",
       "      <td>9472</td>\n",
       "      <td>61.11%</td>\n",
       "      <td>3797</td>\n",
       "      <td>35960682</td>\n",
       "      <td>67780816</td>\n",
       "      <td>117350663</td>\n",
       "      <td>141</td>\n",
       "      <td>232</td>\n",
       "      <td>125</td>\n",
       "      <td>55</td>\n",
       "      <td>553</td>\n",
       "    </tr>\n",
       "    <tr>\n",
       "      <th>8</th>\n",
       "      <td>國賓大飯店  The Ambassador Hotel</td>\n",
       "      <td>9250</td>\n",
       "      <td>70.71%</td>\n",
       "      <td>3673</td>\n",
       "      <td>33973292</td>\n",
       "      <td>111703754</td>\n",
       "      <td>156881043</td>\n",
       "      <td>136</td>\n",
       "      <td>319</td>\n",
       "      <td>36</td>\n",
       "      <td>66</td>\n",
       "      <td>557</td>\n",
       "    </tr>\n",
       "    <tr>\n",
       "      <th>9</th>\n",
       "      <td>台北華國大飯店  Imperial Hotel Taipei</td>\n",
       "      <td>8175</td>\n",
       "      <td>80.89%</td>\n",
       "      <td>3270</td>\n",
       "      <td>26731305</td>\n",
       "      <td>24042576</td>\n",
       "      <td>53515954</td>\n",
       "      <td>78</td>\n",
       "      <td>77</td>\n",
       "      <td>4</td>\n",
       "      <td>42</td>\n",
       "      <td>201</td>\n",
       "    </tr>\n",
       "  </tbody>\n",
       "</table>\n",
       "</div>"
      ],
      "text/plain": [
       "                                          Hotel_Name  Rooms_Occupied  \\\n",
       "5  福容大飯店 淡水漁人碼頭  Fullon Hotel Danshuei Fiahermen’...            1734   \n",
       "6              大板根渡假酒店  The Great Roots Resort Hotel            2474   \n",
       "7                             圓山大飯店  The Grand Hotel            9472   \n",
       "8                        國賓大飯店  The Ambassador Hotel            9250   \n",
       "9                     台北華國大飯店  Imperial Hotel Taipei            8175   \n",
       "\n",
       "  Occupancy_Rate  Average_Room_Rate  Room_Revenue  F_&_B_Revenue  \\\n",
       "5         28.25%               4884       8468717       20083898   \n",
       "6         84.01%               4718      11672640       19562120   \n",
       "7         61.11%               3797      35960682       67780816   \n",
       "8         70.71%               3673      33973292      111703754   \n",
       "9         80.89%               3270      26731305       24042576   \n",
       "\n",
       "   Total_Revenue  Room_Dep.  F&B_Dep.  Adm._Dep.  Other_Dep.  Total  \n",
       "5       31073020         44       103         25          19    191  \n",
       "6       45028929         26        64          8         104    202  \n",
       "7      117350663        141       232        125          55    553  \n",
       "8      156881043        136       319         36          66    557  \n",
       "9       53515954         78        77          4          42    201  "
      ]
     },
     "execution_count": 76,
     "metadata": {},
     "output_type": "execute_result"
    }
   ],
   "source": [
    "df = df.drop(df.columns[1], axis=1)\n",
    "df.head()"
   ]
  },
  {
   "cell_type": "code",
   "execution_count": 78,
   "metadata": {
    "collapsed": false
   },
   "outputs": [],
   "source": [
    "import sqlite3 as lite\n",
    "with lite.connect('tripadvisor2.sqlite') as db:\n",
    "    df.to_sql(name='hotel', index=False, con=db, if_exists='replace')\n"
   ]
  },
  {
   "cell_type": "code",
   "execution_count": 89,
   "metadata": {
    "collapsed": true
   },
   "outputs": [
    {
     "name": "stdout",
     "output_type": "stream",
     "text": [
      "福容 大飯店   淡水 漁人 碼頭     Fullon   Hotel   Danshuei   Fiahermen ’ s   Wharf\n",
      "大 板根 渡假 酒店     The   Great   Roots   Resort   Hotel\n",
      "圓山 大飯店     The   Grand   Hotel\n",
      "國賓 大飯店     The   Ambassador   Hotel\n",
      "台北 華國 大飯店     Imperial   Hotel   Taipei\n",
      "華泰 王子 大飯店     Gloria   Prince   Hotel\n",
      "國王 大飯店     Emperor   Hotel\n",
      "豪景 大酒店     Hotel   Riverview   Taipei\n",
      "台北 凱撒 大飯店     Caesar   Park   Taipei\n",
      "康華 大飯店     Golden   China   Hotel\n",
      "神旺 大飯店     San   Want   Hotel\n",
      "兄弟 大飯店     Brother   Hotel\n",
      "三 德 大飯店     Santos   Hotel\n",
      "亞都 麗 緻 大飯店     The   Landis   Taipei   Hotel\n",
      "國聯 大飯店     United   Hotel\n",
      "台北 寒舍 喜來 登 大飯店     Sheraton   Grande   Taipei   Hotel\n",
      "老爺 大酒店     Hotel   Royal - Nikko   Taipei\n",
      "福華 大飯店     Howard   Plaza   Hotel\n",
      "台北 君悅 酒店     Grand   Hyatt   Taipei\n",
      "晶華 酒店     The   Regent   Taipei\n",
      "西華 大飯店     The   Sherwood   Hotel   Taipei\n",
      "台北 萬豪 酒店     Taipei   Marriott   Hotel\n",
      "台 北美 福 大飯店     Grand   Mayfull   Hotel   Taipei\n",
      "遠東國際 大飯店     Shangri - La ' s   Far   Eastern   Plaza   Hotel ,   Taipei\n",
      "台北 威斯汀 六福 皇宮     The   Westin   Taipei\n",
      "陽明 山中 國 麗 緻 大飯店     Hotel   Landis   China   Yangmingshan\n",
      "美麗信 花園 酒店     Miramar   Garden   Taipei\n",
      "台北 寒舍 艾美 酒店     Le   Meridien   Taipei   Hotel\n",
      "台北 W 飯店     W   Taipei\n",
      "全國 大飯店     Hotel   National\n",
      "通豪 大飯店     Plaza   International   Hotel\n",
      "長 榮 桂冠 酒店 ( 台 中 )     Evergreen   Laurel   Hotel   ( Taichung )\n",
      "台中福華 大飯店     Howard   Prince   Hotel   Taichung\n",
      "台中 金典 酒店     The   Splendor   Hotel   Taichung\n",
      "台南 大飯店     Hotel   Tainan\n",
      "大億 麗 緻 酒店     Tayih   Landis   Tainan\n",
      "台糖 長 榮 酒店 ( 台南 )     Evergreen   Plaza   Hotel ( Tainan )\n",
      "香格里拉 台南 遠東國際 大飯店     Shangri - La ’ s   Far   Eastern   Plaza   Hotel , Tainan\n",
      "華王 大飯店     Hotel   Kingdom\n",
      "華園 大飯店     Hotel   Holiday   Garden   Kaohsiung\n",
      "高雄國賓 大飯店     The   Ambassador   Hotel   Kaohsiung\n",
      "漢來 大飯店     Grand   Hi - Lai   Hotel\n",
      "高雄福華 大飯店     Howard   Plaza   Hotel   Kaohsiung\n",
      "君鴻國際 酒店     85   SKY   TOWER   HOTEL\n",
      "寒軒 國際 大飯店     Han - Hsien   lnternational   Hotel\n",
      "高雄 圓山 大飯店     Grand   Hotel   Kaohsiung\n",
      "麗尊 大酒店     The   Lees   Hotel\n",
      "義大 皇家 酒店     E - DA   Royal   Hotel\n",
      "礁溪 老爺 大酒店     Hotel   Royal   Chiao - His\n",
      "蘭城晶英 酒店     Silks   Place   Yilan\n",
      "長 榮鳳凰 酒店 ( 礁溪 )     Evergreen   Resort   Hotel ( Jiaosi )\n",
      "晶悅 國際 飯店 ( 原桃園 大飯店 )     Pleasant   Hotels   International\n",
      "尊爵 天際 大飯店     Ｍ onarch - Skyline   Hotel\n",
      "南方 莊園     South   Gardens   Resort\n",
      "台北 諾富 特華 航桃園 機場 飯店     Novotel   Taipei   Taoyuan   International   Airport\n",
      "新竹 喜來 登 大飯店     Sheraton   Hsinchu   Hotel\n",
      "涵碧樓 大飯店     The   Lalu   Sun   Moon   Lake\n",
      "雲品 溫泉 酒店 日月潭     Fleur   De   Chine   Hotel\n",
      "日月 行館     Wen   Wan   Hotel   &   Resorts\n",
      "凱撒 大飯店     Caesar   Park   Hotel   Kenting\n",
      "墾丁福華 渡假 飯店     Howard   Beach   Resort   Kenting\n",
      "東方 渡假 酒店     Dong   Fang   Du   Jia   Jiudian   Hotel\n",
      "知本 老爺 大酒店     Hotel   Royal   Chihpen   Spa\n",
      "娜 路 彎 大酒店     Formosan   Naruwan   Hotel   &   Resort   Taitung\n",
      "花蓮亞士 都 飯店     Astar   Hotel\n",
      "統帥 大飯店     Marshal   Hotel\n",
      "花蓮翰品 酒店     Hualien   Chateau   de   Chine   Hotel\n",
      "美 侖 大飯店     Parkview   Hotel\n",
      "太魯閣 晶英 酒店     Silks   Place   Hotel ,   Taroko\n",
      "遠雄悅 來 大飯店     Farglory   Hotel ,   Hualien\n",
      "澎湖 福朋喜 來 登 酒店     Four   Point   by   Sheraton   Penghu\n",
      "新竹 老爺 大酒店     Hotel   Royal   Hsinchu\n",
      "新竹 國賓 大飯店     The   Ambassador   Hotel   Hsinchu\n",
      "耐斯 王子 大飯店     Nice   Prince   Hotel\n",
      "帝景 飯店     Dijin   Hotel\n",
      "福朋喜來 登飯 店     Four   Points   By   Sheraton   Taipei ,   Zhonghe\n",
      "碧特弗 大飯店     Beautiful   Hotel\n",
      "美麗 春天 大飯店     Beautiful   Hotel\n",
      "福容 大飯店   福隆     Fulong   Beach   Resort   Hotel\n",
      "亞士 都 飯店     Astar   Hotel\n",
      "第一 大飯店     First   Hotel\n",
      "六福 客棧     The   Leofoo   Hotel\n",
      "帝后 大飯店     Empress   Hotel\n",
      "北投 老爺 酒店     Hotel   Royal   Beitou\n",
      "華華 大飯店     Hotel   Flowers\n",
      "台北 有園 飯店     U   HOTEL   TAIPEI\n",
      "歐華 酒店     The   Riviera   Hotel\n",
      "慶泰 大飯店     Gala   Hotel\n",
      "天成 大飯店     Cosmos   Hotel   TAIPEI\n",
      "福容 大飯店   台北 一館     Fullon   Hotel   Taipei , Central\n",
      "首都 大飯店     Capital   Hotel\n",
      "台北 君品 大酒店     Palais   De   Chine   Hotel   Taipei\n",
      "台北 花園 大酒店     Taipei   Garden   Hotel\n",
      "日勝生 加賀 屋國際 溫泉 飯店     Radium - Kagaya\n",
      "北投 麗禧 溫泉 酒店     Grand   View   Resort\n",
      "寒舍 艾麗 酒店     Humble   House   Hotel   Taipei\n",
      "龍谷 大飯店     Dragon   Valley   Hotel\n",
      "裕元 花園 酒店     Windsor   Hotel\n",
      "台中港 酒店     Taichung   Harbor   Hotel\n",
      "遠百企業 觀光 旅館     Far   Eastem   Geant   Tourist   Hotel\n",
      "福容 大飯店   高雄     Fullon   Hotel   Kaohsiung\n",
      "幼獅 大飯店     Lion   Hotel\n",
      "山泉 大飯店     Sun   Spring   Resort\n",
      "尊爵 大飯店     Monarch   Plaza   Hotel\n",
      "古華花園 飯店     Hotel   Kuva   Chateau\n",
      "福容 大飯店   桃園     Fullon   Hotel   Taoyuan\n",
      "福容 大飯店   林口     Fullon   Hotel   Linkou\n",
      "豐邑 喜來 登 大飯店     Glory   Hotel\n",
      "苗栗 兆品 酒店     Miaoli   Maison   De   Chine\n",
      "阿里山 賓館     Alishan   House\n",
      "名 都 觀光 渡假 大飯店     Beau   Max   Resort   Hotel\n",
      "阿里山 賓館 ( 新館 )     Alishan   House\n",
      "桂田 酒店 台東     QUEENAPLAZA   HOTEL   TAITUNG\n",
      "寶華 大飯店     Bowa   Hotel\n",
      "長 榮 桂冠 酒店 ( 基隆 )     Evergreen   Laurel   Hotel   ( Keelung )\n",
      "鈺通 大飯店     Yuh - Tong   Hotel\n"
     ]
    }
   ],
   "source": [
    "import jieba\n",
    "jieba.add_word('大飯店')\n",
    "hotels_name = df['Hotel_Name']\n",
    "for hotel in hotels_name:\n",
    "    #print hotel\n",
    "    for ele in jieba.cut(hotel):\n",
    "        print ele,\n",
    "    print \n",
    "    \n",
    "#                            台北  福容  大飯店\n",
    "#台北大飯店                    1      0     1\n",
    "#台北福容大飯店                1      1     1\n",
    "\n"
   ]
  },
  {
   "cell_type": "code",
   "execution_count": 90,
   "metadata": {
    "collapsed": false
   },
   "outputs": [
    {
     "name": "stdout",
     "output_type": "stream",
     "text": [
      "不易 人事 今處理 公文 更新 案還 殘障 求職 洩漏 洪智坤 清楚 留洪智坤 看到 結果 處議 議處\n",
      "[[0 0 1 2 1 1 0 0 1 1 0 0 1 0 0 0]\n",
      " [1 0 0 0 0 0 1 1 0 0 0 1 0 0 0 0]\n",
      " [0 1 0 0 0 0 0 0 0 1 1 0 0 1 1 1]]\n"
     ]
    }
   ],
   "source": [
    "from sklearn.feature_extraction.text import CountVectorizer\n",
    "\n",
    "ary = ['【更新】柯P：洪智坤洩漏公文案還沒看到公文　今處理',\n",
    "'留洪智坤 柯：殘障求職不易',\n",
    "'人事處議處洪智坤　柯P：不清楚議處結果']\n",
    "corpus = []\n",
    "for title in ary:\n",
    "    corpus.append(' '.join(jieba.cut(title)))\n",
    "    \n",
    "vectorizer = CountVectorizer() \n",
    "X = vectorizer.fit_transform(corpus)\n",
    "word = vectorizer.get_feature_names() \n",
    "for w in word:\n",
    "    print w,\n",
    "print \n",
    "print X.toarray()"
   ]
  },
  {
   "cell_type": "code",
   "execution_count": 101,
   "metadata": {
    "collapsed": false
   },
   "outputs": [
    {
     "name": "stdout",
     "output_type": "stream",
     "text": [
      "85 airport alishan ambassador astar beach beau beautiful beitou bowa brother by caesar capital central chateau chiao chihpen china chine cosmos da danshuei de dijin dong dragon du eastem eastern emperor empress evergreen fang far farglory fiahermen first fleur flowers formosan four fullon fulong gala garden gardens geant gloria glory golden grand grande great han harbor hi his holiday hotel hotels house howard hsien hsinchu hualien humble hyatt imperial international jia jiaosi jiudian kagaya kaohsiung keelung kenting kingdom kuva la lai lake lalu landis laurel le lees leofoo linkou lion lnternational maison marriott marshal max mayfull meridien miaoli miramar monarch moon naruwan national nice nikko novotel onarch palais park parkview penghu place plaza pleasant point points prince queenaplaza radium regent resort resorts riverview riviera roots royal san santos shangri sheraton sherwood silks sky skyline south spa splendor spring sun taichung tainan taipei taitung taoyuan taroko tayih the tong tourist tower united valley view wan want wen westin wharf windsor yangmingshan yilan yuh zhonghe 一館 亞士 亞都 兄弟 兆品 全國 六福 凱撒 加賀 北投 北美 南方 原桃園 古華花園 台中 台中港 台中福華 台北 台南 台東 台糖 君品 君悅 君鴻國際 喜來 國王 國聯 國賓 國際 圓山 基隆 墾丁福華 大億 大酒店 大飯店 天成 天際 太魯閣 威斯汀 客棧 寒舍 寒軒 寶華 尊爵 屋國際 山中 山泉 帝后 帝景 幼獅 康華 慶泰 新竹 新館 旅館 日勝生 日月 日月潭 春天 晶悅 晶英 晶華 有園 東方 板根 林口 桂冠 桂田 桃園 榮鳳凰 機場 歐華 涵碧樓 淡水 渡假 溫泉 漁人 漢來 澎湖 特華 王子 登飯 皇宮 皇家 知本 碧特弗 碼頭 礁溪 神旺 福容 福朋喜 福朋喜來 福華 福隆 第一 統帥 美麗 美麗信 義大 老爺 耐斯 航桃園 艾美 艾麗 花園 花蓮亞士 花蓮翰品 苗栗 莊園 華國 華園 華泰 華王 華華 萬豪 蘭城晶英 行館 裕元 西華 觀光 諾富 豐邑 豪景 賓館 通豪 遠東國際 遠百企業 遠雄悅 酒店 金典 鈺通 阿里山 陽明 雲品 飯店 首都 香格里拉 高雄 高雄國賓 高雄福華 麗尊 麗禧 龍谷\n",
      "[[0 0 0 ..., 0 0 0]\n",
      " [0 0 0 ..., 0 0 0]\n",
      " [0 0 0 ..., 0 0 0]\n",
      " ..., \n",
      " [0 0 0 ..., 0 0 0]\n",
      " [0 0 0 ..., 0 0 0]\n",
      " [0 0 0 ..., 0 0 0]]\n"
     ]
    }
   ],
   "source": [
    "from sklearn.feature_extraction.text import CountVectorizer\n",
    "corpus = []\n",
    "\n",
    "ary = []\n",
    "for hotel in hotels_name:\n",
    "    ary.append(hotel)\n",
    "    corpus.append(' '.join(jieba.cut(hotel)))\n",
    "    \n",
    "vectorizer = CountVectorizer() \n",
    "X = vectorizer.fit_transform(corpus)\n",
    "word = vectorizer.get_feature_names() \n",
    "for w in word:\n",
    "    print w,\n",
    "print \n",
    "print X.toarray()    "
   ]
  },
  {
   "cell_type": "code",
   "execution_count": 105,
   "metadata": {
    "collapsed": false
   },
   "outputs": [
    {
     "name": "stdout",
     "output_type": "stream",
     "text": [
      "福容大飯店 淡水漁人碼頭  Fullon Hotel Danshuei Fiahermen’s Wharf\n",
      "福容大飯店 淡水漁人碼頭  Fullon Hotel Danshuei Fiahermen’s Wharf 10.0\n",
      "福容大飯店 台北一館  Fullon Hotel Taipei,Central 4.0\n",
      "福容大飯店 高雄  Fullon Hotel Kaohsiung 4.0\n",
      "福容大飯店 林口  Fullon Hotel Linkou 4.0\n",
      "福容大飯店 桃園  Fullon Hotel Taoyuan 4.0\n",
      "福容大飯店 福隆  Fulong Beach Resort Hotel 3.0\n",
      "漢來大飯店  Grand Hi-Lai Hotel 2.0\n",
      "台南大飯店  Hotel Tainan 2.0\n",
      "香格里拉台南遠東國際大飯店  Shangri-La’s Far Eastern Plaza Hotel,Tainan 2.0\n",
      "華王大飯店  Hotel Kingdom 2.0\n",
      "華園大飯店  Hotel Holiday Garden Kaohsiung 2.0\n",
      "高雄國賓大飯店  The Ambassador Hotel Kaohsiung 2.0\n",
      "寒軒國際大飯店  Han-Hsien lnternational Hotel 2.0\n",
      "高雄福華大飯店  Howard Plaza Hotel Kaohsiung 2.0\n",
      "通豪大飯店  Plaza International Hotel 2.0\n",
      "高雄圓山大飯店  Grand Hotel Kaohsiung 2.0\n",
      "尊爵天際大飯店  Ｍonarch-Skyline Hotel 2.0\n",
      "新竹喜來登大飯店  Sheraton Hsinchu Hotel 2.0\n",
      "凱撒大飯店  Caesar Park Hotel Kenting 2.0\n",
      "統帥大飯店  Marshal Hotel 2.0\n",
      "美侖大飯店  Parkview Hotel 2.0\n",
      "台中福華大飯店  Howard Prince Hotel Taichung 2.0\n",
      "陽明山中國麗緻大飯店  Hotel Landis China Yangmingshan 2.0\n",
      "全國大飯店  Hotel National 2.0\n",
      "兄弟大飯店  Brother Hotel 2.0\n",
      "圓山大飯店  The Grand Hotel 2.0\n",
      "國賓大飯店  The Ambassador Hotel 2.0\n",
      "台北華國大飯店  Imperial Hotel Taipei 2.0\n",
      "華泰王子大飯店  Gloria Prince Hotel 2.0\n",
      "國王大飯店  Emperor Hotel 2.0\n",
      "康華大飯店  Golden China Hotel 2.0\n",
      "神旺大飯店  San Want Hotel 2.0\n",
      "三德大飯店  Santos Hotel 2.0\n",
      "新竹國賓大飯店  The Ambassador Hotel Hsinchu 2.0\n",
      "亞都麗緻大飯店  The Landis Taipei Hotel 2.0\n",
      "國聯大飯店  United Hotel 2.0\n",
      "台北寒舍喜來登大飯店  Sheraton Grande Taipei Hotel 2.0\n",
      "福華大飯店  Howard Plaza Hotel 2.0\n",
      "西華大飯店  The Sherwood Hotel Taipei 2.0\n",
      "台北美福大飯店  Grand Mayfull Hotel Taipei 2.0\n",
      "遠東國際大飯店  Shangri-La's Far Eastern Plaza Hotel, Taipei 2.0\n",
      "遠雄悅來大飯店  Farglory Hotel, Hualien 2.0\n",
      "鈺通大飯店  Yuh-Tong Hotel 2.0\n",
      "耐斯王子大飯店  Nice Prince Hotel 2.0\n",
      "尊爵大飯店  Monarch Plaza Hotel 2.0\n",
      "華華大飯店  Hotel Flowers 2.0\n",
      "首都大飯店  Capital Hotel 2.0\n",
      "帝后大飯店  Empress Hotel 2.0\n",
      "龍谷大飯店  Dragon Valley Hotel 2.0\n",
      "第一大飯店  First Hotel 2.0\n",
      "慶泰大飯店  Gala Hotel 2.0\n",
      "幼獅大飯店  Lion Hotel 2.0\n",
      "美麗春天大飯店  Beautiful Hotel 2.0\n",
      "天成大飯店  Cosmos Hotel TAIPEI 2.0\n",
      "豐邑喜來登大飯店  Glory Hotel 2.0\n",
      "碧特弗大飯店  Beautiful Hotel 2.0\n",
      "寶華大飯店  Bowa Hotel 2.0\n",
      "名都觀光渡假大飯店  Beau Max Resort Hotel 2.0\n",
      "古華花園飯店  Hotel Kuva Chateau 1.0\n",
      "台北花園大酒店  Taipei Garden Hotel 1.0\n",
      "大板根渡假酒店  The Great Roots Resort Hotel 1.0\n",
      "新竹老爺大酒店  Hotel Royal Hsinchu 1.0\n",
      "桂田酒店台東  QUEENAPLAZA HOTEL TAITUNG 1.0\n",
      "台中金典酒店  The Splendor Hotel Taichung 1.0\n",
      "台北君品大酒店  Palais De Chine Hotel Taipei 1.0\n",
      "長榮桂冠酒店(台中)  Evergreen Laurel Hotel (Taichung) 1.0\n",
      "寒舍艾麗酒店  Humble House Hotel Taipei 1.0\n",
      "台北寒舍艾美酒店  Le Meridien Taipei Hotel 1.0\n",
      "山泉大飯店  Sun Spring Resort 1.0\n",
      "豪景大酒店  Hotel Riverview Taipei 1.0\n",
      "台北萬豪酒店  Taipei Marriott Hotel 1.0\n",
      "裕元花園酒店  Windsor Hotel 1.0\n",
      "台中港酒店  Taichung Harbor Hotel 1.0\n",
      "遠百企業觀光旅館  Far Eastem Geant Tourist Hotel 1.0\n",
      "台北凱撒大飯店  Caesar Park Taipei 1.0\n",
      "老爺大酒店  Hotel Royal-Nikko Taipei 1.0\n",
      "台糖長榮酒店(台南)  Evergreen Plaza Hotel(Tainan) 1.0\n",
      "歐華酒店  The Riviera Hotel 1.0\n",
      "長榮鳳凰酒店(礁溪)  Evergreen Resort Hotel(Jiaosi) 1.0\n",
      "帝景飯店  Dijin Hotel 1.0\n",
      "太魯閣晶英酒店  Silks Place Hotel, Taroko 1.0\n",
      "花蓮翰品酒店  Hualien Chateau de Chine Hotel 1.0\n",
      "花蓮亞士都飯店  Astar Hotel 1.0\n",
      "娜路彎大酒店  Formosan Naruwan Hotel & Resort Taitung 1.0\n",
      "知本老爺大酒店  Hotel Royal Chihpen Spa 1.0\n",
      "東方渡假酒店  Dong Fang Du Jia Jiudian Hotel 1.0\n",
      "日月行館  Wen Wan Hotel & Resorts 1.0\n",
      "長榮桂冠酒店(基隆)  Evergreen Laurel Hotel (Keelung) 1.0\n",
      "涵碧樓大飯店  The Lalu Sun Moon Lake 1.0\n",
      "亞士都飯店  Astar Hotel 1.0\n",
      "台北有園飯店  U HOTEL TAIPEI 1.0\n",
      "晶悅國際飯店(原桃園大飯店)  Pleasant Hotels International 1.0\n",
      "雲品溫泉酒店日月潭  Fleur De Chine Hotel 1.0\n",
      "義大皇家酒店  E-DA Royal Hotel 1.0\n",
      "麗尊大酒店  The Lees Hotel 1.0\n",
      "北投老爺酒店  Hotel Royal Beitou 1.0\n",
      "君鴻國際酒店  85 SKY TOWER HOTEL 1.0\n",
      "六福客棧  The Leofoo Hotel 1.0\n",
      "礁溪老爺大酒店  Hotel Royal Chiao-His 1.0\n",
      "澎湖福朋喜來登酒店  Four Point by Sheraton Penghu 0.0\n",
      "大億麗緻酒店  Tayih Landis Tainan 0.0\n",
      "阿里山賓館(新館)  Alishan House 0.0\n",
      "福朋喜來登飯店  Four Points By Sheraton Taipei, Zhonghe 0.0\n",
      "阿里山賓館  Alishan House 0.0\n",
      "苗栗兆品酒店  Miaoli Maison De Chine 0.0\n",
      "台北威斯汀六福皇宮  The Westin Taipei 0.0\n",
      "南方莊園  South Gardens Resort 0.0\n",
      "墾丁福華渡假飯店  Howard Beach Resort Kenting 0.0\n",
      "日勝生加賀屋國際溫泉飯店  Radium-Kagaya 0.0\n",
      "台北W飯店  W Taipei 0.0\n",
      "蘭城晶英酒店  Silks Place Yilan 0.0\n",
      "美麗信花園酒店  Miramar Garden Taipei 0.0\n",
      "台北君悅酒店  Grand Hyatt Taipei 0.0\n",
      "北投麗禧溫泉酒店  Grand View Resort 0.0\n",
      "台北諾富特華航桃園機場飯店  Novotel Taipei Taoyuan International Airport 0.0\n",
      "晶華酒店  The Regent Taipei 0.0\n"
     ]
    }
   ],
   "source": [
    "from sklearn.metrics.pairwise import linear_kernel\n",
    "cosine_similarities =  linear_kernel(X[0], X).flatten()\n",
    "related_docs_indices = cosine_similarities.argsort()[::-1]\n",
    "#related_docs_indices\n",
    "print ary[0]\n",
    "for index in related_docs_indices:\n",
    "    print ary[index], cosine_similarities[index]"
   ]
  },
  {
   "cell_type": "code",
   "execution_count": null,
   "metadata": {
    "collapsed": true
   },
   "outputs": [],
   "source": []
  }
 ],
 "metadata": {
  "kernelspec": {
   "display_name": "Python 2",
   "language": "python",
   "name": "python2"
  },
  "language_info": {
   "codemirror_mode": {
    "name": "ipython",
    "version": 2
   },
   "file_extension": ".py",
   "mimetype": "text/x-python",
   "name": "python",
   "nbconvert_exporter": "python",
   "pygments_lexer": "ipython2",
   "version": "2.7.11"
  }
 },
 "nbformat": 4,
 "nbformat_minor": 0
}
