{
 "cells": [
  {
   "cell_type": "markdown",
   "metadata": {},
   "source": [
    "### 引用套件"
   ]
  },
  {
   "cell_type": "code",
   "execution_count": 1,
   "metadata": {
    "collapsed": false
   },
   "outputs": [],
   "source": [
    "import requests\n",
    "from bs4 import BeautifulSoup as bs\n",
    "from datetime import datetime\n",
    "import pandas as pd"
   ]
  },
  {
   "cell_type": "markdown",
   "metadata": {},
   "source": [
    "### 宣告常數"
   ]
  },
  {
   "cell_type": "code",
   "execution_count": 2,
   "metadata": {
    "collapsed": true
   },
   "outputs": [],
   "source": [
    "domain = 'https://www.tripadvisor.com.tw'\n",
    "landing_page = 'https://www.tripadvisor.com.tw/Hotels-g293913-Taipei-Hotels.html'\n",
    "pageurl = 'https://www.tripadvisor.com.tw/Hotels-g293913-oa{}-Taipei-Hotels.html#ACCOM_OVERVIEW' "
   ]
  },
  {
   "cell_type": "markdown",
   "metadata": {},
   "source": [
    "### 取得旅館清單"
   ]
  },
  {
   "cell_type": "code",
   "execution_count": 3,
   "metadata": {
    "collapsed": false
   },
   "outputs": [],
   "source": [
    "def getHotelListing(url, filter_keywords):\n",
    "    url_list = []\n",
    "    res = requests.get(url)\n",
    "    soup = bs(res.text)\n",
    "    for hotel in soup.select('.listing'):\n",
    "        if filter_keywords in hotel.select('.listing_title a')[0].text :\n",
    "            print hotel.select('.listing_title a')[0].text\n",
    "            url_list.append(domain + hotel.select('.listing_title a')[0]['href'])\n",
    "    return url_list"
   ]
  },
  {
   "cell_type": "markdown",
   "metadata": {},
   "source": [
    "### 取得評論清單"
   ]
  },
  {
   "cell_type": "code",
   "execution_count": 4,
   "metadata": {
    "collapsed": true
   },
   "outputs": [],
   "source": [
    "def getPageReview(url, hotelid):\n",
    "    # 取得頁面資訊\n",
    "    res = requests.get(url)\n",
    "    soup = bs(res.text)\n",
    "    \n",
    "    # 取得評論ID串\n",
    "    ary = []\n",
    "    for review in soup.select('.reviewSelector'):\n",
    "        ary.append(review['id'].strip('review_'))\n",
    "        \n",
    "    # 取得評論查詢URL\n",
    "    ExpandedURL = 'https://www.tripadvisor.com.tw/ExpandedUserReviews-{}?target={}&context=1&reviews={}&servlet=Hotel_Review&expand=1'\n",
    "    review_str = ','.join(ary)\n",
    "    single_review =  review_str.split(',')[0]    \n",
    "    review_url    =  ExpandedURL.format(hotelid, single_review, review_str)\n",
    "    \n",
    "    # 取得評論    \n",
    "    return getReview(review_url)"
   ]
  },
  {
   "cell_type": "markdown",
   "metadata": {},
   "source": [
    "### 取得評論"
   ]
  },
  {
   "cell_type": "code",
   "execution_count": 5,
   "metadata": {
    "collapsed": true
   },
   "outputs": [],
   "source": [
    "def getReview(review_url):\n",
    "    review_list = []\n",
    "    res = requests.get(review_url)\n",
    "    soup = bs(res.text)  \n",
    "    for review in soup.select('.extended'):                 \n",
    "        if len(review.select('.rate > img')) > 0:\n",
    "            quotes = review.select('.noQuotes')[0].text\n",
    "            rating = review.select('.rate > img')[0]['alt']\n",
    "            ratingdate =  review.select('.ratingDate')[0].get('title', review.select('.ratingDate')[0].text)    \n",
    "            ratingdate = ratingdate.strip().strip('的評論'.decode('utf-8'))\n",
    "            ratingdate = datetime.strptime(ratingdate.encode('utf-8'), '%Y年%m月%d日')\n",
    "            comment =review.select('.entry')[0].text            \n",
    "            mgres = ''\n",
    "            if len(review.select('.displayText')) > 0:\n",
    "                mgres = review.select('.entry')[0].text\n",
    "            review_list.append({'mgrresponse':mgres , 'quotes':quotes, 'rating':rating, 'ratingdate':ratingdate, 'comment':comment})\n",
    "    return review_list"
   ]
  },
  {
   "cell_type": "markdown",
   "metadata": {},
   "source": [
    "### 取得旅館列表頁數"
   ]
  },
  {
   "cell_type": "code",
   "execution_count": 165,
   "metadata": {
    "collapsed": true
   },
   "outputs": [],
   "source": [
    "res = requests.get(landing_page)\n",
    "soup = bs(res.text)\n",
    "hotel_pagenum = int(soup.select('.pageNum')[-1].text)"
   ]
  },
  {
   "cell_type": "markdown",
   "metadata": {},
   "source": [
    "### 產生每頁連結"
   ]
  },
  {
   "cell_type": "code",
   "execution_count": 166,
   "metadata": {
    "collapsed": true
   },
   "outputs": [],
   "source": [
    "pageurls = [landing_page]\n",
    "for page in range(1,hotel_pagenum):\n",
    "    pageurls.append(pageurl.format(page * 30))"
   ]
  },
  {
   "cell_type": "markdown",
   "metadata": {},
   "source": [
    "### 產生旅館連結"
   ]
  },
  {
   "cell_type": "code",
   "execution_count": 167,
   "metadata": {
    "collapsed": false
   },
   "outputs": [
    {
     "name": "stdout",
     "output_type": "stream",
     "text": [
      "丹迪旅店 – 大安森林公園店 \n",
      "丹迪旅店 – 天母店\n",
      "丹迪旅店 - 天津店\n",
      "丹迪旅店 – 大安森林公園店 \n"
     ]
    }
   ],
   "source": [
    "total_hotels= []\n",
    "for url in pageurls:\n",
    "    total_hotels.extend(getHotelListing(url, '丹迪'.decode('utf-8')))   "
   ]
  },
  {
   "cell_type": "code",
   "execution_count": null,
   "metadata": {
    "collapsed": false
   },
   "outputs": [],
   "source": [
    "dfs = []\n",
    "for hotel in total_hotels:\n",
    "    hottelid = hotel.split('Hotel_Review-')[1].split('-Reviews')[0]\n",
    "    ExpandedURL = 'https://www.tripadvisor.com.tw/ExpandedUserReviews-{}?target={}&context=1&reviews={}&servlet=Hotel_Review&expand=1'\n",
    "    df = pd.DataFrame(getPageReview(hotel, hottelid))\n",
    "    df['hotelurl'] = hotel\n",
    "    dfs.append(df)"
   ]
  },
  {
   "cell_type": "code",
   "execution_count": 169,
   "metadata": {
    "collapsed": true
   },
   "outputs": [],
   "source": [
    "hoteldf = pd.concat(dfs)"
   ]
  },
  {
   "cell_type": "code",
   "execution_count": 176,
   "metadata": {
    "collapsed": false
   },
   "outputs": [],
   "source": [
    "import sqlite3 as lite\n",
    "with lite.connect('tripadvisor2.sqlite') as db:\n",
    "    hoteldf.to_sql(name='comments', index=False, con=db, if_exists='replace')"
   ]
  }
 ],
 "metadata": {
  "kernelspec": {
   "display_name": "Python 2",
   "language": "python",
   "name": "python2"
  },
  "language_info": {
   "codemirror_mode": {
    "name": "ipython",
    "version": 2
   },
   "file_extension": ".py",
   "mimetype": "text/x-python",
   "name": "python",
   "nbconvert_exporter": "python",
   "pygments_lexer": "ipython2",
   "version": "2.7.11"
  }
 },
 "nbformat": 4,
 "nbformat_minor": 0
}
